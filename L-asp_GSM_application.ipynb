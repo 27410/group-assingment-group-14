{
 "cells": [
  {
   "cell_type": "code",
   "execution_count": 6,
   "metadata": {},
   "outputs": [
    {
     "name": "stdout",
     "output_type": "stream",
     "text": [
      "Requirement already satisfied: matplotlib in c:\\anaconda\\lib\\site-packages (3.7.1)\n",
      "Requirement already satisfied: contourpy>=1.0.1 in c:\\anaconda\\lib\\site-packages (from matplotlib) (1.0.5)\n",
      "Requirement already satisfied: cycler>=0.10 in c:\\anaconda\\lib\\site-packages (from matplotlib) (0.11.0)\n",
      "Requirement already satisfied: fonttools>=4.22.0 in c:\\anaconda\\lib\\site-packages (from matplotlib) (4.25.0)\n",
      "Requirement already satisfied: kiwisolver>=1.0.1 in c:\\anaconda\\lib\\site-packages (from matplotlib) (1.4.4)\n",
      "Requirement already satisfied: numpy>=1.20 in c:\\anaconda\\lib\\site-packages (from matplotlib) (1.24.3)\n",
      "Requirement already satisfied: packaging>=20.0 in c:\\anaconda\\lib\\site-packages (from matplotlib) (23.0)\n",
      "Requirement already satisfied: pillow>=6.2.0 in c:\\anaconda\\lib\\site-packages (from matplotlib) (9.4.0)\n",
      "Requirement already satisfied: pyparsing>=2.3.1 in c:\\anaconda\\lib\\site-packages (from matplotlib) (3.0.9)\n",
      "Requirement already satisfied: python-dateutil>=2.7 in c:\\anaconda\\lib\\site-packages (from matplotlib) (2.8.2)\n",
      "Requirement already satisfied: six>=1.5 in c:\\anaconda\\lib\\site-packages (from python-dateutil>=2.7->matplotlib) (1.16.0)\n",
      "Requirement already satisfied: cobra in c:\\anaconda\\lib\\site-packages (0.29.0)\n",
      "Requirement already satisfied: appdirs~=1.4 in c:\\anaconda\\lib\\site-packages (from cobra) (1.4.4)\n",
      "Requirement already satisfied: depinfo~=2.2 in c:\\anaconda\\lib\\site-packages (from cobra) (2.2.0)\n",
      "Requirement already satisfied: diskcache~=5.0 in c:\\anaconda\\lib\\site-packages (from cobra) (5.6.3)\n",
      "Requirement already satisfied: future in c:\\anaconda\\lib\\site-packages (from cobra) (0.18.3)\n",
      "Requirement already satisfied: httpx~=0.24 in c:\\anaconda\\lib\\site-packages (from cobra) (0.25.0)\n",
      "Requirement already satisfied: importlib-resources in c:\\anaconda\\lib\\site-packages (from cobra) (6.1.0)\n",
      "Requirement already satisfied: numpy>=1.13 in c:\\anaconda\\lib\\site-packages (from cobra) (1.24.3)\n",
      "Requirement already satisfied: optlang~=1.8 in c:\\anaconda\\lib\\site-packages (from cobra) (1.8.1)\n",
      "Requirement already satisfied: pandas<3.0,>=1.0 in c:\\anaconda\\lib\\site-packages (from cobra) (1.5.3)\n",
      "Requirement already satisfied: pydantic>=1.6 in c:\\anaconda\\lib\\site-packages (from cobra) (2.4.0)\n",
      "Requirement already satisfied: python-libsbml~=5.19 in c:\\anaconda\\lib\\site-packages (from cobra) (5.20.2)\n",
      "Requirement already satisfied: rich>=8.0 in c:\\anaconda\\lib\\site-packages (from cobra) (13.5.3)\n",
      "Requirement already satisfied: ruamel.yaml~=0.16 in c:\\anaconda\\lib\\site-packages (from cobra) (0.17.21)\n",
      "Requirement already satisfied: swiglpk in c:\\anaconda\\lib\\site-packages (from cobra) (5.0.8)\n",
      "Requirement already satisfied: certifi in c:\\anaconda\\lib\\site-packages (from httpx~=0.24->cobra) (2023.7.22)\n",
      "Requirement already satisfied: httpcore<0.19.0,>=0.18.0 in c:\\anaconda\\lib\\site-packages (from httpx~=0.24->cobra) (0.18.0)\n",
      "Requirement already satisfied: idna in c:\\anaconda\\lib\\site-packages (from httpx~=0.24->cobra) (3.4)\n",
      "Requirement already satisfied: sniffio in c:\\anaconda\\lib\\site-packages (from httpx~=0.24->cobra) (1.2.0)\n",
      "Requirement already satisfied: six>=1.9 in c:\\anaconda\\lib\\site-packages (from optlang~=1.8->cobra) (1.16.0)\n",
      "Requirement already satisfied: sympy>=1.12.0 in c:\\anaconda\\lib\\site-packages (from optlang~=1.8->cobra) (1.12)\n",
      "Requirement already satisfied: python-dateutil>=2.8.1 in c:\\anaconda\\lib\\site-packages (from pandas<3.0,>=1.0->cobra) (2.8.2)\n",
      "Requirement already satisfied: pytz>=2020.1 in c:\\anaconda\\lib\\site-packages (from pandas<3.0,>=1.0->cobra) (2022.7)\n",
      "Requirement already satisfied: annotated-types>=0.4.0 in c:\\anaconda\\lib\\site-packages (from pydantic>=1.6->cobra) (0.5.0)\n",
      "Requirement already satisfied: pydantic-core==2.10.0 in c:\\anaconda\\lib\\site-packages (from pydantic>=1.6->cobra) (2.10.0)\n",
      "Requirement already satisfied: typing-extensions>=4.6.1 in c:\\anaconda\\lib\\site-packages (from pydantic>=1.6->cobra) (4.7.1)\n",
      "Requirement already satisfied: markdown-it-py>=2.2.0 in c:\\anaconda\\lib\\site-packages (from rich>=8.0->cobra) (2.2.0)\n",
      "Requirement already satisfied: pygments<3.0.0,>=2.13.0 in c:\\anaconda\\lib\\site-packages (from rich>=8.0->cobra) (2.15.1)\n",
      "Requirement already satisfied: anyio<5.0,>=3.0 in c:\\anaconda\\lib\\site-packages (from httpcore<0.19.0,>=0.18.0->httpx~=0.24->cobra) (3.5.0)\n",
      "Requirement already satisfied: h11<0.15,>=0.13 in c:\\anaconda\\lib\\site-packages (from httpcore<0.19.0,>=0.18.0->httpx~=0.24->cobra) (0.14.0)\n",
      "Requirement already satisfied: mdurl~=0.1 in c:\\anaconda\\lib\\site-packages (from markdown-it-py>=2.2.0->rich>=8.0->cobra) (0.1.0)\n",
      "Requirement already satisfied: mpmath>=0.19 in c:\\anaconda\\lib\\site-packages (from sympy>=1.12.0->optlang~=1.8->cobra) (1.3.0)\n"
     ]
    },
    {
     "name": "stderr",
     "output_type": "stream",
     "text": [
      "C:\\Users\\Valeria Stavila\\AppData\\Local\\Temp\\ipykernel_9184\\1553195621.py:5: MatplotlibDeprecationWarning: The seaborn styles shipped by Matplotlib are deprecated since 3.6, as they no longer correspond to the styles shipped by seaborn. However, they will remain available as 'seaborn-v0_8-<style>'. Alternatively, directly use the seaborn API instead.\n",
      "  plt.style.use('seaborn')\n"
     ]
    }
   ],
   "source": [
    "! python -m pip install matplotlib\n",
    "! python -m pip install cobra\n",
    "import pandas as pd\n",
    "import matplotlib.pyplot as plt\n",
    "plt.style.use('seaborn')\n",
    "%matplotlib inline\n"
   ]
  },
  {
   "cell_type": "markdown",
   "metadata": {},
   "source": [
    "# Application of genome-scale metabolic models"
   ]
  },
  {
   "cell_type": "markdown",
   "metadata": {},
   "source": [
    "## Model import"
   ]
  },
  {
   "cell_type": "markdown",
   "metadata": {},
   "source": [
    "You can download a GSM using `cobra.io.read_sbml_model`. Let's load the latest iteration of the *Escherchia coli* GSM iML1515 ([nature.com/articles/nbt.3956](https://www.nature.com/articles/nbt.3956))."
   ]
  },
  {
   "cell_type": "code",
   "execution_count": 7,
   "metadata": {},
   "outputs": [],
   "source": [
    "from cobra.io import read_sbml_model\n",
    "model = read_sbml_model('data/iML1515.xml')\n"
   ]
  },
  {
   "cell_type": "markdown",
   "metadata": {},
   "source": [
    "## Model content"
   ]
  },
  {
   "cell_type": "markdown",
   "metadata": {},
   "source": [
    "### Metabolites"
   ]
  },
  {
   "cell_type": "markdown",
   "metadata": {},
   "source": [
    "The model contains a list of metabolites. Here are the first ten."
   ]
  },
  {
   "cell_type": "code",
   "execution_count": 3,
   "metadata": {},
   "outputs": [
    {
     "data": {
      "text/plain": [
       "[<Metabolite octapb_c at 0x26476241c10>,\n",
       " <Metabolite cysi__L_e at 0x26476241bd0>,\n",
       " <Metabolite dhap_c at 0x26476241e10>,\n",
       " <Metabolite prbatp_c at 0x26476241f50>,\n",
       " <Metabolite 10fthf_c at 0x26476242690>,\n",
       " <Metabolite btal_c at 0x26476242fd0>,\n",
       " <Metabolite 6pgg_c at 0x26476243dd0>,\n",
       " <Metabolite co2_e at 0x26476243f50>,\n",
       " <Metabolite akg_e at 0x2647624c690>,\n",
       " <Metabolite gsn_e at 0x2647624c8d0>]"
      ]
     },
     "execution_count": 3,
     "metadata": {},
     "output_type": "execute_result"
    }
   ],
   "source": [
    "model.metabolites[0:10]"
   ]
  },
  {
   "cell_type": "markdown",
   "metadata": {},
   "source": [
    "How many metabolites are in the model?"
   ]
  },
  {
   "cell_type": "code",
   "execution_count": 10,
   "metadata": {},
   "outputs": [
    {
     "name": "stdout",
     "output_type": "stream",
     "text": [
      "1877\n"
     ]
    }
   ],
   "source": [
    "model.metabolites[:] # displays all the elements of the array\n",
    "count = len(model.metabolites) #counts the elements of the metabolites array\n",
    "print(count)"
   ]
  },
  {
   "cell_type": "markdown",
   "metadata": {},
   "source": [
    "One can access a specific metabolite using dot notation."
   ]
  },
  {
   "cell_type": "code",
   "execution_count": 3,
   "metadata": {},
   "outputs": [
    {
     "data": {
      "text/html": [
       "\n",
       "        <table>\n",
       "            <tr>\n",
       "                <td><strong>Metabolite identifier</strong></td><td>asp__L_c</td>\n",
       "            </tr><tr>\n",
       "                <td><strong>Name</strong></td><td>L-Aspartate</td>\n",
       "            </tr><tr>\n",
       "                <td><strong>Memory address</strong></td>\n",
       "                <td>0x13fccb5a050</td>\n",
       "            </tr><tr>\n",
       "                <td><strong>Formula</strong></td><td>C4H6NO4</td>\n",
       "            </tr><tr>\n",
       "                <td><strong>Compartment</strong></td><td>c</td>\n",
       "            </tr><tr>\n",
       "                <td><strong>In 23 reaction(s)</strong></td><td>\n",
       "                    ASPt2_3pp, ASPO4, ASPO3, ASPt2_2pp, ASPO5, ASPK, ASPabcpp, ASPO6, ASPTA, ASPt2pp, ADSS, ASP1DC, ASNN, BIOMASS_Ec_iML1515_core_75p37M, ASPtpp, SUCASPtpp, ASPT, BIOMASS_Ec_iML1515_WT_75p37M, ASNS1,...\n",
       "                    </td>\n",
       "            </tr>\n",
       "        </table>"
      ],
      "text/plain": [
       "<Metabolite asp__L_c at 0x13fccb5a050>"
      ]
     },
     "execution_count": 3,
     "metadata": {},
     "output_type": "execute_result"
    }
   ],
   "source": [
    "model.metabolites.g3p_c\n",
    "model.metabolites.asp__L_c"
   ]
  },
  {
   "cell_type": "markdown",
   "metadata": {},
   "source": [
    "<div class=\"alert alert-warning\">\n",
    "\n",
    "**Warning:** One cannot use dot notation to access metabolites, reactions, or genes if their identifiers do not resemble proper Python variable names.\n",
    "\n",
    "</div>"
   ]
  },
  {
   "cell_type": "code",
   "execution_count": 9,
   "metadata": {},
   "outputs": [],
   "source": [
    "# model.metabolites.10fthf_c  # this won't work, you can try by uncommenting the line"
   ]
  },
  {
   "cell_type": "markdown",
   "metadata": {},
   "source": [
    "<div class=\"alert alert-success\">\n",
    "\n",
    "**Solution:** Use the method `get_by_id` instead!\n",
    "\n",
    "</div>"
   ]
  },
  {
   "cell_type": "code",
   "execution_count": 8,
   "metadata": {},
   "outputs": [
    {
     "data": {
      "text/html": [
       "\n",
       "        <table>\n",
       "            <tr>\n",
       "                <td><strong>Metabolite identifier</strong></td><td>10fthf_c</td>\n",
       "            </tr><tr>\n",
       "                <td><strong>Name</strong></td><td>10-Formyltetrahydrofolate</td>\n",
       "            </tr><tr>\n",
       "                <td><strong>Memory address</strong></td>\n",
       "                <td>0x2adae633d50</td>\n",
       "            </tr><tr>\n",
       "                <td><strong>Formula</strong></td><td>C20H21N7O7</td>\n",
       "            </tr><tr>\n",
       "                <td><strong>Compartment</strong></td><td>c</td>\n",
       "            </tr><tr>\n",
       "                <td><strong>In 8 reaction(s)</strong></td><td>\n",
       "                    ULA4NFT, AICART, FTHFLi, FTHFD, MTHFC, BIOMASS_Ec_iML1515_core_75p37M, GARFT, BIOMASS_Ec_iML1515_WT_75p37M\n",
       "                    </td>\n",
       "            </tr>\n",
       "        </table>"
      ],
      "text/plain": [
       "<Metabolite 10fthf_c at 0x2adae633d50>"
      ]
     },
     "execution_count": 8,
     "metadata": {},
     "output_type": "execute_result"
    }
   ],
   "source": [
    "model.metabolites.get_by_id('10fthf_c')"
   ]
  },
  {
   "cell_type": "markdown",
   "metadata": {},
   "source": [
    "Metabolites are associated with compartments in the cell. Glyceraldehyde 3-phosphate (`g3p_c`) is associated with the `c` (Cytosol) compartment."
   ]
  },
  {
   "cell_type": "code",
   "execution_count": 10,
   "metadata": {},
   "outputs": [
    {
     "data": {
      "text/plain": [
       "'c'"
      ]
     },
     "execution_count": 10,
     "metadata": {},
     "output_type": "execute_result"
    }
   ],
   "source": [
    "model.metabolites.g3p_c.compartment"
   ]
  },
  {
   "cell_type": "markdown",
   "metadata": {},
   "source": [
    "The _E. coli_ model has three compartments."
   ]
  },
  {
   "cell_type": "code",
   "execution_count": 9,
   "metadata": {},
   "outputs": [
    {
     "data": {
      "text/plain": [
       "{'c': 'cytosol', 'e': 'extracellular space', 'p': 'periplasm'}"
      ]
     },
     "execution_count": 9,
     "metadata": {},
     "output_type": "execute_result"
    }
   ],
   "source": [
    "model.compartments"
   ]
  },
  {
   "cell_type": "markdown",
   "metadata": {},
   "source": [
    "Some metabolites (like Glucose for example) can be associated with multiple compartments."
   ]
  },
  {
   "cell_type": "code",
   "execution_count": 11,
   "metadata": {},
   "outputs": [
    {
     "data": {
      "text/plain": [
       "'c'"
      ]
     },
     "execution_count": 11,
     "metadata": {},
     "output_type": "execute_result"
    }
   ],
   "source": [
    "model.metabolites.glc__D_c.compartment"
   ]
  },
  {
   "cell_type": "code",
   "execution_count": 11,
   "metadata": {},
   "outputs": [
    {
     "data": {
      "text/plain": [
       "'p'"
      ]
     },
     "execution_count": 11,
     "metadata": {},
     "output_type": "execute_result"
    }
   ],
   "source": [
    "model.metabolites.glc__D_p.compartment"
   ]
  },
  {
   "cell_type": "markdown",
   "metadata": {},
   "source": [
    "The full name of the metabolite is available via the `.name` attribute. "
   ]
  },
  {
   "cell_type": "code",
   "execution_count": 7,
   "metadata": {},
   "outputs": [
    {
     "data": {
      "text/plain": [
       "'L-Aspartate'"
      ]
     },
     "execution_count": 7,
     "metadata": {},
     "output_type": "execute_result"
    }
   ],
   "source": [
    "model.metabolites.glc__D_c.name\n",
    "model.metabolites.asp__L_c.name"
   ]
  },
  {
   "cell_type": "markdown",
   "metadata": {},
   "source": [
    "One can look up the molecular formula of glucose."
   ]
  },
  {
   "cell_type": "code",
   "execution_count": 13,
   "metadata": {},
   "outputs": [
    {
     "data": {
      "text/plain": [
       "'C3H5O6P'"
      ]
     },
     "execution_count": 13,
     "metadata": {},
     "output_type": "execute_result"
    }
   ],
   "source": [
    "model.metabolites.g3p_c.formula"
   ]
  },
  {
   "cell_type": "markdown",
   "metadata": {},
   "source": [
    "The `.elements` attribute returns a dictionary representation of the formula."
   ]
  },
  {
   "cell_type": "code",
   "execution_count": 14,
   "metadata": {},
   "outputs": [
    {
     "data": {
      "text/plain": [
       "{'C': 3, 'H': 5, 'O': 6, 'P': 1}"
      ]
     },
     "execution_count": 14,
     "metadata": {},
     "output_type": "execute_result"
    }
   ],
   "source": [
    "model.metabolites.g3p_c.elements"
   ]
  },
  {
   "cell_type": "markdown",
   "metadata": {},
   "source": [
    "Furthermore, one can look up the molecular weight of a metabolite."
   ]
  },
  {
   "cell_type": "code",
   "execution_count": 14,
   "metadata": {},
   "outputs": [
    {
     "data": {
      "text/plain": [
       "168.041961"
      ]
     },
     "execution_count": 14,
     "metadata": {},
     "output_type": "execute_result"
    }
   ],
   "source": [
    "model.metabolites.g3p_c.formula_weight"
   ]
  },
  {
   "cell_type": "markdown",
   "metadata": {},
   "source": [
    "One can gather additional information (like references to external datbases) about the metabolite through the annotation attribute."
   ]
  },
  {
   "cell_type": "code",
   "execution_count": 16,
   "metadata": {},
   "outputs": [
    {
     "data": {
      "text/plain": [
       "{'sbo': 'SBO:0000247',\n",
       " 'bigg.metabolite': 'g3p',\n",
       " 'biocyc': 'META:GAP',\n",
       " 'chebi': ['CHEBI:5446',\n",
       "  'CHEBI:14333',\n",
       "  'CHEBI:12984',\n",
       "  'CHEBI:181',\n",
       "  'CHEBI:17138',\n",
       "  'CHEBI:21026',\n",
       "  'CHEBI:12983',\n",
       "  'CHEBI:18324',\n",
       "  'CHEBI:58027',\n",
       "  'CHEBI:59776',\n",
       "  'CHEBI:29052'],\n",
       " 'hmdb': 'HMDB01112',\n",
       " 'inchi_key': 'LXJXRIRHZLFYRP-VKHMYHEASA-L',\n",
       " 'kegg.compound': ['C00661', 'C00118'],\n",
       " 'metanetx.chemical': 'MNXM74',\n",
       " 'reactome.compound': '29578',\n",
       " 'sabiork': ['27', '1687'],\n",
       " 'seed.compound': ['cpd00102', 'cpd19005']}"
      ]
     },
     "execution_count": 16,
     "metadata": {},
     "output_type": "execute_result"
    }
   ],
   "source": [
    "model.metabolites.g3p_c.annotation"
   ]
  },
  {
   "cell_type": "markdown",
   "metadata": {},
   "source": [
    "One can use these annotations to look up the compound on [KEGG](http://www.genome.jp/dbget-bin/www_bget?cpd:C00118) for example."
   ]
  },
  {
   "cell_type": "markdown",
   "metadata": {},
   "source": [
    "Metabolites are not isolated things. They participate in reactions as substrates and products."
   ]
  },
  {
   "cell_type": "code",
   "execution_count": 15,
   "metadata": {},
   "outputs": [
    {
     "data": {
      "text/plain": [
       "frozenset({<Reaction DDPGALA at 0x2647fa31f10>,\n",
       "           <Reaction DRPA at 0x2647fef2190>,\n",
       "           <Reaction DXPS at 0x2647fa09210>,\n",
       "           <Reaction EDA at 0x2647f827fd0>,\n",
       "           <Reaction F6PA at 0x2647fac60d0>,\n",
       "           <Reaction FBA at 0x2647f8aeb90>,\n",
       "           <Reaction GAPD at 0x2647fd08a50>,\n",
       "           <Reaction GAPP at 0x26405f63290>,\n",
       "           <Reaction TALA at 0x2647f7ea910>,\n",
       "           <Reaction TGBPA at 0x2647fa59590>,\n",
       "           <Reaction TKT1 at 0x2647f907ed0>,\n",
       "           <Reaction TKT2 at 0x2647ff29fd0>,\n",
       "           <Reaction TPI at 0x264058a5490>,\n",
       "           <Reaction TRPS1 at 0x2647fccd850>,\n",
       "           <Reaction TRPS3 at 0x2647fab3e10>})"
      ]
     },
     "execution_count": 15,
     "metadata": {},
     "output_type": "execute_result"
    }
   ],
   "source": [
    "model.metabolites.g3p_c.reactions"
   ]
  },
  {
   "cell_type": "markdown",
   "metadata": {},
   "source": [
    "### Reactions"
   ]
  },
  {
   "cell_type": "markdown",
   "metadata": {},
   "source": [
    "The model contains a list of reactions. Here are the first 10 of them."
   ]
  },
  {
   "cell_type": "code",
   "execution_count": 16,
   "metadata": {},
   "outputs": [
    {
     "data": {
      "text/plain": [
       "[<Reaction CYTDK2 at 0x2647f784150>,\n",
       " <Reaction XPPT at 0x2647f784110>,\n",
       " <Reaction HXPRT at 0x2647f785650>,\n",
       " <Reaction NDPK5 at 0x2647f785610>,\n",
       " <Reaction SHK3Dr at 0x2647f7857d0>,\n",
       " <Reaction NDPK6 at 0x2647f786810>,\n",
       " <Reaction NDPK8 at 0x2647f787850>,\n",
       " <Reaction DHORTS at 0x2647f787b50>,\n",
       " <Reaction OMPDC at 0x2647f78e3d0>,\n",
       " <Reaction PYNP2r at 0x2647f78f5d0>]"
      ]
     },
     "execution_count": 16,
     "metadata": {},
     "output_type": "execute_result"
    }
   ],
   "source": [
    "model.reactions[0:10]"
   ]
  },
  {
   "cell_type": "markdown",
   "metadata": {},
   "source": [
    "How many reactions are in the model?"
   ]
  },
  {
   "cell_type": "code",
   "execution_count": 17,
   "metadata": {},
   "outputs": [
    {
     "data": {
      "text/plain": [
       "2712"
      ]
     },
     "execution_count": 17,
     "metadata": {},
     "output_type": "execute_result"
    }
   ],
   "source": [
    "len (model.reactions)"
   ]
  },
  {
   "cell_type": "markdown",
   "metadata": {},
   "source": [
    "Let's take a closer look at the reactions associated with Glyceraldehyde 3-phosphate (`g3p`)."
   ]
  },
  {
   "cell_type": "code",
   "execution_count": 8,
   "metadata": {},
   "outputs": [
    {
     "name": "stdout",
     "output_type": "stream",
     "text": [
      "ASPt2pp ASPt2pp: asp__L_p + h_p --> asp__L_c + h_c L-aspartate transport in via proton symport (periplasm)\n",
      "ASPt2_3pp ASPt2_3pp: asp__L_p + 3.0 h_p --> asp__L_c + 3.0 h_c L-asparate transport via proton symport (3 H) (periplasm)\n",
      "ADSS ADSS: asp__L_c + gtp_c + imp_c --> dcamp_c + gdp_c + 2.0 h_c + pi_c Adenylosuccinate synthase\n",
      "ASPT ASPT: asp__L_c --> fum_c + nh4_c L-aspartase\n",
      "ASPO3 ASPO3: asp__L_c + q8_c --> h_c + iasp_c + q8h2_c L-aspartate oxidase\n",
      "BIOMASS_Ec_iML1515_core_75p37M BIOMASS_Ec_iML1515_core_75p37M: 0.000223 10fthf_c + 2.6e-05 2fe2s_c + 0.000223 2ohph_c + 0.00026 4fe4s_c + 0.513689 ala__L_c + 0.000223 amet_c + 0.295792 arg__L_c + 0.241055 asn__L_c + 0.241055 asp__L_c + 75.55223 atp_c + 2e-06 btn_c + 0.005205 ca2_c + 0.005205 cl_c + 0.000576 coa_c + 2.5e-05 cobalt2_c + 0.133508 ctp_c + 0.000709 cu2_c + 0.09158 cys__L_c + 0.026166 datp_c + 0.027017 dctp_c + 0.027017 dgtp_c + 0.026166 dttp_c + 0.000223 fad_c + 0.006715 fe2_c + 0.007808 fe3_c + 0.26316 gln__L_c + 0.26316 glu__L_c + 0.612638 gly_c + 0.215096 gtp_c + 70.028756 h2o_c + 0.094738 his__L_c + 0.290529 ile__L_c + 0.195193 k_c + 0.019456 kdo2lipid4_e + 0.450531 leu__L_c + 0.343161 lys__L_c + 0.153686 met__L_c + 0.008675 mg2_c + 0.000223 mlthf_c + 0.000691 mn2_c + 7e-06 mobd_c + 0.013894 murein5px4p_p + 0.001831 nad_c + 0.000447 nadp_c + 0.013013 nh4_c + 0.000323 ni2_c + 0.063814 pe160_p + 0.075214 pe161_p + 0.185265 phe__L_c + 0.000223 pheme_c + 0.221055 pro__L_c + 0.000223 pydx5p_c + 0.000223 ribflv_c + 0.215792 ser__L_c + 0.000223 sheme_c + 0.004338 so4_c + 9.8e-05 succoa_c + 0.000223 thf_c + 0.000223 thmpp_c + 0.253687 thr__L_c + 0.056843 trp__L_c + 0.137896 tyr__L_c + 5.5e-05 udcpdp_c + 0.144104 utp_c + 0.423162 val__L_c + 0.000341 zn2_c --> 75.37723 adp_c + 75.37723 h_c + 75.37323 pi_c + 0.773903 ppi_c E. coli biomass objective function (iML1515) - core - with 75.37 GAM estimate\n",
      "ASPabcpp ASPabcpp: asp__L_p + atp_c + h2o_c --> adp_c + asp__L_c + h_c + pi_c L-aspartate transport via ABC system (periplasm)\n",
      "ASNN ASNN: asn__L_c + h2o_c --> asp__L_c + nh4_c L-asparaginase\n",
      "ASPtpp ASPtpp: asp__L_p <=> asp__L_c L-aspartate uptake via facillitated diffusion\n",
      "ASPTA ASPTA: akg_c + asp__L_c <=> glu__L_c + oaa_c Aspartate transaminase\n",
      "SUCASPtpp SUCASPtpp: asp__L_p + succ_c <=> asp__L_c + succ_p Succinate:aspartate antiporter (periplasm)\n",
      "ASPO5 ASPO5: asp__L_c + fum_c --> h_c + iasp_c + succ_c L-aspartate oxidase\n",
      "ASNS1 ASNS1: asp__L_c + atp_c + gln__L_c + h2o_c --> amp_c + asn__L_c + glu__L_c + h_c + ppi_c Asparagine synthase (glutamine-hydrolysing)\n",
      "ASPO4 ASPO4: asp__L_c + mqn8_c --> h_c + iasp_c + mql8_c L-aspartate oxidase\n",
      "PRASCSi PRASCSi: 5aizc_c + asp__L_c + atp_c --> 25aics_c + adp_c + h_c + pi_c Phosphoribosylaminoimidazolesuccinocarboxamide synthase\n",
      "BIOMASS_Ec_iML1515_WT_75p37M BIOMASS_Ec_iML1515_WT_75p37M: 0.000223 10fthf_c + 0.000223 2dmmql8_c + 2.5e-05 2fe2s_c + 0.000248 4fe4s_c + 0.000223 5mthf_c + 0.000279 accoa_c + 0.000223 adocbl_c + 0.499149 ala__L_c + 0.000223 amet_c + 0.28742 arg__L_c + 0.234232 asn__L_c + 0.234232 asp__L_c + 75.55223 atp_c + 2e-06 btn_c + 0.004952 ca2_c + 0.000223 chor_c + 0.004952 cl_c + 0.002944 clpn160_p + 0.00229 clpn161_p + 0.00118 clpn181_p + 0.000168 coa_c + 2.4e-05 cobalt2_c + 0.008151 colipa_e + 0.129799 ctp_c + 0.000674 cu2_c + 0.088988 cys__L_c + 0.024805 datp_c + 0.025612 dctp_c + 0.025612 dgtp_c + 0.024805 dttp_c + 0.000223 enter_c + 0.000223 fad_c + 0.006388 fe2_c + 0.007428 fe3_c + 0.255712 gln__L_c + 0.255712 glu__L_c + 0.595297 gly_c + 0.154187 glycogen_c + 0.000223 gthrd_c + 0.209121 gtp_c + 70.028756 h2o_c + 0.000223 hemeO_c + 0.092056 his__L_c + 0.282306 ile__L_c + 0.18569 k_c + 0.437778 leu__L_c + 3e-06 lipopb_c + 0.333448 lys__L_c + 3.1e-05 malcoa_c + 0.149336 met__L_c + 0.008253 mg2_c + 0.000223 mlthf_c + 0.000658 mn2_c + 7e-06 mobd_c + 7e-06 mococdp_c + 7e-06 mocogdp_c + 0.000223 mql8_c + 0.001345 murein3p3p_p + 0.000605 murein3px4p_p + 0.005381 murein4p4p_p + 0.005448 murein4px4p_p + 0.000673 murein4px4px4p_p + 0.001787 nad_c + 4.5e-05 nadh_c + 0.000112 nadp_c + 0.000335 nadph_c + 0.012379 nh4_c + 0.000307 ni2_c + 0.044164 pe160_p + 0.03435 pe161_p + 0.017704 pe181_p + 0.010599 pg160_p + 0.008244 pg161_p + 0.004249 pg181_p + 0.180021 phe__L_c + 0.000223 pheme_c + 0.214798 pro__L_c + 0.03327 ptrc_c + 0.000223 pydx5p_c + 0.000223 q8h2_c + 0.000223 ribflv_c + 0.209684 ser__L_c + 0.000223 sheme_c + 0.004126 so4_c + 0.006744 spmd_c + 9.8e-05 succoa_c + 0.000223 thf_c + 0.000223 thmpp_c + 0.246506 thr__L_c + 0.055234 trp__L_c + 0.133993 tyr__L_c + 5.5e-05 udcpdp_c + 0.140101 utp_c + 0.411184 val__L_c + 0.000324 zn2_c --> 75.37723 adp_c + 75.37723 h_c + 75.37323 pi_c + 0.749831 ppi_c E. coli biomass objective function (iML1515) - WT - with 75.37 GAM estimate\n",
      "ASPCT ASPCT: asp__L_c + cbp_c --> cbasp_c + h_c + pi_c Aspartate carbamoyltransferase\n",
      "ARGSS ARGSS: asp__L_c + atp_c + citr__L_c --> amp_c + argsuc_c + h_c + ppi_c Argininosuccinate synthase\n",
      "ASPO6 ASPO6: asp__L_c + o2_c --> h2o2_c + h_c + iasp_c L-aspartate oxidase\n",
      "ASNS2 ASNS2: asp__L_c + atp_c + nh4_c --> amp_c + asn__L_c + h_c + ppi_c Asparagine synthetase\n",
      "ASP1DC ASP1DC: asp__L_c + h_c --> ala_B_c + co2_c Aspartate 1-decarboxylase\n",
      "ASPt2_2pp ASPt2_2pp: asp__L_p + 2.0 h_p --> asp__L_c + 2.0 h_c Aspartate transport via proton symport (2 H) (periplasm)\n",
      "ASPK ASPK: asp__L_c + atp_c <=> 4pasp_c + adp_c Aspartate kinase\n"
     ]
    }
   ],
   "source": [
    "for reaction in model.metabolites.asp__L_c.reactions:\n",
    "    print(reaction.id, reaction, reaction.name)"
   ]
  },
  {
   "cell_type": "markdown",
   "metadata": {},
   "source": [
    "The second reaction in this list is Glyceraldehyde-3-phosphate dehydrogenase (GAPD)."
   ]
  },
  {
   "cell_type": "code",
   "execution_count": 18,
   "metadata": {},
   "outputs": [
    {
     "data": {
      "text/plain": [
       "'Glyceraldehyde-3-phosphate dehydrogenase'"
      ]
     },
     "execution_count": 18,
     "metadata": {},
     "output_type": "execute_result"
    }
   ],
   "source": [
    "model.reactions.GAPD.name"
   ]
  },
  {
   "cell_type": "markdown",
   "metadata": {},
   "source": [
    "### Objective function"
   ]
  },
  {
   "cell_type": "markdown",
   "metadata": {},
   "source": [
    "Here is the objective function currently set in the model. An objective function take one or more variavle as input and computes a single value that quantifies the quality of a solution in optimiation problems."
   ]
  },
  {
   "cell_type": "markdown",
   "metadata": {},
   "source": [
    "<div class=\"alert alert-info\">\n",
    "\n",
    "Under the hood all reactions are represented by two flux variables, the first one representing the forward direction, the second  one the reverse direction. In all likelihood, you won't have to worry about this during the course.\n",
    "\n",
    "</div>"
   ]
  },
  {
   "cell_type": "code",
   "execution_count": 5,
   "metadata": {},
   "outputs": [
    {
     "name": "stdout",
     "output_type": "stream",
     "text": [
      "Maximize\n",
      "1.0*BIOMASS_Ec_iML1515_core_75p37M - 1.0*BIOMASS_Ec_iML1515_core_75p37M_reverse_35685\n"
     ]
    }
   ],
   "source": [
    "print(model.objective)"
   ]
  },
  {
   "cell_type": "markdown",
   "metadata": {},
   "source": [
    "To what reaction corresponds the objective function? Search it in the model and print it"
   ]
  },
  {
   "cell_type": "code",
   "execution_count": 8,
   "metadata": {},
   "outputs": [
    {
     "data": {
      "text/html": [
       "\n",
       "        <table>\n",
       "            <tr>\n",
       "                <td><strong>Reaction identifier</strong></td><td>BIOMASS_Ec_iML1515_core_75p37M</td>\n",
       "            </tr><tr>\n",
       "                <td><strong>Name</strong></td><td>E. coli biomass objective function (iML1515) - core - with 75.37 GAM estimate</td>\n",
       "            </tr><tr>\n",
       "                <td><strong>Memory address</strong></td>\n",
       "                <td>0x240e03b0f50</td>\n",
       "            </tr><tr>\n",
       "                <td><strong>Stoichiometry</strong></td>\n",
       "                <td>\n",
       "                    <p style='text-align:right'>0.000223 10fthf_c + 2.6e-05 2fe2s_c + 0.000223 2ohph_c + 0.00026 4fe4s_c + 0.513689 ala__L_c + 0.000223 amet_c + 0.295792 arg__L_c + 0.241055 asn__L_c + 0.241055 asp__L_c + 75.55223 atp_c + 2e-06...</p>\n",
       "                    <p style='text-align:right'>0.000223 10-Formyltetrahydrofolate + 2.6e-05 [2Fe-2S] iron-sulfur cluster + 0.000223 2-Octaprenyl-6-hydroxyphenol + 0.00026 [4Fe-4S] iron-sulfur cluster + 0.513689 L-Alanine + 0.000223 S-Adenosyl-...</p>\n",
       "                </td>\n",
       "            </tr><tr>\n",
       "                <td><strong>GPR</strong></td><td></td>\n",
       "            </tr><tr>\n",
       "                <td><strong>Lower bound</strong></td><td>0.0</td>\n",
       "            </tr><tr>\n",
       "                <td><strong>Upper bound</strong></td><td>1000.0</td>\n",
       "            </tr>\n",
       "        </table>\n",
       "        "
      ],
      "text/plain": [
       "<Reaction BIOMASS_Ec_iML1515_core_75p37M at 0x240e03b0f50>"
      ]
     },
     "execution_count": 8,
     "metadata": {},
     "output_type": "execute_result"
    }
   ],
   "source": [
    "model.reactions.BIOMASS_Ec_iML1515_core_75p37M"
   ]
  },
  {
   "cell_type": "markdown",
   "metadata": {},
   "source": [
    "### ATP maintenance requirement"
   ]
  },
  {
   "cell_type": "markdown",
   "metadata": {},
   "source": [
    "Most models also contain a reaction that hydrolyzes ATP and that represents the non-growth ATP maintenance (NGAM) cost. Usually its lower bound is set to an experimentally determined value to enforce a certain flux."
   ]
  },
  {
   "cell_type": "code",
   "execution_count": 13,
   "metadata": {},
   "outputs": [
    {
     "data": {
      "text/html": [
       "\n",
       "        <table>\n",
       "            <tr>\n",
       "                <td><strong>Reaction identifier</strong></td><td>ATPM</td>\n",
       "            </tr><tr>\n",
       "                <td><strong>Name</strong></td><td>ATP maintenance requirement</td>\n",
       "            </tr><tr>\n",
       "                <td><strong>Memory address</strong></td>\n",
       "                <td>0x2adbd742f10</td>\n",
       "            </tr><tr>\n",
       "                <td><strong>Stoichiometry</strong></td>\n",
       "                <td>\n",
       "                    <p style='text-align:right'>atp_c + h2o_c --> adp_c + h_c + pi_c</p>\n",
       "                    <p style='text-align:right'>ATP C10H12N5O13P3 + H2O H2O --> ADP C10H12N5O10P2 + H+ + Phosphate</p>\n",
       "                </td>\n",
       "            </tr><tr>\n",
       "                <td><strong>GPR</strong></td><td></td>\n",
       "            </tr><tr>\n",
       "                <td><strong>Lower bound</strong></td><td>6.86</td>\n",
       "            </tr><tr>\n",
       "                <td><strong>Upper bound</strong></td><td>1000.0</td>\n",
       "            </tr>\n",
       "        </table>\n",
       "        "
      ],
      "text/plain": [
       "<Reaction ATPM at 0x2adbd742f10>"
      ]
     },
     "execution_count": 13,
     "metadata": {},
     "output_type": "execute_result"
    }
   ],
   "source": [
    "model.reactions.ATPM"
   ]
  },
  {
   "cell_type": "markdown",
   "metadata": {},
   "source": [
    "### Gene-Protein-Reaction associations"
   ]
  },
  {
   "cell_type": "markdown",
   "metadata": {},
   "source": [
    "Glyceraldehyde-3-phosphate dehydrogenase is associated with a single gene. "
   ]
  },
  {
   "cell_type": "code",
   "execution_count": 1,
   "metadata": {},
   "outputs": [
    {
     "ename": "NameError",
     "evalue": "name 'model' is not defined",
     "output_type": "error",
     "traceback": [
      "\u001b[1;31m---------------------------------------------------------------------------\u001b[0m",
      "\u001b[1;31mNameError\u001b[0m                                 Traceback (most recent call last)",
      "\u001b[1;32mc:\\Users\\Valeria Stavila\\Documents\\GitRep\\group-assingment-group-14\\L-asp_GSM_application.ipynb Cell 58\u001b[0m line \u001b[0;36m1\n\u001b[1;32m----> <a href='vscode-notebook-cell:/c%3A/Users/Valeria%20Stavila/Documents/GitRep/group-assingment-group-14/L-asp_GSM_application.ipynb#Y111sZmlsZQ%3D%3D?line=0'>1</a>\u001b[0m model\u001b[39m.\u001b[39mreactions\u001b[39m.\u001b[39mGAPD\u001b[39m.\u001b[39mgene_reaction_rule\n\u001b[0;32m      <a href='vscode-notebook-cell:/c%3A/Users/Valeria%20Stavila/Documents/GitRep/group-assingment-group-14/L-asp_GSM_application.ipynb#Y111sZmlsZQ%3D%3D?line=1'>2</a>\u001b[0m model\u001b[39m.\u001b[39mreactions\u001b[39m.\u001b[39mGPR__b0928\n",
      "\u001b[1;31mNameError\u001b[0m: name 'model' is not defined"
     ]
    }
   ],
   "source": [
    "model.reactions.GAPD.gene_reaction_rule\n",
    "model.reactions. \n"
   ]
  },
  {
   "cell_type": "markdown",
   "metadata": {},
   "source": [
    "Phosphofructokinase (PFK) on the other hand seems to be associated with two isozymes."
   ]
  },
  {
   "cell_type": "code",
   "execution_count": 26,
   "metadata": {},
   "outputs": [
    {
     "data": {
      "text/plain": [
       "'b3916 or b1723'"
      ]
     },
     "execution_count": 26,
     "metadata": {},
     "output_type": "execute_result"
    }
   ],
   "source": [
    "model.reactions.PFK.gene_reaction_rule"
   ]
  },
  {
   "cell_type": "markdown",
   "metadata": {},
   "source": [
    "One can display the gene names (typical 4 letter gene codes) instead of the identifiers (Blattner numbers in this case)."
   ]
  },
  {
   "cell_type": "code",
   "execution_count": 27,
   "metadata": {},
   "outputs": [
    {
     "data": {
      "text/plain": [
       "'pfkA or pfkB'"
      ]
     },
     "execution_count": 27,
     "metadata": {},
     "output_type": "execute_result"
    }
   ],
   "source": [
    "model.reactions.PFK.gene_name_reaction_rule"
   ]
  },
  {
   "cell_type": "markdown",
   "metadata": {},
   "source": [
    "Here a very complicated gene to reaction mapping (ATP synthase)."
   ]
  },
  {
   "cell_type": "code",
   "execution_count": 28,
   "metadata": {},
   "outputs": [
    {
     "data": {
      "text/plain": [
       "'(atpI and (atpC and atpG and atpH and atpA and atpD) and (atpB and atpF and atpE)) or ((atpC and atpG and atpH and atpA and atpD) and (atpB and atpF and atpE))'"
      ]
     },
     "execution_count": 28,
     "metadata": {},
     "output_type": "execute_result"
    }
   ],
   "source": [
    "model.reactions.ATPS4rpp.gene_name_reaction_rule"
   ]
  },
  {
   "cell_type": "markdown",
   "metadata": {},
   "source": [
    "### Finding things"
   ]
  },
  {
   "cell_type": "markdown",
   "metadata": {},
   "source": [
    "One can use `.query('search term', 'attribute_to_search_in')` to search in model metabolites, reactions, and genes. For example, one can search metabolites that contain the term _glucose_ in their name."
   ]
  },
  {
   "cell_type": "code",
   "execution_count": 29,
   "metadata": {},
   "outputs": [
    {
     "name": "stdout",
     "output_type": "stream",
     "text": [
      "6-Phospho-beta-D-glucosyl-(1,4)-D-glucose\n",
      "DTDP-4-dehydro-6-deoxy-D-glucose\n",
      "Undecaprenol-diphosphate-glucose\n",
      "UDPglucose\n",
      "2 Deoxy D glucose 6 phosphate C6H11O8P\n",
      "ADPglucose C16H23N5O15P2\n",
      "6-Acetyl-D-glucose\n",
      "UDPglucose\n",
      "UDPglucose\n",
      "DTDPglucose\n",
      "2 Deoxy D glucose C6H12O5\n",
      "2 Deoxy D glucose C6H12O5\n",
      "2 Deoxy D glucose C6H12O5\n"
     ]
    }
   ],
   "source": [
    "for metabolite in model.metabolites.query('glucose', 'name'):\n",
    "    print(metabolite.name)\n"
   ]
  },
  {
   "cell_type": "markdown",
   "metadata": {},
   "source": [
    "## Simulating models"
   ]
  },
  {
   "cell_type": "code",
   "execution_count": 14,
   "metadata": {},
   "outputs": [
    {
     "data": {
      "text/html": [
       "<strong><em>Optimal</em> solution with objective value 0.877</strong><br><div>\n",
       "<style scoped>\n",
       "    .dataframe tbody tr th:only-of-type {\n",
       "        vertical-align: middle;\n",
       "    }\n",
       "\n",
       "    .dataframe tbody tr th {\n",
       "        vertical-align: top;\n",
       "    }\n",
       "\n",
       "    .dataframe thead th {\n",
       "        text-align: right;\n",
       "    }\n",
       "</style>\n",
       "<table border=\"1\" class=\"dataframe\">\n",
       "  <thead>\n",
       "    <tr style=\"text-align: right;\">\n",
       "      <th></th>\n",
       "      <th>fluxes</th>\n",
       "      <th>reduced_costs</th>\n",
       "    </tr>\n",
       "  </thead>\n",
       "  <tbody>\n",
       "    <tr>\n",
       "      <th>CYTDK2</th>\n",
       "      <td>0.000000e+00</td>\n",
       "      <td>9.521763e-17</td>\n",
       "    </tr>\n",
       "    <tr>\n",
       "      <th>XPPT</th>\n",
       "      <td>-8.698806e-17</td>\n",
       "      <td>1.387779e-17</td>\n",
       "    </tr>\n",
       "    <tr>\n",
       "      <th>HXPRT</th>\n",
       "      <td>0.000000e+00</td>\n",
       "      <td>-1.504671e-02</td>\n",
       "    </tr>\n",
       "    <tr>\n",
       "      <th>NDPK5</th>\n",
       "      <td>0.000000e+00</td>\n",
       "      <td>3.855759e-16</td>\n",
       "    </tr>\n",
       "    <tr>\n",
       "      <th>SHK3Dr</th>\n",
       "      <td>3.342403e-01</td>\n",
       "      <td>-2.639676e-18</td>\n",
       "    </tr>\n",
       "    <tr>\n",
       "      <th>...</th>\n",
       "      <td>...</td>\n",
       "      <td>...</td>\n",
       "    </tr>\n",
       "    <tr>\n",
       "      <th>MPTS</th>\n",
       "      <td>0.000000e+00</td>\n",
       "      <td>-2.602085e-18</td>\n",
       "    </tr>\n",
       "    <tr>\n",
       "      <th>MOCOS</th>\n",
       "      <td>0.000000e+00</td>\n",
       "      <td>-5.642514e-03</td>\n",
       "    </tr>\n",
       "    <tr>\n",
       "      <th>BMOGDS2</th>\n",
       "      <td>0.000000e+00</td>\n",
       "      <td>-3.338488e-01</td>\n",
       "    </tr>\n",
       "    <tr>\n",
       "      <th>FESD2s</th>\n",
       "      <td>0.000000e+00</td>\n",
       "      <td>-3.447763e-17</td>\n",
       "    </tr>\n",
       "    <tr>\n",
       "      <th>OCTNLL</th>\n",
       "      <td>0.000000e+00</td>\n",
       "      <td>-1.504671e-02</td>\n",
       "    </tr>\n",
       "  </tbody>\n",
       "</table>\n",
       "<p>2712 rows × 2 columns</p>\n",
       "</div>"
      ],
      "text/plain": [
       "<Solution 0.877 at 0x2ada451f290>"
      ]
     },
     "execution_count": 14,
     "metadata": {},
     "output_type": "execute_result"
    }
   ],
   "source": [
    "model.optimize()\n"
   ]
  },
  {
   "cell_type": "markdown",
   "metadata": {},
   "source": [
    "You can get the objective value (which corresponds to $\\mu_{max}$ in this case) like this."
   ]
  },
  {
   "cell_type": "code",
   "execution_count": 31,
   "metadata": {},
   "outputs": [
    {
     "data": {
      "text/plain": [
       "0.8769972144269834"
      ]
     },
     "execution_count": 31,
     "metadata": {},
     "output_type": "execute_result"
    }
   ],
   "source": [
    "model.optimize().objective_value"
   ]
  },
  {
   "cell_type": "markdown",
   "metadata": {},
   "source": [
    "We'll get to the fluxes in a second."
   ]
  },
  {
   "cell_type": "markdown",
   "metadata": {},
   "source": [
    "## *E. coli* Core model"
   ]
  },
  {
   "cell_type": "markdown",
   "metadata": {},
   "source": [
    "For the sake of keeping things simple, let's continue with a much simplified model representing *Escherichia coli's* central carbon metabolism, i.e., the *E. coli* Core Model [10.1128/ecosalplus.10.2.1]( https://doi.org/10.1128/ecosalplus.10.2.1)."
   ]
  },
  {
   "cell_type": "code",
   "execution_count": 13,
   "metadata": {},
   "outputs": [],
   "source": [
    "from cobra.io import read_sbml_model\n",
    "model = read_sbml_model('data/e_coli_core.xml')"
   ]
  },
  {
   "cell_type": "code",
   "execution_count": 33,
   "metadata": {},
   "outputs": [
    {
     "data": {
      "text/html": [
       "\n",
       "        <table>\n",
       "            <tr>\n",
       "                <td><strong>Name</strong></td>\n",
       "                <td>e_coli_core</td>\n",
       "            </tr><tr>\n",
       "                <td><strong>Memory address</strong></td>\n",
       "                <td>7f6d393e1ae0</td>\n",
       "            </tr><tr>\n",
       "                <td><strong>Number of metabolites</strong></td>\n",
       "                <td>72</td>\n",
       "            </tr><tr>\n",
       "                <td><strong>Number of reactions</strong></td>\n",
       "                <td>95</td>\n",
       "            </tr><tr>\n",
       "                <td><strong>Number of genes</strong></td>\n",
       "                <td>137</td>\n",
       "            </tr><tr>\n",
       "                <td><strong>Number of groups</strong></td>\n",
       "                <td>9</td>\n",
       "            </tr><tr>\n",
       "                <td><strong>Objective expression</strong></td>\n",
       "                <td>1.0*BIOMASS_Ecoli_core_w_GAM - 1.0*BIOMASS_Ecoli_core_w_GAM_reverse_712e5</td>\n",
       "            </tr><tr>\n",
       "                <td><strong>Compartments</strong></td>\n",
       "                <td>cytosol, extracellular space</td>\n",
       "            </tr>\n",
       "          </table>"
      ],
      "text/plain": [
       "<Model e_coli_core at 0x7f6d393e1ae0>"
      ]
     },
     "execution_count": 33,
     "metadata": {},
     "output_type": "execute_result"
    }
   ],
   "source": [
    "model"
   ]
  },
  {
   "cell_type": "markdown",
   "metadata": {},
   "source": [
    "We can simulate the model and the store the solution in a variable."
   ]
  },
  {
   "cell_type": "code",
   "execution_count": 34,
   "metadata": {},
   "outputs": [],
   "source": [
    "solution = model.optimize()"
   ]
  },
  {
   "cell_type": "markdown",
   "metadata": {},
   "source": [
    "Then we can access the predicted fluxes."
   ]
  },
  {
   "cell_type": "code",
   "execution_count": 35,
   "metadata": {},
   "outputs": [
    {
     "data": {
      "text/plain": [
       "ACALD     0.000000e+00\n",
       "ACALDt    0.000000e+00\n",
       "ACKr      3.192215e-14\n",
       "ACONTa    6.007250e+00\n",
       "ACONTb    6.007250e+00\n",
       "              ...     \n",
       "TALA      1.496984e+00\n",
       "THD2      0.000000e+00\n",
       "TKT1      1.496984e+00\n",
       "TKT2      1.181498e+00\n",
       "TPI       7.477382e+00\n",
       "Name: fluxes, Length: 95, dtype: float64"
      ]
     },
     "execution_count": 35,
     "metadata": {},
     "output_type": "execute_result"
    }
   ],
   "source": [
    "solution.fluxes"
   ]
  },
  {
   "cell_type": "markdown",
   "metadata": {},
   "source": [
    "`solution.fluxes` is a pandas `Series` object so we can do easily pandas related things (statistics, plotting, filtering etc.)."
   ]
  },
  {
   "cell_type": "code",
   "execution_count": 36,
   "metadata": {},
   "outputs": [
    {
     "data": {
      "text/plain": [
       "pandas.core.series.Series"
      ]
     },
     "execution_count": 36,
     "metadata": {},
     "output_type": "execute_result"
    }
   ],
   "source": [
    "type(solution.fluxes)"
   ]
  },
  {
   "cell_type": "markdown",
   "metadata": {},
   "source": [
    "Let's get statistical overview of the data."
   ]
  },
  {
   "cell_type": "code",
   "execution_count": 37,
   "metadata": {},
   "outputs": [
    {
     "data": {
      "text/plain": [
       "count    95.000000\n",
       "mean      2.627753\n",
       "std      10.698095\n",
       "min     -29.175827\n",
       "25%       0.000000\n",
       "50%       0.000000\n",
       "75%       4.959985\n",
       "max      45.514010\n",
       "Name: fluxes, dtype: float64"
      ]
     },
     "execution_count": 37,
     "metadata": {},
     "output_type": "execute_result"
    }
   ],
   "source": [
    "solution.fluxes.describe()"
   ]
  },
  {
   "cell_type": "markdown",
   "metadata": {},
   "source": [
    "Let's plot a histogram of the distribution of flux values."
   ]
  },
  {
   "cell_type": "code",
   "execution_count": 38,
   "metadata": {},
   "outputs": [
    {
     "data": {
      "image/png": "[encoded data removed]",
      "text/plain": [
       "<Figure size 800x550 with 1 Axes>"
      ]
     },
     "metadata": {},
     "output_type": "display_data"
    }
   ],
   "source": [
    "fig = solution.fluxes.hist()\n",
    "fig.set_xlabel('flux [$mmol gDW^{-1} h^{-1}]$')\n",
    "fig.set_ylabel('Frequency');"
   ]
  },
  {
   "cell_type": "markdown",
   "metadata": {},
   "source": [
    "Let's filter the non-zero fluxes."
   ]
  },
  {
   "cell_type": "code",
   "execution_count": null,
   "metadata": {},
   "outputs": [
    {
     "data": {
      "text/plain": [
       "ACKr                        3.192215e-14\n",
       "ACONTa                      6.007250e+00\n",
       "ACONTb                      6.007250e+00\n",
       "ACt2r                       3.192215e-14\n",
       "AKGDH                       5.064376e+00\n",
       "ATPM                        8.390000e+00\n",
       "ATPS4r                      4.551401e+01\n",
       "BIOMASS_Ecoli_core_w_GAM    8.739215e-01\n",
       "CO2t                       -2.280983e+01\n",
       "CS                          6.007250e+00\n",
       "CYTBD                       4.359899e+01\n",
       "ENO                         1.471614e+01\n",
       "EX_co2_e                    2.280983e+01\n",
       "EX_glc__D_e                -1.000000e+01\n",
       "EX_h_e                      1.753087e+01\n",
       "EX_h2o_e                    2.917583e+01\n",
       "EX_nh4_e                   -4.765319e+00\n",
       "EX_o2_e                    -2.179949e+01\n",
       "EX_pi_e                    -3.214895e+00\n",
       "FBA                         7.477382e+00\n",
       "FUM                         5.064376e+00\n",
       "G6PDH2r                     4.959985e+00\n",
       "GAPD                        1.602353e+01\n",
       "GLCpts                      1.000000e+01\n",
       "GLNS                        2.234617e-01\n",
       "GLUDy                      -4.541857e+00\n",
       "GND                         4.959985e+00\n",
       "H2Ot                       -2.917583e+01\n",
       "ICDHyr                      6.007250e+00\n",
       "LDH_D                      -2.885167e-15\n",
       "MDH                         5.064376e+00\n",
       "NADH16                      3.853461e+01\n",
       "NH4t                        4.765319e+00\n",
       "O2t                         2.179949e+01\n",
       "PDH                         9.282533e+00\n",
       "PFK                         7.477382e+00\n",
       "PGI                         4.860861e+00\n",
       "PGK                        -1.602353e+01\n",
       "PGL                         4.959985e+00\n",
       "PGM                        -1.471614e+01\n",
       "PIt2r                       3.214895e+00\n",
       "PPC                         2.504309e+00\n",
       "PTAr                       -1.212470e-14\n",
       "PYK                         1.758177e+00\n",
       "PYRt2                      -7.597785e-16\n",
       "RPE                         2.678482e+00\n",
       "RPI                        -2.281503e+00\n",
       "SUCDi                       5.064376e+00\n",
       "SUCOAS                     -5.064376e+00\n",
       "TALA                        1.496984e+00\n",
       "TKT1                        1.496984e+00\n",
       "TKT2                        1.181498e+00\n",
       "TPI                         7.477382e+00\n",
       "Name: fluxes, dtype: float64"
      ]
     },
     "execution_count": 39,
     "metadata": {},
     "output_type": "execute_result"
    }
   ],
   "source": [
    "solution.fluxes[solution.fluxes != 0.]"
   ]
  },
  {
   "cell_type": "markdown",
   "metadata": {},
   "source": [
    "## Metabolic pathway visualizations with Escher"
   ]
  },
  {
   "cell_type": "markdown",
   "metadata": {},
   "source": [
    "It is quite tedious to try to interpret GSM flux predictions by looking at the raw numbers or statistics. One very useful approach to analyzing simulation results is to plot them on metabolic pathway maps. Luckily a very useful Python package exists for that purpose – [Escher](https://escher.github.io/#/) ([10.1371/journal.pcbi.1004321](http://dx.doi.org/10.1371/journal.pcbi.1004321))."
   ]
  },
  {
   "cell_type": "code",
   "execution_count": 3,
   "metadata": {},
   "outputs": [
    {
     "name": "stdout",
     "output_type": "stream",
     "text": [
      "Requirement already satisfied: escher in c:\\anaconda\\lib\\site-packages (1.7.3)\n",
      "Requirement already satisfied: Jinja2<3,>=2.7.3 in c:\\anaconda\\lib\\site-packages (from escher) (2.11.3)\n",
      "Requirement already satisfied: pytest<5,>=4.0.1 in c:\\anaconda\\lib\\site-packages (from escher) (4.6.11)\n",
      "Requirement already satisfied: cobra>=0.5.0 in c:\\anaconda\\lib\\site-packages (from escher) (0.27.0)\n",
      "Requirement already satisfied: jsonschema<4,>=3.0.1 in c:\\anaconda\\lib\\site-packages (from escher) (3.2.0)\n",
      "Requirement already satisfied: ipywidgets<8,>=7.4.0 in c:\\anaconda\\lib\\site-packages (from escher) (7.8.1)\n",
      "Requirement already satisfied: pandas>=0.18 in c:\\anaconda\\lib\\site-packages (from escher) (1.5.3)\n",
      "Requirement already satisfied: appdirs~=1.4 in c:\\anaconda\\lib\\site-packages (from cobra>=0.5.0->escher) (1.4.4)\n",
      "Requirement already satisfied: depinfo~=1.7 in c:\\anaconda\\lib\\site-packages (from cobra>=0.5.0->escher) (1.7.0)\n",
      "Requirement already satisfied: diskcache~=5.0 in c:\\anaconda\\lib\\site-packages (from cobra>=0.5.0->escher) (5.6.3)\n",
      "Requirement already satisfied: future in c:\\anaconda\\lib\\site-packages (from cobra>=0.5.0->escher) (0.18.3)\n",
      "Requirement already satisfied: httpx~=0.24 in c:\\anaconda\\lib\\site-packages (from cobra>=0.5.0->escher) (0.25.0)\n",
      "Requirement already satisfied: importlib-resources in c:\\anaconda\\lib\\site-packages (from cobra>=0.5.0->escher) (6.1.0)\n",
      "Requirement already satisfied: numpy>=1.13 in c:\\anaconda\\lib\\site-packages (from cobra>=0.5.0->escher) (1.24.3)\n",
      "Requirement already satisfied: optlang~=1.5 in c:\\anaconda\\lib\\site-packages (from cobra>=0.5.0->escher) (1.7.0)\n",
      "Requirement already satisfied: pydantic>=1.6 in c:\\anaconda\\lib\\site-packages (from cobra>=0.5.0->escher) (2.4.0)\n",
      "Requirement already satisfied: python-libsbml~=5.19 in c:\\anaconda\\lib\\site-packages (from cobra>=0.5.0->escher) (5.20.2)\n",
      "Requirement already satisfied: rich>=8.0 in c:\\anaconda\\lib\\site-packages (from cobra>=0.5.0->escher) (13.5.3)\n",
      "Requirement already satisfied: ruamel.yaml~=0.16 in c:\\anaconda\\lib\\site-packages (from cobra>=0.5.0->escher) (0.17.21)\n",
      "Requirement already satisfied: swiglpk in c:\\anaconda\\lib\\site-packages (from cobra>=0.5.0->escher) (5.0.8)\n",
      "Requirement already satisfied: comm>=0.1.3 in c:\\anaconda\\lib\\site-packages (from ipywidgets<8,>=7.4.0->escher) (0.1.4)\n",
      "Requirement already satisfied: ipython-genutils~=0.2.0 in c:\\anaconda\\lib\\site-packages (from ipywidgets<8,>=7.4.0->escher) (0.2.0)\n",
      "Requirement already satisfied: traitlets>=4.3.1 in c:\\anaconda\\lib\\site-packages (from ipywidgets<8,>=7.4.0->escher) (5.7.1)\n",
      "Requirement already satisfied: widgetsnbextension~=3.6.6 in c:\\anaconda\\lib\\site-packages (from ipywidgets<8,>=7.4.0->escher) (3.6.6)\n",
      "Requirement already satisfied: ipython>=4.0.0 in c:\\anaconda\\lib\\site-packages (from ipywidgets<8,>=7.4.0->escher) (8.12.0)\n",
      "Requirement already satisfied: jupyterlab-widgets<3,>=1.0.0 in c:\\anaconda\\lib\\site-packages (from ipywidgets<8,>=7.4.0->escher) (1.1.7)\n",
      "Requirement already satisfied: MarkupSafe>=0.23 in c:\\anaconda\\lib\\site-packages (from Jinja2<3,>=2.7.3->escher) (2.0.1)\n",
      "Requirement already satisfied: attrs>=17.4.0 in c:\\anaconda\\lib\\site-packages (from jsonschema<4,>=3.0.1->escher) (22.1.0)\n",
      "Requirement already satisfied: pyrsistent>=0.14.0 in c:\\anaconda\\lib\\site-packages (from jsonschema<4,>=3.0.1->escher) (0.18.0)\n",
      "Requirement already satisfied: setuptools in c:\\anaconda\\lib\\site-packages (from jsonschema<4,>=3.0.1->escher) (68.0.0)\n",
      "Requirement already satisfied: six>=1.11.0 in c:\\anaconda\\lib\\site-packages (from jsonschema<4,>=3.0.1->escher) (1.16.0)\n",
      "Requirement already satisfied: python-dateutil>=2.8.1 in c:\\anaconda\\lib\\site-packages (from pandas>=0.18->escher) (2.8.2)\n",
      "Requirement already satisfied: pytz>=2020.1 in c:\\anaconda\\lib\\site-packages (from pandas>=0.18->escher) (2022.7)\n",
      "Requirement already satisfied: py>=1.5.0 in c:\\anaconda\\lib\\site-packages (from pytest<5,>=4.0.1->escher) (1.11.0)\n",
      "Requirement already satisfied: packaging in c:\\anaconda\\lib\\site-packages (from pytest<5,>=4.0.1->escher) (23.0)\n",
      "Requirement already satisfied: atomicwrites>=1.0 in c:\\anaconda\\lib\\site-packages (from pytest<5,>=4.0.1->escher) (1.4.0)\n",
      "Requirement already satisfied: pluggy<1.0,>=0.12 in c:\\anaconda\\lib\\site-packages (from pytest<5,>=4.0.1->escher) (0.13.1)\n",
      "Requirement already satisfied: wcwidth in c:\\anaconda\\lib\\site-packages (from pytest<5,>=4.0.1->escher) (0.2.5)\n",
      "Requirement already satisfied: more-itertools>=4.0.0 in c:\\anaconda\\lib\\site-packages (from pytest<5,>=4.0.1->escher) (8.12.0)\n",
      "Requirement already satisfied: colorama in c:\\anaconda\\lib\\site-packages (from pytest<5,>=4.0.1->escher) (0.4.6)\n",
      "Requirement already satisfied: certifi in c:\\anaconda\\lib\\site-packages (from httpx~=0.24->cobra>=0.5.0->escher) (2023.7.22)\n",
      "Requirement already satisfied: httpcore<0.19.0,>=0.18.0 in c:\\anaconda\\lib\\site-packages (from httpx~=0.24->cobra>=0.5.0->escher) (0.18.0)\n",
      "Requirement already satisfied: idna in c:\\anaconda\\lib\\site-packages (from httpx~=0.24->cobra>=0.5.0->escher) (3.4)\n",
      "Requirement already satisfied: sniffio in c:\\anaconda\\lib\\site-packages (from httpx~=0.24->cobra>=0.5.0->escher) (1.2.0)\n",
      "Requirement already satisfied: backcall in c:\\anaconda\\lib\\site-packages (from ipython>=4.0.0->ipywidgets<8,>=7.4.0->escher) (0.2.0)\n",
      "Requirement already satisfied: decorator in c:\\anaconda\\lib\\site-packages (from ipython>=4.0.0->ipywidgets<8,>=7.4.0->escher) (5.1.1)\n",
      "Requirement already satisfied: jedi>=0.16 in c:\\anaconda\\lib\\site-packages (from ipython>=4.0.0->ipywidgets<8,>=7.4.0->escher) (0.18.1)\n",
      "Requirement already satisfied: matplotlib-inline in c:\\anaconda\\lib\\site-packages (from ipython>=4.0.0->ipywidgets<8,>=7.4.0->escher) (0.1.6)\n",
      "Requirement already satisfied: pickleshare in c:\\anaconda\\lib\\site-packages (from ipython>=4.0.0->ipywidgets<8,>=7.4.0->escher) (0.7.5)\n",
      "Requirement already satisfied: prompt-toolkit!=3.0.37,<3.1.0,>=3.0.30 in c:\\anaconda\\lib\\site-packages (from ipython>=4.0.0->ipywidgets<8,>=7.4.0->escher) (3.0.36)\n",
      "Requirement already satisfied: pygments>=2.4.0 in c:\\anaconda\\lib\\site-packages (from ipython>=4.0.0->ipywidgets<8,>=7.4.0->escher) (2.15.1)\n",
      "Requirement already satisfied: stack-data in c:\\anaconda\\lib\\site-packages (from ipython>=4.0.0->ipywidgets<8,>=7.4.0->escher) (0.2.0)\n",
      "Requirement already satisfied: sympy>=1.12.0 in c:\\anaconda\\lib\\site-packages (from optlang~=1.5->cobra>=0.5.0->escher) (1.12)\n",
      "Requirement already satisfied: annotated-types>=0.4.0 in c:\\anaconda\\lib\\site-packages (from pydantic>=1.6->cobra>=0.5.0->escher) (0.5.0)\n",
      "Requirement already satisfied: pydantic-core==2.10.0 in c:\\anaconda\\lib\\site-packages (from pydantic>=1.6->cobra>=0.5.0->escher) (2.10.0)\n",
      "Requirement already satisfied: typing-extensions>=4.6.1 in c:\\anaconda\\lib\\site-packages (from pydantic>=1.6->cobra>=0.5.0->escher) (4.7.1)\n",
      "Requirement already satisfied: markdown-it-py>=2.2.0 in c:\\anaconda\\lib\\site-packages (from rich>=8.0->cobra>=0.5.0->escher) (2.2.0)\n",
      "Requirement already satisfied: notebook>=4.4.1 in c:\\anaconda\\lib\\site-packages (from widgetsnbextension~=3.6.6->ipywidgets<8,>=7.4.0->escher) (6.5.4)\n",
      "Requirement already satisfied: anyio<5.0,>=3.0 in c:\\anaconda\\lib\\site-packages (from httpcore<0.19.0,>=0.18.0->httpx~=0.24->cobra>=0.5.0->escher) (3.5.0)\n",
      "Requirement already satisfied: h11<0.15,>=0.13 in c:\\anaconda\\lib\\site-packages (from httpcore<0.19.0,>=0.18.0->httpx~=0.24->cobra>=0.5.0->escher) (0.14.0)\n",
      "Requirement already satisfied: parso<0.9.0,>=0.8.0 in c:\\anaconda\\lib\\site-packages (from jedi>=0.16->ipython>=4.0.0->ipywidgets<8,>=7.4.0->escher) (0.8.3)\n",
      "Requirement already satisfied: mdurl~=0.1 in c:\\anaconda\\lib\\site-packages (from markdown-it-py>=2.2.0->rich>=8.0->cobra>=0.5.0->escher) (0.1.0)\n",
      "Requirement already satisfied: tornado>=6.1 in c:\\anaconda\\lib\\site-packages (from notebook>=4.4.1->widgetsnbextension~=3.6.6->ipywidgets<8,>=7.4.0->escher) (6.3.2)\n",
      "Requirement already satisfied: pyzmq>=17 in c:\\anaconda\\lib\\site-packages (from notebook>=4.4.1->widgetsnbextension~=3.6.6->ipywidgets<8,>=7.4.0->escher) (23.2.0)\n",
      "Requirement already satisfied: argon2-cffi in c:\\anaconda\\lib\\site-packages (from notebook>=4.4.1->widgetsnbextension~=3.6.6->ipywidgets<8,>=7.4.0->escher) (21.3.0)\n",
      "Requirement already satisfied: jupyter-core>=4.6.1 in c:\\anaconda\\lib\\site-packages (from notebook>=4.4.1->widgetsnbextension~=3.6.6->ipywidgets<8,>=7.4.0->escher) (5.3.0)\n",
      "Requirement already satisfied: jupyter-client>=5.3.4 in c:\\anaconda\\lib\\site-packages (from notebook>=4.4.1->widgetsnbextension~=3.6.6->ipywidgets<8,>=7.4.0->escher) (7.4.9)\n",
      "Requirement already satisfied: nbformat in c:\\anaconda\\lib\\site-packages (from notebook>=4.4.1->widgetsnbextension~=3.6.6->ipywidgets<8,>=7.4.0->escher) (5.7.0)\n",
      "Requirement already satisfied: nbconvert>=5 in c:\\anaconda\\lib\\site-packages (from notebook>=4.4.1->widgetsnbextension~=3.6.6->ipywidgets<8,>=7.4.0->escher) (6.4.5)\n",
      "Requirement already satisfied: nest-asyncio>=1.5 in c:\\anaconda\\lib\\site-packages (from notebook>=4.4.1->widgetsnbextension~=3.6.6->ipywidgets<8,>=7.4.0->escher) (1.5.6)\n",
      "Requirement already satisfied: ipykernel in c:\\anaconda\\lib\\site-packages (from notebook>=4.4.1->widgetsnbextension~=3.6.6->ipywidgets<8,>=7.4.0->escher) (6.19.2)\n",
      "Requirement already satisfied: Send2Trash>=1.8.0 in c:\\anaconda\\lib\\site-packages (from notebook>=4.4.1->widgetsnbextension~=3.6.6->ipywidgets<8,>=7.4.0->escher) (1.8.0)\n",
      "Requirement already satisfied: terminado>=0.8.3 in c:\\anaconda\\lib\\site-packages (from notebook>=4.4.1->widgetsnbextension~=3.6.6->ipywidgets<8,>=7.4.0->escher) (0.17.1)\n",
      "Requirement already satisfied: prometheus-client in c:\\anaconda\\lib\\site-packages (from notebook>=4.4.1->widgetsnbextension~=3.6.6->ipywidgets<8,>=7.4.0->escher) (0.14.1)\n",
      "Requirement already satisfied: nbclassic>=0.4.7 in c:\\anaconda\\lib\\site-packages (from notebook>=4.4.1->widgetsnbextension~=3.6.6->ipywidgets<8,>=7.4.0->escher) (0.5.5)\n",
      "Requirement already satisfied: mpmath>=0.19 in c:\\anaconda\\lib\\site-packages (from sympy>=1.12.0->optlang~=1.5->cobra>=0.5.0->escher) (1.3.0)\n",
      "Requirement already satisfied: executing in c:\\anaconda\\lib\\site-packages (from stack-data->ipython>=4.0.0->ipywidgets<8,>=7.4.0->escher) (0.8.3)\n",
      "Requirement already satisfied: asttokens in c:\\anaconda\\lib\\site-packages (from stack-data->ipython>=4.0.0->ipywidgets<8,>=7.4.0->escher) (2.0.5)\n",
      "Requirement already satisfied: pure-eval in c:\\anaconda\\lib\\site-packages (from stack-data->ipython>=4.0.0->ipywidgets<8,>=7.4.0->escher) (0.2.2)\n",
      "Requirement already satisfied: entrypoints in c:\\anaconda\\lib\\site-packages (from jupyter-client>=5.3.4->notebook>=4.4.1->widgetsnbextension~=3.6.6->ipywidgets<8,>=7.4.0->escher) (0.4)\n",
      "Requirement already satisfied: platformdirs>=2.5 in c:\\anaconda\\lib\\site-packages (from jupyter-core>=4.6.1->notebook>=4.4.1->widgetsnbextension~=3.6.6->ipywidgets<8,>=7.4.0->escher) (2.5.2)\n",
      "Requirement already satisfied: pywin32>=300 in c:\\anaconda\\lib\\site-packages (from jupyter-core>=4.6.1->notebook>=4.4.1->widgetsnbextension~=3.6.6->ipywidgets<8,>=7.4.0->escher) (305.1)\n",
      "Requirement already satisfied: jupyter-server>=1.8 in c:\\anaconda\\lib\\site-packages (from nbclassic>=0.4.7->notebook>=4.4.1->widgetsnbextension~=3.6.6->ipywidgets<8,>=7.4.0->escher) (1.23.4)\n",
      "Requirement already satisfied: notebook-shim>=0.1.0 in c:\\anaconda\\lib\\site-packages (from nbclassic>=0.4.7->notebook>=4.4.1->widgetsnbextension~=3.6.6->ipywidgets<8,>=7.4.0->escher) (0.2.2)\n",
      "Requirement already satisfied: mistune<2,>=0.8.1 in c:\\anaconda\\lib\\site-packages (from nbconvert>=5->notebook>=4.4.1->widgetsnbextension~=3.6.6->ipywidgets<8,>=7.4.0->escher) (0.8.4)\n",
      "Requirement already satisfied: jupyterlab-pygments in c:\\anaconda\\lib\\site-packages (from nbconvert>=5->notebook>=4.4.1->widgetsnbextension~=3.6.6->ipywidgets<8,>=7.4.0->escher) (0.1.2)\n",
      "Requirement already satisfied: bleach in c:\\anaconda\\lib\\site-packages (from nbconvert>=5->notebook>=4.4.1->widgetsnbextension~=3.6.6->ipywidgets<8,>=7.4.0->escher) (4.1.0)\n",
      "Requirement already satisfied: pandocfilters>=1.4.1 in c:\\anaconda\\lib\\site-packages (from nbconvert>=5->notebook>=4.4.1->widgetsnbextension~=3.6.6->ipywidgets<8,>=7.4.0->escher) (1.5.0)\n",
      "Requirement already satisfied: testpath in c:\\anaconda\\lib\\site-packages (from nbconvert>=5->notebook>=4.4.1->widgetsnbextension~=3.6.6->ipywidgets<8,>=7.4.0->escher) (0.6.0)\n",
      "Requirement already satisfied: defusedxml in c:\\anaconda\\lib\\site-packages (from nbconvert>=5->notebook>=4.4.1->widgetsnbextension~=3.6.6->ipywidgets<8,>=7.4.0->escher) (0.7.1)\n",
      "Requirement already satisfied: beautifulsoup4 in c:\\anaconda\\lib\\site-packages (from nbconvert>=5->notebook>=4.4.1->widgetsnbextension~=3.6.6->ipywidgets<8,>=7.4.0->escher) (4.12.2)\n",
      "Requirement already satisfied: nbclient<0.6.0,>=0.5.0 in c:\\anaconda\\lib\\site-packages (from nbconvert>=5->notebook>=4.4.1->widgetsnbextension~=3.6.6->ipywidgets<8,>=7.4.0->escher) (0.5.13)\n",
      "Requirement already satisfied: fastjsonschema in c:\\anaconda\\lib\\site-packages (from nbformat->notebook>=4.4.1->widgetsnbextension~=3.6.6->ipywidgets<8,>=7.4.0->escher) (2.16.2)\n",
      "Requirement already satisfied: pywinpty>=1.1.0 in c:\\anaconda\\lib\\site-packages (from terminado>=0.8.3->notebook>=4.4.1->widgetsnbextension~=3.6.6->ipywidgets<8,>=7.4.0->escher) (2.0.10)\n",
      "Requirement already satisfied: argon2-cffi-bindings in c:\\anaconda\\lib\\site-packages (from argon2-cffi->notebook>=4.4.1->widgetsnbextension~=3.6.6->ipywidgets<8,>=7.4.0->escher) (21.2.0)\n",
      "Requirement already satisfied: debugpy>=1.0 in c:\\anaconda\\lib\\site-packages (from ipykernel->notebook>=4.4.1->widgetsnbextension~=3.6.6->ipywidgets<8,>=7.4.0->escher) (1.6.7)\n",
      "Requirement already satisfied: psutil in c:\\anaconda\\lib\\site-packages (from ipykernel->notebook>=4.4.1->widgetsnbextension~=3.6.6->ipywidgets<8,>=7.4.0->escher) (5.9.0)\n",
      "Requirement already satisfied: websocket-client in c:\\anaconda\\lib\\site-packages (from jupyter-server>=1.8->nbclassic>=0.4.7->notebook>=4.4.1->widgetsnbextension~=3.6.6->ipywidgets<8,>=7.4.0->escher) (0.58.0)\n",
      "Requirement already satisfied: cffi>=1.0.1 in c:\\anaconda\\lib\\site-packages (from argon2-cffi-bindings->argon2-cffi->notebook>=4.4.1->widgetsnbextension~=3.6.6->ipywidgets<8,>=7.4.0->escher) (1.15.1)\n",
      "Requirement already satisfied: soupsieve>1.2 in c:\\anaconda\\lib\\site-packages (from beautifulsoup4->nbconvert>=5->notebook>=4.4.1->widgetsnbextension~=3.6.6->ipywidgets<8,>=7.4.0->escher) (2.4)\n",
      "Requirement already satisfied: webencodings in c:\\anaconda\\lib\\site-packages (from bleach->nbconvert>=5->notebook>=4.4.1->widgetsnbextension~=3.6.6->ipywidgets<8,>=7.4.0->escher) (0.5.1)\n",
      "Requirement already satisfied: pycparser in c:\\anaconda\\lib\\site-packages (from cffi>=1.0.1->argon2-cffi-bindings->argon2-cffi->notebook>=4.4.1->widgetsnbextension~=3.6.6->ipywidgets<8,>=7.4.0->escher) (2.21)\n",
      "Requirement already satisfied: markupsafe==2.0.1 in c:\\anaconda\\lib\\site-packages (2.0.1)\n"
     ]
    }
   ],
   "source": [
    "# ! python -m pip install escher\n",
    "# ! python -m pip install markupsafe==2.0.1\n",
    "import escher"
   ]
  },
  {
   "cell_type": "markdown",
   "metadata": {},
   "source": [
    "You can watch the following [video](https://www.youtube.com/embed/qUipX-xzZjQ) to get an overview of Escher's functionality."
   ]
  },
  {
   "cell_type": "code",
   "execution_count": 4,
   "metadata": {},
   "outputs": [
    {
     "data": {
      "text/html": [
       "\n",
       "        <iframe\n",
       "            width=\"560\"\n",
       "            height=\"315\"\n",
       "            src=\"https://www.youtube.com/embed/qUipX-xzZjQ\"\n",
       "            frameborder=\"0\"\n",
       "            allowfullscreen\n",
       "            \n",
       "        ></iframe>\n",
       "        "
      ],
      "text/plain": [
       "<IPython.lib.display.IFrame at 0x7fd39e1398d0>"
      ]
     },
     "execution_count": 4,
     "metadata": {},
     "output_type": "execute_result"
    }
   ],
   "source": [
    "from IPython.display import IFrame\n",
    "IFrame(width=\"560\", height=\"315\", src=\"https://www.youtube.com/embed/qUipX-xzZjQ\")"
   ]
  },
  {
   "cell_type": "markdown",
   "metadata": {},
   "source": [
    "With the following you can display all available maps in escher (you can also load you're own which we are not going to cover here)."
   ]
  },
  {
   "cell_type": "code",
   "execution_count": 5,
   "metadata": {
    "scrolled": true
   },
   "outputs": [
    {
     "data": {
      "text/plain": [
       "[{'organism': 'Saccharomyces cerevisiae',\n",
       "  'map_name': 'iMM904.Central carbon metabolism'},\n",
       " {'organism': 'Homo sapiens',\n",
       "  'map_name': 'RECON1.Inositol retinol metabolism'},\n",
       " {'organism': 'Homo sapiens', 'map_name': 'RECON1.Glycolysis TCA PPP'},\n",
       " {'organism': 'Homo sapiens', 'map_name': 'RECON1.Tryptophan metabolism'},\n",
       " {'organism': 'Homo sapiens', 'map_name': 'RECON1.Carbohydrate metabolism'},\n",
       " {'organism': 'Homo sapiens',\n",
       "  'map_name': 'RECON1.Amino acid metabolism (partial)'},\n",
       " {'organism': 'Escherichia coli', 'map_name': 'iJO1366.Nucleotide metabolism'},\n",
       " {'organism': 'Escherichia coli',\n",
       "  'map_name': 'iJO1366.Fatty acid biosynthesis (saturated)'},\n",
       " {'organism': 'Escherichia coli',\n",
       "  'map_name': 'iJO1366.Nucleotide and histidine biosynthesis'},\n",
       " {'organism': 'Escherichia coli', 'map_name': 'e_coli_core.Core metabolism'},\n",
       " {'organism': 'Escherichia coli', 'map_name': 'iJO1366.Central metabolism'},\n",
       " {'organism': 'Escherichia coli',\n",
       "  'map_name': 'iJO1366.Fatty acid beta-oxidation'}]"
      ]
     },
     "execution_count": 5,
     "metadata": {},
     "output_type": "execute_result"
    }
   ],
   "source": [
    "escher.list_available_maps()"
   ]
  },
  {
   "cell_type": "markdown",
   "metadata": {},
   "source": [
    "Let's display the map that corresponds to the _E. coli_ core model."
   ]
  },
  {
   "cell_type": "code",
   "execution_count": 1,
   "metadata": {},
   "outputs": [
    {
     "ename": "NameError",
     "evalue": "name 'escher' is not defined",
     "output_type": "error",
     "traceback": [
      "\u001b[0;31m---------------------------------------------------------------------------\u001b[0m",
      "\u001b[0;31mNameError\u001b[0m                                 Traceback (most recent call last)",
      "\u001b[1;32m/media/igor/My Passport/CGSM_Sync/Ongoing_Events/2022-08_to_12-Master Course 27410 Computer-aided cell factory design - DTU/course-materials/session6-exercise/solution/application-of-GSM-reference_2023_2.ipynb Celda 97\u001b[0m line \u001b[0;36m1\n\u001b[0;32m----> <a href='vscode-notebook-cell:/media/igor/My%20Passport/CGSM_Sync/Ongoing_Events/2022-08_to_12-Master%20Course%2027410%20Computer-aided%20cell%20factory%20design%20-%20DTU/course-materials/session6-exercise/solution/application-of-GSM-reference_2023_2.ipynb#Y165sZmlsZQ%3D%3D?line=0'>1</a>\u001b[0m escher\u001b[39m.\u001b[39mBuilder(\u001b[39m'\u001b[39m\u001b[39me_coli_core.Core metabolism\u001b[39m\u001b[39m'\u001b[39m)\n",
      "\u001b[0;31mNameError\u001b[0m: name 'escher' is not defined"
     ]
    }
   ],
   "source": [
    "escher.Builder('e_coli_core.Core metabolism')"
   ]
  },
  {
   "cell_type": "markdown",
   "metadata": {},
   "source": [
    "Ok, now to the data visualization part. Escher can visualization gene, reaction, and metabolite-centric  data. Here an example of visualizing one flux and one metabolite concentration (Escher expect Python dictionaries as data input mapping data values to gene/reaction/metabolite identifiers)."
   ]
  },
  {
   "cell_type": "code",
   "execution_count": 7,
   "metadata": {},
   "outputs": [
    {
     "name": "stdout",
     "output_type": "stream",
     "text": [
      "Downloading Map from https://escher.github.io/1-0-0/6/maps/Escherichia%20coli/e_coli_core.Core%20metabolism.json\n"
     ]
    },
    {
     "data": {
      "application/vnd.jupyter.widget-view+json": {
       "model_id": "b512ae10d82844d0a27fab5bf0e072d7",
       "version_major": 2,
       "version_minor": 0
      },
      "text/plain": [
       "Builder(metabolite_data={'ATP': 20}, reaction_data={'PGK': 100})"
      ]
     },
     "metadata": {},
     "output_type": "display_data"
    }
   ],
   "source": [
    "escher.Builder('e_coli_core.Core metabolism',\n",
    "               reaction_data={'PGK': 100},\n",
    "               metabolite_data={'ATP': 20})"
   ]
  },
  {
   "cell_type": "markdown",
   "metadata": {},
   "source": [
    "***\n",
    "**A.**\n",
    "\n",
    "* Visualize the computed fluxes (see above `solution.fluxes`) on the central carbon metabolism map.\n",
    "\n",
    "Hints:\n",
    "* You can convert a pandas Series into a dictionary using the `.to_dict()` method."
   ]
  },
  {
   "cell_type": "code",
   "execution_count": null,
   "metadata": {},
   "outputs": [],
   "source": []
  },
  {
   "cell_type": "code",
   "execution_count": null,
   "metadata": {},
   "outputs": [],
   "source": [
    "escher.Builder('e_coli_core.Core metabolism',\n",
    "               reaction_data=solution.fluxes.to_dict())"
   ]
  },
  {
   "cell_type": "markdown",
   "metadata": {},
   "source": [
    "## Manipulating models"
   ]
  },
  {
   "cell_type": "markdown",
   "metadata": {},
   "source": [
    "### Making temporary changes to the model"
   ]
  },
  {
   "cell_type": "markdown",
   "metadata": {},
   "source": [
    "Usually one relies on making copies if objects need to be changed but the original state needs to be retained. Unfortunately, making copies of models is time consuming."
   ]
  },
  {
   "cell_type": "code",
   "execution_count": 47,
   "metadata": {},
   "outputs": [
    {
     "data": {
      "text/html": [
       "<strong><em>Optimal</em> solution with objective value 0.874</strong><br><div>\n",
       "<style scoped>\n",
       "    .dataframe tbody tr th:only-of-type {\n",
       "        vertical-align: middle;\n",
       "    }\n",
       "\n",
       "    .dataframe tbody tr th {\n",
       "        vertical-align: top;\n",
       "    }\n",
       "\n",
       "    .dataframe thead th {\n",
       "        text-align: right;\n",
       "    }\n",
       "</style>\n",
       "<table border=\"1\" class=\"dataframe\">\n",
       "  <thead>\n",
       "    <tr style=\"text-align: right;\">\n",
       "      <th></th>\n",
       "      <th>fluxes</th>\n",
       "      <th>reduced_costs</th>\n",
       "    </tr>\n",
       "  </thead>\n",
       "  <tbody>\n",
       "    <tr>\n",
       "      <th>ACALD</th>\n",
       "      <td>0.000000</td>\n",
       "      <td>0.000000e+00</td>\n",
       "    </tr>\n",
       "    <tr>\n",
       "      <th>ACALDt</th>\n",
       "      <td>0.000000</td>\n",
       "      <td>0.000000e+00</td>\n",
       "    </tr>\n",
       "    <tr>\n",
       "      <th>ACKr</th>\n",
       "      <td>0.000000</td>\n",
       "      <td>-0.000000e+00</td>\n",
       "    </tr>\n",
       "    <tr>\n",
       "      <th>ACONTa</th>\n",
       "      <td>6.007250</td>\n",
       "      <td>0.000000e+00</td>\n",
       "    </tr>\n",
       "    <tr>\n",
       "      <th>ACONTb</th>\n",
       "      <td>6.007250</td>\n",
       "      <td>0.000000e+00</td>\n",
       "    </tr>\n",
       "    <tr>\n",
       "      <th>...</th>\n",
       "      <td>...</td>\n",
       "      <td>...</td>\n",
       "    </tr>\n",
       "    <tr>\n",
       "      <th>TALA</th>\n",
       "      <td>1.496984</td>\n",
       "      <td>-3.173170e-17</td>\n",
       "    </tr>\n",
       "    <tr>\n",
       "      <th>THD2</th>\n",
       "      <td>0.000000</td>\n",
       "      <td>-2.546243e-03</td>\n",
       "    </tr>\n",
       "    <tr>\n",
       "      <th>TKT1</th>\n",
       "      <td>1.496984</td>\n",
       "      <td>2.552371e-17</td>\n",
       "    </tr>\n",
       "    <tr>\n",
       "      <th>TKT2</th>\n",
       "      <td>1.181498</td>\n",
       "      <td>3.173170e-17</td>\n",
       "    </tr>\n",
       "    <tr>\n",
       "      <th>TPI</th>\n",
       "      <td>7.477382</td>\n",
       "      <td>0.000000e+00</td>\n",
       "    </tr>\n",
       "  </tbody>\n",
       "</table>\n",
       "<p>95 rows × 2 columns</p>\n",
       "</div>"
      ],
      "text/plain": [
       "<Solution 0.874 at 0x7f6cda2e91b0>"
      ]
     },
     "execution_count": 47,
     "metadata": {},
     "output_type": "execute_result"
    }
   ],
   "source": [
    "model.optimize()"
   ]
  },
  {
   "cell_type": "code",
   "execution_count": 48,
   "metadata": {},
   "outputs": [
    {
     "name": "stdout",
     "output_type": "stream",
     "text": [
      "CPU times: user 16.7 ms, sys: 201 µs, total: 16.9 ms\n",
      "Wall time: 16.5 ms\n"
     ]
    }
   ],
   "source": [
    "%%time\n",
    "copy_of_model = model.copy()"
   ]
  },
  {
   "cell_type": "markdown",
   "metadata": {},
   "source": [
    "Yes, even milliseconds add up pretty quickly if you need to run many simulations (e.g. if you need to knock out every single gene individually in the model to check if it is essential or not)."
   ]
  },
  {
   "cell_type": "code",
   "execution_count": 49,
   "metadata": {},
   "outputs": [
    {
     "name": "stdout",
     "output_type": "stream",
     "text": [
      "CPU times: user 2.34 s, sys: 31.3 ms, total: 2.37 s\n",
      "Wall time: 2.37 s\n"
     ]
    }
   ],
   "source": [
    "%%time\n",
    "for gene in model.genes:\n",
    "    mutant = model.copy()\n",
    "    mutant.genes.get_by_id(gene.id).knock_out()"
   ]
  },
  {
   "cell_type": "markdown",
   "metadata": {},
   "source": [
    "For that reason cobrapy provides a mechanism that is less time consuming. Almost all methods that make changes to the model such as knocking-out genes, reactions, adding or removing metabolites, reactions etc can be automatically reverted upon exit from a python context. How this works is probably best understood by looking at an example."
   ]
  },
  {
   "cell_type": "code",
   "execution_count": 50,
   "metadata": {},
   "outputs": [
    {
     "name": "stdout",
     "output_type": "stream",
     "text": [
      "CPU times: user 1.88 ms, sys: 299 µs, total: 2.18 ms\n",
      "Wall time: 2.18 ms\n"
     ]
    }
   ],
   "source": [
    "%%time\n",
    "with model:\n",
    "    for gene in model.genes:\n",
    "        gene.knock_out()"
   ]
  },
  {
   "cell_type": "markdown",
   "metadata": {},
   "source": [
    "Here, the `with model` statements starts the context and changes done to the model one indentation level to the right, are automatically recorded. When that block finishes, the context manager is requested to roll-back all changes leaving the model looking exactly as it did before all the changes."
   ]
  },
  {
   "cell_type": "markdown",
   "metadata": {},
   "source": [
    "Changing flux bounds can as indicated also be done reversibly. For example let's set the lower and upper bound of phosphoglycerate kinase to 0 (effectively knocking out the reaction)."
   ]
  },
  {
   "cell_type": "code",
   "execution_count": 51,
   "metadata": {},
   "outputs": [
    {
     "name": "stdout",
     "output_type": "stream",
     "text": [
      "PGK's bounds inside the with statement\n",
      "0 (0, 0)\n",
      "Mutant growth rate:  1.0525207219950656e-15\n",
      "PGK's bounds outside the with statement\n",
      "(-1000.0, 1000.0)\n"
     ]
    }
   ],
   "source": [
    "with model:\n",
    "    model.reactions.PGK.bounds = 0, 0\n",
    "    print(\"PGK's bounds inside the with statement\")\n",
    "    print(model.reactions.PGK.lower_bound, model.reactions.PGK.bounds)\n",
    "    print('Mutant growth rate: ', model.optimize().objective_value)\n",
    "print(\"PGK's bounds outside the with statement\")\n",
    "print(model.reactions.PGK.bounds)"
   ]
  },
  {
   "cell_type": "markdown",
   "metadata": {},
   "source": [
    "### Slim versus full optimize"
   ]
  },
  {
   "cell_type": "markdown",
   "metadata": {},
   "source": [
    "Mathematical solvers are now so fast that for many small to mid-size models computing the solution can be even faster than it takes us to collect the values from the solver and convert that to objects that are usable for in python. When we use `model.optimize` we gather values for all reactions and metabolites and that can take some time. If we are only interested in the flux value of a single reaction or the objective, it is faster to instead use `model.slim_optimize` which only does the optimization and returns the objective value leaving it up to you to fetch other values that you may need. For example, let's optimize and get the flux value of the `ATPM` reaction."
   ]
  },
  {
   "cell_type": "code",
   "execution_count": 52,
   "metadata": {},
   "outputs": [
    {
     "name": "stdout",
     "output_type": "stream",
     "text": [
      "CPU times: user 1.1 ms, sys: 0 ns, total: 1.1 ms\n",
      "Wall time: 1.1 ms\n"
     ]
    },
    {
     "data": {
      "text/plain": [
       "8.39"
      ]
     },
     "execution_count": 52,
     "metadata": {},
     "output_type": "execute_result"
    }
   ],
   "source": [
    "%%time\n",
    "solution = model.optimize()\n",
    "solution.fluxes['ATPM']"
   ]
  },
  {
   "cell_type": "code",
   "execution_count": 53,
   "metadata": {},
   "outputs": [
    {
     "name": "stdout",
     "output_type": "stream",
     "text": [
      "CPU times: user 182 µs, sys: 42 µs, total: 224 µs\n",
      "Wall time: 225 µs\n"
     ]
    },
    {
     "data": {
      "text/plain": [
       "8.39"
      ]
     },
     "execution_count": 53,
     "metadata": {},
     "output_type": "execute_result"
    }
   ],
   "source": [
    "%%time\n",
    "model.slim_optimize()\n",
    "model.reactions.ATPM.flux"
   ]
  },
  {
   "cell_type": "markdown",
   "metadata": {},
   "source": [
    "Again, the difference may seem small but when done thousands of times these small differences can start to become significant."
   ]
  },
  {
   "cell_type": "markdown",
   "metadata": {},
   "source": [
    "### Changing the objective function"
   ]
  },
  {
   "cell_type": "markdown",
   "metadata": {},
   "source": [
    "You can change the objective function like this (e.g. if you'd like to determine the maximum possible production rate of acetate)."
   ]
  },
  {
   "cell_type": "code",
   "execution_count": 54,
   "metadata": {},
   "outputs": [
    {
     "name": "stdout",
     "output_type": "stream",
     "text": [
      "20.000000000000004\n"
     ]
    }
   ],
   "source": [
    "with model:\n",
    "    model.objective = model.reactions.EX_ac_e\n",
    "    print(model.optimize().objective_value)"
   ]
  },
  {
   "cell_type": "markdown",
   "metadata": {},
   "source": [
    "### Changing the medium"
   ]
  },
  {
   "cell_type": "markdown",
   "metadata": {},
   "source": [
    "One can access the medium condition using `model.medium`. The indicated bound is the effective upper uptake bound. "
   ]
  },
  {
   "cell_type": "code",
   "execution_count": 55,
   "metadata": {},
   "outputs": [
    {
     "data": {
      "text/plain": [
       "{'EX_co2_e': 1000.0,\n",
       " 'EX_glc__D_e': 10.0,\n",
       " 'EX_h_e': 1000.0,\n",
       " 'EX_h2o_e': 1000.0,\n",
       " 'EX_nh4_e': 1000.0,\n",
       " 'EX_o2_e': 1000.0,\n",
       " 'EX_pi_e': 1000.0}"
      ]
     },
     "execution_count": 55,
     "metadata": {},
     "output_type": "execute_result"
    }
   ],
   "source": [
    "model.medium"
   ]
  },
  {
   "cell_type": "markdown",
   "metadata": {},
   "source": [
    "Changing the carbon source in the medium can be achieved by adjusting the flux bounds of the respective exchange reactions appropriately. For example, the following code block removes glucose from the medium and adds succinate."
   ]
  },
  {
   "cell_type": "code",
   "execution_count": 56,
   "metadata": {},
   "outputs": [
    {
     "name": "stdout",
     "output_type": "stream",
     "text": [
      "0.39756301542776235\n"
     ]
    }
   ],
   "source": [
    "medium = model.medium\n",
    "with model:\n",
    "    medium['EX_glc__D_e'] = 0\n",
    "    medium['EX_succ_e'] = 10\n",
    "    model.medium = medium\n",
    "    solution = model.optimize()\n",
    "    print(solution.fluxes['BIOMASS_Ecoli_core_w_GAM'])"
   ]
  },
  {
   "cell_type": "markdown",
   "metadata": {},
   "source": [
    "Changing the carbon source to succinate led to a significant drop in growth rate."
   ]
  },
  {
   "cell_type": "markdown",
   "metadata": {},
   "source": [
    "***\n",
    "**B.**\n",
    "\n",
    "* Change the carbon source in the medium to a different carbon source. What is the difference in the growth rate observed?\n",
    "* How about growing E. coli under anaerobic conditions?\n",
    "* Now that you know how to compute the maximum production rate of a compound and you know how to manipulate the medium, calculate the theoretical maximum yield of succinate.\n",
    "\n",
    "Hints:\n",
    "* Remember that you can use model.reactions.query to find specific metabolites and reactions etc.\n",
    "* You can use `model.exchanges` to get an overview of available exchange reactions"
   ]
  },
  {
   "cell_type": "code",
   "execution_count": null,
   "metadata": {},
   "outputs": [],
   "source": []
  },
  {
   "cell_type": "markdown",
   "metadata": {},
   "source": [
    "## Phenotype predictions"
   ]
  },
  {
   "cell_type": "markdown",
   "metadata": {},
   "source": [
    "### Gene deletions and gene essentiality"
   ]
  },
  {
   "cell_type": "markdown",
   "metadata": {},
   "source": [
    "#### Knocking out a single gene"
   ]
  },
  {
   "cell_type": "markdown",
   "metadata": {},
   "source": [
    "In the model, exactly one gene is associated with reaction with [phosphoglycerate kinase](http://bigg.ucsd.edu/universal/reactions/PGK) (PGK)."
   ]
  },
  {
   "cell_type": "code",
   "execution_count": 72,
   "metadata": {},
   "outputs": [
    {
     "data": {
      "text/plain": [
       "frozenset({<Gene b2926 at 0x7fce393831c0>})"
      ]
     },
     "execution_count": 72,
     "metadata": {},
     "output_type": "execute_result"
    }
   ],
   "source": [
    "model.reactions.PGK.genes"
   ]
  },
  {
   "cell_type": "markdown",
   "metadata": {},
   "source": [
    "Checking the name of this gene in the model (the id is the Blattner number b2926), reveals that it is indeed [pgk](http://ecocyc.org/gene?orgid=ECOLI&id=EG10703)."
   ]
  },
  {
   "cell_type": "code",
   "execution_count": 73,
   "metadata": {},
   "outputs": [
    {
     "data": {
      "text/plain": [
       "'pgk'"
      ]
     },
     "execution_count": 73,
     "metadata": {},
     "output_type": "execute_result"
    }
   ],
   "source": [
    "model.genes.b2926.name"
   ]
  },
  {
   "cell_type": "markdown",
   "metadata": {},
   "source": [
    "Is [pgk](http://ecocyc.org/gene?orgid=ECOLI&id=EG10703) essential? Let's find out."
   ]
  },
  {
   "cell_type": "code",
   "execution_count": null,
   "metadata": {},
   "outputs": [],
   "source": []
  },
  {
   "cell_type": "markdown",
   "metadata": {},
   "source": []
  },
  {
   "cell_type": "markdown",
   "metadata": {},
   "source": [
    "#### Perform all possible single gene deletions"
   ]
  },
  {
   "cell_type": "markdown",
   "metadata": {},
   "source": [
    "Using a `for` loop allows to iterate over all genes in the model and knock out each one of them individually. We're using the model as a context to undo every gene deletion before proceeding to the next knockout."
   ]
  },
  {
   "cell_type": "code",
   "execution_count": 75,
   "metadata": {},
   "outputs": [],
   "source": [
    "essentiality = {}\n",
    "for gene in model.genes:\n",
    "    with model:\n",
    "        gene.knock_out()\n",
    "        essentiality[gene] = model.slim_optimize(error_value=0.)"
   ]
  },
  {
   "cell_type": "code",
   "execution_count": 76,
   "metadata": {},
   "outputs": [
    {
     "data": {
      "text/plain": [
       "{<Gene b0351 at 0x7fce39381e10>: 0.8739215069684307,\n",
       " <Gene b1241 at 0x7fce39381d50>: 0.873921506968431,\n",
       " <Gene s0001 at 0x7fce39381d80>: 0.21114065257211526,\n",
       " <Gene b1849 at 0x7fce39381db0>: 0.8739215069684305,\n",
       " <Gene b3115 at 0x7fce39381f60>: 0.8739215069684302,\n",
       " <Gene b2296 at 0x7fce39381d20>: 0.8739215069684302,\n",
       " <Gene b1276 at 0x7fce39381cc0>: 0.8739215069684302,\n",
       " <Gene b0118 at 0x7fce39382020>: 0.8739215069684302,\n",
       " <Gene b0474 at 0x7fce39381ed0>: 0.8739215069684302,\n",
       " <Gene b0116 at 0x7fce39381f00>: 0.782351052947739,\n",
       " <Gene b0726 at 0x7fce39381de0>: 0.8583074080226885,\n",
       " <Gene b0727 at 0x7fce39381e70>: 0.8583074080226885,\n",
       " <Gene b2587 at 0x7fce39381f90>: 0.873921506968431,\n",
       " <Gene b0356 at 0x7fce39381ff0>: 0.8739215069684302,\n",
       " <Gene b1478 at 0x7fce39381fc0>: 0.8739215069684302,\n",
       " <Gene b3731 at 0x7fce39382050>: 0.3742298749331115,\n",
       " <Gene b3733 at 0x7fce39382080>: 0.37422987493310994,\n",
       " <Gene b3735 at 0x7fce393820b0>: 0.37422987493310994,\n",
       " <Gene b3739 at 0x7fce393820e0>: 0.8739215069684306,\n",
       " <Gene b3732 at 0x7fce39382110>: 0.3742298749331091,\n",
       " <Gene b3737 at 0x7fce39382140>: 0.3742298749331098,\n",
       " <Gene b3736 at 0x7fce39382170>: 0.3742298749331098,\n",
       " <Gene b3738 at 0x7fce393821a0>: 0.3742298749331098,\n",
       " <Gene b3734 at 0x7fce393821d0>: 0.3742298749331098,\n",
       " <Gene b0720 at 0x7fce39382200>: 0.0,\n",
       " <Gene b0979 at 0x7fce39382230>: 0.8739215069684303,\n",
       " <Gene b0978 at 0x7fce39382260>: 0.8739215069684302,\n",
       " <Gene b0733 at 0x7fce39382290>: 0.8739215069684302,\n",
       " <Gene b0734 at 0x7fce393822c0>: 0.8739215069684302,\n",
       " <Gene b2975 at 0x7fce393822f0>: 0.8739215069684302,\n",
       " <Gene b3603 at 0x7fce39382320>: 0.8739215069684302,\n",
       " <Gene b2779 at 0x7fce39382350>: -1.2304009398737878e-15,\n",
       " <Gene b2925 at 0x7fce39382380>: 0.8739215069684306,\n",
       " <Gene b1773 at 0x7fce393823b0>: 0.8739215069684302,\n",
       " <Gene b2097 at 0x7fce393823e0>: 0.8739215069684302,\n",
       " <Gene b3925 at 0x7fce39382410>: 0.8739215069684302,\n",
       " <Gene b4232 at 0x7fce39382440>: 0.8739215069684302,\n",
       " <Gene b0904 at 0x7fce39382470>: 0.8739215069684302,\n",
       " <Gene b2492 at 0x7fce393824a0>: 0.8739215069684302,\n",
       " <Gene b4151 at 0x7fce393824d0>: 0.8739215069684302,\n",
       " <Gene b4154 at 0x7fce39382500>: 0.8739215069684302,\n",
       " <Gene b4152 at 0x7fce39382530>: 0.8739215069684302,\n",
       " <Gene b4153 at 0x7fce39382560>: 0.8739215069684302,\n",
       " <Gene b1817 at 0x7fce39382590>: 0.8739215069684302,\n",
       " <Gene b2415 at 0x7fce393825c0>: 0.0,\n",
       " <Gene b1818 at 0x7fce393825f0>: 0.8739215069684303,\n",
       " <Gene b1819 at 0x7fce39382620>: 0.8739215069684302,\n",
       " <Gene b2416 at 0x7fce39382650>: 0.0,\n",
       " <Gene b4122 at 0x7fce39382680>: 0.8739215069684303,\n",
       " <Gene b1612 at 0x7fce393826b0>: 0.8739215069684302,\n",
       " <Gene b1611 at 0x7fce393826e0>: 0.8739215069684302,\n",
       " <Gene b3528 at 0x7fce39382710>: 0.8739215069684302,\n",
       " <Gene b1852 at 0x7fce39382740>: 0.8638133095040005,\n",
       " <Gene b1779 at 0x7fce39382770>: 1.572664200119633e-17,\n",
       " <Gene b1101 at 0x7fce393827a0>: 0.8739215069684295,\n",
       " <Gene b1621 at 0x7fce393827d0>: 0.8739215069684302,\n",
       " <Gene b2417 at 0x7fce39382800>: 0.8739215069684302,\n",
       " <Gene b3870 at 0x7fce39382830>: 0.8739215069684302,\n",
       " <Gene b1297 at 0x7fce39382860>: 0.8739215069684302,\n",
       " <Gene b0810 at 0x7fce39382890>: 0.8739215069684302,\n",
       " <Gene b0809 at 0x7fce393828c0>: 0.8739215069684302,\n",
       " <Gene b0811 at 0x7fce393828f0>: 0.8739215069684302,\n",
       " <Gene b1761 at 0x7fce39382920>: 0.8513885233462083,\n",
       " <Gene b1524 at 0x7fce39382950>: 0.8739215069684307,\n",
       " <Gene b1812 at 0x7fce39382980>: 0.8739215069684302,\n",
       " <Gene b0485 at 0x7fce393829b0>: 0.8739215069684302,\n",
       " <Gene b3213 at 0x7fce393829e0>: 0.8739215069684302,\n",
       " <Gene b3212 at 0x7fce39382a10>: 0.8739215069684302,\n",
       " <Gene b4077 at 0x7fce39382a40>: 0.8739215069684302,\n",
       " <Gene b2029 at 0x7fce39382a70>: 0.8638133095040005,\n",
       " <Gene b0875 at 0x7fce39382aa0>: 0.8739215069684306,\n",
       " <Gene b1136 at 0x7fce39382ad0>: -4.519055158831069e-15,\n",
       " <Gene b4015 at 0x7fce39382b00>: 0.8739215069684305,\n",
       " <Gene b2133 at 0x7fce39382b30>: 0.8739215069684302,\n",
       " <Gene b1380 at 0x7fce39382b60>: 0.8739215069684302,\n",
       " <Gene b4014 at 0x7fce39382b90>: 0.8739215069684302,\n",
       " <Gene b2976 at 0x7fce39382bc0>: 0.8739215069684302,\n",
       " <Gene b3236 at 0x7fce39382bf0>: 0.8258192905969889,\n",
       " <Gene b1479 at 0x7fce39382c20>: 0.8739215069684303,\n",
       " <Gene b2463 at 0x7fce39382c50>: 0.8739215069684302,\n",
       " <Gene b2279 at 0x7fce39382c80>: 0.21166294973531058,\n",
       " <Gene b2282 at 0x7fce39382cb0>: 0.21166294973531088,\n",
       " <Gene b2284 at 0x7fce39382ce0>: 0.21166294973531088,\n",
       " <Gene b2287 at 0x7fce39382d10>: 0.21166294973531088,\n",
       " <Gene b2276 at 0x7fce39382d40>: 0.21166294973531088,\n",
       " <Gene b2278 at 0x7fce39382d70>: 0.21166294973531088,\n",
       " <Gene b2288 at 0x7fce39382da0>: 0.21166294973531088,\n",
       " <Gene b2285 at 0x7fce39382dd0>: 0.21166294973531088,\n",
       " <Gene b2280 at 0x7fce39382e00>: 0.21166294973531088,\n",
       " <Gene b2281 at 0x7fce39382e30>: 0.21166294973531088,\n",
       " <Gene b2283 at 0x7fce39382e60>: 0.21166294973531088,\n",
       " <Gene b2286 at 0x7fce39382e90>: 0.21166294973531088,\n",
       " <Gene b2277 at 0x7fce39382ec0>: 0.21166294973531088,\n",
       " <Gene b1602 at 0x7fce39382ef0>: 0.8739215069684145,\n",
       " <Gene b3962 at 0x7fce39382f20>: 0.8739215069684302,\n",
       " <Gene b1603 at 0x7fce39382f50>: 0.8739215069684302,\n",
       " <Gene b0451 at 0x7fce39382f80>: 0.8739215069684302,\n",
       " <Gene b0114 at 0x7fce39382fb0>: 0.7966959254309561,\n",
       " <Gene b0115 at 0x7fce39382fe0>: 0.7966959254309565,\n",
       " <Gene b3916 at 0x7fce39383010>: 0.8739215069684303,\n",
       " <Gene b1723 at 0x7fce39383040>: 0.8739215069684302,\n",
       " <Gene b3114 at 0x7fce39383070>: 0.8739215069684302,\n",
       " <Gene b3951 at 0x7fce393830a0>: 0.8739215069684302,\n",
       " <Gene b0902 at 0x7fce393830d0>: 0.8739215069684302,\n",
       " <Gene b2579 at 0x7fce39383100>: 0.8739215069684302,\n",
       " <Gene b0903 at 0x7fce39383130>: 0.8739215069684302,\n",
       " <Gene b3952 at 0x7fce39383160>: 0.8739215069684302,\n",
       " <Gene b4025 at 0x7fce39383190>: 0.8631595522084177,\n",
       " <Gene b2926 at 0x7fce393831c0>: -2.8590775806809266e-16,\n",
       " <Gene b0767 at 0x7fce393831f0>: 0.8638133095040008,\n",
       " <Gene b3612 at 0x7fce39383220>: 0.8739215069684306,\n",
       " <Gene b4395 at 0x7fce39383250>: 0.8739215069684302,\n",
       " <Gene b0755 at 0x7fce39383280>: 0.8739215069684302,\n",
       " <Gene b2987 at 0x7fce393832b0>: 0.8739215069684302,\n",
       " <Gene b3493 at 0x7fce393832e0>: 0.8739215069684302,\n",
       " <Gene b3956 at 0x7fce39383310>: 0.8707448062160245,\n",
       " <Gene b3403 at 0x7fce39383340>: 0.8739215069684302,\n",
       " <Gene b1702 at 0x7fce39383370>: 0.8739215069684302,\n",
       " <Gene b2297 at 0x7fce393833a0>: 0.8739215069684302,\n",
       " <Gene b2458 at 0x7fce393833d0>: 0.8739215069684302,\n",
       " <Gene b1676 at 0x7fce39383400>: 0.8739215069684302,\n",
       " <Gene b1854 at 0x7fce39383430>: 0.8739215069684302,\n",
       " <Gene b4301 at 0x7fce39383460>: 0.8739215069684302,\n",
       " <Gene b3386 at 0x7fce39383490>: 0.8739215069684302,\n",
       " <Gene b2914 at 0x7fce393834c0>: 0.8739215069684302,\n",
       " <Gene b4090 at 0x7fce393834f0>: 0.8739215069684302,\n",
       " <Gene b0722 at 0x7fce39383520>: 0.8142975075325298,\n",
       " <Gene b0724 at 0x7fce39383550>: 0.8142975075325304,\n",
       " <Gene b0723 at 0x7fce39383580>: 0.8142975075325304,\n",
       " <Gene b0721 at 0x7fce393835b0>: 0.8142975075325304,\n",
       " <Gene b0729 at 0x7fce393835e0>: 0.8583074080226888,\n",
       " <Gene b0728 at 0x7fce39383610>: 0.8583074080226885,\n",
       " <Gene b0008 at 0x7fce39383640>: 0.8739215069684303,\n",
       " <Gene b2464 at 0x7fce39383670>: 0.8739215069684302,\n",
       " <Gene b2935 at 0x7fce393836a0>: 0.8739215069684302,\n",
       " <Gene b2465 at 0x7fce393836d0>: 0.8739215069684302,\n",
       " <Gene b3919 at 0x7fce39383700>: 0.7040369478590227}"
      ]
     },
     "execution_count": 76,
     "metadata": {},
     "output_type": "execute_result"
    }
   ],
   "source": [
    "essentiality"
   ]
  },
  {
   "cell_type": "code",
   "execution_count": 77,
   "metadata": {
    "scrolled": true
   },
   "outputs": [],
   "source": [
    "df = pd.DataFrame.from_dict(essentiality, orient='index')\n",
    "df = df.rename(columns={0: 'growth'})\n",
    "df = df.sort_values('growth')"
   ]
  },
  {
   "cell_type": "code",
   "execution_count": 78,
   "metadata": {},
   "outputs": [
    {
     "data": {
      "text/plain": [
       "<AxesSubplot: ylabel='Frequency'>"
      ]
     },
     "execution_count": 78,
     "metadata": {},
     "output_type": "execute_result"
    },
    {
     "data": {
      "image/png": "[encoded data removed]",
      "text/plain": [
       "<Figure size 800x550 with 1 Axes>"
      ]
     },
     "metadata": {},
     "output_type": "display_data"
    }
   ],
   "source": [
    "df.plot.hist()"
   ]
  },
  {
   "cell_type": "code",
   "execution_count": 79,
   "metadata": {},
   "outputs": [
    {
     "data": {
      "image/png": "[encoded data removed]",
      "text/plain": [
       "<Figure size 2000x900 with 1 Axes>"
      ]
     },
     "metadata": {},
     "output_type": "display_data"
    }
   ],
   "source": [
    "ax = df.plot.bar().axes\n",
    "ax.figure.set_size_inches(20, 9)"
   ]
  },
  {
   "cell_type": "markdown",
   "metadata": {},
   "source": [
    "## Phenotypic phase plane analysis"
   ]
  },
  {
   "cell_type": "code",
   "execution_count": 80,
   "metadata": {},
   "outputs": [],
   "source": [
    "from cobra.flux_analysis.phenotype_phase_plane import production_envelope"
   ]
  },
  {
   "cell_type": "code",
   "execution_count": 81,
   "metadata": {},
   "outputs": [],
   "source": [
    "ppp_succ = production_envelope(model,\n",
    "                    reactions=[model.reactions.EX_glc__D_e],\n",
    "                    objective=model.reactions.BIOMASS_Ecoli_core_w_GAM)"
   ]
  },
  {
   "cell_type": "code",
   "execution_count": 82,
   "metadata": {},
   "outputs": [
    {
     "data": {
      "text/html": [
       "<div>\n",
       "<style scoped>\n",
       "    .dataframe tbody tr th:only-of-type {\n",
       "        vertical-align: middle;\n",
       "    }\n",
       "\n",
       "    .dataframe tbody tr th {\n",
       "        vertical-align: top;\n",
       "    }\n",
       "\n",
       "    .dataframe thead th {\n",
       "        text-align: right;\n",
       "    }\n",
       "</style>\n",
       "<table border=\"1\" class=\"dataframe\">\n",
       "  <thead>\n",
       "    <tr style=\"text-align: right;\">\n",
       "      <th></th>\n",
       "      <th>carbon_source</th>\n",
       "      <th>flux_minimum</th>\n",
       "      <th>carbon_yield_minimum</th>\n",
       "      <th>mass_yield_minimum</th>\n",
       "      <th>flux_maximum</th>\n",
       "      <th>carbon_yield_maximum</th>\n",
       "      <th>mass_yield_maximum</th>\n",
       "      <th>EX_glc__D_e</th>\n",
       "    </tr>\n",
       "  </thead>\n",
       "  <tbody>\n",
       "    <tr>\n",
       "      <th>0</th>\n",
       "      <td>EX_glc__D_e</td>\n",
       "      <td>0.0</td>\n",
       "      <td>0.0</td>\n",
       "      <td>NaN</td>\n",
       "      <td>0.873922</td>\n",
       "      <td>1.584745e+01</td>\n",
       "      <td>NaN</td>\n",
       "      <td>-10.000000</td>\n",
       "    </tr>\n",
       "    <tr>\n",
       "      <th>1</th>\n",
       "      <td>EX_glc__D_e</td>\n",
       "      <td>0.0</td>\n",
       "      <td>0.0</td>\n",
       "      <td>NaN</td>\n",
       "      <td>0.827990</td>\n",
       "      <td>1.580658e+01</td>\n",
       "      <td>NaN</td>\n",
       "      <td>-9.498917</td>\n",
       "    </tr>\n",
       "    <tr>\n",
       "      <th>2</th>\n",
       "      <td>EX_glc__D_e</td>\n",
       "      <td>0.0</td>\n",
       "      <td>0.0</td>\n",
       "      <td>NaN</td>\n",
       "      <td>0.782058</td>\n",
       "      <td>1.576115e+01</td>\n",
       "      <td>NaN</td>\n",
       "      <td>-8.997835</td>\n",
       "    </tr>\n",
       "    <tr>\n",
       "      <th>3</th>\n",
       "      <td>EX_glc__D_e</td>\n",
       "      <td>0.0</td>\n",
       "      <td>0.0</td>\n",
       "      <td>NaN</td>\n",
       "      <td>0.736127</td>\n",
       "      <td>1.571037e+01</td>\n",
       "      <td>NaN</td>\n",
       "      <td>-8.496752</td>\n",
       "    </tr>\n",
       "    <tr>\n",
       "      <th>4</th>\n",
       "      <td>EX_glc__D_e</td>\n",
       "      <td>0.0</td>\n",
       "      <td>0.0</td>\n",
       "      <td>NaN</td>\n",
       "      <td>0.690195</td>\n",
       "      <td>1.565323e+01</td>\n",
       "      <td>NaN</td>\n",
       "      <td>-7.995669</td>\n",
       "    </tr>\n",
       "    <tr>\n",
       "      <th>5</th>\n",
       "      <td>EX_glc__D_e</td>\n",
       "      <td>0.0</td>\n",
       "      <td>0.0</td>\n",
       "      <td>NaN</td>\n",
       "      <td>0.644263</td>\n",
       "      <td>1.558844e+01</td>\n",
       "      <td>NaN</td>\n",
       "      <td>-7.494586</td>\n",
       "    </tr>\n",
       "    <tr>\n",
       "      <th>6</th>\n",
       "      <td>EX_glc__D_e</td>\n",
       "      <td>0.0</td>\n",
       "      <td>0.0</td>\n",
       "      <td>NaN</td>\n",
       "      <td>0.598332</td>\n",
       "      <td>1.551437e+01</td>\n",
       "      <td>NaN</td>\n",
       "      <td>-6.993504</td>\n",
       "    </tr>\n",
       "    <tr>\n",
       "      <th>7</th>\n",
       "      <td>EX_glc__D_e</td>\n",
       "      <td>0.0</td>\n",
       "      <td>0.0</td>\n",
       "      <td>NaN</td>\n",
       "      <td>0.552400</td>\n",
       "      <td>1.542887e+01</td>\n",
       "      <td>NaN</td>\n",
       "      <td>-6.492421</td>\n",
       "    </tr>\n",
       "    <tr>\n",
       "      <th>8</th>\n",
       "      <td>EX_glc__D_e</td>\n",
       "      <td>0.0</td>\n",
       "      <td>0.0</td>\n",
       "      <td>NaN</td>\n",
       "      <td>0.506469</td>\n",
       "      <td>1.532906e+01</td>\n",
       "      <td>NaN</td>\n",
       "      <td>-5.991338</td>\n",
       "    </tr>\n",
       "    <tr>\n",
       "      <th>9</th>\n",
       "      <td>EX_glc__D_e</td>\n",
       "      <td>0.0</td>\n",
       "      <td>0.0</td>\n",
       "      <td>NaN</td>\n",
       "      <td>0.460537</td>\n",
       "      <td>1.521104e+01</td>\n",
       "      <td>NaN</td>\n",
       "      <td>-5.490256</td>\n",
       "    </tr>\n",
       "    <tr>\n",
       "      <th>10</th>\n",
       "      <td>EX_glc__D_e</td>\n",
       "      <td>0.0</td>\n",
       "      <td>0.0</td>\n",
       "      <td>NaN</td>\n",
       "      <td>0.414605</td>\n",
       "      <td>1.506930e+01</td>\n",
       "      <td>NaN</td>\n",
       "      <td>-4.989173</td>\n",
       "    </tr>\n",
       "    <tr>\n",
       "      <th>11</th>\n",
       "      <td>EX_glc__D_e</td>\n",
       "      <td>0.0</td>\n",
       "      <td>0.0</td>\n",
       "      <td>NaN</td>\n",
       "      <td>0.368674</td>\n",
       "      <td>1.489593e+01</td>\n",
       "      <td>NaN</td>\n",
       "      <td>-4.488090</td>\n",
       "    </tr>\n",
       "    <tr>\n",
       "      <th>12</th>\n",
       "      <td>EX_glc__D_e</td>\n",
       "      <td>0.0</td>\n",
       "      <td>0.0</td>\n",
       "      <td>NaN</td>\n",
       "      <td>0.322742</td>\n",
       "      <td>1.467897e+01</td>\n",
       "      <td>NaN</td>\n",
       "      <td>-3.987008</td>\n",
       "    </tr>\n",
       "    <tr>\n",
       "      <th>13</th>\n",
       "      <td>EX_glc__D_e</td>\n",
       "      <td>0.0</td>\n",
       "      <td>0.0</td>\n",
       "      <td>NaN</td>\n",
       "      <td>0.276810</td>\n",
       "      <td>1.439963e+01</td>\n",
       "      <td>NaN</td>\n",
       "      <td>-3.485925</td>\n",
       "    </tr>\n",
       "    <tr>\n",
       "      <th>14</th>\n",
       "      <td>EX_glc__D_e</td>\n",
       "      <td>0.0</td>\n",
       "      <td>0.0</td>\n",
       "      <td>NaN</td>\n",
       "      <td>0.230879</td>\n",
       "      <td>1.402651e+01</td>\n",
       "      <td>NaN</td>\n",
       "      <td>-2.984842</td>\n",
       "    </tr>\n",
       "    <tr>\n",
       "      <th>15</th>\n",
       "      <td>EX_glc__D_e</td>\n",
       "      <td>0.0</td>\n",
       "      <td>0.0</td>\n",
       "      <td>NaN</td>\n",
       "      <td>0.184947</td>\n",
       "      <td>1.350284e+01</td>\n",
       "      <td>NaN</td>\n",
       "      <td>-2.483759</td>\n",
       "    </tr>\n",
       "    <tr>\n",
       "      <th>16</th>\n",
       "      <td>EX_glc__D_e</td>\n",
       "      <td>0.0</td>\n",
       "      <td>0.0</td>\n",
       "      <td>NaN</td>\n",
       "      <td>0.139016</td>\n",
       "      <td>1.271448e+01</td>\n",
       "      <td>NaN</td>\n",
       "      <td>-1.982677</td>\n",
       "    </tr>\n",
       "    <tr>\n",
       "      <th>17</th>\n",
       "      <td>EX_glc__D_e</td>\n",
       "      <td>0.0</td>\n",
       "      <td>0.0</td>\n",
       "      <td>NaN</td>\n",
       "      <td>0.093084</td>\n",
       "      <td>1.139286e+01</td>\n",
       "      <td>NaN</td>\n",
       "      <td>-1.481594</td>\n",
       "    </tr>\n",
       "    <tr>\n",
       "      <th>18</th>\n",
       "      <td>EX_glc__D_e</td>\n",
       "      <td>0.0</td>\n",
       "      <td>0.0</td>\n",
       "      <td>NaN</td>\n",
       "      <td>0.046574</td>\n",
       "      <td>8.613386e+00</td>\n",
       "      <td>NaN</td>\n",
       "      <td>-0.980511</td>\n",
       "    </tr>\n",
       "    <tr>\n",
       "      <th>19</th>\n",
       "      <td>EX_glc__D_e</td>\n",
       "      <td>0.0</td>\n",
       "      <td>0.0</td>\n",
       "      <td>NaN</td>\n",
       "      <td>0.000000</td>\n",
       "      <td>9.770049e-14</td>\n",
       "      <td>NaN</td>\n",
       "      <td>-0.479429</td>\n",
       "    </tr>\n",
       "  </tbody>\n",
       "</table>\n",
       "</div>"
      ],
      "text/plain": [
       "   carbon_source  flux_minimum  carbon_yield_minimum  mass_yield_minimum  \\\n",
       "0    EX_glc__D_e           0.0                   0.0                 NaN   \n",
       "1    EX_glc__D_e           0.0                   0.0                 NaN   \n",
       "2    EX_glc__D_e           0.0                   0.0                 NaN   \n",
       "3    EX_glc__D_e           0.0                   0.0                 NaN   \n",
       "4    EX_glc__D_e           0.0                   0.0                 NaN   \n",
       "5    EX_glc__D_e           0.0                   0.0                 NaN   \n",
       "6    EX_glc__D_e           0.0                   0.0                 NaN   \n",
       "7    EX_glc__D_e           0.0                   0.0                 NaN   \n",
       "8    EX_glc__D_e           0.0                   0.0                 NaN   \n",
       "9    EX_glc__D_e           0.0                   0.0                 NaN   \n",
       "10   EX_glc__D_e           0.0                   0.0                 NaN   \n",
       "11   EX_glc__D_e           0.0                   0.0                 NaN   \n",
       "12   EX_glc__D_e           0.0                   0.0                 NaN   \n",
       "13   EX_glc__D_e           0.0                   0.0                 NaN   \n",
       "14   EX_glc__D_e           0.0                   0.0                 NaN   \n",
       "15   EX_glc__D_e           0.0                   0.0                 NaN   \n",
       "16   EX_glc__D_e           0.0                   0.0                 NaN   \n",
       "17   EX_glc__D_e           0.0                   0.0                 NaN   \n",
       "18   EX_glc__D_e           0.0                   0.0                 NaN   \n",
       "19   EX_glc__D_e           0.0                   0.0                 NaN   \n",
       "\n",
       "    flux_maximum  carbon_yield_maximum  mass_yield_maximum  EX_glc__D_e  \n",
       "0       0.873922          1.584745e+01                 NaN   -10.000000  \n",
       "1       0.827990          1.580658e+01                 NaN    -9.498917  \n",
       "2       0.782058          1.576115e+01                 NaN    -8.997835  \n",
       "3       0.736127          1.571037e+01                 NaN    -8.496752  \n",
       "4       0.690195          1.565323e+01                 NaN    -7.995669  \n",
       "5       0.644263          1.558844e+01                 NaN    -7.494586  \n",
       "6       0.598332          1.551437e+01                 NaN    -6.993504  \n",
       "7       0.552400          1.542887e+01                 NaN    -6.492421  \n",
       "8       0.506469          1.532906e+01                 NaN    -5.991338  \n",
       "9       0.460537          1.521104e+01                 NaN    -5.490256  \n",
       "10      0.414605          1.506930e+01                 NaN    -4.989173  \n",
       "11      0.368674          1.489593e+01                 NaN    -4.488090  \n",
       "12      0.322742          1.467897e+01                 NaN    -3.987008  \n",
       "13      0.276810          1.439963e+01                 NaN    -3.485925  \n",
       "14      0.230879          1.402651e+01                 NaN    -2.984842  \n",
       "15      0.184947          1.350284e+01                 NaN    -2.483759  \n",
       "16      0.139016          1.271448e+01                 NaN    -1.982677  \n",
       "17      0.093084          1.139286e+01                 NaN    -1.481594  \n",
       "18      0.046574          8.613386e+00                 NaN    -0.980511  \n",
       "19      0.000000          9.770049e-14                 NaN    -0.479429  "
      ]
     },
     "execution_count": 82,
     "metadata": {},
     "output_type": "execute_result"
    }
   ],
   "source": [
    "ppp_succ"
   ]
  },
  {
   "cell_type": "code",
   "execution_count": 83,
   "metadata": {},
   "outputs": [
    {
     "data": {
      "text/plain": [
       "<AxesSubplot: xlabel='EX_glc__D_e'>"
      ]
     },
     "execution_count": 83,
     "metadata": {},
     "output_type": "execute_result"
    },
    {
     "data": {
      "image/png": "[encoded data removed]",
      "text/plain": [
       "<Figure size 800x550 with 1 Axes>"
      ]
     },
     "metadata": {},
     "output_type": "display_data"
    }
   ],
   "source": [
    "ppp_succ.plot(x='EX_glc__D_e', y='flux_maximum')"
   ]
  },
  {
   "cell_type": "markdown",
   "metadata": {},
   "source": [
    "***\n",
    "**C.**\n",
    "\n",
    "Use `production_envelope` to determine the optimal O2 uptake rate.\n",
    "***"
   ]
  },
  {
   "cell_type": "code",
   "execution_count": 84,
   "metadata": {},
   "outputs": [],
   "source": []
  },
  {
   "cell_type": "code",
   "execution_count": null,
   "metadata": {},
   "outputs": [],
   "source": []
  },
  {
   "cell_type": "code",
   "execution_count": null,
   "metadata": {},
   "outputs": [],
   "source": [
    "## PLOT\n"
   ]
  },
  {
   "cell_type": "code",
   "execution_count": null,
   "metadata": {},
   "outputs": [],
   "source": []
  }
 ],
 "metadata": {
  "kernelspec": {
   "display_name": "Python 3 (ipykernel)",
   "language": "python",
   "name": "python3"
  },
  "language_info": {
   "codemirror_mode": {
    "name": "ipython",
    "version": 3
   },
   "file_extension": ".py",
   "mimetype": "text/x-python",
   "name": "python",
   "nbconvert_exporter": "python",
   "pygments_lexer": "ipython3",
   "version": "3.11.4"
  },
  "vscode": {
   "interpreter": {
    "hash": "916dbcbb3f70747c44a77c7bcd40155683ae19c65e1c03b4aa3499c5328201f1"
   }
  }
 },
 "nbformat": 4,
 "nbformat_minor": 4
}
