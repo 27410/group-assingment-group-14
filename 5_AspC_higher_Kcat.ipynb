{
 "cells": [
  {
   "cell_type": "markdown",
   "metadata": {},
   "source": [
    "# 5. AspC simulation of heterologous expression"
   ]
  },
  {
   "cell_type": "code",
   "execution_count": 48,
   "metadata": {},
   "outputs": [
    {
     "name": "stdout",
     "output_type": "stream",
     "text": [
      "ASPtex ASPtex: asp__L_e <=> asp__L_p L-aspartate transport via diffusion (extracellular to periplasm)\n",
      "EX_asp__L_e EX_asp__L_e: asp__L_e -->  L-Aspartate exchange\n",
      "0.87699721425716\n",
      "0.8769972144269869\n"
     ]
    }
   ],
   "source": [
    "%run 1_Objective_function.ipynb"
   ]
  },
  {
   "cell_type": "markdown",
   "metadata": {},
   "source": [
    "_Pseudomonas aeruginosa_'s AspC has a 30% higher kcat than E. coli's AspC for L-aspartate production. Therefore, we will change the lower and upper bounds of the kcat of AspC to 30% higher than the default."
   ]
  },
  {
   "cell_type": "code",
   "execution_count": 49,
   "metadata": {},
   "outputs": [
    {
     "name": "stdout",
     "output_type": "stream",
     "text": [
      "Original Objective Value for Biomass: 0.8769972144269869\n"
     ]
    }
   ],
   "source": [
    "original_solution = model.optimize()\n",
    "print(\"Original Objective Value for Biomass:\", original_solution.objective_value)"
   ]
  },
  {
   "cell_type": "code",
   "execution_count": 50,
   "metadata": {},
   "outputs": [
    {
     "name": "stdout",
     "output_type": "stream",
     "text": [
      "Reaction ASPTA is present in the model.\n",
      "Reaction details: ASPTA: akg_c + asp__L_c <=> glu__L_c + oaa_c\n",
      "Lower bound: -1000.0\n",
      "Upper bound: 1000.0\n"
     ]
    }
   ],
   "source": [
    "reaction_id = \"ASPTA\"\n",
    "# Check if the reaction is in the model\n",
    "if reaction_id in [rxn.id for rxn in model.reactions]:\n",
    "    # Get the reaction object\n",
    "    reaction = model.reactions.get_by_id(reaction_id)\n",
    "    print(f\"Reaction {reaction_id} is present in the model.\")\n",
    "    print(\"Reaction details:\", reaction)\n",
    "    print(f\"Lower bound: {reaction.lower_bound}\")\n",
    "    print(f\"Upper bound: {reaction.upper_bound}\")"
   ]
  },
  {
   "cell_type": "code",
   "execution_count": 51,
   "metadata": {},
   "outputs": [
    {
     "data": {
      "text/plain": [
       "4.596027557488632"
      ]
     },
     "execution_count": 51,
     "metadata": {},
     "output_type": "execute_result"
    }
   ],
   "source": [
    "model.objective = model.reactions.EX_asp__L_e\n",
    "model.optimize().objective_value"
   ]
  },
  {
   "cell_type": "code",
   "execution_count": 52,
   "metadata": {},
   "outputs": [
    {
     "name": "stdout",
     "output_type": "stream",
     "text": [
      "New lower bound for ASPTA: -1300.0\n",
      "New upper bound for ASPTA: 1300.0\n"
     ]
    }
   ],
   "source": [
    "# Get the reaction object\n",
    "aspta_reaction = model.reactions.get_by_id(reaction_id)\n",
    "\n",
    "# Modify the bounds by multiplying them by 1.3\n",
    "aspta_reaction.lower_bound *= 1.3\n",
    "aspta_reaction.upper_bound *= 1.3\n",
    "\n",
    "# Print the modified bounds\n",
    "print(f\"New lower bound for {reaction_id}: {aspta_reaction.lower_bound}\")\n",
    "print(f\"New upper bound for {reaction_id}: {aspta_reaction.upper_bound}\")\n"
   ]
  },
  {
   "cell_type": "code",
   "execution_count": 53,
   "metadata": {},
   "outputs": [
    {
     "data": {
      "text/plain": [
       "4.5960275574885125"
      ]
     },
     "execution_count": 53,
     "metadata": {},
     "output_type": "execute_result"
    }
   ],
   "source": [
    "model.objective = model.reactions.EX_asp__L_e\n",
    "model.optimize().objective_value"
   ]
  },
  {
   "cell_type": "markdown",
   "metadata": {},
   "source": [
    "There is almost no change in max aspartate production (our objective value) before and after adjusting the bounds, (4.596027557488632 initially and 4.5960275574885125 after the change), so we will not change the bounds of the ASPTA reaction."
   ]
  }
 ],
 "metadata": {
  "kernelspec": {
   "display_name": "base",
   "language": "python",
   "name": "python3"
  },
  "language_info": {
   "codemirror_mode": {
    "name": "ipython",
    "version": 3
   },
   "file_extension": ".py",
   "mimetype": "text/x-python",
   "name": "python",
   "nbconvert_exporter": "python",
   "pygments_lexer": "ipython3",
   "version": "3.9.13"
  }
 },
 "nbformat": 4,
 "nbformat_minor": 2
}
