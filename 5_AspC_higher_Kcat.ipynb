{
 "cells": [
  {
   "cell_type": "markdown",
   "metadata": {},
   "source": [
    "# 5. AspC simulation of heterologous expression"
   ]
  },
  {
   "cell_type": "code",
   "execution_count": 1,
   "metadata": {},
   "outputs": [
    {
     "name": "stdout",
     "output_type": "stream",
     "text": [
      "EX_asp__L_e EX_asp__L_e: asp__L_e -->  L-Aspartate exchange\n",
      "ASPtex ASPtex: asp__L_e <=> asp__L_p L-aspartate transport via diffusion (extracellular to periplasm)\n",
      "0.87699721425716\n",
      "0.87392\n",
      "4.596027557488181\n"
     ]
    }
   ],
   "source": [
    "%run 1_Objective_function.ipynb"
   ]
  },
  {
   "cell_type": "markdown",
   "metadata": {},
   "source": [
    "_Pseudomonas aeruginosa_'s AspC has a 30% higher kcat than E. coli's AspC for L-aspartate production. Therefore, we will change the lower and upper bounds of the kcat of AspC to 30% higher than the default."
   ]
  },
  {
   "cell_type": "code",
   "execution_count": 10,
   "metadata": {},
   "outputs": [
    {
     "name": "stdout",
     "output_type": "stream",
     "text": [
      "Original Objective Value for Biomass: 0.87392\n"
     ]
    }
   ],
   "source": [
    "original_solution = model.optimize()\n",
    "print(\"Original Objective Value for Biomass:\", original_solution.objective_value)"
   ]
  },
  {
   "cell_type": "code",
   "execution_count": 25,
   "metadata": {},
   "outputs": [
    {
     "name": "stdout",
     "output_type": "stream",
     "text": [
      "Reaction ASPTA is present in the model.\n",
      "Reaction details: ASPTA: akg_c + asp__L_c <=> glu__L_c + oaa_c\n",
      "Lower bound: -1000.0\n",
      "Upper bound: 1000.0\n"
     ]
    }
   ],
   "source": [
    "reaction_id = \"ASPTA\"\n",
    "# Check if the reaction is in the model\n",
    "if reaction_id in [rxn.id for rxn in model.reactions]:\n",
    "    # Get the reaction object\n",
    "    reaction = model.reactions.get_by_id(reaction_id)\n",
    "    print(f\"Reaction {reaction_id} is present in the model.\")\n",
    "    print(\"Reaction details:\", reaction)\n",
    "    print(f\"Lower bound: {reaction.lower_bound}\")\n",
    "    print(f\"Upper bound: {reaction.upper_bound}\")"
   ]
  },
  {
   "cell_type": "code",
   "execution_count": 26,
   "metadata": {},
   "outputs": [
    {
     "name": "stdout",
     "output_type": "stream",
     "text": [
      "Initial flux for ASPTA: -2.6228433417913637\n",
      "New flux for ASPTA: -2.622843341791384\n"
     ]
    }
   ],
   "source": [
    "# Check if the reaction is in the model\n",
    "if reaction_id in [rxn.id for rxn in model.reactions]:\n",
    "    # Run Flux Balance Analysis\n",
    "    solution = model.optimize()\n",
    "\n",
    "    # Get the flux of the reaction before changing bounds\n",
    "    initial_flux = solution.fluxes[reaction_id]\n",
    "    print(f\"Initial flux for {reaction_id}: {initial_flux}\")\n",
    "\n",
    "    # Get the reaction object\n",
    "    reaction = model.reactions.get_by_id(reaction_id)\n",
    "\n",
    "    # Current bounds\n",
    "    current_lower_bound = reaction.lower_bound\n",
    "    current_upper_bound = reaction.upper_bound\n",
    "\n",
    "    # Increase bounds by 30%\n",
    "    new_lower_bound = current_lower_bound * 1.30\n",
    "    new_upper_bound = current_upper_bound * 1.30\n",
    "\n",
    "    # Update the bounds in the model\n",
    "    reaction.lower_bound = new_lower_bound\n",
    "    reaction.upper_bound = new_upper_bound\n",
    "\n",
    "    # Run FBA again and print new flux\n",
    "    new_solution = model.optimize()\n",
    "    new_flux = new_solution.fluxes[reaction_id]\n",
    "    print(f\"New flux for {reaction_id}: {new_flux}\")"
   ]
  },
  {
   "cell_type": "markdown",
   "metadata": {},
   "source": [
    "The change in flux for the ASPTA reaction before and after adjusting the bounds, (-2.6228433417913637 initially and -2.622843341791384 after the change), is extremely small, so we will not change the bounds of the ASPTA reaction."
   ]
  }
 ],
 "metadata": {
  "kernelspec": {
   "display_name": "base",
   "language": "python",
   "name": "python3"
  },
  "language_info": {
   "codemirror_mode": {
    "name": "ipython",
    "version": 3
   },
   "file_extension": ".py",
   "mimetype": "text/x-python",
   "name": "python",
   "nbconvert_exporter": "python",
   "pygments_lexer": "ipython3",
   "version": "3.9.13"
  }
 },
 "nbformat": 4,
 "nbformat_minor": 2
}
