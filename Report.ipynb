{
 "cells": [
  {
   "cell_type": "markdown",
   "metadata": {},
   "source": [
    "# Optimising L-aspartate production in _E. coli_"
   ]
  },
  {
   "cell_type": "markdown",
   "metadata": {},
   "source": [
    "## 1. Introduction"
   ]
  },
  {
   "cell_type": "markdown",
   "metadata": {},
   "source": [
    "### 1.1 Literature review of the compound (<500 words)"
   ]
  },
  {
   "cell_type": "markdown",
   "metadata": {},
   "source": [
    "#### Applications of L-aspartate\n",
    "\n",
    "L-aspartate, the L-isomer of aspartic acid (Asp or D), plays a crucial role inside cells, being directly involved in both protein synthesis and used as a precursor for amino acid biosynthesis. Recognized for its versatile characteristics as a 4-carbon platform compound, this chemical has secured its position on the list of the US Department of Energy's Top Value-Added Chemicals from Biomass, standing alongside other platform compounds such as fumaric acid and glycerol (Werpy & Petersen, 2004). \n",
    "\n",
    "Beyond its biochemical significance, L-aspartate is widely applied within the food, chemical and pharmaceutical industries (Wang et al., 2022). In the food industry it is used as an additive, while also constituting a key part in the formulation of artificial sweeteners. Its ability to polymerise is exploited by the chemical industry to produce polyaspartic acid. This biopolymer finds applications in the production of fertilisers and hydrogels. Moreover, studies have highlighted L-aspartate’s potential to boost immune function. Notably, within the pharmaceutical sector, this compound is increasingly being applied in the production of new drugs and anti-aging cosmetics, as well as anti-depressants (Appleton & Rosentrater, 2021).\n",
    "\n",
    "\n",
    "#### Evaluation of market potential\n",
    "\n",
    "Aspartic acid’s role as a precursor for several sought-after compounds creates a particularly interesting opportunity in terms of market growth. As mentioned previously, L-aspartate can be utilized for the production of artificial sweeteners and biodegradable polymers for which demand is expected to grow exponentially given the increasing interest in healthier and more sustainable products (Global Market Insights Inc., 2023). The current global market for aspartic acid is estimated to be around 101 million USD with a compound growth rate (CAGR) of around 5.6%. This signals the possibility for new competitors to enter a market which is mostly composed of small to medium companies and divided regionally (Precisionreports.Co, 2023). Additional growth is expected to occur given the abundance of research being done regarding L-aspartate's potential as a therapeutic compound.  \n",
    "\n",
    "#### Biosynthetic pathway\n",
    "\n",
    "L-aspartate is a non-essential proteinogenic amino acid that acts as a precursor for several biological processes in a myriad of organisms (Han et al., 2021). It is primarily produced from oxaloacetate in the Alanine, Aspartate and Glutamate metabolic pathway (kegg map00250) (shown below), by aspartate aminotransferase. This enzyme is coded by the gen aspC in Escherichia coli and GOT1 in Homo sapiens (Kuramitsu et al., 1985; Darpolor et al., 2014). "
   ]
  },
  {
   "cell_type": "markdown",
   "metadata": {},
   "source": [
    "### 1.2 Literature review of the cell factory (<500 words)"
   ]
  },
  {
   "cell_type": "markdown",
   "metadata": {},
   "source": [
    "#### Advantages\n",
    "\n",
    "_Escherichia coli_ is the most popular bacterial workhorse for metabolic engineering aimed at large-scale production of chemicals and materials. The abundance of knowledge concerning its genetic makeup and physiological properties allow for a thorough understanding of the steps needed to engineer it and the consequences of these manipulations (Yang et al., 2021). Its advantageous physiological features, which include its fast growth kinetics, easily achievable high cell density cultures and simple cultivation, further enhance its appeal as a microbial host. Additionally, the extensive toolkit developed for its manipulation underscores its accessibility and robustness. Finally, the availability of large data sets on its metabolism have allowed for the development of reliable genome-scale metabolic models (GEMs) (Rosano & Ceccarelli, 2014).\n",
    "\n",
    "#### Disadvantages\n",
    "\n",
    "However, _E. coli_’s utilisation as host is constrained by certain limitations. These include the reliance on antibiotic-driven maintenance strategies and the risk of plasmid loss, which threaten long-term stable recombinant production. The induction of stress responses due to increased metabolic burden, which often impede optimal functioning of the cell also impact gene expression. Additionally, its inability to form disulfide bonds or perform many other post-translational modifications, restricts its use for production of specific proteins. Compound secretion is also limited, which together with protein aggregation and proteolytic digestion, can cause low export levels, which promotes the consideration of other cell factories ((Ferrer-Miralles & Villaverde, 2013).\n",
    "\n",
    "#### Choice of cell factory\n",
    "\n",
    "The direct fermentation of L-aspartate from renewable biomass is deemed to provide a more sustainable and cost-competitive route than the current process, which involves its enzymatic conversion from ammonia and fumarate, the latter being derived from petrochemicals (Piao et al., 2019). Most of the work reported on the direct fermentation of this amino acid uses *_E. coli_* as host, since this is the most competitive L-aspartate producer, together with Corynebacterium gluctamicum. The best cell factory using glucose engineered to date is the _E. coli_ strain developed by Piao et al. However, the highest yield achieved was only 0.39g/g, around 27% of the theoretical value when fumarate is supplied (Shi et al., 2023).\n",
    "\n",
    "#### Alternative cell factory\n",
    "\n",
    "As mentioned beforehand, the second most interesting cell factory to produce L-aspartate is _C. gluctamicum_ which has been studied and optimized to maximize the amino acid's output (Toyoda et al., 2022). C. gluctamicum is naturally able to accumulate high concentrations of amino acids and therefore has been adopted as a valuable host for their industrial production (Xu et al., 2015). The main limiting factors for the use of _C. gluctamicum_ compared to E_. coli_ in terms of L-aspartate production include: its comparably more complex metabolic pathways and the relative lack of knowledge in terms of its usage and optimization, factors that considerably increase the difficulty of successful metabolic engineering and result in lower yields (Shi et al., 2023). \n"
   ]
  },
  {
   "cell_type": "markdown",
   "metadata": {},
   "source": [
    "## 2. Problem definition (<300 words)"
   ]
  },
  {
   "cell_type": "markdown",
   "metadata": {},
   "source": [
    "L-aspartate, a vital proteinogenic amino acid, holds significant industrial value, and is extensively utilized in food, pharmaceutical, and chemical sectors. The global demand for amino acids necessitates the pursuit of more rapid, cost-effective, and efficient production methodologies. The prevalent industrial synthesis of l-aspartate is achieved through the enzymatic reaction of ammonia and fumarate, mediated by aspartase. However, this method's sustainability is compromised due to the reliance on fumarate sourced from petrochemical processes, which are environmentally burdensome owing to the generation of hazardous by-products.\n",
    "\n",
    "An appealing alternative is the biosynthesis of l-aspartate via direct fermentation or whole-cell bioconversion using renewable biomass, a method aligned with the principles of green chemistry. Despite the environmental merits of bioconversion, its economic viability is hindered when juxtaposed with the established enzymatic approaches, primarily due to inferior yield and productivity, factors critical in industrial competitiveness. \n",
    "\n",
    "To bridge this gap and make bioproduction of l-aspartate competitive, improvements need to be made by optimizing the metabolic pathways to increase the yield of l-aspartate. Little work has been reported on such optimization routes, especially in commonly used industrial host species, like E. coli.  While most work focuses on downstream optimization of l-aspartate production, very few metabolic engineering studies are carried out to improve the yield at the l-aspartate node.\n"
   ]
  },
  {
   "cell_type": "markdown",
   "metadata": {},
   "source": [
    "## 3. Selection and assessment of existing GSM (<500 words)\n"
   ]
  },
  {
   "cell_type": "markdown",
   "metadata": {},
   "source": [
    "## 4. Computer-Aided Cell Factory Engineering (<1500 words if Category II project; <500 words for Category I project)"
   ]
  },
  {
   "cell_type": "markdown",
   "metadata": {},
   "source": [
    "### 4.1 Overexpression of native AspC enzyme\n",
    "\n",
    "\n",
    "\n",
    " \n",
    "\n",
    "### 4.2 Exploration of possible knock outs\n",
    "Gene knock outs are a common genetic engineering tool, utilized to ensure efficient substrate usage and reduce the amount of “irrelevant reactions”. The algorithm Opt-knock was utilized to generate possible gene targets from a list of non-essential reactions. The base L-aspartate productivity was set to 80% of the theoretical maximum, to better simulate biologically feasible levels of production and to allow for room for improvement.  The suggested genes where then silenced and their impact on the productivity and the flux of our product were analyzed. The results were compared with gene knock out targets found in the literature to determine the algorithm’s effectiveness.  103 words\n",
    "\n",
    "\n",
    "### 4.3 Exploration of possible overexpression targets\n",
    "\n",
    "The over expression of genes is a highly efficient approach to cell factory design. To determine possible candidates for over expression a FSEOF analysis was conducted. The FSEOF shows the positive or negative correlation between reactions when a given flux is enforced. If the flux of any given reaction increases as the flux towards the product is enforced a positive correlation can be surmised. When then screened for the reactions with the highest relative increase, the top 3 candidates where selected, their overs expression was simulated and their increase in L-aspartate flux was determines via FVA.  96 words\n",
    "\n",
    "\n",
    "\n",
    "### 4.4 Swapping of AspC's cofactor\n",
    "Co-factor balance is inherent for an organism’s viability, but often case the native cofactor balances are not ideal to sustain a specific flux state, specially when overproduction of a given metabolite might hinder the organism’s survival. To determine potential co-factor swap targets the CofactorSwapOptimization function present in cameo was utilized. The algorithm was prompted to generate any possible swaps that would maximize L-aspartate production without compromising biomass productivity. The program was unable to find any such targets.  77 words\n",
    "\n",
    "\n",
    "### 4.5 Mimicking the introduction of an AspC with higher catalytic efficiency"
   ]
  },
  {
   "cell_type": "markdown",
   "metadata": {},
   "source": [
    "## 5. Discussion (<500 words)"
   ]
  },
  {
   "cell_type": "markdown",
   "metadata": {},
   "source": [
    "In our efforts to augment L-aspartate production in E. coli through computational models, we attempted various strategies, including overexpression of the native AspC enzyme, exploration of possible knock outs, swapping of AspC's cofactor, and mimicking the introduction of an AspC with higher catalytic efficiency. (44 words)\n",
    "\n",
    "Upon implementing the 30% increase in the upper and lower bounds of the ASPTA reaction, to simulate the activity of P. aeruginosa's AspC, we observed an unexpectedly negligible change in the reaction flux, which falls within the range of error encountered in FBA. This is likely due to other constraints in the model or adjacent reactions in the pathway that influence the flux more. This highlights the importance of taking a multifaceted approach in metabolic engineering, as the introduction of a more efficient enzyme may not be sufficient to increase the flux of the reaction.\n",
    "\n",
    "In terms of the results obtained with Opt-kncock. The computer suggested genes had no noticeable effect of either productivity nor flux and the algorithm shows a considerable level of inconsistency, as it suggests enterally different targets under iterations of the same model under identical conditions. 45\n",
    "\n",
    "Examples of successful co-factor swap strategies to increase L-aspartate productivity exist in the literature as shown by King & Feist (2014). Therefore, the algorithm’s inability to determine viable candidates then might be causes by one of three possibility or any combination of them: Lack of model fidelity to the living organism, the algorithm works with a limited scope reactions when calculating possible targets for efficiency’s sake, and/or limitations or our approach and understanding of the program’s functionalities. 78\n",
    "\n",
    "\n",
    "403 words total\n"
   ]
  },
  {
   "cell_type": "markdown",
   "metadata": {},
   "source": [
    "## 6. Conclusion (<200 words)"
   ]
  },
  {
   "cell_type": "markdown",
   "metadata": {},
   "source": [
    "## References"
   ]
  },
  {
   "cell_type": "markdown",
   "metadata": {},
   "source": [
    "Appleton, H. & Rosentrater, K. A. (2021) Sweet Dreams (Are Made of This): A Review and Perspectives on Aspartic Acid Production. Fermentation (Basel). 7 (2), 49.\n",
    "\n",
    "Ferrer-Miralles, N. & Villaverde, A. (2013) Bacterial cell factories for recombinant protein production; expanding the catalogue. Microbial Cell Factories. 12 (1), 113.\n",
    "\n",
    "Piao, X., Wang, L., Lin, B., Chen, H., Liu, W. & Tao, Y. (2019) Metabolic engineering of Escherichia coli for production of L-aspartate and its derivative β-alanine with high stoichiometric yield. Metabolic Engineering. 54 244-254.\n",
    "\n",
    "Rosano, G. L. & Ceccarelli, E. A. (2014) Recombinant protein expression in Escherichia coli: advances and challenges. Frontiers in Microbiology. 5 (APR), 172.\n",
    "\n",
    "Shi, A., Liu, Y., Jia, B., Zheng, G. & Yao, Y. (2023) Metabolic Engineering of Microorganisms to Produce L-Aspartate and Its Derivatives. Fermentation (Basel). 9 (8), 737.\n",
    "\n",
    "Wang, H., Li, Y., Xiao, F., Zhang, Y., Shi, G., Zhang, L., Xu, S., Ding, Z. & Gu, Z. (2022) Functional Characterization of Transporters for L-Aspartate in Bacillus licheniformis. Fermentation (Basel). 8 (1), 22.\n",
    "\n",
    "Yang, D., Prabowo, C. P. S., Eun, H., Park, S. Y., Cho, I. J., Jiao, S. & Lee, S. Y. (2021) Escherichia coli as a platform microbial host for systems metabolic engineering. Essays in Biochemistry. 65 (2), 225-246."
   ]
  }
 ],
 "metadata": {
  "kernelspec": {
   "display_name": "Python 3 (ipykernel)",
   "language": "python",
   "name": "python3"
  },
  "language_info": {
   "codemirror_mode": {
    "name": "ipython",
    "version": 3
   },
   "file_extension": ".py",
   "mimetype": "text/x-python",
   "name": "python",
   "nbconvert_exporter": "python",
   "pygments_lexer": "ipython3",
   "version": "3.9.13"
  }
 },
 "nbformat": 4,
 "nbformat_minor": 4
}
