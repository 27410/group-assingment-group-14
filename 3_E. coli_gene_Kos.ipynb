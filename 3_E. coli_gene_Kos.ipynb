{
 "cells": [
  {
   "cell_type": "markdown",
   "metadata": {},
   "source": [
    "# 3. E. coli gene KO"
   ]
  },
  {
   "cell_type": "code",
   "execution_count": null,
   "metadata": {},
   "outputs": [],
   "source": [
    "%run 1_Objective_function.ipynb"
   ]
  },
  {
   "cell_type": "code",
   "execution_count": null,
   "metadata": {},
   "outputs": [],
   "source": [
    "import cobra\n",
    "import numpy as np\n",
    "from cobra.io import read_sbml_model\n",
    "model= read_sbml_model('Models/iML1515.xml')"
   ]
  },
  {
   "cell_type": "code",
   "execution_count": null,
   "metadata": {},
   "outputs": [],
   "source": [
    "from cobra.io import read_sbml_model\n",
    "model_biomass = read_sbml_model('Models/iML1515.xml')\n",
    "essential = {}\n",
    "relevant = {}\n",
    "target = {}\n",
    "for gene in model.genes:\n",
    "    with model:\n",
    "        gene.knock_out()\n",
    "        essential[gene] = model.slim_optimize(error_value=0.)\n",
    "        #print(model.slim_optimize(error_value=0.))\n",
    "        if model.slim_optimize(error_value=0.) < 0.5:\n",
    "            relevant[gene] = model.slim_optimize(error_value=0.)\n",
    "        else:\n",
    "            target[gene] = model.slim_optimize(error_value=0.)"
   ]
  },
  {
   "cell_type": "code",
   "execution_count": null,
   "metadata": {},
   "outputs": [],
   "source": [
    "Escential_reactions = []\n",
    "for gene in relevant:\n",
    "    for reaction in gene.reactions:\n",
    "        importantreactions.append(reaction)\n",
    "importantreactions = list(set(importantreactions))"
   ]
  },
  {
   "cell_type": "code",
   "execution_count": null,
   "metadata": {},
   "outputs": [],
   "source": [
    "def get_blocked_reactions(model):\n",
    "    fva_res = cobra.flux_analysis.flux_variability_analysis(model, fraction_of_optimum=0)\n",
    "    blocked = [\n",
    "        model.reactions.get_by_id(reaction) for reaction, row in fva_res.iterrows()\n",
    "        if (round(row[\"minimum\"], 5) == round(row[\"maximum\"], 5) == 0)\n",
    "    ]\n",
    "    return blocked"
   ]
  },
  {
   "cell_type": "code",
   "execution_count": null,
   "metadata": {},
   "outputs": [],
   "source": [
    "blockedreactions = get_blocked_reactions(model)\n",
    "cleaneduplist = [x.id for x in importantreactions if x not in blockedreactions]"
   ]
  },
  {
   "cell_type": "code",
   "execution_count": null,
   "metadata": {},
   "outputs": [],
   "source": [
    "pip install --upgrade markupsafe"
   ]
  },
  {
   "cell_type": "code",
   "execution_count": null,
   "metadata": {},
   "outputs": [],
   "source": [
    "!python -m pip install cameo"
   ]
  },
  {
   "cell_type": "code",
   "execution_count": null,
   "metadata": {},
   "outputs": [],
   "source": [
    "from cameo.strain_design.deterministic.linear_programming import OptKnock"
   ]
  },
  {
   "cell_type": "code",
   "execution_count": null,
   "metadata": {},
   "outputs": [],
   "source": [
    "result = optknock.run(max_knockouts=1, target=\"ASPTAR\", biomass=\"BIOMASS_Ec_iML1515_core_75p37M\")"
   ]
  }
 ],
 "metadata": {
  "kernelspec": {
   "display_name": "base",
   "language": "python",
   "name": "python3"
  },
  "language_info": {
   "codemirror_mode": {
    "name": "ipython",
    "version": 3
   },
   "file_extension": ".py",
   "mimetype": "text/x-python",
   "name": "python",
   "nbconvert_exporter": "python",
   "pygments_lexer": "ipython3",
   "version": "3.11.5"
  }
 },
 "nbformat": 4,
 "nbformat_minor": 2
}
