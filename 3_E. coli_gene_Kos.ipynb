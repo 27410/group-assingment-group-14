{
 "cells": [
  {
   "cell_type": "markdown",
   "metadata": {},
   "source": [
    "# 3. E. coli gene KO"
   ]
  },
  {
   "cell_type": "code",
   "execution_count": 6,
   "metadata": {},
   "outputs": [
    {
     "name": "stdout",
     "output_type": "stream",
     "text": [
      "ASPtex ASPtex: asp__L_e <=> asp__L_p L-aspartate transport via diffusion (extracellular to periplasm)\n",
      "EX_asp__L_e EX_asp__L_e: asp__L_e -->  L-Aspartate exchange\n",
      "0.87699721425716\n",
      "0.87392\n",
      "4.596027557488181\n"
     ]
    }
   ],
   "source": [
    "%run 1_Objective_function.ipynb"
   ]
  },
  {
   "cell_type": "code",
   "execution_count": 7,
   "metadata": {},
   "outputs": [],
   "source": [
    "import cobra\n",
    "import numpy as np\n",
    "from cobra.io import read_sbml_model\n",
    "model= read_sbml_model('Models/iML1515.xml')"
   ]
  },
  {
   "cell_type": "code",
   "execution_count": 7,
   "metadata": {},
   "outputs": [],
   "source": [
    "from cobra.io import read_sbml_model\n",
    "model_biomass = read_sbml_model('Models/iML1515.xml')\n",
    "essential = {}\n",
    "relevant = {}\n",
    "target = {}\n",
    "for gene in model.genes:\n",
    "    with model:\n",
    "        gene.knock_out()\n",
    "        essential[gene] = model.slim_optimize(error_value=0.)\n",
    "        #print(model.slim_optimize(error_value=0.))\n",
    "        if model.slim_optimize(error_value=0.) < 0.5:\n",
    "            relevant[gene] = model.slim_optimize(error_value=0.)\n",
    "        else:\n",
    "            target[gene] = model.slim_optimize(error_value=0.)"
   ]
  },
  {
   "cell_type": "code",
   "execution_count": 8,
   "metadata": {},
   "outputs": [],
   "source": [
    "Escential_reactions = []\n",
    "for gene in relevant:\n",
    "    for reaction in gene.reactions:\n",
    "        Escential_reactions.append(reaction)\n",
    "relevant = list(set(Escential_reactions))"
   ]
  },
  {
   "cell_type": "code",
   "execution_count": 9,
   "metadata": {},
   "outputs": [],
   "source": [
    "def get_blocked_reactions(model):\n",
    "    fva_res = cobra.flux_analysis.flux_variability_analysis(model, fraction_of_optimum=0)\n",
    "    blocked = [\n",
    "        model.reactions.get_by_id(reaction) for reaction, row in fva_res.iterrows()\n",
    "        if (round(row[\"minimum\"], 5) == round(row[\"maximum\"], 5) == 0)\n",
    "    ]\n",
    "    return blocked"
   ]
  },
  {
   "cell_type": "code",
   "execution_count": 11,
   "metadata": {},
   "outputs": [],
   "source": [
    "blockedreactions = get_blocked_reactions(model)\n",
    "cleaneduplist = [x.id for x in Escential_reactions if x not in blockedreactions]"
   ]
  },
  {
   "cell_type": "code",
   "execution_count": null,
   "metadata": {},
   "outputs": [
    {
     "name": "stdout",
     "output_type": "stream",
     "text": [
      "Requirement already satisfied: markupsafe in c:\\users\\raema\\appdata\\local\\programs\\python\\python311\\lib\\site-packages (2.1.3)\n",
      "Note: you may need to restart the kernel to use updated packages.\n"
     ]
    }
   ],
   "source": [
    "pip install --upgrade markupsafe"
   ]
  },
  {
   "cell_type": "code",
   "execution_count": 32,
   "metadata": {},
   "outputs": [
    {
     "name": "stdout",
     "output_type": "stream",
     "text": [
      "Requirement already satisfied: cameo in c:\\users\\raema\\appdata\\local\\programs\\python\\python311\\lib\\site-packages (0.13.6)\n",
      "Requirement already satisfied: numpy>=1.9.1 in c:\\users\\raema\\appdata\\local\\programs\\python\\python311\\lib\\site-packages (from cameo) (1.26.0)\n",
      "Requirement already satisfied: scipy>=0.14.0 in c:\\users\\raema\\appdata\\local\\programs\\python\\python311\\lib\\site-packages (from cameo) (1.11.4)\n",
      "Requirement already satisfied: blessings>=1.5.1 in c:\\users\\raema\\appdata\\local\\programs\\python\\python311\\lib\\site-packages (from cameo) (1.7)\n",
      "Requirement already satisfied: pandas>=1.1.3 in c:\\users\\raema\\appdata\\local\\programs\\python\\python311\\lib\\site-packages (from cameo) (1.5.3)\n",
      "Requirement already satisfied: ordered-set>=1.2 in c:\\users\\raema\\appdata\\local\\programs\\python\\python311\\lib\\site-packages (from cameo) (4.1.0)\n",
      "Requirement already satisfied: cobra>=0.11.1 in c:\\users\\raema\\appdata\\local\\programs\\python\\python311\\lib\\site-packages (from cameo) (0.29.0)\n",
      "Requirement already satisfied: future>=0.15.2 in c:\\users\\raema\\appdata\\local\\programs\\python\\python311\\lib\\site-packages (from cameo) (0.18.3)\n",
      "Requirement already satisfied: optlang>=1.4.2 in c:\\users\\raema\\appdata\\local\\programs\\python\\python311\\lib\\site-packages (from cameo) (1.8.1)\n",
      "Requirement already satisfied: numexpr>=2.4 in c:\\users\\raema\\appdata\\local\\programs\\python\\python311\\lib\\site-packages (from cameo) (2.8.7)\n",
      "Requirement already satisfied: requests>=2.10.0 in c:\\users\\raema\\appdata\\local\\programs\\python\\python311\\lib\\site-packages (from cameo) (2.31.0)\n",
      "Requirement already satisfied: networkx>=2.4 in c:\\users\\raema\\appdata\\local\\programs\\python\\python311\\lib\\site-packages (from cameo) (3.2.1)\n",
      "Requirement already satisfied: escher>=1.1.2 in c:\\users\\raema\\appdata\\local\\programs\\python\\python311\\lib\\site-packages (from cameo) (1.7.3)\n",
      "Requirement already satisfied: IProgress>=0.4 in c:\\users\\raema\\appdata\\local\\programs\\python\\python311\\lib\\site-packages (from cameo) (0.4)\n",
      "Requirement already satisfied: inspyred>=1.0 in c:\\users\\raema\\appdata\\local\\programs\\python\\python311\\lib\\site-packages (from cameo) (1.0.2)\n",
      "Requirement already satisfied: lazy-object-proxy>=1.2.0 in c:\\users\\raema\\appdata\\local\\programs\\python\\python311\\lib\\site-packages (from cameo) (1.9.0)\n",
      "Requirement already satisfied: palettable>=2.1.1 in c:\\users\\raema\\appdata\\local\\programs\\python\\python311\\lib\\site-packages (from cameo) (3.3.3)\n",
      "Requirement already satisfied: gnomic==1.0.1 in c:\\users\\raema\\appdata\\local\\programs\\python\\python311\\lib\\site-packages (from cameo) (1.0.1)\n",
      "Requirement already satisfied: openpyxl>=2.4.5 in c:\\users\\raema\\appdata\\local\\programs\\python\\python311\\lib\\site-packages (from cameo) (3.1.2)\n",
      "Requirement already satisfied: click>=6.7 in c:\\users\\raema\\appdata\\local\\programs\\python\\python311\\lib\\site-packages (from cameo) (8.1.7)\n",
      "Requirement already satisfied: grako==3.18.1 in c:\\users\\raema\\appdata\\local\\programs\\python\\python311\\lib\\site-packages (from gnomic==1.0.1->cameo) (3.18.1)\n",
      "Requirement already satisfied: six>=1.8.0 in c:\\users\\raema\\appdata\\roaming\\python\\python311\\site-packages (from gnomic==1.0.1->cameo) (1.16.0)\n",
      "Requirement already satisfied: colorama in c:\\users\\raema\\appdata\\roaming\\python\\python311\\site-packages (from click>=6.7->cameo) (0.4.6)\n",
      "Requirement already satisfied: appdirs~=1.4 in c:\\users\\raema\\appdata\\local\\programs\\python\\python311\\lib\\site-packages (from cobra>=0.11.1->cameo) (1.4.4)\n",
      "Requirement already satisfied: depinfo~=2.2 in c:\\users\\raema\\appdata\\local\\programs\\python\\python311\\lib\\site-packages (from cobra>=0.11.1->cameo) (2.2.0)\n",
      "Requirement already satisfied: diskcache~=5.0 in c:\\users\\raema\\appdata\\local\\programs\\python\\python311\\lib\\site-packages (from cobra>=0.11.1->cameo) (5.6.3)\n",
      "Requirement already satisfied: httpx~=0.24 in c:\\users\\raema\\appdata\\local\\programs\\python\\python311\\lib\\site-packages (from cobra>=0.11.1->cameo) (0.25.0)\n",
      "Requirement already satisfied: importlib-resources in c:\\users\\raema\\appdata\\local\\programs\\python\\python311\\lib\\site-packages (from cobra>=0.11.1->cameo) (6.0.1)\n",
      "Requirement already satisfied: pydantic>=1.6 in c:\\users\\raema\\appdata\\local\\programs\\python\\python311\\lib\\site-packages (from cobra>=0.11.1->cameo) (2.4.0)\n",
      "Requirement already satisfied: python-libsbml~=5.19 in c:\\users\\raema\\appdata\\local\\programs\\python\\python311\\lib\\site-packages (from cobra>=0.11.1->cameo) (5.20.1)\n",
      "Requirement already satisfied: rich>=8.0 in c:\\users\\raema\\appdata\\local\\programs\\python\\python311\\lib\\site-packages (from cobra>=0.11.1->cameo) (13.5.3)\n",
      "Requirement already satisfied: ruamel.yaml~=0.16 in c:\\users\\raema\\appdata\\local\\programs\\python\\python311\\lib\\site-packages (from cobra>=0.11.1->cameo) (0.17.32)\n",
      "Requirement already satisfied: swiglpk in c:\\users\\raema\\appdata\\local\\programs\\python\\python311\\lib\\site-packages (from cobra>=0.11.1->cameo) (5.0.8)\n",
      "Collecting Jinja2<3,>=2.7.3 (from escher>=1.1.2->cameo)\n",
      "  Using cached Jinja2-2.11.3-py2.py3-none-any.whl (125 kB)\n",
      "Requirement already satisfied: pytest<5,>=4.0.1 in c:\\users\\raema\\appdata\\local\\programs\\python\\python311\\lib\\site-packages (from escher>=1.1.2->cameo) (4.6.11)\n",
      "Requirement already satisfied: jsonschema<4,>=3.0.1 in c:\\users\\raema\\appdata\\local\\programs\\python\\python311\\lib\\site-packages (from escher>=1.1.2->cameo) (3.2.0)\n",
      "Requirement already satisfied: ipywidgets<8,>=7.4.0 in c:\\users\\raema\\appdata\\local\\programs\\python\\python311\\lib\\site-packages (from escher>=1.1.2->cameo) (7.8.1)\n",
      "Requirement already satisfied: et-xmlfile in c:\\users\\raema\\appdata\\local\\programs\\python\\python311\\lib\\site-packages (from openpyxl>=2.4.5->cameo) (1.1.0)\n",
      "Requirement already satisfied: sympy>=1.12.0 in c:\\users\\raema\\appdata\\local\\programs\\python\\python311\\lib\\site-packages (from optlang>=1.4.2->cameo) (1.12)\n",
      "Requirement already satisfied: python-dateutil>=2.8.1 in c:\\users\\raema\\appdata\\roaming\\python\\python311\\site-packages (from pandas>=1.1.3->cameo) (2.8.2)\n",
      "Requirement already satisfied: pytz>=2020.1 in c:\\users\\raema\\appdata\\local\\programs\\python\\python311\\lib\\site-packages (from pandas>=1.1.3->cameo) (2023.3.post1)\n",
      "Requirement already satisfied: charset-normalizer<4,>=2 in c:\\users\\raema\\appdata\\local\\programs\\python\\python311\\lib\\site-packages (from requests>=2.10.0->cameo) (3.3.2)\n",
      "Requirement already satisfied: idna<4,>=2.5 in c:\\users\\raema\\appdata\\local\\programs\\python\\python311\\lib\\site-packages (from requests>=2.10.0->cameo) (3.4)\n",
      "Requirement already satisfied: urllib3<3,>=1.21.1 in c:\\users\\raema\\appdata\\local\\programs\\python\\python311\\lib\\site-packages (from requests>=2.10.0->cameo) (2.0.7)\n",
      "Requirement already satisfied: certifi>=2017.4.17 in c:\\users\\raema\\appdata\\local\\programs\\python\\python311\\lib\\site-packages (from requests>=2.10.0->cameo) (2023.7.22)\n",
      "Requirement already satisfied: httpcore<0.19.0,>=0.18.0 in c:\\users\\raema\\appdata\\local\\programs\\python\\python311\\lib\\site-packages (from httpx~=0.24->cobra>=0.11.1->cameo) (0.18.0)\n",
      "Requirement already satisfied: sniffio in c:\\users\\raema\\appdata\\local\\programs\\python\\python311\\lib\\site-packages (from httpx~=0.24->cobra>=0.11.1->cameo) (1.3.0)\n",
      "Requirement already satisfied: comm>=0.1.3 in c:\\users\\raema\\appdata\\roaming\\python\\python311\\site-packages (from ipywidgets<8,>=7.4.0->escher>=1.1.2->cameo) (0.1.4)\n",
      "Requirement already satisfied: ipython-genutils~=0.2.0 in c:\\users\\raema\\appdata\\local\\programs\\python\\python311\\lib\\site-packages (from ipywidgets<8,>=7.4.0->escher>=1.1.2->cameo) (0.2.0)\n",
      "Requirement already satisfied: traitlets>=4.3.1 in c:\\users\\raema\\appdata\\roaming\\python\\python311\\site-packages (from ipywidgets<8,>=7.4.0->escher>=1.1.2->cameo) (5.10.0)\n",
      "Requirement already satisfied: widgetsnbextension~=3.6.6 in c:\\users\\raema\\appdata\\local\\programs\\python\\python311\\lib\\site-packages (from ipywidgets<8,>=7.4.0->escher>=1.1.2->cameo) (3.6.6)\n",
      "Requirement already satisfied: ipython>=4.0.0 in c:\\users\\raema\\appdata\\roaming\\python\\python311\\site-packages (from ipywidgets<8,>=7.4.0->escher>=1.1.2->cameo) (8.15.0)\n",
      "Requirement already satisfied: jupyterlab-widgets<3,>=1.0.0 in c:\\users\\raema\\appdata\\local\\programs\\python\\python311\\lib\\site-packages (from ipywidgets<8,>=7.4.0->escher>=1.1.2->cameo) (1.1.7)\n",
      "Requirement already satisfied: MarkupSafe>=0.23 in c:\\users\\raema\\appdata\\local\\programs\\python\\python311\\lib\\site-packages (from Jinja2<3,>=2.7.3->escher>=1.1.2->cameo) (2.1.3)\n",
      "Requirement already satisfied: attrs>=17.4.0 in c:\\users\\raema\\appdata\\local\\programs\\python\\python311\\lib\\site-packages (from jsonschema<4,>=3.0.1->escher>=1.1.2->cameo) (23.1.0)\n",
      "Requirement already satisfied: pyrsistent>=0.14.0 in c:\\users\\raema\\appdata\\local\\programs\\python\\python311\\lib\\site-packages (from jsonschema<4,>=3.0.1->escher>=1.1.2->cameo) (0.19.3)\n",
      "Requirement already satisfied: setuptools in c:\\users\\raema\\appdata\\local\\programs\\python\\python311\\lib\\site-packages (from jsonschema<4,>=3.0.1->escher>=1.1.2->cameo) (65.5.0)\n",
      "Requirement already satisfied: annotated-types>=0.4.0 in c:\\users\\raema\\appdata\\local\\programs\\python\\python311\\lib\\site-packages (from pydantic>=1.6->cobra>=0.11.1->cameo) (0.5.0)\n",
      "Requirement already satisfied: pydantic-core==2.10.0 in c:\\users\\raema\\appdata\\local\\programs\\python\\python311\\lib\\site-packages (from pydantic>=1.6->cobra>=0.11.1->cameo) (2.10.0)\n",
      "Requirement already satisfied: typing-extensions>=4.6.1 in c:\\users\\raema\\appdata\\local\\programs\\python\\python311\\lib\\site-packages (from pydantic>=1.6->cobra>=0.11.1->cameo) (4.8.0)\n",
      "Requirement already satisfied: py>=1.5.0 in c:\\users\\raema\\appdata\\local\\programs\\python\\python311\\lib\\site-packages (from pytest<5,>=4.0.1->escher>=1.1.2->cameo) (1.11.0)\n",
      "Requirement already satisfied: packaging in c:\\users\\raema\\appdata\\roaming\\python\\python311\\site-packages (from pytest<5,>=4.0.1->escher>=1.1.2->cameo) (23.1)\n",
      "Requirement already satisfied: atomicwrites>=1.0 in c:\\users\\raema\\appdata\\local\\programs\\python\\python311\\lib\\site-packages (from pytest<5,>=4.0.1->escher>=1.1.2->cameo) (1.4.1)\n",
      "Requirement already satisfied: pluggy<1.0,>=0.12 in c:\\users\\raema\\appdata\\local\\programs\\python\\python311\\lib\\site-packages (from pytest<5,>=4.0.1->escher>=1.1.2->cameo) (0.13.1)\n",
      "Requirement already satisfied: wcwidth in c:\\users\\raema\\appdata\\roaming\\python\\python311\\site-packages (from pytest<5,>=4.0.1->escher>=1.1.2->cameo) (0.2.6)\n",
      "Requirement already satisfied: more-itertools>=4.0.0 in c:\\users\\raema\\appdata\\local\\programs\\python\\python311\\lib\\site-packages (from pytest<5,>=4.0.1->escher>=1.1.2->cameo) (10.1.0)\n",
      "Requirement already satisfied: markdown-it-py>=2.2.0 in c:\\users\\raema\\appdata\\local\\programs\\python\\python311\\lib\\site-packages (from rich>=8.0->cobra>=0.11.1->cameo) (3.0.0)\n",
      "Requirement already satisfied: pygments<3.0.0,>=2.13.0 in c:\\users\\raema\\appdata\\roaming\\python\\python311\\site-packages (from rich>=8.0->cobra>=0.11.1->cameo) (2.16.1)\n",
      "Requirement already satisfied: ruamel.yaml.clib>=0.2.7 in c:\\users\\raema\\appdata\\local\\programs\\python\\python311\\lib\\site-packages (from ruamel.yaml~=0.16->cobra>=0.11.1->cameo) (0.2.7)\n",
      "Requirement already satisfied: mpmath>=0.19 in c:\\users\\raema\\appdata\\local\\programs\\python\\python311\\lib\\site-packages (from sympy>=1.12.0->optlang>=1.4.2->cameo) (1.3.0)\n",
      "Requirement already satisfied: anyio<5.0,>=3.0 in c:\\users\\raema\\appdata\\local\\programs\\python\\python311\\lib\\site-packages (from httpcore<0.19.0,>=0.18.0->httpx~=0.24->cobra>=0.11.1->cameo) (4.0.0)\n",
      "Requirement already satisfied: h11<0.15,>=0.13 in c:\\users\\raema\\appdata\\local\\programs\\python\\python311\\lib\\site-packages (from httpcore<0.19.0,>=0.18.0->httpx~=0.24->cobra>=0.11.1->cameo) (0.14.0)\n",
      "Requirement already satisfied: backcall in c:\\users\\raema\\appdata\\roaming\\python\\python311\\site-packages (from ipython>=4.0.0->ipywidgets<8,>=7.4.0->escher>=1.1.2->cameo) (0.2.0)\n",
      "Requirement already satisfied: decorator in c:\\users\\raema\\appdata\\roaming\\python\\python311\\site-packages (from ipython>=4.0.0->ipywidgets<8,>=7.4.0->escher>=1.1.2->cameo) (5.1.1)\n",
      "Requirement already satisfied: jedi>=0.16 in c:\\users\\raema\\appdata\\roaming\\python\\python311\\site-packages (from ipython>=4.0.0->ipywidgets<8,>=7.4.0->escher>=1.1.2->cameo) (0.19.0)\n",
      "Requirement already satisfied: matplotlib-inline in c:\\users\\raema\\appdata\\roaming\\python\\python311\\site-packages (from ipython>=4.0.0->ipywidgets<8,>=7.4.0->escher>=1.1.2->cameo) (0.1.6)\n",
      "Requirement already satisfied: pickleshare in c:\\users\\raema\\appdata\\roaming\\python\\python311\\site-packages (from ipython>=4.0.0->ipywidgets<8,>=7.4.0->escher>=1.1.2->cameo) (0.7.5)\n",
      "Requirement already satisfied: prompt-toolkit!=3.0.37,<3.1.0,>=3.0.30 in c:\\users\\raema\\appdata\\roaming\\python\\python311\\site-packages (from ipython>=4.0.0->ipywidgets<8,>=7.4.0->escher>=1.1.2->cameo) (3.0.39)\n",
      "Requirement already satisfied: stack-data in c:\\users\\raema\\appdata\\roaming\\python\\python311\\site-packages (from ipython>=4.0.0->ipywidgets<8,>=7.4.0->escher>=1.1.2->cameo) (0.6.2)\n",
      "Requirement already satisfied: mdurl~=0.1 in c:\\users\\raema\\appdata\\local\\programs\\python\\python311\\lib\\site-packages (from markdown-it-py>=2.2.0->rich>=8.0->cobra>=0.11.1->cameo) (0.1.2)\n",
      "Requirement already satisfied: notebook>=4.4.1 in c:\\users\\raema\\appdata\\local\\programs\\python\\python311\\lib\\site-packages (from widgetsnbextension~=3.6.6->ipywidgets<8,>=7.4.0->escher>=1.1.2->cameo) (6.5.6)\n",
      "Requirement already satisfied: parso<0.9.0,>=0.8.3 in c:\\users\\raema\\appdata\\roaming\\python\\python311\\site-packages (from jedi>=0.16->ipython>=4.0.0->ipywidgets<8,>=7.4.0->escher>=1.1.2->cameo) (0.8.3)\n",
      "Requirement already satisfied: tornado>=6.1 in c:\\users\\raema\\appdata\\roaming\\python\\python311\\site-packages (from notebook>=4.4.1->widgetsnbextension~=3.6.6->ipywidgets<8,>=7.4.0->escher>=1.1.2->cameo) (6.3.3)\n",
      "Requirement already satisfied: pyzmq<25,>=17 in c:\\users\\raema\\appdata\\local\\programs\\python\\python311\\lib\\site-packages (from notebook>=4.4.1->widgetsnbextension~=3.6.6->ipywidgets<8,>=7.4.0->escher>=1.1.2->cameo) (24.0.1)\n",
      "Requirement already satisfied: argon2-cffi in c:\\users\\raema\\appdata\\local\\programs\\python\\python311\\lib\\site-packages (from notebook>=4.4.1->widgetsnbextension~=3.6.6->ipywidgets<8,>=7.4.0->escher>=1.1.2->cameo) (23.1.0)\n",
      "Requirement already satisfied: jupyter-core>=4.6.1 in c:\\users\\raema\\appdata\\roaming\\python\\python311\\site-packages (from notebook>=4.4.1->widgetsnbextension~=3.6.6->ipywidgets<8,>=7.4.0->escher>=1.1.2->cameo) (5.3.1)\n",
      "Requirement already satisfied: jupyter-client<8,>=5.3.4 in c:\\users\\raema\\appdata\\local\\programs\\python\\python311\\lib\\site-packages (from notebook>=4.4.1->widgetsnbextension~=3.6.6->ipywidgets<8,>=7.4.0->escher>=1.1.2->cameo) (7.4.9)\n",
      "Requirement already satisfied: nbformat in c:\\users\\raema\\appdata\\local\\programs\\python\\python311\\lib\\site-packages (from notebook>=4.4.1->widgetsnbextension~=3.6.6->ipywidgets<8,>=7.4.0->escher>=1.1.2->cameo) (5.9.2)\n",
      "Requirement already satisfied: nbconvert>=5 in c:\\users\\raema\\appdata\\local\\programs\\python\\python311\\lib\\site-packages (from notebook>=4.4.1->widgetsnbextension~=3.6.6->ipywidgets<8,>=7.4.0->escher>=1.1.2->cameo) (6.4.5)\n",
      "Requirement already satisfied: nest-asyncio>=1.5 in c:\\users\\raema\\appdata\\roaming\\python\\python311\\site-packages (from notebook>=4.4.1->widgetsnbextension~=3.6.6->ipywidgets<8,>=7.4.0->escher>=1.1.2->cameo) (1.5.8)\n",
      "Requirement already satisfied: ipykernel in c:\\users\\raema\\appdata\\roaming\\python\\python311\\site-packages (from notebook>=4.4.1->widgetsnbextension~=3.6.6->ipywidgets<8,>=7.4.0->escher>=1.1.2->cameo) (6.25.2)\n",
      "Requirement already satisfied: Send2Trash>=1.8.0 in c:\\users\\raema\\appdata\\local\\programs\\python\\python311\\lib\\site-packages (from notebook>=4.4.1->widgetsnbextension~=3.6.6->ipywidgets<8,>=7.4.0->escher>=1.1.2->cameo) (1.8.2)\n",
      "Requirement already satisfied: terminado>=0.8.3 in c:\\users\\raema\\appdata\\local\\programs\\python\\python311\\lib\\site-packages (from notebook>=4.4.1->widgetsnbextension~=3.6.6->ipywidgets<8,>=7.4.0->escher>=1.1.2->cameo) (0.17.1)\n",
      "Requirement already satisfied: prometheus-client in c:\\users\\raema\\appdata\\local\\programs\\python\\python311\\lib\\site-packages (from notebook>=4.4.1->widgetsnbextension~=3.6.6->ipywidgets<8,>=7.4.0->escher>=1.1.2->cameo) (0.17.1)\n",
      "Requirement already satisfied: nbclassic>=0.4.7 in c:\\users\\raema\\appdata\\local\\programs\\python\\python311\\lib\\site-packages (from notebook>=4.4.1->widgetsnbextension~=3.6.6->ipywidgets<8,>=7.4.0->escher>=1.1.2->cameo) (1.0.0)\n",
      "Requirement already satisfied: executing>=1.2.0 in c:\\users\\raema\\appdata\\roaming\\python\\python311\\site-packages (from stack-data->ipython>=4.0.0->ipywidgets<8,>=7.4.0->escher>=1.1.2->cameo) (1.2.0)\n",
      "Requirement already satisfied: asttokens>=2.1.0 in c:\\users\\raema\\appdata\\roaming\\python\\python311\\site-packages (from stack-data->ipython>=4.0.0->ipywidgets<8,>=7.4.0->escher>=1.1.2->cameo) (2.4.0)\n",
      "Requirement already satisfied: pure-eval in c:\\users\\raema\\appdata\\roaming\\python\\python311\\site-packages (from stack-data->ipython>=4.0.0->ipywidgets<8,>=7.4.0->escher>=1.1.2->cameo) (0.2.2)\n",
      "Requirement already satisfied: entrypoints in c:\\users\\raema\\appdata\\local\\programs\\python\\python311\\lib\\site-packages (from jupyter-client<8,>=5.3.4->notebook>=4.4.1->widgetsnbextension~=3.6.6->ipywidgets<8,>=7.4.0->escher>=1.1.2->cameo) (0.4)\n",
      "Requirement already satisfied: platformdirs>=2.5 in c:\\users\\raema\\appdata\\roaming\\python\\python311\\site-packages (from jupyter-core>=4.6.1->notebook>=4.4.1->widgetsnbextension~=3.6.6->ipywidgets<8,>=7.4.0->escher>=1.1.2->cameo) (3.10.0)\n",
      "Requirement already satisfied: pywin32>=300 in c:\\users\\raema\\appdata\\roaming\\python\\python311\\site-packages (from jupyter-core>=4.6.1->notebook>=4.4.1->widgetsnbextension~=3.6.6->ipywidgets<8,>=7.4.0->escher>=1.1.2->cameo) (306)\n",
      "Requirement already satisfied: jupyter-server>=1.8 in c:\\users\\raema\\appdata\\local\\programs\\python\\python311\\lib\\site-packages (from nbclassic>=0.4.7->notebook>=4.4.1->widgetsnbextension~=3.6.6->ipywidgets<8,>=7.4.0->escher>=1.1.2->cameo) (2.7.3)\n",
      "Requirement already satisfied: notebook-shim>=0.2.3 in c:\\users\\raema\\appdata\\local\\programs\\python\\python311\\lib\\site-packages (from nbclassic>=0.4.7->notebook>=4.4.1->widgetsnbextension~=3.6.6->ipywidgets<8,>=7.4.0->escher>=1.1.2->cameo) (0.2.3)\n",
      "Requirement already satisfied: mistune<2,>=0.8.1 in c:\\users\\raema\\appdata\\local\\programs\\python\\python311\\lib\\site-packages (from nbconvert>=5->notebook>=4.4.1->widgetsnbextension~=3.6.6->ipywidgets<8,>=7.4.0->escher>=1.1.2->cameo) (0.8.4)\n",
      "Requirement already satisfied: jupyterlab-pygments in c:\\users\\raema\\appdata\\local\\programs\\python\\python311\\lib\\site-packages (from nbconvert>=5->notebook>=4.4.1->widgetsnbextension~=3.6.6->ipywidgets<8,>=7.4.0->escher>=1.1.2->cameo) (0.2.2)\n",
      "Requirement already satisfied: bleach in c:\\users\\raema\\appdata\\local\\programs\\python\\python311\\lib\\site-packages (from nbconvert>=5->notebook>=4.4.1->widgetsnbextension~=3.6.6->ipywidgets<8,>=7.4.0->escher>=1.1.2->cameo) (6.0.0)\n",
      "Requirement already satisfied: pandocfilters>=1.4.1 in c:\\users\\raema\\appdata\\local\\programs\\python\\python311\\lib\\site-packages (from nbconvert>=5->notebook>=4.4.1->widgetsnbextension~=3.6.6->ipywidgets<8,>=7.4.0->escher>=1.1.2->cameo) (1.5.0)\n",
      "Requirement already satisfied: testpath in c:\\users\\raema\\appdata\\local\\programs\\python\\python311\\lib\\site-packages (from nbconvert>=5->notebook>=4.4.1->widgetsnbextension~=3.6.6->ipywidgets<8,>=7.4.0->escher>=1.1.2->cameo) (0.6.0)\n",
      "Requirement already satisfied: defusedxml in c:\\users\\raema\\appdata\\local\\programs\\python\\python311\\lib\\site-packages (from nbconvert>=5->notebook>=4.4.1->widgetsnbextension~=3.6.6->ipywidgets<8,>=7.4.0->escher>=1.1.2->cameo) (0.7.1)\n",
      "Requirement already satisfied: beautifulsoup4 in c:\\users\\raema\\appdata\\local\\programs\\python\\python311\\lib\\site-packages (from nbconvert>=5->notebook>=4.4.1->widgetsnbextension~=3.6.6->ipywidgets<8,>=7.4.0->escher>=1.1.2->cameo) (4.12.2)\n",
      "Requirement already satisfied: nbclient<0.6.0,>=0.5.0 in c:\\users\\raema\\appdata\\local\\programs\\python\\python311\\lib\\site-packages (from nbconvert>=5->notebook>=4.4.1->widgetsnbextension~=3.6.6->ipywidgets<8,>=7.4.0->escher>=1.1.2->cameo) (0.5.13)\n",
      "Requirement already satisfied: fastjsonschema in c:\\users\\raema\\appdata\\local\\programs\\python\\python311\\lib\\site-packages (from nbformat->notebook>=4.4.1->widgetsnbextension~=3.6.6->ipywidgets<8,>=7.4.0->escher>=1.1.2->cameo) (2.18.0)\n",
      "Requirement already satisfied: pywinpty>=1.1.0 in c:\\users\\raema\\appdata\\local\\programs\\python\\python311\\lib\\site-packages (from terminado>=0.8.3->notebook>=4.4.1->widgetsnbextension~=3.6.6->ipywidgets<8,>=7.4.0->escher>=1.1.2->cameo) (2.0.11)\n",
      "Requirement already satisfied: argon2-cffi-bindings in c:\\users\\raema\\appdata\\local\\programs\\python\\python311\\lib\\site-packages (from argon2-cffi->notebook>=4.4.1->widgetsnbextension~=3.6.6->ipywidgets<8,>=7.4.0->escher>=1.1.2->cameo) (21.2.0)\n",
      "Requirement already satisfied: debugpy>=1.6.5 in c:\\users\\raema\\appdata\\roaming\\python\\python311\\site-packages (from ipykernel->notebook>=4.4.1->widgetsnbextension~=3.6.6->ipywidgets<8,>=7.4.0->escher>=1.1.2->cameo) (1.8.0)\n",
      "Requirement already satisfied: psutil in c:\\users\\raema\\appdata\\roaming\\python\\python311\\site-packages (from ipykernel->notebook>=4.4.1->widgetsnbextension~=3.6.6->ipywidgets<8,>=7.4.0->escher>=1.1.2->cameo) (5.9.5)\n",
      "Requirement already satisfied: jupyter-events>=0.6.0 in c:\\users\\raema\\appdata\\local\\programs\\python\\python311\\lib\\site-packages (from jupyter-server>=1.8->nbclassic>=0.4.7->notebook>=4.4.1->widgetsnbextension~=3.6.6->ipywidgets<8,>=7.4.0->escher>=1.1.2->cameo) (0.6.3)\n",
      "Requirement already satisfied: jupyter-server-terminals in c:\\users\\raema\\appdata\\local\\programs\\python\\python311\\lib\\site-packages (from jupyter-server>=1.8->nbclassic>=0.4.7->notebook>=4.4.1->widgetsnbextension~=3.6.6->ipywidgets<8,>=7.4.0->escher>=1.1.2->cameo) (0.4.4)\n",
      "Requirement already satisfied: overrides in c:\\users\\raema\\appdata\\local\\programs\\python\\python311\\lib\\site-packages (from jupyter-server>=1.8->nbclassic>=0.4.7->notebook>=4.4.1->widgetsnbextension~=3.6.6->ipywidgets<8,>=7.4.0->escher>=1.1.2->cameo) (7.4.0)\n",
      "Requirement already satisfied: websocket-client in c:\\users\\raema\\appdata\\local\\programs\\python\\python311\\lib\\site-packages (from jupyter-server>=1.8->nbclassic>=0.4.7->notebook>=4.4.1->widgetsnbextension~=3.6.6->ipywidgets<8,>=7.4.0->escher>=1.1.2->cameo) (1.6.3)\n",
      "Requirement already satisfied: cffi>=1.0.1 in c:\\users\\raema\\appdata\\local\\programs\\python\\python311\\lib\\site-packages (from argon2-cffi-bindings->argon2-cffi->notebook>=4.4.1->widgetsnbextension~=3.6.6->ipywidgets<8,>=7.4.0->escher>=1.1.2->cameo) (1.15.1)\n",
      "Requirement already satisfied: soupsieve>1.2 in c:\\users\\raema\\appdata\\local\\programs\\python\\python311\\lib\\site-packages (from beautifulsoup4->nbconvert>=5->notebook>=4.4.1->widgetsnbextension~=3.6.6->ipywidgets<8,>=7.4.0->escher>=1.1.2->cameo) (2.5)\n",
      "Requirement already satisfied: webencodings in c:\\users\\raema\\appdata\\local\\programs\\python\\python311\\lib\\site-packages (from bleach->nbconvert>=5->notebook>=4.4.1->widgetsnbextension~=3.6.6->ipywidgets<8,>=7.4.0->escher>=1.1.2->cameo) (0.5.1)\n",
      "Requirement already satisfied: pycparser in c:\\users\\raema\\appdata\\local\\programs\\python\\python311\\lib\\site-packages (from cffi>=1.0.1->argon2-cffi-bindings->argon2-cffi->notebook>=4.4.1->widgetsnbextension~=3.6.6->ipywidgets<8,>=7.4.0->escher>=1.1.2->cameo) (2.21)\n",
      "Requirement already satisfied: python-json-logger>=2.0.4 in c:\\users\\raema\\appdata\\local\\programs\\python\\python311\\lib\\site-packages (from jupyter-events>=0.6.0->jupyter-server>=1.8->nbclassic>=0.4.7->notebook>=4.4.1->widgetsnbextension~=3.6.6->ipywidgets<8,>=7.4.0->escher>=1.1.2->cameo) (2.0.7)\n",
      "Requirement already satisfied: pyyaml>=5.3 in c:\\users\\raema\\appdata\\local\\programs\\python\\python311\\lib\\site-packages (from jupyter-events>=0.6.0->jupyter-server>=1.8->nbclassic>=0.4.7->notebook>=4.4.1->widgetsnbextension~=3.6.6->ipywidgets<8,>=7.4.0->escher>=1.1.2->cameo) (6.0.1)\n",
      "Requirement already satisfied: rfc3339-validator in c:\\users\\raema\\appdata\\local\\programs\\python\\python311\\lib\\site-packages (from jupyter-events>=0.6.0->jupyter-server>=1.8->nbclassic>=0.4.7->notebook>=4.4.1->widgetsnbextension~=3.6.6->ipywidgets<8,>=7.4.0->escher>=1.1.2->cameo) (0.1.4)\n",
      "Requirement already satisfied: rfc3986-validator>=0.1.1 in c:\\users\\raema\\appdata\\local\\programs\\python\\python311\\lib\\site-packages (from jupyter-events>=0.6.0->jupyter-server>=1.8->nbclassic>=0.4.7->notebook>=4.4.1->widgetsnbextension~=3.6.6->ipywidgets<8,>=7.4.0->escher>=1.1.2->cameo) (0.1.1)\n",
      "Installing collected packages: Jinja2\n",
      "  Attempting uninstall: Jinja2\n",
      "    Found existing installation: Jinja2 3.1.2\n",
      "    Uninstalling Jinja2-3.1.2:\n",
      "      Successfully uninstalled Jinja2-3.1.2\n",
      "Successfully installed Jinja2-2.11.3\n"
     ]
    },
    {
     "name": "stderr",
     "output_type": "stream",
     "text": [
      "ERROR: pip's dependency resolver does not currently take into account all the packages that are installed. This behaviour is the source of the following dependency conflicts.\n",
      "sphinx 7.2.6 requires Jinja2>=3.0, but you have jinja2 2.11.3 which is incompatible.\n"
     ]
    }
   ],
   "source": [
    "!python -m pip install cameo"
   ]
  },
  {
   "cell_type": "code",
   "execution_count": 4,
   "metadata": {},
   "outputs": [
    {
     "name": "stdout",
     "output_type": "stream",
     "text": [
      "Requirement already satisfied: cameo in c:\\users\\raema\\appdata\\local\\programs\\python\\python311\\lib\\site-packages (0.13.6)\n",
      "Requirement already satisfied: numpy>=1.9.1 in c:\\users\\raema\\appdata\\local\\programs\\python\\python311\\lib\\site-packages (from cameo) (1.26.0)\n",
      "Requirement already satisfied: scipy>=0.14.0 in c:\\users\\raema\\appdata\\local\\programs\\python\\python311\\lib\\site-packages (from cameo) (1.11.4)\n",
      "Requirement already satisfied: blessings>=1.5.1 in c:\\users\\raema\\appdata\\local\\programs\\python\\python311\\lib\\site-packages (from cameo) (1.7)\n",
      "Requirement already satisfied: pandas>=1.1.3 in c:\\users\\raema\\appdata\\local\\programs\\python\\python311\\lib\\site-packages (from cameo) (1.5.3)\n",
      "Requirement already satisfied: ordered-set>=1.2 in c:\\users\\raema\\appdata\\local\\programs\\python\\python311\\lib\\site-packages (from cameo) (4.1.0)\n",
      "Requirement already satisfied: cobra>=0.11.1 in c:\\users\\raema\\appdata\\local\\programs\\python\\python311\\lib\\site-packages (from cameo) (0.29.0)\n",
      "Requirement already satisfied: future>=0.15.2 in c:\\users\\raema\\appdata\\local\\programs\\python\\python311\\lib\\site-packages (from cameo) (0.18.3)\n",
      "Requirement already satisfied: optlang>=1.4.2 in c:\\users\\raema\\appdata\\local\\programs\\python\\python311\\lib\\site-packages (from cameo) (1.8.1)\n",
      "Requirement already satisfied: numexpr>=2.4 in c:\\users\\raema\\appdata\\local\\programs\\python\\python311\\lib\\site-packages (from cameo) (2.8.7)\n",
      "Requirement already satisfied: requests>=2.10.0 in c:\\users\\raema\\appdata\\local\\programs\\python\\python311\\lib\\site-packages (from cameo) (2.31.0)\n",
      "Requirement already satisfied: networkx>=2.4 in c:\\users\\raema\\appdata\\local\\programs\\python\\python311\\lib\\site-packages (from cameo) (3.2.1)\n",
      "Requirement already satisfied: escher>=1.1.2 in c:\\users\\raema\\appdata\\local\\programs\\python\\python311\\lib\\site-packages (from cameo) (1.7.3)\n",
      "Requirement already satisfied: IProgress>=0.4 in c:\\users\\raema\\appdata\\local\\programs\\python\\python311\\lib\\site-packages (from cameo) (0.4)\n",
      "Requirement already satisfied: inspyred>=1.0 in c:\\users\\raema\\appdata\\local\\programs\\python\\python311\\lib\\site-packages (from cameo) (1.0.2)\n",
      "Requirement already satisfied: lazy-object-proxy>=1.2.0 in c:\\users\\raema\\appdata\\local\\programs\\python\\python311\\lib\\site-packages (from cameo) (1.9.0)\n",
      "Requirement already satisfied: palettable>=2.1.1 in c:\\users\\raema\\appdata\\local\\programs\\python\\python311\\lib\\site-packages (from cameo) (3.3.3)\n",
      "Requirement already satisfied: gnomic==1.0.1 in c:\\users\\raema\\appdata\\local\\programs\\python\\python311\\lib\\site-packages (from cameo) (1.0.1)\n",
      "Requirement already satisfied: openpyxl>=2.4.5 in c:\\users\\raema\\appdata\\local\\programs\\python\\python311\\lib\\site-packages (from cameo) (3.1.2)\n",
      "Requirement already satisfied: click>=6.7 in c:\\users\\raema\\appdata\\local\\programs\\python\\python311\\lib\\site-packages (from cameo) (8.1.7)\n",
      "Requirement already satisfied: grako==3.18.1 in c:\\users\\raema\\appdata\\local\\programs\\python\\python311\\lib\\site-packages (from gnomic==1.0.1->cameo) (3.18.1)\n",
      "Requirement already satisfied: six>=1.8.0 in c:\\users\\raema\\appdata\\roaming\\python\\python311\\site-packages (from gnomic==1.0.1->cameo) (1.16.0)\n",
      "Requirement already satisfied: colorama in c:\\users\\raema\\appdata\\roaming\\python\\python311\\site-packages (from click>=6.7->cameo) (0.4.6)\n",
      "Requirement already satisfied: appdirs~=1.4 in c:\\users\\raema\\appdata\\local\\programs\\python\\python311\\lib\\site-packages (from cobra>=0.11.1->cameo) (1.4.4)\n",
      "Requirement already satisfied: depinfo~=2.2 in c:\\users\\raema\\appdata\\local\\programs\\python\\python311\\lib\\site-packages (from cobra>=0.11.1->cameo) (2.2.0)\n",
      "Requirement already satisfied: diskcache~=5.0 in c:\\users\\raema\\appdata\\local\\programs\\python\\python311\\lib\\site-packages (from cobra>=0.11.1->cameo) (5.6.3)\n",
      "Requirement already satisfied: httpx~=0.24 in c:\\users\\raema\\appdata\\local\\programs\\python\\python311\\lib\\site-packages (from cobra>=0.11.1->cameo) (0.25.0)\n",
      "Requirement already satisfied: importlib-resources in c:\\users\\raema\\appdata\\local\\programs\\python\\python311\\lib\\site-packages (from cobra>=0.11.1->cameo) (6.0.1)\n",
      "Requirement already satisfied: pydantic>=1.6 in c:\\users\\raema\\appdata\\local\\programs\\python\\python311\\lib\\site-packages (from cobra>=0.11.1->cameo) (2.4.0)\n",
      "Requirement already satisfied: python-libsbml~=5.19 in c:\\users\\raema\\appdata\\local\\programs\\python\\python311\\lib\\site-packages (from cobra>=0.11.1->cameo) (5.20.1)\n",
      "Requirement already satisfied: rich>=8.0 in c:\\users\\raema\\appdata\\local\\programs\\python\\python311\\lib\\site-packages (from cobra>=0.11.1->cameo) (13.5.3)\n",
      "Requirement already satisfied: ruamel.yaml~=0.16 in c:\\users\\raema\\appdata\\local\\programs\\python\\python311\\lib\\site-packages (from cobra>=0.11.1->cameo) (0.17.32)\n",
      "Requirement already satisfied: swiglpk in c:\\users\\raema\\appdata\\local\\programs\\python\\python311\\lib\\site-packages (from cobra>=0.11.1->cameo) (5.0.8)\n",
      "Requirement already satisfied: Jinja2<3,>=2.7.3 in c:\\users\\raema\\appdata\\local\\programs\\python\\python311\\lib\\site-packages (from escher>=1.1.2->cameo) (2.11.3)\n",
      "Requirement already satisfied: pytest<5,>=4.0.1 in c:\\users\\raema\\appdata\\local\\programs\\python\\python311\\lib\\site-packages (from escher>=1.1.2->cameo) (4.6.11)\n",
      "Requirement already satisfied: jsonschema<4,>=3.0.1 in c:\\users\\raema\\appdata\\local\\programs\\python\\python311\\lib\\site-packages (from escher>=1.1.2->cameo) (3.2.0)\n",
      "Requirement already satisfied: ipywidgets<8,>=7.4.0 in c:\\users\\raema\\appdata\\local\\programs\\python\\python311\\lib\\site-packages (from escher>=1.1.2->cameo) (7.8.1)\n",
      "Requirement already satisfied: et-xmlfile in c:\\users\\raema\\appdata\\local\\programs\\python\\python311\\lib\\site-packages (from openpyxl>=2.4.5->cameo) (1.1.0)\n",
      "Requirement already satisfied: sympy>=1.12.0 in c:\\users\\raema\\appdata\\local\\programs\\python\\python311\\lib\\site-packages (from optlang>=1.4.2->cameo) (1.12)\n",
      "Requirement already satisfied: python-dateutil>=2.8.1 in c:\\users\\raema\\appdata\\roaming\\python\\python311\\site-packages (from pandas>=1.1.3->cameo) (2.8.2)\n",
      "Requirement already satisfied: pytz>=2020.1 in c:\\users\\raema\\appdata\\local\\programs\\python\\python311\\lib\\site-packages (from pandas>=1.1.3->cameo) (2023.3.post1)\n",
      "Requirement already satisfied: charset-normalizer<4,>=2 in c:\\users\\raema\\appdata\\local\\programs\\python\\python311\\lib\\site-packages (from requests>=2.10.0->cameo) (3.3.2)\n",
      "Requirement already satisfied: idna<4,>=2.5 in c:\\users\\raema\\appdata\\local\\programs\\python\\python311\\lib\\site-packages (from requests>=2.10.0->cameo) (3.4)\n",
      "Requirement already satisfied: urllib3<3,>=1.21.1 in c:\\users\\raema\\appdata\\local\\programs\\python\\python311\\lib\\site-packages (from requests>=2.10.0->cameo) (2.0.7)\n",
      "Requirement already satisfied: certifi>=2017.4.17 in c:\\users\\raema\\appdata\\local\\programs\\python\\python311\\lib\\site-packages (from requests>=2.10.0->cameo) (2023.7.22)\n",
      "Requirement already satisfied: httpcore<0.19.0,>=0.18.0 in c:\\users\\raema\\appdata\\local\\programs\\python\\python311\\lib\\site-packages (from httpx~=0.24->cobra>=0.11.1->cameo) (0.18.0)\n",
      "Requirement already satisfied: sniffio in c:\\users\\raema\\appdata\\local\\programs\\python\\python311\\lib\\site-packages (from httpx~=0.24->cobra>=0.11.1->cameo) (1.3.0)\n",
      "Requirement already satisfied: comm>=0.1.3 in c:\\users\\raema\\appdata\\roaming\\python\\python311\\site-packages (from ipywidgets<8,>=7.4.0->escher>=1.1.2->cameo) (0.1.4)\n",
      "Requirement already satisfied: ipython-genutils~=0.2.0 in c:\\users\\raema\\appdata\\local\\programs\\python\\python311\\lib\\site-packages (from ipywidgets<8,>=7.4.0->escher>=1.1.2->cameo) (0.2.0)\n",
      "Requirement already satisfied: traitlets>=4.3.1 in c:\\users\\raema\\appdata\\roaming\\python\\python311\\site-packages (from ipywidgets<8,>=7.4.0->escher>=1.1.2->cameo) (5.10.0)\n",
      "Requirement already satisfied: widgetsnbextension~=3.6.6 in c:\\users\\raema\\appdata\\local\\programs\\python\\python311\\lib\\site-packages (from ipywidgets<8,>=7.4.0->escher>=1.1.2->cameo) (3.6.6)\n",
      "Requirement already satisfied: ipython>=4.0.0 in c:\\users\\raema\\appdata\\roaming\\python\\python311\\site-packages (from ipywidgets<8,>=7.4.0->escher>=1.1.2->cameo) (8.15.0)\n",
      "Requirement already satisfied: jupyterlab-widgets<3,>=1.0.0 in c:\\users\\raema\\appdata\\local\\programs\\python\\python311\\lib\\site-packages (from ipywidgets<8,>=7.4.0->escher>=1.1.2->cameo) (1.1.7)\n",
      "Requirement already satisfied: MarkupSafe>=0.23 in c:\\users\\raema\\appdata\\local\\programs\\python\\python311\\lib\\site-packages (from Jinja2<3,>=2.7.3->escher>=1.1.2->cameo) (2.1.3)\n",
      "Requirement already satisfied: attrs>=17.4.0 in c:\\users\\raema\\appdata\\local\\programs\\python\\python311\\lib\\site-packages (from jsonschema<4,>=3.0.1->escher>=1.1.2->cameo) (23.1.0)\n",
      "Requirement already satisfied: pyrsistent>=0.14.0 in c:\\users\\raema\\appdata\\local\\programs\\python\\python311\\lib\\site-packages (from jsonschema<4,>=3.0.1->escher>=1.1.2->cameo) (0.19.3)\n",
      "Requirement already satisfied: setuptools in c:\\users\\raema\\appdata\\local\\programs\\python\\python311\\lib\\site-packages (from jsonschema<4,>=3.0.1->escher>=1.1.2->cameo) (65.5.0)\n",
      "Requirement already satisfied: annotated-types>=0.4.0 in c:\\users\\raema\\appdata\\local\\programs\\python\\python311\\lib\\site-packages (from pydantic>=1.6->cobra>=0.11.1->cameo) (0.5.0)\n",
      "Requirement already satisfied: pydantic-core==2.10.0 in c:\\users\\raema\\appdata\\local\\programs\\python\\python311\\lib\\site-packages (from pydantic>=1.6->cobra>=0.11.1->cameo) (2.10.0)\n",
      "Requirement already satisfied: typing-extensions>=4.6.1 in c:\\users\\raema\\appdata\\local\\programs\\python\\python311\\lib\\site-packages (from pydantic>=1.6->cobra>=0.11.1->cameo) (4.8.0)\n",
      "Requirement already satisfied: py>=1.5.0 in c:\\users\\raema\\appdata\\local\\programs\\python\\python311\\lib\\site-packages (from pytest<5,>=4.0.1->escher>=1.1.2->cameo) (1.11.0)\n",
      "Requirement already satisfied: packaging in c:\\users\\raema\\appdata\\roaming\\python\\python311\\site-packages (from pytest<5,>=4.0.1->escher>=1.1.2->cameo) (23.1)\n",
      "Requirement already satisfied: atomicwrites>=1.0 in c:\\users\\raema\\appdata\\local\\programs\\python\\python311\\lib\\site-packages (from pytest<5,>=4.0.1->escher>=1.1.2->cameo) (1.4.1)\n",
      "Requirement already satisfied: pluggy<1.0,>=0.12 in c:\\users\\raema\\appdata\\local\\programs\\python\\python311\\lib\\site-packages (from pytest<5,>=4.0.1->escher>=1.1.2->cameo) (0.13.1)\n",
      "Requirement already satisfied: wcwidth in c:\\users\\raema\\appdata\\roaming\\python\\python311\\site-packages (from pytest<5,>=4.0.1->escher>=1.1.2->cameo) (0.2.6)\n",
      "Requirement already satisfied: more-itertools>=4.0.0 in c:\\users\\raema\\appdata\\local\\programs\\python\\python311\\lib\\site-packages (from pytest<5,>=4.0.1->escher>=1.1.2->cameo) (10.1.0)\n",
      "Requirement already satisfied: markdown-it-py>=2.2.0 in c:\\users\\raema\\appdata\\local\\programs\\python\\python311\\lib\\site-packages (from rich>=8.0->cobra>=0.11.1->cameo) (3.0.0)\n",
      "Requirement already satisfied: pygments<3.0.0,>=2.13.0 in c:\\users\\raema\\appdata\\roaming\\python\\python311\\site-packages (from rich>=8.0->cobra>=0.11.1->cameo) (2.16.1)\n",
      "Requirement already satisfied: ruamel.yaml.clib>=0.2.7 in c:\\users\\raema\\appdata\\local\\programs\\python\\python311\\lib\\site-packages (from ruamel.yaml~=0.16->cobra>=0.11.1->cameo) (0.2.7)\n",
      "Requirement already satisfied: mpmath>=0.19 in c:\\users\\raema\\appdata\\local\\programs\\python\\python311\\lib\\site-packages (from sympy>=1.12.0->optlang>=1.4.2->cameo) (1.3.0)\n",
      "Requirement already satisfied: anyio<5.0,>=3.0 in c:\\users\\raema\\appdata\\local\\programs\\python\\python311\\lib\\site-packages (from httpcore<0.19.0,>=0.18.0->httpx~=0.24->cobra>=0.11.1->cameo) (4.0.0)\n",
      "Requirement already satisfied: h11<0.15,>=0.13 in c:\\users\\raema\\appdata\\local\\programs\\python\\python311\\lib\\site-packages (from httpcore<0.19.0,>=0.18.0->httpx~=0.24->cobra>=0.11.1->cameo) (0.14.0)\n",
      "Requirement already satisfied: backcall in c:\\users\\raema\\appdata\\roaming\\python\\python311\\site-packages (from ipython>=4.0.0->ipywidgets<8,>=7.4.0->escher>=1.1.2->cameo) (0.2.0)\n",
      "Requirement already satisfied: decorator in c:\\users\\raema\\appdata\\roaming\\python\\python311\\site-packages (from ipython>=4.0.0->ipywidgets<8,>=7.4.0->escher>=1.1.2->cameo) (5.1.1)\n",
      "Requirement already satisfied: jedi>=0.16 in c:\\users\\raema\\appdata\\roaming\\python\\python311\\site-packages (from ipython>=4.0.0->ipywidgets<8,>=7.4.0->escher>=1.1.2->cameo) (0.19.0)\n",
      "Requirement already satisfied: matplotlib-inline in c:\\users\\raema\\appdata\\roaming\\python\\python311\\site-packages (from ipython>=4.0.0->ipywidgets<8,>=7.4.0->escher>=1.1.2->cameo) (0.1.6)\n",
      "Requirement already satisfied: pickleshare in c:\\users\\raema\\appdata\\roaming\\python\\python311\\site-packages (from ipython>=4.0.0->ipywidgets<8,>=7.4.0->escher>=1.1.2->cameo) (0.7.5)\n",
      "Requirement already satisfied: prompt-toolkit!=3.0.37,<3.1.0,>=3.0.30 in c:\\users\\raema\\appdata\\roaming\\python\\python311\\site-packages (from ipython>=4.0.0->ipywidgets<8,>=7.4.0->escher>=1.1.2->cameo) (3.0.39)\n",
      "Requirement already satisfied: stack-data in c:\\users\\raema\\appdata\\roaming\\python\\python311\\site-packages (from ipython>=4.0.0->ipywidgets<8,>=7.4.0->escher>=1.1.2->cameo) (0.6.2)\n",
      "Requirement already satisfied: mdurl~=0.1 in c:\\users\\raema\\appdata\\local\\programs\\python\\python311\\lib\\site-packages (from markdown-it-py>=2.2.0->rich>=8.0->cobra>=0.11.1->cameo) (0.1.2)\n",
      "Requirement already satisfied: notebook>=4.4.1 in c:\\users\\raema\\appdata\\local\\programs\\python\\python311\\lib\\site-packages (from widgetsnbextension~=3.6.6->ipywidgets<8,>=7.4.0->escher>=1.1.2->cameo) (6.5.6)\n",
      "Requirement already satisfied: parso<0.9.0,>=0.8.3 in c:\\users\\raema\\appdata\\roaming\\python\\python311\\site-packages (from jedi>=0.16->ipython>=4.0.0->ipywidgets<8,>=7.4.0->escher>=1.1.2->cameo) (0.8.3)\n",
      "Requirement already satisfied: tornado>=6.1 in c:\\users\\raema\\appdata\\roaming\\python\\python311\\site-packages (from notebook>=4.4.1->widgetsnbextension~=3.6.6->ipywidgets<8,>=7.4.0->escher>=1.1.2->cameo) (6.3.3)\n",
      "Requirement already satisfied: pyzmq<25,>=17 in c:\\users\\raema\\appdata\\local\\programs\\python\\python311\\lib\\site-packages (from notebook>=4.4.1->widgetsnbextension~=3.6.6->ipywidgets<8,>=7.4.0->escher>=1.1.2->cameo) (24.0.1)\n",
      "Requirement already satisfied: argon2-cffi in c:\\users\\raema\\appdata\\local\\programs\\python\\python311\\lib\\site-packages (from notebook>=4.4.1->widgetsnbextension~=3.6.6->ipywidgets<8,>=7.4.0->escher>=1.1.2->cameo) (23.1.0)\n",
      "Requirement already satisfied: jupyter-core>=4.6.1 in c:\\users\\raema\\appdata\\roaming\\python\\python311\\site-packages (from notebook>=4.4.1->widgetsnbextension~=3.6.6->ipywidgets<8,>=7.4.0->escher>=1.1.2->cameo) (5.3.1)\n",
      "Requirement already satisfied: jupyter-client<8,>=5.3.4 in c:\\users\\raema\\appdata\\local\\programs\\python\\python311\\lib\\site-packages (from notebook>=4.4.1->widgetsnbextension~=3.6.6->ipywidgets<8,>=7.4.0->escher>=1.1.2->cameo) (7.4.9)\n",
      "Requirement already satisfied: nbformat in c:\\users\\raema\\appdata\\local\\programs\\python\\python311\\lib\\site-packages (from notebook>=4.4.1->widgetsnbextension~=3.6.6->ipywidgets<8,>=7.4.0->escher>=1.1.2->cameo) (5.9.2)\n",
      "Requirement already satisfied: nbconvert>=5 in c:\\users\\raema\\appdata\\local\\programs\\python\\python311\\lib\\site-packages (from notebook>=4.4.1->widgetsnbextension~=3.6.6->ipywidgets<8,>=7.4.0->escher>=1.1.2->cameo) (6.4.5)\n",
      "Requirement already satisfied: nest-asyncio>=1.5 in c:\\users\\raema\\appdata\\roaming\\python\\python311\\site-packages (from notebook>=4.4.1->widgetsnbextension~=3.6.6->ipywidgets<8,>=7.4.0->escher>=1.1.2->cameo) (1.5.8)\n",
      "Requirement already satisfied: ipykernel in c:\\users\\raema\\appdata\\roaming\\python\\python311\\site-packages (from notebook>=4.4.1->widgetsnbextension~=3.6.6->ipywidgets<8,>=7.4.0->escher>=1.1.2->cameo) (6.25.2)\n",
      "Requirement already satisfied: Send2Trash>=1.8.0 in c:\\users\\raema\\appdata\\local\\programs\\python\\python311\\lib\\site-packages (from notebook>=4.4.1->widgetsnbextension~=3.6.6->ipywidgets<8,>=7.4.0->escher>=1.1.2->cameo) (1.8.2)\n",
      "Requirement already satisfied: terminado>=0.8.3 in c:\\users\\raema\\appdata\\local\\programs\\python\\python311\\lib\\site-packages (from notebook>=4.4.1->widgetsnbextension~=3.6.6->ipywidgets<8,>=7.4.0->escher>=1.1.2->cameo) (0.17.1)\n",
      "Requirement already satisfied: prometheus-client in c:\\users\\raema\\appdata\\local\\programs\\python\\python311\\lib\\site-packages (from notebook>=4.4.1->widgetsnbextension~=3.6.6->ipywidgets<8,>=7.4.0->escher>=1.1.2->cameo) (0.17.1)\n",
      "Requirement already satisfied: nbclassic>=0.4.7 in c:\\users\\raema\\appdata\\local\\programs\\python\\python311\\lib\\site-packages (from notebook>=4.4.1->widgetsnbextension~=3.6.6->ipywidgets<8,>=7.4.0->escher>=1.1.2->cameo) (1.0.0)\n",
      "Requirement already satisfied: executing>=1.2.0 in c:\\users\\raema\\appdata\\roaming\\python\\python311\\site-packages (from stack-data->ipython>=4.0.0->ipywidgets<8,>=7.4.0->escher>=1.1.2->cameo) (1.2.0)\n",
      "Requirement already satisfied: asttokens>=2.1.0 in c:\\users\\raema\\appdata\\roaming\\python\\python311\\site-packages (from stack-data->ipython>=4.0.0->ipywidgets<8,>=7.4.0->escher>=1.1.2->cameo) (2.4.0)\n",
      "Requirement already satisfied: pure-eval in c:\\users\\raema\\appdata\\roaming\\python\\python311\\site-packages (from stack-data->ipython>=4.0.0->ipywidgets<8,>=7.4.0->escher>=1.1.2->cameo) (0.2.2)\n",
      "Requirement already satisfied: entrypoints in c:\\users\\raema\\appdata\\local\\programs\\python\\python311\\lib\\site-packages (from jupyter-client<8,>=5.3.4->notebook>=4.4.1->widgetsnbextension~=3.6.6->ipywidgets<8,>=7.4.0->escher>=1.1.2->cameo) (0.4)\n",
      "Requirement already satisfied: platformdirs>=2.5 in c:\\users\\raema\\appdata\\roaming\\python\\python311\\site-packages (from jupyter-core>=4.6.1->notebook>=4.4.1->widgetsnbextension~=3.6.6->ipywidgets<8,>=7.4.0->escher>=1.1.2->cameo) (3.10.0)\n",
      "Requirement already satisfied: pywin32>=300 in c:\\users\\raema\\appdata\\roaming\\python\\python311\\site-packages (from jupyter-core>=4.6.1->notebook>=4.4.1->widgetsnbextension~=3.6.6->ipywidgets<8,>=7.4.0->escher>=1.1.2->cameo) (306)\n",
      "Requirement already satisfied: jupyter-server>=1.8 in c:\\users\\raema\\appdata\\local\\programs\\python\\python311\\lib\\site-packages (from nbclassic>=0.4.7->notebook>=4.4.1->widgetsnbextension~=3.6.6->ipywidgets<8,>=7.4.0->escher>=1.1.2->cameo) (2.7.3)\n",
      "Requirement already satisfied: notebook-shim>=0.2.3 in c:\\users\\raema\\appdata\\local\\programs\\python\\python311\\lib\\site-packages (from nbclassic>=0.4.7->notebook>=4.4.1->widgetsnbextension~=3.6.6->ipywidgets<8,>=7.4.0->escher>=1.1.2->cameo) (0.2.3)\n",
      "Requirement already satisfied: mistune<2,>=0.8.1 in c:\\users\\raema\\appdata\\local\\programs\\python\\python311\\lib\\site-packages (from nbconvert>=5->notebook>=4.4.1->widgetsnbextension~=3.6.6->ipywidgets<8,>=7.4.0->escher>=1.1.2->cameo) (0.8.4)\n",
      "Requirement already satisfied: jupyterlab-pygments in c:\\users\\raema\\appdata\\local\\programs\\python\\python311\\lib\\site-packages (from nbconvert>=5->notebook>=4.4.1->widgetsnbextension~=3.6.6->ipywidgets<8,>=7.4.0->escher>=1.1.2->cameo) (0.2.2)\n",
      "Requirement already satisfied: bleach in c:\\users\\raema\\appdata\\local\\programs\\python\\python311\\lib\\site-packages (from nbconvert>=5->notebook>=4.4.1->widgetsnbextension~=3.6.6->ipywidgets<8,>=7.4.0->escher>=1.1.2->cameo) (6.0.0)\n",
      "Requirement already satisfied: pandocfilters>=1.4.1 in c:\\users\\raema\\appdata\\local\\programs\\python\\python311\\lib\\site-packages (from nbconvert>=5->notebook>=4.4.1->widgetsnbextension~=3.6.6->ipywidgets<8,>=7.4.0->escher>=1.1.2->cameo) (1.5.0)\n",
      "Requirement already satisfied: testpath in c:\\users\\raema\\appdata\\local\\programs\\python\\python311\\lib\\site-packages (from nbconvert>=5->notebook>=4.4.1->widgetsnbextension~=3.6.6->ipywidgets<8,>=7.4.0->escher>=1.1.2->cameo) (0.6.0)\n",
      "Requirement already satisfied: defusedxml in c:\\users\\raema\\appdata\\local\\programs\\python\\python311\\lib\\site-packages (from nbconvert>=5->notebook>=4.4.1->widgetsnbextension~=3.6.6->ipywidgets<8,>=7.4.0->escher>=1.1.2->cameo) (0.7.1)\n",
      "Requirement already satisfied: beautifulsoup4 in c:\\users\\raema\\appdata\\local\\programs\\python\\python311\\lib\\site-packages (from nbconvert>=5->notebook>=4.4.1->widgetsnbextension~=3.6.6->ipywidgets<8,>=7.4.0->escher>=1.1.2->cameo) (4.12.2)\n",
      "Requirement already satisfied: nbclient<0.6.0,>=0.5.0 in c:\\users\\raema\\appdata\\local\\programs\\python\\python311\\lib\\site-packages (from nbconvert>=5->notebook>=4.4.1->widgetsnbextension~=3.6.6->ipywidgets<8,>=7.4.0->escher>=1.1.2->cameo) (0.5.13)\n",
      "Requirement already satisfied: fastjsonschema in c:\\users\\raema\\appdata\\local\\programs\\python\\python311\\lib\\site-packages (from nbformat->notebook>=4.4.1->widgetsnbextension~=3.6.6->ipywidgets<8,>=7.4.0->escher>=1.1.2->cameo) (2.18.0)\n",
      "Requirement already satisfied: pywinpty>=1.1.0 in c:\\users\\raema\\appdata\\local\\programs\\python\\python311\\lib\\site-packages (from terminado>=0.8.3->notebook>=4.4.1->widgetsnbextension~=3.6.6->ipywidgets<8,>=7.4.0->escher>=1.1.2->cameo) (2.0.11)\n",
      "Requirement already satisfied: argon2-cffi-bindings in c:\\users\\raema\\appdata\\local\\programs\\python\\python311\\lib\\site-packages (from argon2-cffi->notebook>=4.4.1->widgetsnbextension~=3.6.6->ipywidgets<8,>=7.4.0->escher>=1.1.2->cameo) (21.2.0)\n",
      "Requirement already satisfied: debugpy>=1.6.5 in c:\\users\\raema\\appdata\\roaming\\python\\python311\\site-packages (from ipykernel->notebook>=4.4.1->widgetsnbextension~=3.6.6->ipywidgets<8,>=7.4.0->escher>=1.1.2->cameo) (1.8.0)\n",
      "Requirement already satisfied: psutil in c:\\users\\raema\\appdata\\roaming\\python\\python311\\site-packages (from ipykernel->notebook>=4.4.1->widgetsnbextension~=3.6.6->ipywidgets<8,>=7.4.0->escher>=1.1.2->cameo) (5.9.5)\n",
      "Requirement already satisfied: jupyter-events>=0.6.0 in c:\\users\\raema\\appdata\\local\\programs\\python\\python311\\lib\\site-packages (from jupyter-server>=1.8->nbclassic>=0.4.7->notebook>=4.4.1->widgetsnbextension~=3.6.6->ipywidgets<8,>=7.4.0->escher>=1.1.2->cameo) (0.6.3)\n",
      "Requirement already satisfied: jupyter-server-terminals in c:\\users\\raema\\appdata\\local\\programs\\python\\python311\\lib\\site-packages (from jupyter-server>=1.8->nbclassic>=0.4.7->notebook>=4.4.1->widgetsnbextension~=3.6.6->ipywidgets<8,>=7.4.0->escher>=1.1.2->cameo) (0.4.4)\n",
      "Requirement already satisfied: overrides in c:\\users\\raema\\appdata\\local\\programs\\python\\python311\\lib\\site-packages (from jupyter-server>=1.8->nbclassic>=0.4.7->notebook>=4.4.1->widgetsnbextension~=3.6.6->ipywidgets<8,>=7.4.0->escher>=1.1.2->cameo) (7.4.0)\n",
      "Requirement already satisfied: websocket-client in c:\\users\\raema\\appdata\\local\\programs\\python\\python311\\lib\\site-packages (from jupyter-server>=1.8->nbclassic>=0.4.7->notebook>=4.4.1->widgetsnbextension~=3.6.6->ipywidgets<8,>=7.4.0->escher>=1.1.2->cameo) (1.6.3)\n",
      "Requirement already satisfied: cffi>=1.0.1 in c:\\users\\raema\\appdata\\local\\programs\\python\\python311\\lib\\site-packages (from argon2-cffi-bindings->argon2-cffi->notebook>=4.4.1->widgetsnbextension~=3.6.6->ipywidgets<8,>=7.4.0->escher>=1.1.2->cameo) (1.15.1)\n",
      "Requirement already satisfied: soupsieve>1.2 in c:\\users\\raema\\appdata\\local\\programs\\python\\python311\\lib\\site-packages (from beautifulsoup4->nbconvert>=5->notebook>=4.4.1->widgetsnbextension~=3.6.6->ipywidgets<8,>=7.4.0->escher>=1.1.2->cameo) (2.5)\n",
      "Requirement already satisfied: webencodings in c:\\users\\raema\\appdata\\local\\programs\\python\\python311\\lib\\site-packages (from bleach->nbconvert>=5->notebook>=4.4.1->widgetsnbextension~=3.6.6->ipywidgets<8,>=7.4.0->escher>=1.1.2->cameo) (0.5.1)\n",
      "Requirement already satisfied: pycparser in c:\\users\\raema\\appdata\\local\\programs\\python\\python311\\lib\\site-packages (from cffi>=1.0.1->argon2-cffi-bindings->argon2-cffi->notebook>=4.4.1->widgetsnbextension~=3.6.6->ipywidgets<8,>=7.4.0->escher>=1.1.2->cameo) (2.21)\n",
      "Requirement already satisfied: python-json-logger>=2.0.4 in c:\\users\\raema\\appdata\\local\\programs\\python\\python311\\lib\\site-packages (from jupyter-events>=0.6.0->jupyter-server>=1.8->nbclassic>=0.4.7->notebook>=4.4.1->widgetsnbextension~=3.6.6->ipywidgets<8,>=7.4.0->escher>=1.1.2->cameo) (2.0.7)\n",
      "Requirement already satisfied: pyyaml>=5.3 in c:\\users\\raema\\appdata\\local\\programs\\python\\python311\\lib\\site-packages (from jupyter-events>=0.6.0->jupyter-server>=1.8->nbclassic>=0.4.7->notebook>=4.4.1->widgetsnbextension~=3.6.6->ipywidgets<8,>=7.4.0->escher>=1.1.2->cameo) (6.0.1)\n",
      "Requirement already satisfied: rfc3339-validator in c:\\users\\raema\\appdata\\local\\programs\\python\\python311\\lib\\site-packages (from jupyter-events>=0.6.0->jupyter-server>=1.8->nbclassic>=0.4.7->notebook>=4.4.1->widgetsnbextension~=3.6.6->ipywidgets<8,>=7.4.0->escher>=1.1.2->cameo) (0.1.4)\n",
      "Requirement already satisfied: rfc3986-validator>=0.1.1 in c:\\users\\raema\\appdata\\local\\programs\\python\\python311\\lib\\site-packages (from jupyter-events>=0.6.0->jupyter-server>=1.8->nbclassic>=0.4.7->notebook>=4.4.1->widgetsnbextension~=3.6.6->ipywidgets<8,>=7.4.0->escher>=1.1.2->cameo) (0.1.1)\n",
      "Note: you may need to restart the kernel to use updated packages.\n"
     ]
    }
   ],
   "source": [
    "pip install cameo"
   ]
  },
  {
   "cell_type": "code",
   "execution_count": 21,
   "metadata": {},
   "outputs": [
    {
     "name": "stdout",
     "output_type": "stream",
     "text": [
      "Requirement already satisfied: Jinja2 in c:\\users\\raema\\appdata\\local\\programs\\python\\python311\\lib\\site-packages (3.1.2)\n",
      "Requirement already satisfied: MarkupSafe>=2.0 in c:\\users\\raema\\appdata\\local\\programs\\python\\python311\\lib\\site-packages (from Jinja2) (2.1.3)\n",
      "Note: you may need to restart the kernel to use updated packages.\n"
     ]
    }
   ],
   "source": [
    "pip install --upgrade Jinja2"
   ]
  },
  {
   "cell_type": "code",
   "execution_count": 5,
   "metadata": {},
   "outputs": [],
   "source": [
    "from cameo.strain_design.deterministic.linear_programming import OptKnock"
   ]
  },
  {
   "cell_type": "code",
   "execution_count": 8,
   "metadata": {},
   "outputs": [
    {
     "ename": "NameError",
     "evalue": "name 'cleaneduplist' is not defined",
     "output_type": "error",
     "traceback": [
      "\u001b[1;31m---------------------------------------------------------------------------\u001b[0m",
      "\u001b[1;31mNameError\u001b[0m                                 Traceback (most recent call last)",
      "\u001b[1;32mc:\\Users\\raema\\github-classroom\\27410\\group-assingment-group-14\\3_E. coli_gene_Kos.ipynb Cell 13\u001b[0m line \u001b[0;36m1\n\u001b[1;32m----> <a href='vscode-notebook-cell:/c%3A/Users/raema/github-classroom/27410/group-assingment-group-14/3_E.%20coli_gene_Kos.ipynb#X14sZmlsZQ%3D%3D?line=0'>1</a>\u001b[0m optknock \u001b[39m=\u001b[39m OptKnock(model, fraction_of_optimum\u001b[39m=\u001b[39m \u001b[39m0.5\u001b[39m, exclude_reactions\u001b[39m=\u001b[39m cleaneduplist)\n",
      "\u001b[1;31mNameError\u001b[0m: name 'cleaneduplist' is not defined"
     ]
    }
   ],
   "source": [
    "optknock = OptKnock(model, fraction_of_optimum= 0.5, exclude_reactions= cleaneduplist)"
   ]
  },
  {
   "cell_type": "code",
   "execution_count": 1,
   "metadata": {},
   "outputs": [
    {
     "ename": "NameError",
     "evalue": "name 'optknock' is not defined",
     "output_type": "error",
     "traceback": [
      "\u001b[1;31m---------------------------------------------------------------------------\u001b[0m",
      "\u001b[1;31mNameError\u001b[0m                                 Traceback (most recent call last)",
      "\u001b[1;32mc:\\Users\\raema\\github-classroom\\27410\\group-assingment-group-14\\3_E. coli_gene_Kos.ipynb Cell 14\u001b[0m line \u001b[0;36m1\n\u001b[1;32m----> <a href='vscode-notebook-cell:/c%3A/Users/raema/github-classroom/27410/group-assingment-group-14/3_E.%20coli_gene_Kos.ipynb#X13sZmlsZQ%3D%3D?line=0'>1</a>\u001b[0m result \u001b[39m=\u001b[39m optknock\u001b[39m.\u001b[39mrun(max_knockouts\u001b[39m=\u001b[39m\u001b[39m1\u001b[39m, target\u001b[39m=\u001b[39m\u001b[39m\"\u001b[39m\u001b[39mEX_asp__L_e\u001b[39m\u001b[39m\"\u001b[39m, biomass\u001b[39m=\u001b[39m\u001b[39m\"\u001b[39m\u001b[39mBIOMASS_Ec_iML1515_core_75p37M\u001b[39m\u001b[39m\"\u001b[39m)\n",
      "\u001b[1;31mNameError\u001b[0m: name 'optknock' is not defined"
     ]
    }
   ],
   "source": [
    "result = optknock.run(max_knockouts=1, target=\"EX_asp__L_e\", biomass=\"BIOMASS_Ec_iML1515_core_75p37M\")"
   ]
  },
  {
   "cell_type": "code",
   "execution_count": null,
   "metadata": {},
   "outputs": [],
   "source": [
    "result"
   ]
  },
  {
   "cell_type": "code",
   "execution_count": null,
   "metadata": {},
   "outputs": [],
   "source": [
    "result2 = optknock.run(max_knockouts=2, target=\"EX_asp__L_e\", biomass=\"BIOMASS_Ec_iML1515_core_75p37M\")"
   ]
  },
  {
   "cell_type": "code",
   "execution_count": null,
   "metadata": {},
   "outputs": [],
   "source": [
    "result2"
   ]
  },
  {
   "cell_type": "code",
   "execution_count": null,
   "metadata": {},
   "outputs": [],
   "source": [
    "result3 = optknock.run(max_knockouts=3, target=\"EX_ptrc_e\", biomass=\"BIOMASS_Ec_iML1515_core_75p37M\")"
   ]
  },
  {
   "cell_type": "code",
   "execution_count": null,
   "metadata": {},
   "outputs": [],
   "source": [
    "result3"
   ]
  },
  {
   "cell_type": "markdown",
   "metadata": {},
   "source": [
    "# Testing knock-outs"
   ]
  },
  {
   "cell_type": "markdown",
   "metadata": {},
   "source": [
    "We took both the results of utilizing the optknock algorithm and sugested knock-outs found in the literature."
   ]
  },
  {
   "cell_type": "markdown",
   "metadata": {},
   "source": [
    "First the original max production and yield of L aspartate are determined, to have a baseline for comparizon"
   ]
  },
  {
   "cell_type": "code",
   "execution_count": null,
   "metadata": {},
   "outputs": [],
   "source": [
    "\n",
    "with model:\n",
    "    #model.objective = model.reactions.EX_asp__L_e\n",
    "    model_asp_optimized = print (model.optimize().objective_value)\n",
    "    print(\"L_Aspertate production [mmol gDW^-1 h^-1]:\", put_production)\n",
    "    print(\"Yield L_aspartate/glucose [mmol-asp / mmol-glc]:\", put_production / (-1*model.reactions.EX_glc__D_e.flux))"
   ]
  },
  {
   "cell_type": "markdown",
   "metadata": {},
   "source": [
    "Know we are able to stat testing the diffrent gene knock-outs"
   ]
  },
  {
   "cell_type": "markdown",
   "metadata": {},
   "source": [
    "Single knock-out Optknock solution"
   ]
  },
  {
   "cell_type": "code",
   "execution_count": null,
   "metadata": {},
   "outputs": [],
   "source": [
    "with model:\n",
    "    model.genes.yourgeneID.knock_out()\n",
    "    #model.objective = model.reactions.EX_asp__L_e\n",
    "    model_asp_optimized = print (model.optimize().objective_value)\n",
    "    print (\"with yourgeneID deleted\")\n",
    "    print(\"Max. putriscine production [mmol gDW^-1 h^-1]:\", put_production)\n",
    "    print(\"Theoretical max. yield [mmol-put / mmol-glc]:\", put_production / (-1*model.reactions.EX_glc__D_e.flux))"
   ]
  },
  {
   "cell_type": "markdown",
   "metadata": {},
   "source": [
    "Double knock_out Optknock solution "
   ]
  },
  {
   "cell_type": "code",
   "execution_count": null,
   "metadata": {},
   "outputs": [],
   "source": [
    "with model:\n",
    "    model.genes.yourgeneID.knock_out()\n",
    "    model.genes.yourgeneID2.knock_out()\n",
    "    #model.objective = model.reactions.EX_asp__L_e\n",
    "    model_asp_optimized = print (model.optimize().objective_value)\n",
    "    print (\"with yourgeneID deleted\")\n",
    "    print(\"Max. putriscine production [mmol gDW^-1 h^-1]:\", put_production)\n",
    "    print(\"Theoretical max. yield [mmol-put / mmol-glc]:\", put_production / (-1*model.reactions.EX_glc__D_e.flux))"
   ]
  },
  {
   "cell_type": "markdown",
   "metadata": {},
   "source": [
    "Triple knock_out Optknock solution "
   ]
  },
  {
   "cell_type": "code",
   "execution_count": null,
   "metadata": {},
   "outputs": [],
   "source": [
    "with model:\n",
    "    model.genes.yourgeneID.knock_out()\n",
    "    model.genes.yourgeneID2.knock_out()\n",
    "    model.genes.yourgeneID3.knock_out()\n",
    "    #model.objective = model.reactions.EX_asp__L_e\n",
    "    model_asp_optimized = print (model.optimize().objective_value)\n",
    "    print (\"with yourgeneID deleted\")\n",
    "    print(\"Max. putriscine production [mmol gDW^-1 h^-1]:\", put_production)\n",
    "    print(\"Theoretical max. yield [mmol-put / mmol-glc]:\", put_production / (-1*model.reactions.EX_glc__D_e.flux))"
   ]
  },
  {
   "cell_type": "markdown",
   "metadata": {},
   "source": [
    "Literature based Knock-outs "
   ]
  },
  {
   "cell_type": "code",
   "execution_count": null,
   "metadata": {},
   "outputs": [],
   "source": [
    "with model:\n",
    "    model.genes.yourgeneID.knock_out()\n",
    "    model.genes.yourgeneID2.knock_out()\n",
    "    model.genes.yourgeneID3.knock_out()\n",
    "    #model.objective = model.reactions.EX_asp__L_e\n",
    "    model_asp_optimized = print (model.optimize().objective_value)\n",
    "    print (\"with yourgeneID deleted\")\n",
    "    print(\"Max. putriscine production [mmol gDW^-1 h^-1]:\", put_production)\n",
    "    print(\"Theoretical max. yield [mmol-put / mmol-glc]:\", put_production / (-1*model.reactions.EX_glc__D_e.flux))"
   ]
  }
 ],
 "metadata": {
  "kernelspec": {
   "display_name": "base",
   "language": "python",
   "name": "python3"
  },
  "language_info": {
   "codemirror_mode": {
    "name": "ipython",
    "version": 3
   },
   "file_extension": ".py",
   "mimetype": "text/x-python",
   "name": "python",
   "nbconvert_exporter": "python",
   "pygments_lexer": "ipython3",
   "version": "3.11.5"
  }
 },
 "nbformat": 4,
 "nbformat_minor": 2
}
