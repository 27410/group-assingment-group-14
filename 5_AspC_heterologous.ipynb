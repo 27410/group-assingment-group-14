{
 "cells": [
  {
   "cell_type": "markdown",
   "metadata": {},
   "source": [
    "# AspC insertion"
   ]
  },
  {
   "cell_type": "code",
   "execution_count": 22,
   "metadata": {},
   "outputs": [
    {
     "name": "stdout",
     "output_type": "stream",
     "text": [
      "ASPtex ASPtex: asp__L_e <=> asp__L_p L-aspartate transport via diffusion (extracellular to periplasm)\n",
      "EX_asp__L_e EX_asp__L_e: asp__L_e -->  L-Aspartate exchange\n",
      "0.87699721425716\n",
      "0.87392\n",
      "4.596027557488181\n"
     ]
    }
   ],
   "source": [
    "%run 1_Objective_function.ipynb"
   ]
  },
  {
   "cell_type": "markdown",
   "metadata": {},
   "source": [
    "Then, we will add a new reaction that produces L-aspartate from OAA transamination using Pseudomonas aeruginosa's AspC (PaeAspDH). This reaction will be added to the model as a heterologous reaction."
   ]
  },
  {
   "cell_type": "code",
   "execution_count": 11,
   "metadata": {},
   "outputs": [],
   "source": [
    "from cobra.io import read_sbml_model\n",
    "\n",
    "model_pP = read_sbml_model('Models/iJN746.xml')"
   ]
  },
  {
   "cell_type": "markdown",
   "metadata": {},
   "source": [
    "We know that the aspartate aminotransferase is aspC. To find it will make a list with all the genes that are related to aspartate."
   ]
  },
  {
   "cell_type": "code",
   "execution_count": 18,
   "metadata": {},
   "outputs": [
    {
     "name": "stdout",
     "output_type": "stream",
     "text": [
      "ASPK Aspartate kinase\n",
      "Associated Genes: ['PP_4473']\n",
      "ASPabcpp L-aspartate transport via ABC system (periplasm)\n",
      "Associated Genes: ['PP_1297', 'PP_1071', 'PP_1299', 'PP_1298', 'PP_1068', 'PP_1300', 'PP_1070', 'PP_1069']\n",
      "ASPt2_2pp Aspartate transport via proton symport (2 H) (periplasm)\n",
      "Associated Genes: ['PP_1188']\n",
      "ASPtex L-aspartate transport via diffusion (extracellular to periplasm)\n",
      "Associated Genes: []\n",
      "ASAD Aspartate-semialdehyde dehydrogenase\n",
      "Associated Genes: ['PP_1989']\n",
      "ASPCT Aspartate carbamoyltransferase\n",
      "Associated Genes: ['PP_4998']\n",
      "ASPO1 L-aspartate oxidase\n",
      "Associated Genes: ['PP_1426']\n",
      "ASPO6 L-aspartate oxidase\n",
      "Associated Genes: ['PP_1426']\n",
      "ASPTA Aspartate transaminase\n",
      "Associated Genes: ['PP_3721']\n",
      "EX_asp__L_e L-Aspartate exchange\n",
      "Associated Genes: []\n"
     ]
    }
   ],
   "source": [
    "aspartate_related_reactions = [reaction for reaction in model_pP.reactions if 'aspartate' in reaction.name.lower()]\n",
    "for reaction in aspartate_related_reactions:\n",
    "    print(reaction.id, reaction.name)\n",
    "    print(\"Associated Genes:\", [gene.id for gene in reaction.genes])\n"
   ]
  },
  {
   "cell_type": "markdown",
   "metadata": {},
   "source": [
    "We found it! It's the same ASPTA reaction. Therefore the gene is PP_3721. We can now check that this gene is truly responsible for the reaction."
   ]
  },
  {
   "cell_type": "code",
   "execution_count": 31,
   "metadata": {},
   "outputs": [
    {
     "name": "stdout",
     "output_type": "stream",
     "text": [
      "Reaction ID: ARUH\n",
      "Reaction: arg__L_c + pyr_c <=> 5g2oxpt_c + ala__L_c\n",
      "---\n",
      "Reaction ID: ASPTA\n",
      "Reaction: akg_c + asp__L_c <=> glu__L_c + oaa_c\n",
      "---\n"
     ]
    }
   ],
   "source": [
    "gene_id = 'PP_3721' \n",
    "\n",
    "# Find the gene in the model\n",
    "gene = model_pP.genes.get_by_id(gene_id)\n",
    "\n",
    "# Print the reactions associated with this gene\n",
    "for reaction in gene.reactions:\n",
    "    print(\"Reaction ID:\", reaction.id)\n",
    "    print(\"Reaction:\", reaction.reaction)\n",
    "    print(\"---\")\n"
   ]
  },
  {
   "cell_type": "markdown",
   "metadata": {},
   "source": [
    "We can see our gene is responsible for more than one reaction. That might end up affecting our flux. To check if the flux changes after the addition of this enzyme, we will now add it to the model."
   ]
  },
  {
   "cell_type": "code",
   "execution_count": 37,
   "metadata": {},
   "outputs": [],
   "source": [
    "model = read_sbml_model('Models/iML1515.xml')"
   ]
  },
  {
   "cell_type": "code",
   "execution_count": 53,
   "metadata": {},
   "outputs": [],
   "source": [
    "new_reaction = Reaction('ASPTA_new2') #Created a new variant of the reaction. Two AspCs will now be present in the cell.\n",
    "new_reaction.name = 'PpAspC'\n",
    "new_reaction.subsystem = 'Subsystem'\n",
    "new_reaction.lower_bound = 0  # Cannot be 0 if the reaction is reversible\n",
    "new_reaction.upper_bound = 100 \n",
    "\n",
    "# Add metabolites (reactants and products)\n",
    "# You need to specify the metabolites and their coefficients (use negative for reactants)\n",
    "metabolites_dict = {\n",
    "    model.metabolites.get_by_id('glu__L_c'): -1.0,  # Reactant with coefficient\n",
    "    model.metabolites.get_by_id('oaa_c'): -1.0,\n",
    "    model.metabolites.get_by_id('asp__L_c'): 1.0,   # Product with coefficient\n",
    "    model.metabolites.get_by_id('akg_c'): 1.0,\n",
    "}\n",
    "new_reaction.add_metabolites(metabolites_dict)\n",
    "\n",
    "# Add reaction to the model\n",
    "model.add_reactions([new_reaction])"
   ]
  },
  {
   "cell_type": "markdown",
   "metadata": {},
   "source": [
    "After adding the enzyme and reaction, we can simulate the modified E. coli model to assess the impact on aspartate production."
   ]
  },
  {
   "cell_type": "code",
   "execution_count": 56,
   "metadata": {},
   "outputs": [
    {
     "name": "stdout",
     "output_type": "stream",
     "text": [
      "17.975172413793075\n"
     ]
    }
   ],
   "source": [
    "with model:\n",
    "    model.objective = model.reactions.EX_asp__L_e\n",
    "    model_asp_optimized = print(model.optimize().objective_value)"
   ]
  },
  {
   "cell_type": "markdown",
   "metadata": {},
   "source": [
    "We also check for the impact on biomass."
   ]
  },
  {
   "cell_type": "code",
   "execution_count": 55,
   "metadata": {},
   "outputs": [
    {
     "name": "stdout",
     "output_type": "stream",
     "text": [
      "Objective value: 0.8769972144269985\n"
     ]
    }
   ],
   "source": [
    "model.optimize()\n",
    "print(\"Objective value:\", model.objective.value)"
   ]
  },
  {
   "cell_type": "markdown",
   "metadata": {},
   "source": [
    "It does not seem to change the biomass or aspartate. This could be because of a low availability of the substrates or other bottlenecks in the pathway."
   ]
  }
 ],
 "metadata": {
  "kernelspec": {
   "display_name": "base",
   "language": "python",
   "name": "python3"
  },
  "language_info": {
   "codemirror_mode": {
    "name": "ipython",
    "version": 3
   },
   "file_extension": ".py",
   "mimetype": "text/x-python",
   "name": "python",
   "nbconvert_exporter": "python",
   "pygments_lexer": "ipython3",
   "version": "3.9.13"
  }
 },
 "nbformat": 4,
 "nbformat_minor": 2
}
