{
 "cells": [
  {
   "cell_type": "markdown",
   "metadata": {},
   "source": [
    "# AspC insertion"
   ]
  },
  {
   "cell_type": "code",
   "execution_count": 1,
   "metadata": {},
   "outputs": [
    {
     "name": "stdout",
     "output_type": "stream",
     "text": [
      "EX_asp__L_e EX_asp__L_e: asp__L_e -->  L-Aspartate exchange\n",
      "ASPtex ASPtex: asp__L_e <=> asp__L_p L-aspartate transport via diffusion (extracellular to periplasm)\n",
      "0.87699721425716\n",
      "0.87392\n",
      "4.596027557488181\n"
     ]
    }
   ],
   "source": [
    "%run 1_Objective_function.ipynb"
   ]
  },
  {
   "cell_type": "code",
   "execution_count": 12,
   "metadata": {},
   "outputs": [
    {
     "name": "stdout",
     "output_type": "stream",
     "text": [
      "Requirement already satisfied: cameo in c:\\users\\candela\\anaconda3\\lib\\site-packages (0.13.6)\n",
      "Requirement already satisfied: numpy>=1.9.1 in c:\\users\\candela\\anaconda3\\lib\\site-packages (from cameo) (1.21.5)\n",
      "Requirement already satisfied: escher>=1.1.2 in c:\\users\\candela\\anaconda3\\lib\\site-packages (from cameo) (1.7.3)\n",
      "Requirement already satisfied: gnomic==1.0.1 in c:\\users\\candela\\anaconda3\\lib\\site-packages (from cameo) (1.0.1)\n",
      "Requirement already satisfied: ordered-set>=1.2 in c:\\users\\candela\\anaconda3\\lib\\site-packages (from cameo) (4.1.0)\n",
      "Requirement already satisfied: numexpr>=2.4 in c:\\users\\candela\\anaconda3\\lib\\site-packages (from cameo) (2.8.3)\n",
      "Requirement already satisfied: scipy>=0.14.0 in c:\\users\\candela\\anaconda3\\lib\\site-packages (from cameo) (1.9.1)\n",
      "Requirement already satisfied: cobra>=0.11.1 in c:\\users\\candela\\anaconda3\\lib\\site-packages (from cameo) (0.29.0)\n",
      "Requirement already satisfied: lazy-object-proxy>=1.2.0 in c:\\users\\candela\\anaconda3\\lib\\site-packages (from cameo) (1.6.0)\n",
      "Requirement already satisfied: click>=6.7 in c:\\users\\candela\\anaconda3\\lib\\site-packages (from cameo) (8.0.4)\n",
      "Requirement already satisfied: pandas>=1.1.3 in c:\\users\\candela\\anaconda3\\lib\\site-packages (from cameo) (1.4.4)\n",
      "Requirement already satisfied: inspyred>=1.0 in c:\\users\\candela\\anaconda3\\lib\\site-packages (from cameo) (1.0.2)\n",
      "Requirement already satisfied: IProgress>=0.4 in c:\\users\\candela\\anaconda3\\lib\\site-packages (from cameo) (0.4)\n",
      "Requirement already satisfied: openpyxl>=2.4.5 in c:\\users\\candela\\anaconda3\\lib\\site-packages (from cameo) (3.0.10)\n",
      "Requirement already satisfied: requests>=2.10.0 in c:\\users\\candela\\anaconda3\\lib\\site-packages (from cameo) (2.28.1)\n",
      "Requirement already satisfied: blessings>=1.5.1 in c:\\users\\candela\\anaconda3\\lib\\site-packages (from cameo) (1.7)\n",
      "Requirement already satisfied: palettable>=2.1.1 in c:\\users\\candela\\anaconda3\\lib\\site-packages (from cameo) (3.3.3)\n",
      "Requirement already satisfied: networkx>=2.4 in c:\\users\\candela\\anaconda3\\lib\\site-packages (from cameo) (3.0)\n",
      "Requirement already satisfied: future>=0.15.2 in c:\\users\\candela\\anaconda3\\lib\\site-packages (from cameo) (0.18.2)\n",
      "Requirement already satisfied: optlang>=1.4.2 in c:\\users\\candela\\anaconda3\\lib\\site-packages (from cameo) (1.8.1)\n",
      "Requirement already satisfied: grako==3.18.1 in c:\\users\\candela\\anaconda3\\lib\\site-packages (from gnomic==1.0.1->cameo) (3.18.1)\n",
      "Requirement already satisfied: six>=1.8.0 in c:\\users\\candela\\anaconda3\\lib\\site-packages (from gnomic==1.0.1->cameo) (1.16.0)\n",
      "Requirement already satisfied: colorama in c:\\users\\candela\\anaconda3\\lib\\site-packages (from click>=6.7->cameo) (0.4.5)\n",
      "Requirement already satisfied: pydantic>=1.6 in c:\\users\\candela\\anaconda3\\lib\\site-packages (from cobra>=0.11.1->cameo) (2.4.2)\n",
      "Requirement already satisfied: appdirs~=1.4 in c:\\users\\candela\\anaconda3\\lib\\site-packages (from cobra>=0.11.1->cameo) (1.4.4)\n",
      "Requirement already satisfied: ruamel.yaml~=0.16 in c:\\users\\candela\\anaconda3\\lib\\site-packages (from cobra>=0.11.1->cameo) (0.17.21)\n",
      "Requirement already satisfied: depinfo~=2.2 in c:\\users\\candela\\anaconda3\\lib\\site-packages (from cobra>=0.11.1->cameo) (2.2.0)\n",
      "Requirement already satisfied: httpx~=0.24 in c:\\users\\candela\\anaconda3\\lib\\site-packages (from cobra>=0.11.1->cameo) (0.25.1)\n",
      "Requirement already satisfied: rich>=8.0 in c:\\users\\candela\\anaconda3\\lib\\site-packages (from cobra>=0.11.1->cameo) (13.6.0)\n",
      "Requirement already satisfied: swiglpk in c:\\users\\candela\\anaconda3\\lib\\site-packages (from cobra>=0.11.1->cameo) (5.0.10)\n",
      "Requirement already satisfied: diskcache~=5.0 in c:\\users\\candela\\anaconda3\\lib\\site-packages (from cobra>=0.11.1->cameo) (5.6.3)\n",
      "Requirement already satisfied: python-libsbml~=5.19 in c:\\users\\candela\\anaconda3\\lib\\site-packages (from cobra>=0.11.1->cameo) (5.20.2)\n",
      "Requirement already satisfied: importlib-resources in c:\\users\\candela\\anaconda3\\lib\\site-packages (from cobra>=0.11.1->cameo) (6.1.1)\n",
      "Requirement already satisfied: jsonschema<4,>=3.0.1 in c:\\users\\candela\\anaconda3\\lib\\site-packages (from escher>=1.1.2->cameo) (3.2.0)\n",
      "Requirement already satisfied: pytest<5,>=4.0.1 in c:\\users\\candela\\anaconda3\\lib\\site-packages (from escher>=1.1.2->cameo) (4.6.11)\n",
      "Requirement already satisfied: Jinja2<3,>=2.7.3 in c:\\users\\candela\\anaconda3\\lib\\site-packages (from escher>=1.1.2->cameo) (2.11.3)\n",
      "Requirement already satisfied: ipywidgets<8,>=7.4.0 in c:\\users\\candela\\anaconda3\\lib\\site-packages (from escher>=1.1.2->cameo) (7.6.5)\n",
      "Requirement already satisfied: packaging in c:\\users\\candela\\anaconda3\\lib\\site-packages (from numexpr>=2.4->cameo) (21.3)\n",
      "Requirement already satisfied: et_xmlfile in c:\\users\\candela\\anaconda3\\lib\\site-packages (from openpyxl>=2.4.5->cameo) (1.1.0)\n",
      "Requirement already satisfied: sympy>=1.12.0 in c:\\users\\candela\\anaconda3\\lib\\site-packages (from optlang>=1.4.2->cameo) (1.12)\n",
      "Requirement already satisfied: pytz>=2020.1 in c:\\users\\candela\\anaconda3\\lib\\site-packages (from pandas>=1.1.3->cameo) (2022.1)\n",
      "Requirement already satisfied: python-dateutil>=2.8.1 in c:\\users\\candela\\anaconda3\\lib\\site-packages (from pandas>=1.1.3->cameo) (2.8.2)\n",
      "Requirement already satisfied: charset-normalizer<3,>=2 in c:\\users\\candela\\anaconda3\\lib\\site-packages (from requests>=2.10.0->cameo) (2.0.4)\n",
      "Requirement already satisfied: idna<4,>=2.5 in c:\\users\\candela\\anaconda3\\lib\\site-packages (from requests>=2.10.0->cameo) (3.3)\n",
      "Requirement already satisfied: urllib3<1.27,>=1.21.1 in c:\\users\\candela\\anaconda3\\lib\\site-packages (from requests>=2.10.0->cameo) (1.26.11)\n",
      "Requirement already satisfied: certifi>=2017.4.17 in c:\\users\\candela\\anaconda3\\lib\\site-packages (from requests>=2.10.0->cameo) (2022.9.14)\n",
      "Requirement already satisfied: httpcore in c:\\users\\candela\\anaconda3\\lib\\site-packages (from httpx~=0.24->cobra>=0.11.1->cameo) (1.0.2)\n",
      "Requirement already satisfied: anyio in c:\\users\\candela\\anaconda3\\lib\\site-packages (from httpx~=0.24->cobra>=0.11.1->cameo) (3.5.0)\n",
      "Requirement already satisfied: sniffio in c:\\users\\candela\\anaconda3\\lib\\site-packages (from httpx~=0.24->cobra>=0.11.1->cameo) (1.2.0)\n",
      "Requirement already satisfied: ipython>=4.0.0 in c:\\users\\candela\\anaconda3\\lib\\site-packages (from ipywidgets<8,>=7.4.0->escher>=1.1.2->cameo) (7.31.1)\n",
      "Requirement already satisfied: traitlets>=4.3.1 in c:\\users\\candela\\anaconda3\\lib\\site-packages (from ipywidgets<8,>=7.4.0->escher>=1.1.2->cameo) (5.1.1)\n",
      "Requirement already satisfied: nbformat>=4.2.0 in c:\\users\\candela\\anaconda3\\lib\\site-packages (from ipywidgets<8,>=7.4.0->escher>=1.1.2->cameo) (5.5.0)\n",
      "Requirement already satisfied: ipykernel>=4.5.1 in c:\\users\\candela\\anaconda3\\lib\\site-packages (from ipywidgets<8,>=7.4.0->escher>=1.1.2->cameo) (6.15.2)\n",
      "Requirement already satisfied: jupyterlab-widgets>=1.0.0 in c:\\users\\candela\\anaconda3\\lib\\site-packages (from ipywidgets<8,>=7.4.0->escher>=1.1.2->cameo) (1.0.0)\n",
      "Requirement already satisfied: ipython-genutils~=0.2.0 in c:\\users\\candela\\anaconda3\\lib\\site-packages (from ipywidgets<8,>=7.4.0->escher>=1.1.2->cameo) (0.2.0)\n",
      "Requirement already satisfied: widgetsnbextension~=3.5.0 in c:\\users\\candela\\anaconda3\\lib\\site-packages (from ipywidgets<8,>=7.4.0->escher>=1.1.2->cameo) (3.5.2)\n",
      "Requirement already satisfied: MarkupSafe>=0.23 in c:\\users\\candela\\anaconda3\\lib\\site-packages (from Jinja2<3,>=2.7.3->escher>=1.1.2->cameo) (2.0.1)\n",
      "Requirement already satisfied: pyrsistent>=0.14.0 in c:\\users\\candela\\anaconda3\\lib\\site-packages (from jsonschema<4,>=3.0.1->escher>=1.1.2->cameo) (0.18.0)\n",
      "Requirement already satisfied: attrs>=17.4.0 in c:\\users\\candela\\anaconda3\\lib\\site-packages (from jsonschema<4,>=3.0.1->escher>=1.1.2->cameo) (21.4.0)\n",
      "Requirement already satisfied: setuptools in c:\\users\\candela\\anaconda3\\lib\\site-packages (from jsonschema<4,>=3.0.1->escher>=1.1.2->cameo) (63.4.1)\n",
      "Requirement already satisfied: pydantic-core==2.10.1 in c:\\users\\candela\\anaconda3\\lib\\site-packages (from pydantic>=1.6->cobra>=0.11.1->cameo) (2.10.1)\n",
      "Requirement already satisfied: annotated-types>=0.4.0 in c:\\users\\candela\\anaconda3\\lib\\site-packages (from pydantic>=1.6->cobra>=0.11.1->cameo) (0.6.0)\n",
      "Requirement already satisfied: typing-extensions>=4.6.1 in c:\\users\\candela\\anaconda3\\lib\\site-packages (from pydantic>=1.6->cobra>=0.11.1->cameo) (4.8.0)\n",
      "Requirement already satisfied: py>=1.5.0 in c:\\users\\candela\\anaconda3\\lib\\site-packages (from pytest<5,>=4.0.1->escher>=1.1.2->cameo) (1.11.0)\n",
      "Requirement already satisfied: atomicwrites>=1.0 in c:\\users\\candela\\anaconda3\\lib\\site-packages (from pytest<5,>=4.0.1->escher>=1.1.2->cameo) (1.4.0)\n",
      "Requirement already satisfied: more-itertools>=4.0.0 in c:\\users\\candela\\anaconda3\\lib\\site-packages (from pytest<5,>=4.0.1->escher>=1.1.2->cameo) (10.1.0)\n",
      "Requirement already satisfied: pluggy<1.0,>=0.12 in c:\\users\\candela\\anaconda3\\lib\\site-packages (from pytest<5,>=4.0.1->escher>=1.1.2->cameo) (0.13.1)\n",
      "Requirement already satisfied: wcwidth in c:\\users\\candela\\anaconda3\\lib\\site-packages (from pytest<5,>=4.0.1->escher>=1.1.2->cameo) (0.2.5)\n",
      "Requirement already satisfied: pygments<3.0.0,>=2.13.0 in c:\\users\\candela\\anaconda3\\lib\\site-packages (from rich>=8.0->cobra>=0.11.1->cameo) (2.16.1)\n",
      "Requirement already satisfied: markdown-it-py>=2.2.0 in c:\\users\\candela\\anaconda3\\lib\\site-packages (from rich>=8.0->cobra>=0.11.1->cameo) (3.0.0)\n",
      "Requirement already satisfied: ruamel.yaml.clib>=0.2.6 in c:\\users\\candela\\anaconda3\\lib\\site-packages (from ruamel.yaml~=0.16->cobra>=0.11.1->cameo) (0.2.6)\n",
      "Requirement already satisfied: mpmath>=0.19 in c:\\users\\candela\\anaconda3\\lib\\site-packages (from sympy>=1.12.0->optlang>=1.4.2->cameo) (1.2.1)\n",
      "Requirement already satisfied: zipp>=3.1.0 in c:\\users\\candela\\anaconda3\\lib\\site-packages (from importlib-resources->cobra>=0.11.1->cameo) (3.8.0)\n",
      "Requirement already satisfied: pyparsing!=3.0.5,>=2.0.2 in c:\\users\\candela\\anaconda3\\lib\\site-packages (from packaging->numexpr>=2.4->cameo) (3.0.9)\n",
      "Requirement already satisfied: tornado>=6.1 in c:\\users\\candela\\anaconda3\\lib\\site-packages (from ipykernel>=4.5.1->ipywidgets<8,>=7.4.0->escher>=1.1.2->cameo) (6.1)\n",
      "Requirement already satisfied: debugpy>=1.0 in c:\\users\\candela\\anaconda3\\lib\\site-packages (from ipykernel>=4.5.1->ipywidgets<8,>=7.4.0->escher>=1.1.2->cameo) (1.5.1)\n",
      "Requirement already satisfied: pyzmq>=17 in c:\\users\\candela\\anaconda3\\lib\\site-packages (from ipykernel>=4.5.1->ipywidgets<8,>=7.4.0->escher>=1.1.2->cameo) (23.2.0)\n",
      "Requirement already satisfied: psutil in c:\\users\\candela\\anaconda3\\lib\\site-packages (from ipykernel>=4.5.1->ipywidgets<8,>=7.4.0->escher>=1.1.2->cameo) (5.9.0)\n",
      "Requirement already satisfied: nest-asyncio in c:\\users\\candela\\anaconda3\\lib\\site-packages (from ipykernel>=4.5.1->ipywidgets<8,>=7.4.0->escher>=1.1.2->cameo) (1.5.5)\n",
      "Requirement already satisfied: jupyter-client>=6.1.12 in c:\\users\\candela\\anaconda3\\lib\\site-packages (from ipykernel>=4.5.1->ipywidgets<8,>=7.4.0->escher>=1.1.2->cameo) (7.3.4)\n",
      "Requirement already satisfied: matplotlib-inline>=0.1 in c:\\users\\candela\\anaconda3\\lib\\site-packages (from ipykernel>=4.5.1->ipywidgets<8,>=7.4.0->escher>=1.1.2->cameo) (0.1.6)\n",
      "Requirement already satisfied: decorator in c:\\users\\candela\\anaconda3\\lib\\site-packages (from ipython>=4.0.0->ipywidgets<8,>=7.4.0->escher>=1.1.2->cameo) (5.1.1)\n",
      "Requirement already satisfied: backcall in c:\\users\\candela\\anaconda3\\lib\\site-packages (from ipython>=4.0.0->ipywidgets<8,>=7.4.0->escher>=1.1.2->cameo) (0.2.0)\n",
      "Requirement already satisfied: jedi>=0.16 in c:\\users\\candela\\anaconda3\\lib\\site-packages (from ipython>=4.0.0->ipywidgets<8,>=7.4.0->escher>=1.1.2->cameo) (0.18.1)\n",
      "Requirement already satisfied: pickleshare in c:\\users\\candela\\anaconda3\\lib\\site-packages (from ipython>=4.0.0->ipywidgets<8,>=7.4.0->escher>=1.1.2->cameo) (0.7.5)\n",
      "Requirement already satisfied: prompt-toolkit!=3.0.0,!=3.0.1,<3.1.0,>=2.0.0 in c:\\users\\candela\\anaconda3\\lib\\site-packages (from ipython>=4.0.0->ipywidgets<8,>=7.4.0->escher>=1.1.2->cameo) (3.0.20)\n",
      "Requirement already satisfied: mdurl~=0.1 in c:\\users\\candela\\anaconda3\\lib\\site-packages (from markdown-it-py>=2.2.0->rich>=8.0->cobra>=0.11.1->cameo) (0.1.2)\n",
      "Requirement already satisfied: fastjsonschema in c:\\users\\candela\\anaconda3\\lib\\site-packages (from nbformat>=4.2.0->ipywidgets<8,>=7.4.0->escher>=1.1.2->cameo) (2.16.2)\n",
      "Requirement already satisfied: jupyter_core in c:\\users\\candela\\anaconda3\\lib\\site-packages (from nbformat>=4.2.0->ipywidgets<8,>=7.4.0->escher>=1.1.2->cameo) (4.11.1)\n",
      "Requirement already satisfied: notebook>=4.4.1 in c:\\users\\candela\\anaconda3\\lib\\site-packages (from widgetsnbextension~=3.5.0->ipywidgets<8,>=7.4.0->escher>=1.1.2->cameo) (6.4.12)\n",
      "Requirement already satisfied: h11<0.15,>=0.13 in c:\\users\\candela\\anaconda3\\lib\\site-packages (from httpcore->httpx~=0.24->cobra>=0.11.1->cameo) (0.14.0)\n",
      "Requirement already satisfied: parso<0.9.0,>=0.8.0 in c:\\users\\candela\\anaconda3\\lib\\site-packages (from jedi>=0.16->ipython>=4.0.0->ipywidgets<8,>=7.4.0->escher>=1.1.2->cameo) (0.8.3)\n",
      "Requirement already satisfied: entrypoints in c:\\users\\candela\\anaconda3\\lib\\site-packages (from jupyter-client>=6.1.12->ipykernel>=4.5.1->ipywidgets<8,>=7.4.0->escher>=1.1.2->cameo) (0.4)\n",
      "Requirement already satisfied: pywin32>=1.0 in c:\\users\\candela\\anaconda3\\lib\\site-packages (from jupyter_core->nbformat>=4.2.0->ipywidgets<8,>=7.4.0->escher>=1.1.2->cameo) (302)\n",
      "Requirement already satisfied: nbconvert>=5 in c:\\users\\candela\\anaconda3\\lib\\site-packages (from notebook>=4.4.1->widgetsnbextension~=3.5.0->ipywidgets<8,>=7.4.0->escher>=1.1.2->cameo) (6.4.4)\n",
      "Requirement already satisfied: prometheus-client in c:\\users\\candela\\anaconda3\\lib\\site-packages (from notebook>=4.4.1->widgetsnbextension~=3.5.0->ipywidgets<8,>=7.4.0->escher>=1.1.2->cameo) (0.14.1)\n",
      "Requirement already satisfied: Send2Trash>=1.8.0 in c:\\users\\candela\\anaconda3\\lib\\site-packages (from notebook>=4.4.1->widgetsnbextension~=3.5.0->ipywidgets<8,>=7.4.0->escher>=1.1.2->cameo) (1.8.0)\n",
      "Requirement already satisfied: terminado>=0.8.3 in c:\\users\\candela\\anaconda3\\lib\\site-packages (from notebook>=4.4.1->widgetsnbextension~=3.5.0->ipywidgets<8,>=7.4.0->escher>=1.1.2->cameo) (0.13.1)\n",
      "Requirement already satisfied: argon2-cffi in c:\\users\\candela\\anaconda3\\lib\\site-packages (from notebook>=4.4.1->widgetsnbextension~=3.5.0->ipywidgets<8,>=7.4.0->escher>=1.1.2->cameo) (21.3.0)\n",
      "Requirement already satisfied: testpath in c:\\users\\candela\\anaconda3\\lib\\site-packages (from nbconvert>=5->notebook>=4.4.1->widgetsnbextension~=3.5.0->ipywidgets<8,>=7.4.0->escher>=1.1.2->cameo) (0.6.0)\n",
      "Requirement already satisfied: defusedxml in c:\\users\\candela\\anaconda3\\lib\\site-packages (from nbconvert>=5->notebook>=4.4.1->widgetsnbextension~=3.5.0->ipywidgets<8,>=7.4.0->escher>=1.1.2->cameo) (0.7.1)\n",
      "Requirement already satisfied: bleach in c:\\users\\candela\\anaconda3\\lib\\site-packages (from nbconvert>=5->notebook>=4.4.1->widgetsnbextension~=3.5.0->ipywidgets<8,>=7.4.0->escher>=1.1.2->cameo) (4.1.0)\n",
      "Requirement already satisfied: pandocfilters>=1.4.1 in c:\\users\\candela\\anaconda3\\lib\\site-packages (from nbconvert>=5->notebook>=4.4.1->widgetsnbextension~=3.5.0->ipywidgets<8,>=7.4.0->escher>=1.1.2->cameo) (1.5.0)\n",
      "Requirement already satisfied: jupyterlab-pygments in c:\\users\\candela\\anaconda3\\lib\\site-packages (from nbconvert>=5->notebook>=4.4.1->widgetsnbextension~=3.5.0->ipywidgets<8,>=7.4.0->escher>=1.1.2->cameo) (0.1.2)\n",
      "Requirement already satisfied: mistune<2,>=0.8.1 in c:\\users\\candela\\anaconda3\\lib\\site-packages (from nbconvert>=5->notebook>=4.4.1->widgetsnbextension~=3.5.0->ipywidgets<8,>=7.4.0->escher>=1.1.2->cameo) (0.8.4)\n",
      "Requirement already satisfied: beautifulsoup4 in c:\\users\\candela\\anaconda3\\lib\\site-packages (from nbconvert>=5->notebook>=4.4.1->widgetsnbextension~=3.5.0->ipywidgets<8,>=7.4.0->escher>=1.1.2->cameo) (4.11.1)\n",
      "Requirement already satisfied: nbclient<0.6.0,>=0.5.0 in c:\\users\\candela\\anaconda3\\lib\\site-packages (from nbconvert>=5->notebook>=4.4.1->widgetsnbextension~=3.5.0->ipywidgets<8,>=7.4.0->escher>=1.1.2->cameo) (0.5.13)\n",
      "Requirement already satisfied: pywinpty>=1.1.0 in c:\\users\\candela\\anaconda3\\lib\\site-packages (from terminado>=0.8.3->notebook>=4.4.1->widgetsnbextension~=3.5.0->ipywidgets<8,>=7.4.0->escher>=1.1.2->cameo) (2.0.2)\n",
      "Requirement already satisfied: argon2-cffi-bindings in c:\\users\\candela\\anaconda3\\lib\\site-packages (from argon2-cffi->notebook>=4.4.1->widgetsnbextension~=3.5.0->ipywidgets<8,>=7.4.0->escher>=1.1.2->cameo) (21.2.0)\n",
      "Requirement already satisfied: cffi>=1.0.1 in c:\\users\\candela\\anaconda3\\lib\\site-packages (from argon2-cffi-bindings->argon2-cffi->notebook>=4.4.1->widgetsnbextension~=3.5.0->ipywidgets<8,>=7.4.0->escher>=1.1.2->cameo) (1.15.1)\n",
      "Requirement already satisfied: soupsieve>1.2 in c:\\users\\candela\\anaconda3\\lib\\site-packages (from beautifulsoup4->nbconvert>=5->notebook>=4.4.1->widgetsnbextension~=3.5.0->ipywidgets<8,>=7.4.0->escher>=1.1.2->cameo) (2.3.1)\n",
      "Requirement already satisfied: webencodings in c:\\users\\candela\\anaconda3\\lib\\site-packages (from bleach->nbconvert>=5->notebook>=4.4.1->widgetsnbextension~=3.5.0->ipywidgets<8,>=7.4.0->escher>=1.1.2->cameo) (0.5.1)\n",
      "Requirement already satisfied: pycparser in c:\\users\\candela\\anaconda3\\lib\\site-packages (from cffi>=1.0.1->argon2-cffi-bindings->argon2-cffi->notebook>=4.4.1->widgetsnbextension~=3.5.0->ipywidgets<8,>=7.4.0->escher>=1.1.2->cameo) (2.21)\n",
      "Note: you may need to restart the kernel to use updated packages.\n"
     ]
    },
    {
     "name": "stderr",
     "output_type": "stream",
     "text": [
      "El sistema no puede encontrar la ruta especificada.\n"
     ]
    }
   ],
   "source": [
    "%pip install cameo"
   ]
  },
  {
   "cell_type": "code",
   "execution_count": 15,
   "metadata": {},
   "outputs": [],
   "source": [
    "from cobra.io import read_sbml_model\n",
    "from cobra import Reaction, Metabolite "
   ]
  },
  {
   "cell_type": "markdown",
   "metadata": {},
   "source": [
    "Firstly, we will recover the reactions that produce L-aspartate from the model."
   ]
  },
  {
   "cell_type": "code",
   "execution_count": 16,
   "metadata": {},
   "outputs": [
    {
     "ename": "ImportError",
     "evalue": "cannot import name 'find_gene_knockout_reactions' from 'cobra.manipulation.delete' (c:\\Users\\Candela\\anaconda3\\lib\\site-packages\\cobra\\manipulation\\delete.py)",
     "output_type": "error",
     "traceback": [
      "\u001b[1;31m---------------------------------------------------------------------------\u001b[0m",
      "\u001b[1;31mImportError\u001b[0m                               Traceback (most recent call last)",
      "\u001b[1;32m~\\AppData\\Local\\Temp\\ipykernel_18028\\2938651208.py\u001b[0m in \u001b[0;36m<module>\u001b[1;34m\u001b[0m\n\u001b[1;32m----> 1\u001b[1;33m \u001b[1;32mfrom\u001b[0m \u001b[0mcameo\u001b[0m\u001b[1;33m.\u001b[0m\u001b[0mstrain_design\u001b[0m \u001b[1;32mimport\u001b[0m \u001b[0mpathway_prediction\u001b[0m\u001b[1;33m\u001b[0m\u001b[1;33m\u001b[0m\u001b[0m\n\u001b[0m\u001b[0;32m      2\u001b[0m \u001b[0mpredictor\u001b[0m \u001b[1;33m=\u001b[0m \u001b[0mpathway_prediction\u001b[0m\u001b[1;33m.\u001b[0m\u001b[0mPathwayPredictor\u001b[0m\u001b[1;33m(\u001b[0m\u001b[0mmodel_asp\u001b[0m\u001b[1;33m)\u001b[0m\u001b[1;33m\u001b[0m\u001b[1;33m\u001b[0m\u001b[0m\n\u001b[0;32m      3\u001b[0m \u001b[0mpathways\u001b[0m \u001b[1;33m=\u001b[0m \u001b[0mpredictor\u001b[0m\u001b[1;33m.\u001b[0m\u001b[0mrun\u001b[0m\u001b[1;33m(\u001b[0m\u001b[0mproduct\u001b[0m\u001b[1;33m=\u001b[0m\u001b[1;34m\"asp__L_c\"\u001b[0m\u001b[1;33m,\u001b[0m \u001b[0mmax_predictions\u001b[0m\u001b[1;33m=\u001b[0m\u001b[1;36m4\u001b[0m\u001b[1;33m)\u001b[0m\u001b[1;33m\u001b[0m\u001b[1;33m\u001b[0m\u001b[0m\n",
      "\u001b[1;32mc:\\Users\\Candela\\anaconda3\\lib\\site-packages\\cameo\\strain_design\\__init__.py\u001b[0m in \u001b[0;36m<module>\u001b[1;34m\u001b[0m\n\u001b[0;32m     16\u001b[0m \u001b[1;33m\u001b[0m\u001b[0m\n\u001b[0;32m     17\u001b[0m \u001b[1;32mfrom\u001b[0m \u001b[0mcameo\u001b[0m\u001b[1;33m.\u001b[0m\u001b[0mstrain_design\u001b[0m\u001b[1;33m.\u001b[0m\u001b[0mdeterministic\u001b[0m \u001b[1;32mimport\u001b[0m \u001b[0mOptKnock\u001b[0m\u001b[1;33m,\u001b[0m \u001b[0mFSEOF\u001b[0m\u001b[1;33m,\u001b[0m \u001b[0mDifferentialFVA\u001b[0m\u001b[1;33m\u001b[0m\u001b[1;33m\u001b[0m\u001b[0m\n\u001b[1;32m---> 18\u001b[1;33m \u001b[1;32mfrom\u001b[0m \u001b[0mcameo\u001b[0m\u001b[1;33m.\u001b[0m\u001b[0mstrain_design\u001b[0m\u001b[1;33m.\u001b[0m\u001b[0mheuristic\u001b[0m \u001b[1;32mimport\u001b[0m \u001b[0mOptGene\u001b[0m\u001b[1;33m\u001b[0m\u001b[1;33m\u001b[0m\u001b[0m\n\u001b[0m",
      "\u001b[1;32mc:\\Users\\Candela\\anaconda3\\lib\\site-packages\\cameo\\strain_design\\heuristic\\__init__.py\u001b[0m in \u001b[0;36m<module>\u001b[1;34m\u001b[0m\n\u001b[0;32m     15\u001b[0m \u001b[1;32mfrom\u001b[0m \u001b[0m__future__\u001b[0m \u001b[1;32mimport\u001b[0m \u001b[0mabsolute_import\u001b[0m\u001b[1;33m\u001b[0m\u001b[1;33m\u001b[0m\u001b[0m\n\u001b[0;32m     16\u001b[0m \u001b[1;33m\u001b[0m\u001b[0m\n\u001b[1;32m---> 17\u001b[1;33m \u001b[1;32mfrom\u001b[0m \u001b[0mcameo\u001b[0m\u001b[1;33m.\u001b[0m\u001b[0mstrain_design\u001b[0m\u001b[1;33m.\u001b[0m\u001b[0mheuristic\u001b[0m\u001b[1;33m.\u001b[0m\u001b[0mevolutionary_based\u001b[0m \u001b[1;32mimport\u001b[0m \u001b[0mOptGene\u001b[0m\u001b[1;33m\u001b[0m\u001b[1;33m\u001b[0m\u001b[0m\n\u001b[0m",
      "\u001b[1;32mc:\\Users\\Candela\\anaconda3\\lib\\site-packages\\cameo\\strain_design\\heuristic\\evolutionary_based.py\u001b[0m in \u001b[0;36m<module>\u001b[1;34m\u001b[0m\n\u001b[0;32m     36\u001b[0m \u001b[1;32mfrom\u001b[0m \u001b[0mcameo\u001b[0m\u001b[1;33m.\u001b[0m\u001b[0mstrain_design\u001b[0m\u001b[1;33m.\u001b[0m\u001b[0mheuristic\u001b[0m\u001b[1;33m.\u001b[0m\u001b[0mevolutionary\u001b[0m\u001b[1;33m.\u001b[0m\u001b[0moptimization\u001b[0m \u001b[1;32mimport\u001b[0m \u001b[0mGeneKnockoutOptimization\u001b[0m\u001b[1;33m,\u001b[0m\u001b[0;31m \u001b[0m\u001b[0;31m\\\u001b[0m\u001b[1;33m\u001b[0m\u001b[1;33m\u001b[0m\u001b[0m\n\u001b[0;32m     37\u001b[0m     \u001b[0mReactionKnockoutOptimization\u001b[0m\u001b[1;33m,\u001b[0m \u001b[0mCofactorSwapOptimization\u001b[0m\u001b[1;33m,\u001b[0m \u001b[0mNADH_NADPH\u001b[0m\u001b[1;33m\u001b[0m\u001b[1;33m\u001b[0m\u001b[0m\n\u001b[1;32m---> 38\u001b[1;33m \u001b[1;32mfrom\u001b[0m \u001b[0mcameo\u001b[0m\u001b[1;33m.\u001b[0m\u001b[0mstrain_design\u001b[0m\u001b[1;33m.\u001b[0m\u001b[0mheuristic\u001b[0m\u001b[1;33m.\u001b[0m\u001b[0mevolutionary\u001b[0m\u001b[1;33m.\u001b[0m\u001b[0mprocessing\u001b[0m \u001b[1;32mimport\u001b[0m \u001b[0mprocess_reaction_knockout_solution\u001b[0m\u001b[1;33m,\u001b[0m\u001b[0;31m \u001b[0m\u001b[0;31m\\\u001b[0m\u001b[1;33m\u001b[0m\u001b[1;33m\u001b[0m\u001b[0m\n\u001b[0m\u001b[0;32m     39\u001b[0m     \u001b[0mprocess_gene_knockout_solution\u001b[0m\u001b[1;33m,\u001b[0m \u001b[0mprocess_reaction_swap_solution\u001b[0m\u001b[1;33m\u001b[0m\u001b[1;33m\u001b[0m\u001b[0m\n\u001b[0;32m     40\u001b[0m \u001b[1;32mfrom\u001b[0m \u001b[0mcameo\u001b[0m\u001b[1;33m.\u001b[0m\u001b[0mutil\u001b[0m \u001b[1;32mimport\u001b[0m \u001b[0mTimeMachine\u001b[0m\u001b[1;33m\u001b[0m\u001b[1;33m\u001b[0m\u001b[0m\n",
      "\u001b[1;32mc:\\Users\\Candela\\anaconda3\\lib\\site-packages\\cameo\\strain_design\\heuristic\\evolutionary\\processing.py\u001b[0m in \u001b[0;36m<module>\u001b[1;34m\u001b[0m\n\u001b[0;32m     12\u001b[0m \u001b[1;31m# See the License for the specific language governing permissions and\u001b[0m\u001b[1;33m\u001b[0m\u001b[1;33m\u001b[0m\u001b[0m\n\u001b[0;32m     13\u001b[0m \u001b[1;31m# limitations under the License.\u001b[0m\u001b[1;33m\u001b[0m\u001b[1;33m\u001b[0m\u001b[0m\n\u001b[1;32m---> 14\u001b[1;33m \u001b[1;32mfrom\u001b[0m \u001b[0mcobra\u001b[0m\u001b[1;33m.\u001b[0m\u001b[0mmanipulation\u001b[0m\u001b[1;33m.\u001b[0m\u001b[0mdelete\u001b[0m \u001b[1;32mimport\u001b[0m \u001b[0mfind_gene_knockout_reactions\u001b[0m\u001b[1;33m\u001b[0m\u001b[1;33m\u001b[0m\u001b[0m\n\u001b[0m\u001b[0;32m     15\u001b[0m \u001b[1;32mfrom\u001b[0m \u001b[0mcameo\u001b[0m\u001b[1;33m.\u001b[0m\u001b[0mcore\u001b[0m\u001b[1;33m.\u001b[0m\u001b[0mmanipulation\u001b[0m \u001b[1;32mimport\u001b[0m \u001b[0mswap_cofactors\u001b[0m\u001b[1;33m\u001b[0m\u001b[1;33m\u001b[0m\u001b[0m\n\u001b[0;32m     16\u001b[0m \u001b[1;33m\u001b[0m\u001b[0m\n",
      "\u001b[1;31mImportError\u001b[0m: cannot import name 'find_gene_knockout_reactions' from 'cobra.manipulation.delete' (c:\\Users\\Candela\\anaconda3\\lib\\site-packages\\cobra\\manipulation\\delete.py)"
     ]
    }
   ],
   "source": [
    "from cameo.strain_design import pathway_prediction\n",
    "predictor = pathway_prediction.PathwayPredictor(model_asp)\n",
    "pathways = predictor.run(product=\"asp__L_c\", max_predictions=4)"
   ]
  },
  {
   "cell_type": "markdown",
   "metadata": {},
   "source": [
    "Then, we will add a new reaction that produces L-aspartate from OAA transamination using Pseudomonas aeruginosa's AspC (PaeAspDH). This reaction will be added to the model as a heterologous reaction.\n",
    "\n"
   ]
  },
  {
   "cell_type": "code",
   "execution_count": 18,
   "metadata": {},
   "outputs": [
    {
     "ename": "NameError",
     "evalue": "name 'new_reaction' is not defined",
     "output_type": "error",
     "traceback": [
      "\u001b[1;31m---------------------------------------------------------------------------\u001b[0m",
      "\u001b[1;31mNameError\u001b[0m                                 Traceback (most recent call last)",
      "\u001b[1;32m~\\AppData\\Local\\Temp\\ipykernel_18028\\3030722616.py\u001b[0m in \u001b[0;36m<module>\u001b[1;34m\u001b[0m\n\u001b[0;32m      1\u001b[0m \u001b[0mPaeAspDH_reaction\u001b[0m \u001b[1;33m=\u001b[0m \u001b[0mReaction\u001b[0m\u001b[1;33m(\u001b[0m\u001b[1;34m'R_PaeAspDH'\u001b[0m\u001b[1;33m)\u001b[0m\u001b[1;33m\u001b[0m\u001b[1;33m\u001b[0m\u001b[0m\n\u001b[0;32m      2\u001b[0m \u001b[1;33m\u001b[0m\u001b[0m\n\u001b[1;32m----> 3\u001b[1;33m new_reaction.add_metabolites({\n\u001b[0m\u001b[0;32m      4\u001b[0m                             \u001b[0mmodel\u001b[0m\u001b[1;33m.\u001b[0m\u001b[0mmetabolites\u001b[0m\u001b[1;33m.\u001b[0m\u001b[0mget_by_id\u001b[0m\u001b[1;33m(\u001b[0m\u001b[1;34m\"glu__L_c\"\u001b[0m\u001b[1;33m)\u001b[0m\u001b[1;33m:\u001b[0m \u001b[1;33m-\u001b[0m\u001b[1;36m1\u001b[0m\u001b[1;33m,\u001b[0m\u001b[1;33m\u001b[0m\u001b[1;33m\u001b[0m\u001b[0m\n\u001b[0;32m      5\u001b[0m                             \u001b[0mmodel\u001b[0m\u001b[1;33m.\u001b[0m\u001b[0mmetabolites\u001b[0m\u001b[1;33m.\u001b[0m\u001b[0mget_by_id\u001b[0m\u001b[1;33m(\u001b[0m\u001b[1;34m\"oaa_c\"\u001b[0m\u001b[1;33m)\u001b[0m\u001b[1;33m:\u001b[0m \u001b[1;33m-\u001b[0m\u001b[1;36m1\u001b[0m\u001b[1;33m,\u001b[0m\u001b[1;33m\u001b[0m\u001b[1;33m\u001b[0m\u001b[0m\n",
      "\u001b[1;31mNameError\u001b[0m: name 'new_reaction' is not defined"
     ]
    }
   ],
   "source": [
    "PaeAspDH_reaction = Reaction('R_PaeAspDH')\n",
    "\n",
    "new_reaction.add_metabolites({\n",
    "                            model.metabolites.get_by_id(\"glu__L_c\"): -1,\n",
    "                            model.metabolites.get_by_id(\"oaa_c\"): -1,\n",
    "                            model.metabolites.get_by_id(\"akg_c\"): 1, # our newly created metabolites\n",
    "                            model.metabolites.get_by_id(\"asp__L_c\"): 1\n",
    "                             })\n",
    "\n",
    "model_asp.add_reactions([PaeAspDH_reaction])"
   ]
  }
 ],
 "metadata": {
  "kernelspec": {
   "display_name": "base",
   "language": "python",
   "name": "python3"
  },
  "language_info": {
   "codemirror_mode": {
    "name": "ipython",
    "version": 3
   },
   "file_extension": ".py",
   "mimetype": "text/x-python",
   "name": "python",
   "nbconvert_exporter": "python",
   "pygments_lexer": "ipython3",
   "version": "3.9.13"
  }
 },
 "nbformat": 4,
 "nbformat_minor": 2
}
