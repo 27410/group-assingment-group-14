{
 "cells": [
  {
   "cell_type": "markdown",
   "metadata": {},
   "source": [
    "# AspC insertion"
   ]
  },
  {
   "cell_type": "code",
   "execution_count": 22,
   "metadata": {},
   "outputs": [
    {
     "name": "stdout",
     "output_type": "stream",
     "text": [
      "ASPtex ASPtex: asp__L_e <=> asp__L_p L-aspartate transport via diffusion (extracellular to periplasm)\n",
      "EX_asp__L_e EX_asp__L_e: asp__L_e -->  L-Aspartate exchange\n",
      "0.87699721425716\n",
      "0.87392\n",
      "4.596027557488181\n"
     ]
    }
   ],
   "source": [
    "%run 1_Objective_function.ipynb"
   ]
  },
  {
   "cell_type": "markdown",
   "metadata": {},
   "source": [
    "Then, we will add a new reaction that produces L-aspartate from OAA transamination using Pseudomonas aeruginosa's AspC (PaeAspDH). This reaction will be added to the model as a heterologous reaction."
   ]
  },
  {
   "cell_type": "code",
   "execution_count": 11,
   "metadata": {},
   "outputs": [],
   "source": [
    "from cobra.io import read_sbml_model\n",
    "\n",
    "model_pP = read_sbml_model('Models/iJN746.xml')"
   ]
  },
  {
   "cell_type": "markdown",
   "metadata": {},
   "source": [
    "We know that the aspartate aminotransferase is aspC. To find it will make a list with all the genes that are related to aspartate."
   ]
  },
  {
   "cell_type": "code",
   "execution_count": 18,
   "metadata": {},
   "outputs": [
    {
     "name": "stdout",
     "output_type": "stream",
     "text": [
      "ASPK Aspartate kinase\n",
      "Associated Genes: ['PP_4473']\n",
      "ASPabcpp L-aspartate transport via ABC system (periplasm)\n",
      "Associated Genes: ['PP_1297', 'PP_1071', 'PP_1299', 'PP_1298', 'PP_1068', 'PP_1300', 'PP_1070', 'PP_1069']\n",
      "ASPt2_2pp Aspartate transport via proton symport (2 H) (periplasm)\n",
      "Associated Genes: ['PP_1188']\n",
      "ASPtex L-aspartate transport via diffusion (extracellular to periplasm)\n",
      "Associated Genes: []\n",
      "ASAD Aspartate-semialdehyde dehydrogenase\n",
      "Associated Genes: ['PP_1989']\n",
      "ASPCT Aspartate carbamoyltransferase\n",
      "Associated Genes: ['PP_4998']\n",
      "ASPO1 L-aspartate oxidase\n",
      "Associated Genes: ['PP_1426']\n",
      "ASPO6 L-aspartate oxidase\n",
      "Associated Genes: ['PP_1426']\n",
      "ASPTA Aspartate transaminase\n",
      "Associated Genes: ['PP_3721']\n",
      "EX_asp__L_e L-Aspartate exchange\n",
      "Associated Genes: []\n"
     ]
    }
   ],
   "source": [
    "aspartate_related_reactions = [reaction for reaction in model_pP.reactions if 'aspartate' in reaction.name.lower()]\n",
    "for reaction in aspartate_related_reactions:\n",
    "    print(reaction.id, reaction.name)\n",
    "    print(\"Associated Genes:\", [gene.id for gene in reaction.genes])\n"
   ]
  },
  {
   "cell_type": "markdown",
   "metadata": {},
   "source": [
    "We found it! It's the same ASPTA reaction. Therefore the gene is PP_3721. We can now check that this gene is truly responsible for the reaction."
   ]
  },
  {
   "cell_type": "code",
   "execution_count": 31,
   "metadata": {},
   "outputs": [
    {
     "name": "stdout",
     "output_type": "stream",
     "text": [
      "Reaction ID: ARUH\n",
      "Reaction: arg__L_c + pyr_c <=> 5g2oxpt_c + ala__L_c\n",
      "---\n",
      "Reaction ID: ASPTA\n",
      "Reaction: akg_c + asp__L_c <=> glu__L_c + oaa_c\n",
      "---\n"
     ]
    }
   ],
   "source": [
    "gene_id = 'PP_3721' \n",
    "\n",
    "# Find the gene in the model\n",
    "gene = model_pP.genes.get_by_id(gene_id)\n",
    "\n",
    "# Print the reactions associated with this gene\n",
    "for reaction in gene.reactions:\n",
    "    print(\"Reaction ID:\", reaction.id)\n",
    "    print(\"Reaction:\", reaction.reaction)\n",
    "    print(\"---\")\n"
   ]
  },
  {
   "cell_type": "markdown",
   "metadata": {},
   "source": [
    "We can see our gene is responsible for more than one reaction. That might end up affecting our flux. To check if the flux changes after the addition of this enzyme, we will now add it to the model."
   ]
  },
  {
   "cell_type": "code",
   "execution_count": 37,
   "metadata": {},
   "outputs": [],
   "source": [
    "model = read_sbml_model('Models/iML1515.xml')"
   ]
  },
  {
   "cell_type": "code",
   "execution_count": 98,
   "metadata": {},
   "outputs": [
    {
     "name": "stdout",
     "output_type": "stream",
     "text": [
      "Original Objective Value: 0.8769972144269664\n"
     ]
    }
   ],
   "source": [
    "original_solution = model.optimize()\n",
    "print(\"Original Objective Value:\", original_solution.objective_value)"
   ]
  },
  {
   "cell_type": "code",
   "execution_count": 100,
   "metadata": {},
   "outputs": [
    {
     "name": "stdout",
     "output_type": "stream",
     "text": [
      "ASPTA 47.432307384664725\n"
     ]
    }
   ],
   "source": [
    "for reaction in ['ASPTA']:  \n",
    "    print(reaction, original_solution.fluxes[reaction])"
   ]
  },
  {
   "cell_type": "code",
   "execution_count": 109,
   "metadata": {},
   "outputs": [],
   "source": [
    "new_reaction = Reaction('ASPTA_new') #Created a new variant of the reaction. Two AspCs will now be present in the cell.\n",
    "new_reaction.name = 'PpAspC'\n",
    "new_reaction.subsystem = 'Subsystem'\n",
    "new_reaction.lower_bound = 50  # Cannot be 0 if the reaction is reversible\n",
    "new_reaction.upper_bound = 1000\n",
    "\n",
    "# Add metabolites (reactants and products)\n",
    "# You need to specify the metabolites and their coefficients (use negative for reactants)\n",
    "metabolites_dict = {\n",
    "    model.metabolites.get_by_id('glu__L_c'): -1.0,  # Reactant with coefficient\n",
    "    model.metabolites.get_by_id('oaa_c'): -1.0,\n",
    "    model.metabolites.get_by_id('asp__L_c'): 1.0,   # Product with coefficient\n",
    "    model.metabolites.get_by_id('akg_c'): 1.0,\n",
    "}\n",
    "new_reaction.add_metabolites(metabolites_dict)\n",
    "\n",
    "# Add reaction to the model\n",
    "model.add_reactions([new_reaction])"
   ]
  },
  {
   "cell_type": "markdown",
   "metadata": {},
   "source": [
    "Removing reactions:"
   ]
  },
  {
   "cell_type": "code",
   "execution_count": 108,
   "metadata": {},
   "outputs": [],
   "source": [
    "reaction_ids_to_remove = ['ASPTA_new']  # Replace with a list of reaction IDs to remove\n",
    "reactions_to_remove = [model.reactions.get_by_id(rid) for rid in reaction_ids_to_remove]\n",
    "\n",
    "model.remove_reactions(reactions_to_remove)\n"
   ]
  },
  {
   "cell_type": "markdown",
   "metadata": {},
   "source": [
    "Checking that the reaction has been inserted:"
   ]
  },
  {
   "cell_type": "code",
   "execution_count": 110,
   "metadata": {},
   "outputs": [
    {
     "name": "stdout",
     "output_type": "stream",
     "text": [
      "Reaction ID: ASPTA_new\n",
      "Reaction: glu__L_c + oaa_c --> akg_c + asp__L_c\n",
      "Reaction Name: PpAspC\n"
     ]
    }
   ],
   "source": [
    "reaction_id = 'ASPTA_new'  # Replace with your reaction's ID\n",
    "inserted_reaction = model.reactions.get_by_id(reaction_id)\n",
    "\n",
    "# Print details of the reaction\n",
    "print(\"Reaction ID:\", inserted_reaction.id)\n",
    "print(\"Reaction:\", inserted_reaction.reaction)\n",
    "print(\"Reaction Name:\", inserted_reaction.name)\n"
   ]
  },
  {
   "cell_type": "markdown",
   "metadata": {},
   "source": [
    "After adding the enzyme and reaction, we can simulate the modified E. coli model to assess the impact on aspartate production."
   ]
  },
  {
   "cell_type": "code",
   "execution_count": 111,
   "metadata": {},
   "outputs": [
    {
     "name": "stdout",
     "output_type": "stream",
     "text": [
      "Modified Objective Value: 0.8769972144269753\n"
     ]
    }
   ],
   "source": [
    "modified_solution = model.optimize()\n",
    "print(\"Modified Objective Value:\", modified_solution.objective_value)\n"
   ]
  },
  {
   "cell_type": "code",
   "execution_count": 112,
   "metadata": {},
   "outputs": [
    {
     "name": "stdout",
     "output_type": "stream",
     "text": [
      "17.975172413793004\n"
     ]
    }
   ],
   "source": [
    "with model:\n",
    "    model.objective = model.reactions.EX_asp__L_e\n",
    "    model_asp_optimized = print(model.optimize().objective_value)"
   ]
  },
  {
   "cell_type": "markdown",
   "metadata": {},
   "source": [
    "We also check for the impact on biomass."
   ]
  },
  {
   "cell_type": "code",
   "execution_count": 113,
   "metadata": {},
   "outputs": [
    {
     "name": "stdout",
     "output_type": "stream",
     "text": [
      "Objective value: 0.8769972144269765\n"
     ]
    }
   ],
   "source": [
    "model.optimize()\n",
    "print(\"Objective value:\", model.objective.value)"
   ]
  },
  {
   "cell_type": "code",
   "execution_count": 116,
   "metadata": {},
   "outputs": [
    {
     "name": "stdout",
     "output_type": "stream",
     "text": [
      "ASPTA Original: 47.432307384664725 Modified: 97.4323073846648\n",
      "ASPTA_new Original: 0.0 Modified: 50.0\n"
     ]
    }
   ],
   "source": [
    "for reaction in ['ASPTA','ASPTA_new']:\n",
    "    print(reaction, \"Original:\", original_solution.fluxes[reaction], \"Modified:\", modified_solution.fluxes[reaction])"
   ]
  },
  {
   "cell_type": "markdown",
   "metadata": {},
   "source": [
    "The flux of the original ASPTA reaction is modified by how much the new reaction is able to produce. "
   ]
  }
 ],
 "metadata": {
  "kernelspec": {
   "display_name": "base",
   "language": "python",
   "name": "python3"
  },
  "language_info": {
   "codemirror_mode": {
    "name": "ipython",
    "version": 3
   },
   "file_extension": ".py",
   "mimetype": "text/x-python",
   "name": "python",
   "nbconvert_exporter": "python",
   "pygments_lexer": "ipython3",
   "version": "3.9.13"
  }
 },
 "nbformat": 4,
 "nbformat_minor": 2
}
