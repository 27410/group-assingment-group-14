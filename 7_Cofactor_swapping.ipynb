{
 "cells": [
  {
   "cell_type": "code",
   "execution_count": 26,
   "metadata": {},
   "outputs": [
    {
     "name": "stdout",
     "output_type": "stream",
     "text": [
      "EX_asp__L_e EX_asp__L_e: asp__L_e -->  L-Aspartate exchange\n",
      "ASPtex ASPtex: asp__L_e <=> asp__L_p L-aspartate transport via diffusion (extracellular to periplasm)\n",
      "0.87699721425716\n",
      "0.87392\n",
      "4.596027557488181\n"
     ]
    }
   ],
   "source": [
    "%run 1_Objective_function.ipynb"
   ]
  },
  {
   "cell_type": "code",
   "execution_count": 3,
   "metadata": {},
   "outputs": [],
   "source": [
    "#pip freeze"
   ]
  },
  {
   "cell_type": "markdown",
   "metadata": {},
   "source": [
    "To utilize the Co-factor swap function available in cameo we must first instal specific versions of cobra, numpy and pandas. This is because certain functions in cameo have not been updated and therefore are only compatible with older versions of python. For this section a python envoronment running version 3.7.16 was utilized. "
   ]
  },
  {
   "cell_type": "code",
   "execution_count": 6,
   "metadata": {},
   "outputs": [
    {
     "name": "stdout",
     "output_type": "stream",
     "text": [
      "Collecting cobra==0.29.0\n",
      "  Using cached cobra-0.29.0-py2.py3-none-any.whl (1.2 MB)\n",
      "Requirement already satisfied: pandas<3.0,>=1.0 in c:\\users\\raema\\anaconda3\\envs\\py37\\lib\\site-packages (from cobra==0.29.0) (1.3.5)\n",
      "Requirement already satisfied: httpx~=0.24 in c:\\users\\raema\\anaconda3\\envs\\py37\\lib\\site-packages (from cobra==0.29.0) (0.24.1)\n",
      "Requirement already satisfied: pydantic>=1.6 in c:\\users\\raema\\anaconda3\\envs\\py37\\lib\\site-packages (from cobra==0.29.0) (1.10.13)\n",
      "Requirement already satisfied: ruamel.yaml~=0.16 in c:\\users\\raema\\anaconda3\\envs\\py37\\lib\\site-packages (from cobra==0.29.0) (0.18.5)\n",
      "Requirement already satisfied: numpy>=1.13 in c:\\users\\raema\\anaconda3\\envs\\py37\\lib\\site-packages (from cobra==0.29.0) (1.21.6)\n",
      "Requirement already satisfied: python-libsbml~=5.19 in c:\\users\\raema\\anaconda3\\envs\\py37\\lib\\site-packages (from cobra==0.29.0) (5.19.2)\n",
      "Requirement already satisfied: diskcache~=5.0 in c:\\users\\raema\\anaconda3\\envs\\py37\\lib\\site-packages (from cobra==0.29.0) (5.6.3)\n",
      "Requirement already satisfied: rich>=8.0 in c:\\users\\raema\\anaconda3\\envs\\py37\\lib\\site-packages (from cobra==0.29.0) (13.7.0)\n",
      "Collecting depinfo~=2.2\n",
      "  Using cached depinfo-2.2.0-py3-none-any.whl (24 kB)\n",
      "Requirement already satisfied: swiglpk in c:\\users\\raema\\anaconda3\\envs\\py37\\lib\\site-packages (from cobra==0.29.0) (5.0.10)\n",
      "Requirement already satisfied: future in c:\\users\\raema\\anaconda3\\envs\\py37\\lib\\site-packages (from cobra==0.29.0) (0.18.3)\n",
      "Requirement already satisfied: importlib-resources in c:\\users\\raema\\anaconda3\\envs\\py37\\lib\\site-packages (from cobra==0.29.0) (5.12.0)\n",
      "Requirement already satisfied: appdirs~=1.4 in c:\\users\\raema\\anaconda3\\envs\\py37\\lib\\site-packages (from cobra==0.29.0) (1.4.4)\n"
     ]
    },
    {
     "name": "stderr",
     "output_type": "stream",
     "text": [
      "ERROR: Ignored the following versions that require a different python version: 1.8.0 Requires-Python >=3.8; 1.8.1 Requires-Python >=3.8\n",
      "ERROR: Could not find a version that satisfies the requirement optlang~=1.8 (from cobra) (from versions: 0.0.3, 0.0.4, 0.1.0, 0.1.2, 0.2.1, 0.2.3, 0.2.4, 0.2.5, 0.2.6, 0.2.7, 0.2.8, 0.2.9, 0.2.13, 0.2.14, 0.2.15, 0.2.16, 0.2.17, 0.2.18, 0.2.19, 0.2.21, 0.3.0, 0.3.1, 0.3.2, 0.3.3, 0.4.0, 0.4.1, 0.4.2, 0.5.0, 0.6.0b1, 0.6.0, 0.6.1, 0.6.2, 0.6.3, 0.6.4, 1.0.0, 1.0.1, 1.0.2, 1.0.3, 1.0.4, 1.0.5, 1.1.1, 1.1.2, 1.1.3, 1.1.4, 1.1.5, 1.2.0, 1.2.1, 1.2.2, 1.2.3, 1.2.4, 1.2.5, 1.3.0, 1.4.0a2, 1.4.0, 1.4.1, 1.4.2, 1.4.3, 1.4.4, 1.4.6, 1.4.7, 1.5.0, 1.5.1, 1.5.2, 1.6.0, 1.6.1, 1.7.0)\n",
      "ERROR: No matching distribution found for optlang~=1.8\n"
     ]
    },
    {
     "name": "stdout",
     "output_type": "stream",
     "text": [
      "Requirement already satisfied: cameo in c:\\users\\raema\\anaconda3\\envs\\py37\\lib\\site-packages (0.13.6)\n",
      "Requirement already satisfied: inspyred>=1.0 in c:\\users\\raema\\anaconda3\\envs\\py37\\lib\\site-packages (from cameo) (1.0.2)\n",
      "Requirement already satisfied: scipy>=0.14.0 in c:\\users\\raema\\anaconda3\\envs\\py37\\lib\\site-packages (from cameo) (1.7.3)\n",
      "Requirement already satisfied: openpyxl>=2.4.5 in c:\\users\\raema\\anaconda3\\envs\\py37\\lib\\site-packages (from cameo) (3.1.2)\n",
      "Requirement already satisfied: gnomic==1.0.1 in c:\\users\\raema\\anaconda3\\envs\\py37\\lib\\site-packages (from cameo) (1.0.1)\n",
      "Requirement already satisfied: cobra>=0.11.1 in c:\\users\\raema\\anaconda3\\envs\\py37\\lib\\site-packages (from cameo) (0.23.0)\n",
      "Requirement already satisfied: numpy>=1.9.1 in c:\\users\\raema\\anaconda3\\envs\\py37\\lib\\site-packages (from cameo) (1.21.6)\n",
      "Requirement already satisfied: numexpr>=2.4 in c:\\users\\raema\\anaconda3\\envs\\py37\\lib\\site-packages (from cameo) (2.8.6)\n",
      "Requirement already satisfied: optlang>=1.4.2 in c:\\users\\raema\\anaconda3\\envs\\py37\\lib\\site-packages (from cameo) (1.6.1)\n",
      "Requirement already satisfied: future>=0.15.2 in c:\\users\\raema\\anaconda3\\envs\\py37\\lib\\site-packages (from cameo) (0.18.3)\n",
      "Requirement already satisfied: networkx>=2.4 in c:\\users\\raema\\anaconda3\\envs\\py37\\lib\\site-packages (from cameo) (2.6.3)\n",
      "Requirement already satisfied: ordered-set>=1.2 in c:\\users\\raema\\anaconda3\\envs\\py37\\lib\\site-packages (from cameo) (4.1.0)\n",
      "Requirement already satisfied: escher>=1.1.2 in c:\\users\\raema\\anaconda3\\envs\\py37\\lib\\site-packages (from cameo) (1.7.3)\n",
      "Requirement already satisfied: click>=6.7 in c:\\users\\raema\\anaconda3\\envs\\py37\\lib\\site-packages (from cameo) (8.1.7)\n",
      "Requirement already satisfied: lazy-object-proxy>=1.2.0 in c:\\users\\raema\\anaconda3\\envs\\py37\\lib\\site-packages (from cameo) (1.9.0)\n",
      "Requirement already satisfied: palettable>=2.1.1 in c:\\users\\raema\\anaconda3\\envs\\py37\\lib\\site-packages (from cameo) (3.3.3)\n",
      "Requirement already satisfied: blessings>=1.5.1 in c:\\users\\raema\\anaconda3\\envs\\py37\\lib\\site-packages (from cameo) (1.7)\n",
      "Requirement already satisfied: IProgress>=0.4 in c:\\users\\raema\\anaconda3\\envs\\py37\\lib\\site-packages (from cameo) (0.4)\n",
      "Requirement already satisfied: requests>=2.10.0 in c:\\users\\raema\\anaconda3\\envs\\py37\\lib\\site-packages (from cameo) (2.31.0)\n",
      "Requirement already satisfied: pandas>=1.1.3 in c:\\users\\raema\\anaconda3\\envs\\py37\\lib\\site-packages (from cameo) (1.3.5)\n",
      "Requirement already satisfied: grako==3.18.1 in c:\\users\\raema\\anaconda3\\envs\\py37\\lib\\site-packages (from gnomic==1.0.1->cameo) (3.18.1)\n",
      "Requirement already satisfied: six>=1.8.0 in c:\\users\\raema\\anaconda3\\envs\\py37\\lib\\site-packages (from gnomic==1.0.1->cameo) (1.16.0)\n",
      "Requirement already satisfied: importlib-metadata in c:\\users\\raema\\anaconda3\\envs\\py37\\lib\\site-packages (from click>=6.7->cameo) (6.7.0)\n",
      "Requirement already satisfied: colorama in c:\\users\\raema\\anaconda3\\envs\\py37\\lib\\site-packages (from click>=6.7->cameo) (0.4.6)\n",
      "Requirement already satisfied: pydantic~=1.6 in c:\\users\\raema\\anaconda3\\envs\\py37\\lib\\site-packages (from cobra>=0.11.1->cameo) (1.10.13)\n",
      "Requirement already satisfied: diskcache~=5.0 in c:\\users\\raema\\anaconda3\\envs\\py37\\lib\\site-packages (from cobra>=0.11.1->cameo) (5.6.3)\n",
      "Requirement already satisfied: python-libsbml==5.19.2 in c:\\users\\raema\\anaconda3\\envs\\py37\\lib\\site-packages (from cobra>=0.11.1->cameo) (5.19.2)\n",
      "Requirement already satisfied: httpx~=0.14 in c:\\users\\raema\\anaconda3\\envs\\py37\\lib\\site-packages (from cobra>=0.11.1->cameo) (0.24.1)\n",
      "Requirement already satisfied: appdirs~=1.4 in c:\\users\\raema\\anaconda3\\envs\\py37\\lib\\site-packages (from cobra>=0.11.1->cameo) (1.4.4)\n",
      "Requirement already satisfied: ruamel.yaml~=0.16 in c:\\users\\raema\\anaconda3\\envs\\py37\\lib\\site-packages (from cobra>=0.11.1->cameo) (0.18.5)\n",
      "Requirement already satisfied: swiglpk in c:\\users\\raema\\anaconda3\\envs\\py37\\lib\\site-packages (from cobra>=0.11.1->cameo) (5.0.10)\n",
      "Requirement already satisfied: depinfo~=1.7 in c:\\users\\raema\\anaconda3\\envs\\py37\\lib\\site-packages (from cobra>=0.11.1->cameo) (1.7.0)\n",
      "Requirement already satisfied: importlib-resources in c:\\users\\raema\\anaconda3\\envs\\py37\\lib\\site-packages (from cobra>=0.11.1->cameo) (5.12.0)\n",
      "Requirement already satisfied: rich>=8.0 in c:\\users\\raema\\anaconda3\\envs\\py37\\lib\\site-packages (from cobra>=0.11.1->cameo) (13.7.0)\n",
      "Requirement already satisfied: jsonschema<4,>=3.0.1 in c:\\users\\raema\\anaconda3\\envs\\py37\\lib\\site-packages (from escher>=1.1.2->cameo) (3.2.0)\n",
      "Requirement already satisfied: ipywidgets<8,>=7.4.0 in c:\\users\\raema\\anaconda3\\envs\\py37\\lib\\site-packages (from escher>=1.1.2->cameo) (7.8.1)\n",
      "Requirement already satisfied: pytest<5,>=4.0.1 in c:\\users\\raema\\anaconda3\\envs\\py37\\lib\\site-packages (from escher>=1.1.2->cameo) (4.6.11)\n",
      "Requirement already satisfied: Jinja2<3,>=2.7.3 in c:\\users\\raema\\anaconda3\\envs\\py37\\lib\\site-packages (from escher>=1.1.2->cameo) (2.11.3)\n",
      "Requirement already satisfied: et-xmlfile in c:\\users\\raema\\anaconda3\\envs\\py37\\lib\\site-packages (from openpyxl>=2.4.5->cameo) (1.1.0)\n",
      "Requirement already satisfied: sympy>=1.0 in c:\\users\\raema\\anaconda3\\envs\\py37\\lib\\site-packages (from optlang>=1.4.2->cameo) (1.10.1)\n",
      "Requirement already satisfied: pytz>=2017.3 in c:\\users\\raema\\anaconda3\\envs\\py37\\lib\\site-packages (from pandas>=1.1.3->cameo) (2023.3.post1)\n",
      "Requirement already satisfied: python-dateutil>=2.7.3 in c:\\users\\raema\\anaconda3\\envs\\py37\\lib\\site-packages (from pandas>=1.1.3->cameo) (2.8.2)\n",
      "Requirement already satisfied: certifi>=2017.4.17 in c:\\users\\raema\\anaconda3\\envs\\py37\\lib\\site-packages (from requests>=2.10.0->cameo) (2023.11.17)\n",
      "Requirement already satisfied: urllib3<3,>=1.21.1 in c:\\users\\raema\\anaconda3\\envs\\py37\\lib\\site-packages (from requests>=2.10.0->cameo) (2.0.7)\n",
      "Requirement already satisfied: idna<4,>=2.5 in c:\\users\\raema\\anaconda3\\envs\\py37\\lib\\site-packages (from requests>=2.10.0->cameo) (3.6)\n",
      "Requirement already satisfied: charset-normalizer<4,>=2 in c:\\users\\raema\\anaconda3\\envs\\py37\\lib\\site-packages (from requests>=2.10.0->cameo) (3.3.2)\n",
      "Requirement already satisfied: sniffio in c:\\users\\raema\\anaconda3\\envs\\py37\\lib\\site-packages (from httpx~=0.14->cobra>=0.11.1->cameo) (1.3.0)\n",
      "Requirement already satisfied: httpcore<0.18.0,>=0.15.0 in c:\\users\\raema\\anaconda3\\envs\\py37\\lib\\site-packages (from httpx~=0.14->cobra>=0.11.1->cameo) (0.17.3)\n",
      "Requirement already satisfied: widgetsnbextension~=3.6.6 in c:\\users\\raema\\anaconda3\\envs\\py37\\lib\\site-packages (from ipywidgets<8,>=7.4.0->escher>=1.1.2->cameo) (3.6.6)\n",
      "Requirement already satisfied: ipython>=4.0.0 in c:\\users\\raema\\anaconda3\\envs\\py37\\lib\\site-packages (from ipywidgets<8,>=7.4.0->escher>=1.1.2->cameo) (7.33.0)\n",
      "Requirement already satisfied: ipython-genutils~=0.2.0 in c:\\users\\raema\\anaconda3\\envs\\py37\\lib\\site-packages (from ipywidgets<8,>=7.4.0->escher>=1.1.2->cameo) (0.2.0)\n",
      "Requirement already satisfied: jupyterlab-widgets<3,>=1.0.0 in c:\\users\\raema\\anaconda3\\envs\\py37\\lib\\site-packages (from ipywidgets<8,>=7.4.0->escher>=1.1.2->cameo) (1.1.7)\n",
      "Requirement already satisfied: traitlets>=4.3.1 in c:\\users\\raema\\anaconda3\\envs\\py37\\lib\\site-packages (from ipywidgets<8,>=7.4.0->escher>=1.1.2->cameo) (5.9.0)\n",
      "Requirement already satisfied: comm>=0.1.3 in c:\\users\\raema\\anaconda3\\envs\\py37\\lib\\site-packages (from ipywidgets<8,>=7.4.0->escher>=1.1.2->cameo) (0.1.4)\n",
      "Requirement already satisfied: MarkupSafe>=0.23 in c:\\users\\raema\\anaconda3\\envs\\py37\\lib\\site-packages (from Jinja2<3,>=2.7.3->escher>=1.1.2->cameo) (2.0.1)\n",
      "Requirement already satisfied: pyrsistent>=0.14.0 in c:\\users\\raema\\anaconda3\\envs\\py37\\lib\\site-packages (from jsonschema<4,>=3.0.1->escher>=1.1.2->cameo) (0.19.3)\n",
      "Requirement already satisfied: attrs>=17.4.0 in c:\\users\\raema\\anaconda3\\envs\\py37\\lib\\site-packages (from jsonschema<4,>=3.0.1->escher>=1.1.2->cameo) (23.1.0)\n",
      "Requirement already satisfied: setuptools in c:\\users\\raema\\anaconda3\\envs\\py37\\lib\\site-packages (from jsonschema<4,>=3.0.1->escher>=1.1.2->cameo) (65.6.3)\n",
      "Requirement already satisfied: typing-extensions>=4.2.0 in c:\\users\\raema\\anaconda3\\envs\\py37\\lib\\site-packages (from pydantic~=1.6->cobra>=0.11.1->cameo) (4.7.1)\n",
      "Requirement already satisfied: pluggy<1.0,>=0.12 in c:\\users\\raema\\anaconda3\\envs\\py37\\lib\\site-packages (from pytest<5,>=4.0.1->escher>=1.1.2->cameo) (0.13.1)\n",
      "Requirement already satisfied: py>=1.5.0 in c:\\users\\raema\\anaconda3\\envs\\py37\\lib\\site-packages (from pytest<5,>=4.0.1->escher>=1.1.2->cameo) (1.11.0)\n",
      "Requirement already satisfied: more-itertools>=4.0.0 in c:\\users\\raema\\anaconda3\\envs\\py37\\lib\\site-packages (from pytest<5,>=4.0.1->escher>=1.1.2->cameo) (9.1.0)\n",
      "Requirement already satisfied: packaging in c:\\users\\raema\\anaconda3\\envs\\py37\\lib\\site-packages (from pytest<5,>=4.0.1->escher>=1.1.2->cameo) (23.2)\n",
      "Requirement already satisfied: wcwidth in c:\\users\\raema\\anaconda3\\envs\\py37\\lib\\site-packages (from pytest<5,>=4.0.1->escher>=1.1.2->cameo) (0.2.10)\n",
      "Requirement already satisfied: atomicwrites>=1.0 in c:\\users\\raema\\anaconda3\\envs\\py37\\lib\\site-packages (from pytest<5,>=4.0.1->escher>=1.1.2->cameo) (1.4.1)\n",
      "Requirement already satisfied: zipp>=0.5 in c:\\users\\raema\\anaconda3\\envs\\py37\\lib\\site-packages (from importlib-metadata->click>=6.7->cameo) (3.15.0)\n",
      "Requirement already satisfied: pygments<3.0.0,>=2.13.0 in c:\\users\\raema\\anaconda3\\envs\\py37\\lib\\site-packages (from rich>=8.0->cobra>=0.11.1->cameo) (2.17.2)\n",
      "Requirement already satisfied: markdown-it-py>=2.2.0 in c:\\users\\raema\\anaconda3\\envs\\py37\\lib\\site-packages (from rich>=8.0->cobra>=0.11.1->cameo) (2.2.0)\n",
      "Requirement already satisfied: ruamel.yaml.clib>=0.2.7 in c:\\users\\raema\\anaconda3\\envs\\py37\\lib\\site-packages (from ruamel.yaml~=0.16->cobra>=0.11.1->cameo) (0.2.8)\n",
      "Requirement already satisfied: mpmath>=0.19 in c:\\users\\raema\\anaconda3\\envs\\py37\\lib\\site-packages (from sympy>=1.0->optlang>=1.4.2->cameo) (1.3.0)\n",
      "Requirement already satisfied: h11<0.15,>=0.13 in c:\\users\\raema\\anaconda3\\envs\\py37\\lib\\site-packages (from httpcore<0.18.0,>=0.15.0->httpx~=0.14->cobra>=0.11.1->cameo) (0.14.0)\n",
      "Requirement already satisfied: anyio<5.0,>=3.0 in c:\\users\\raema\\anaconda3\\envs\\py37\\lib\\site-packages (from httpcore<0.18.0,>=0.15.0->httpx~=0.14->cobra>=0.11.1->cameo) (3.7.1)\n",
      "Requirement already satisfied: pickleshare in c:\\users\\raema\\anaconda3\\envs\\py37\\lib\\site-packages (from ipython>=4.0.0->ipywidgets<8,>=7.4.0->escher>=1.1.2->cameo) (0.7.5)\n",
      "Requirement already satisfied: jedi>=0.16 in c:\\users\\raema\\anaconda3\\envs\\py37\\lib\\site-packages (from ipython>=4.0.0->ipywidgets<8,>=7.4.0->escher>=1.1.2->cameo) (0.19.1)\n",
      "Requirement already satisfied: decorator in c:\\users\\raema\\anaconda3\\envs\\py37\\lib\\site-packages (from ipython>=4.0.0->ipywidgets<8,>=7.4.0->escher>=1.1.2->cameo) (5.1.1)\n",
      "Requirement already satisfied: prompt-toolkit!=3.0.0,!=3.0.1,<3.1.0,>=2.0.0 in c:\\users\\raema\\anaconda3\\envs\\py37\\lib\\site-packages (from ipython>=4.0.0->ipywidgets<8,>=7.4.0->escher>=1.1.2->cameo) (3.0.41)\n",
      "Requirement already satisfied: matplotlib-inline in c:\\users\\raema\\anaconda3\\envs\\py37\\lib\\site-packages (from ipython>=4.0.0->ipywidgets<8,>=7.4.0->escher>=1.1.2->cameo) (0.1.6)\n",
      "Requirement already satisfied: backcall in c:\\users\\raema\\anaconda3\\envs\\py37\\lib\\site-packages (from ipython>=4.0.0->ipywidgets<8,>=7.4.0->escher>=1.1.2->cameo) (0.2.0)\n",
      "Requirement already satisfied: mdurl~=0.1 in c:\\users\\raema\\anaconda3\\envs\\py37\\lib\\site-packages (from markdown-it-py>=2.2.0->rich>=8.0->cobra>=0.11.1->cameo) (0.1.2)\n",
      "Requirement already satisfied: notebook>=4.4.1 in c:\\users\\raema\\anaconda3\\envs\\py37\\lib\\site-packages (from widgetsnbextension~=3.6.6->ipywidgets<8,>=7.4.0->escher>=1.1.2->cameo) (6.5.6)\n",
      "Requirement already satisfied: exceptiongroup in c:\\users\\raema\\anaconda3\\envs\\py37\\lib\\site-packages (from anyio<5.0,>=3.0->httpcore<0.18.0,>=0.15.0->httpx~=0.14->cobra>=0.11.1->cameo) (1.2.0)\n",
      "Requirement already satisfied: parso<0.9.0,>=0.8.3 in c:\\users\\raema\\anaconda3\\envs\\py37\\lib\\site-packages (from jedi>=0.16->ipython>=4.0.0->ipywidgets<8,>=7.4.0->escher>=1.1.2->cameo) (0.8.3)\n",
      "Requirement already satisfied: nbformat in c:\\users\\raema\\anaconda3\\envs\\py37\\lib\\site-packages (from notebook>=4.4.1->widgetsnbextension~=3.6.6->ipywidgets<8,>=7.4.0->escher>=1.1.2->cameo) (5.8.0)\n",
      "Requirement already satisfied: terminado>=0.8.3 in c:\\users\\raema\\anaconda3\\envs\\py37\\lib\\site-packages (from notebook>=4.4.1->widgetsnbextension~=3.6.6->ipywidgets<8,>=7.4.0->escher>=1.1.2->cameo) (0.17.1)\n",
      "Requirement already satisfied: nbclassic>=0.4.7 in c:\\users\\raema\\anaconda3\\envs\\py37\\lib\\site-packages (from notebook>=4.4.1->widgetsnbextension~=3.6.6->ipywidgets<8,>=7.4.0->escher>=1.1.2->cameo) (1.0.0)\n",
      "Requirement already satisfied: pyzmq<25,>=17 in c:\\users\\raema\\anaconda3\\envs\\py37\\lib\\site-packages (from notebook>=4.4.1->widgetsnbextension~=3.6.6->ipywidgets<8,>=7.4.0->escher>=1.1.2->cameo) (23.2.0)\n",
      "Requirement already satisfied: nest-asyncio>=1.5 in c:\\users\\raema\\anaconda3\\envs\\py37\\lib\\site-packages (from notebook>=4.4.1->widgetsnbextension~=3.6.6->ipywidgets<8,>=7.4.0->escher>=1.1.2->cameo) (1.5.8)\n",
      "Requirement already satisfied: ipykernel in c:\\users\\raema\\anaconda3\\envs\\py37\\lib\\site-packages (from notebook>=4.4.1->widgetsnbextension~=3.6.6->ipywidgets<8,>=7.4.0->escher>=1.1.2->cameo) (6.16.2)\n",
      "Requirement already satisfied: argon2-cffi in c:\\users\\raema\\anaconda3\\envs\\py37\\lib\\site-packages (from notebook>=4.4.1->widgetsnbextension~=3.6.6->ipywidgets<8,>=7.4.0->escher>=1.1.2->cameo) (23.1.0)\n",
      "Requirement already satisfied: prometheus-client in c:\\users\\raema\\anaconda3\\envs\\py37\\lib\\site-packages (from notebook>=4.4.1->widgetsnbextension~=3.6.6->ipywidgets<8,>=7.4.0->escher>=1.1.2->cameo) (0.17.1)\n",
      "Requirement already satisfied: nbconvert>=5 in c:\\users\\raema\\anaconda3\\envs\\py37\\lib\\site-packages (from notebook>=4.4.1->widgetsnbextension~=3.6.6->ipywidgets<8,>=7.4.0->escher>=1.1.2->cameo) (6.4.5)\n",
      "Requirement already satisfied: tornado>=6.1 in c:\\users\\raema\\anaconda3\\envs\\py37\\lib\\site-packages (from notebook>=4.4.1->widgetsnbextension~=3.6.6->ipywidgets<8,>=7.4.0->escher>=1.1.2->cameo) (6.2)\n",
      "Requirement already satisfied: Send2Trash>=1.8.0 in c:\\users\\raema\\anaconda3\\envs\\py37\\lib\\site-packages (from notebook>=4.4.1->widgetsnbextension~=3.6.6->ipywidgets<8,>=7.4.0->escher>=1.1.2->cameo) (1.8.2)\n",
      "Requirement already satisfied: jupyter-client<8,>=5.3.4 in c:\\users\\raema\\anaconda3\\envs\\py37\\lib\\site-packages (from notebook>=4.4.1->widgetsnbextension~=3.6.6->ipywidgets<8,>=7.4.0->escher>=1.1.2->cameo) (7.4.9)\n",
      "Requirement already satisfied: jupyter-core>=4.6.1 in c:\\users\\raema\\anaconda3\\envs\\py37\\lib\\site-packages (from notebook>=4.4.1->widgetsnbextension~=3.6.6->ipywidgets<8,>=7.4.0->escher>=1.1.2->cameo) (4.12.0)\n",
      "Requirement already satisfied: entrypoints in c:\\users\\raema\\anaconda3\\envs\\py37\\lib\\site-packages (from jupyter-client<8,>=5.3.4->notebook>=4.4.1->widgetsnbextension~=3.6.6->ipywidgets<8,>=7.4.0->escher>=1.1.2->cameo) (0.4)\n",
      "Requirement already satisfied: pywin32>=1.0 in c:\\users\\raema\\anaconda3\\envs\\py37\\lib\\site-packages (from jupyter-core>=4.6.1->notebook>=4.4.1->widgetsnbextension~=3.6.6->ipywidgets<8,>=7.4.0->escher>=1.1.2->cameo) (303)\n",
      "Requirement already satisfied: jupyter-server>=1.8 in c:\\users\\raema\\anaconda3\\envs\\py37\\lib\\site-packages (from nbclassic>=0.4.7->notebook>=4.4.1->widgetsnbextension~=3.6.6->ipywidgets<8,>=7.4.0->escher>=1.1.2->cameo) (1.24.0)\n",
      "Requirement already satisfied: notebook-shim>=0.2.3 in c:\\users\\raema\\anaconda3\\envs\\py37\\lib\\site-packages (from nbclassic>=0.4.7->notebook>=4.4.1->widgetsnbextension~=3.6.6->ipywidgets<8,>=7.4.0->escher>=1.1.2->cameo) (0.2.3)\n",
      "Requirement already satisfied: jupyterlab-pygments in c:\\users\\raema\\anaconda3\\envs\\py37\\lib\\site-packages (from nbconvert>=5->notebook>=4.4.1->widgetsnbextension~=3.6.6->ipywidgets<8,>=7.4.0->escher>=1.1.2->cameo) (0.2.2)\n",
      "Requirement already satisfied: defusedxml in c:\\users\\raema\\anaconda3\\envs\\py37\\lib\\site-packages (from nbconvert>=5->notebook>=4.4.1->widgetsnbextension~=3.6.6->ipywidgets<8,>=7.4.0->escher>=1.1.2->cameo) (0.7.1)\n",
      "Requirement already satisfied: nbclient<0.6.0,>=0.5.0 in c:\\users\\raema\\anaconda3\\envs\\py37\\lib\\site-packages (from nbconvert>=5->notebook>=4.4.1->widgetsnbextension~=3.6.6->ipywidgets<8,>=7.4.0->escher>=1.1.2->cameo) (0.5.13)\n",
      "Requirement already satisfied: mistune<2,>=0.8.1 in c:\\users\\raema\\anaconda3\\envs\\py37\\lib\\site-packages (from nbconvert>=5->notebook>=4.4.1->widgetsnbextension~=3.6.6->ipywidgets<8,>=7.4.0->escher>=1.1.2->cameo) (0.8.4)\n",
      "Requirement already satisfied: testpath in c:\\users\\raema\\anaconda3\\envs\\py37\\lib\\site-packages (from nbconvert>=5->notebook>=4.4.1->widgetsnbextension~=3.6.6->ipywidgets<8,>=7.4.0->escher>=1.1.2->cameo) (0.6.0)\n",
      "Requirement already satisfied: beautifulsoup4 in c:\\users\\raema\\anaconda3\\envs\\py37\\lib\\site-packages (from nbconvert>=5->notebook>=4.4.1->widgetsnbextension~=3.6.6->ipywidgets<8,>=7.4.0->escher>=1.1.2->cameo) (4.12.2)\n",
      "Requirement already satisfied: bleach in c:\\users\\raema\\anaconda3\\envs\\py37\\lib\\site-packages (from nbconvert>=5->notebook>=4.4.1->widgetsnbextension~=3.6.6->ipywidgets<8,>=7.4.0->escher>=1.1.2->cameo) (6.0.0)\n",
      "Requirement already satisfied: pandocfilters>=1.4.1 in c:\\users\\raema\\anaconda3\\envs\\py37\\lib\\site-packages (from nbconvert>=5->notebook>=4.4.1->widgetsnbextension~=3.6.6->ipywidgets<8,>=7.4.0->escher>=1.1.2->cameo) (1.5.0)\n",
      "Requirement already satisfied: fastjsonschema in c:\\users\\raema\\anaconda3\\envs\\py37\\lib\\site-packages (from nbformat->notebook>=4.4.1->widgetsnbextension~=3.6.6->ipywidgets<8,>=7.4.0->escher>=1.1.2->cameo) (2.19.0)\n",
      "Requirement already satisfied: pywinpty>=1.1.0 in c:\\users\\raema\\anaconda3\\envs\\py37\\lib\\site-packages (from terminado>=0.8.3->notebook>=4.4.1->widgetsnbextension~=3.6.6->ipywidgets<8,>=7.4.0->escher>=1.1.2->cameo) (2.0.10)\n",
      "Requirement already satisfied: argon2-cffi-bindings in c:\\users\\raema\\anaconda3\\envs\\py37\\lib\\site-packages (from argon2-cffi->notebook>=4.4.1->widgetsnbextension~=3.6.6->ipywidgets<8,>=7.4.0->escher>=1.1.2->cameo) (21.2.0)\n",
      "Requirement already satisfied: debugpy>=1.0 in c:\\users\\raema\\anaconda3\\envs\\py37\\lib\\site-packages (from ipykernel->notebook>=4.4.1->widgetsnbextension~=3.6.6->ipywidgets<8,>=7.4.0->escher>=1.1.2->cameo) (1.6.3)\n",
      "Requirement already satisfied: psutil in c:\\users\\raema\\anaconda3\\envs\\py37\\lib\\site-packages (from ipykernel->notebook>=4.4.1->widgetsnbextension~=3.6.6->ipywidgets<8,>=7.4.0->escher>=1.1.2->cameo) (5.9.1)\n",
      "Requirement already satisfied: websocket-client in c:\\users\\raema\\anaconda3\\envs\\py37\\lib\\site-packages (from jupyter-server>=1.8->nbclassic>=0.4.7->notebook>=4.4.1->widgetsnbextension~=3.6.6->ipywidgets<8,>=7.4.0->escher>=1.1.2->cameo) (1.6.1)\n",
      "Requirement already satisfied: cffi>=1.0.1 in c:\\users\\raema\\anaconda3\\envs\\py37\\lib\\site-packages (from argon2-cffi-bindings->argon2-cffi->notebook>=4.4.1->widgetsnbextension~=3.6.6->ipywidgets<8,>=7.4.0->escher>=1.1.2->cameo) (1.15.1)\n",
      "Requirement already satisfied: soupsieve>1.2 in c:\\users\\raema\\anaconda3\\envs\\py37\\lib\\site-packages (from beautifulsoup4->nbconvert>=5->notebook>=4.4.1->widgetsnbextension~=3.6.6->ipywidgets<8,>=7.4.0->escher>=1.1.2->cameo) (2.4.1)\n",
      "Requirement already satisfied: webencodings in c:\\users\\raema\\anaconda3\\envs\\py37\\lib\\site-packages (from bleach->nbconvert>=5->notebook>=4.4.1->widgetsnbextension~=3.6.6->ipywidgets<8,>=7.4.0->escher>=1.1.2->cameo) (0.5.1)\n",
      "Requirement already satisfied: pycparser in c:\\users\\raema\\anaconda3\\envs\\py37\\lib\\site-packages (from cffi>=1.0.1->argon2-cffi-bindings->argon2-cffi->notebook>=4.4.1->widgetsnbextension~=3.6.6->ipywidgets<8,>=7.4.0->escher>=1.1.2->cameo) (2.21)\n"
     ]
    },
    {
     "name": "stderr",
     "output_type": "stream",
     "text": [
      "ERROR: unknown command \"numpy==1.26.1\"\n",
      "\n",
      "ERROR: Ignored the following versions that require a different python version: 1.4.0 Requires-Python >=3.8; 1.4.0rc0 Requires-Python >=3.8; 1.4.1 Requires-Python >=3.8; 1.4.2 Requires-Python >=3.8; 1.4.3 Requires-Python >=3.8; 1.4.4 Requires-Python >=3.8; 1.5.0 Requires-Python >=3.8; 1.5.0rc0 Requires-Python >=3.8; 1.5.1 Requires-Python >=3.8; 1.5.2 Requires-Python >=3.8; 1.5.3 Requires-Python >=3.8; 2.0.0 Requires-Python >=3.8; 2.0.0rc0 Requires-Python >=3.8; 2.0.0rc1 Requires-Python >=3.8; 2.0.1 Requires-Python >=3.8; 2.0.2 Requires-Python >=3.8; 2.0.3 Requires-Python >=3.8; 2.1.0 Requires-Python >=3.9; 2.1.0rc0 Requires-Python >=3.9; 2.1.1 Requires-Python >=3.9; 2.1.2 Requires-Python >=3.9; 2.1.3 Requires-Python >=3.9\n",
      "ERROR: Could not find a version that satisfies the requirement pandas==2.1.2 (from versions: 0.1, 0.2, 0.3.0, 0.4.0, 0.4.1, 0.4.2, 0.4.3, 0.5.0, 0.6.0, 0.6.1, 0.7.0, 0.7.1, 0.7.2, 0.7.3, 0.8.0, 0.8.1, 0.9.0, 0.9.1, 0.10.0, 0.10.1, 0.11.0, 0.12.0, 0.13.0, 0.13.1, 0.14.0, 0.14.1, 0.15.0, 0.15.1, 0.15.2, 0.16.0, 0.16.1, 0.16.2, 0.17.0, 0.17.1, 0.18.0, 0.18.1, 0.19.0, 0.19.1, 0.19.2, 0.20.0, 0.20.1, 0.20.2, 0.20.3, 0.21.0, 0.21.1, 0.22.0, 0.23.0, 0.23.1, 0.23.2, 0.23.3, 0.23.4, 0.24.0, 0.24.1, 0.24.2, 0.25.0, 0.25.1, 0.25.2, 0.25.3, 1.0.0, 1.0.1, 1.0.2, 1.0.3, 1.0.4, 1.0.5, 1.1.0, 1.1.1, 1.1.2, 1.1.3, 1.1.4, 1.1.5, 1.2.0, 1.2.1, 1.2.2, 1.2.3, 1.2.4, 1.2.5, 1.3.0, 1.3.1, 1.3.2, 1.3.3, 1.3.4, 1.3.5)\n",
      "ERROR: No matching distribution found for pandas==2.1.2\n"
     ]
    }
   ],
   "source": [
    "!python -m pip  install cobra==0.29.0\n",
    "!python -m pip  install cameo\n",
    "!python -m pip numpy==1.26.1\n",
    "!python -m pip  install pandas==2.1.2"
   ]
  },
  {
   "cell_type": "code",
   "execution_count": 4,
   "metadata": {},
   "outputs": [],
   "source": [
    "#!python -m pip install ipykernel==6.26.0\n",
    "#!python -m pip install ipyparallel==8.6.1\n",
    "#!python -m pip install ipython==8.17.2\n",
    "#!python -m pip install ipython-genutils==0.2.0"
   ]
  },
  {
   "cell_type": "code",
   "execution_count": 5,
   "metadata": {},
   "outputs": [],
   "source": [
    "#!python -m pip  install --upgrade markupsafe\n",
    "#!python -m pip  install --upgrade Jinja2"
   ]
  },
  {
   "cell_type": "markdown",
   "metadata": {},
   "source": [
    "We can now procede to import all the necessary extensions. "
   ]
  },
  {
   "cell_type": "code",
   "execution_count": 1,
   "metadata": {},
   "outputs": [],
   "source": [
    "from cobra.io import read_sbml_model #importing functions needed\n",
    "from cobra import Reaction, Metabolite\n",
    "from cameo.strain_design.heuristic.evolutionary_based import CofactorSwapOptimization\n",
    "from cameo.strain_design.heuristic.evolutionary.objective_functions import product_yield"
   ]
  },
  {
   "cell_type": "code",
   "execution_count": 6,
   "metadata": {},
   "outputs": [],
   "source": [
    "#pip install numpy==1.11"
   ]
  },
  {
   "cell_type": "code",
   "execution_count": 7,
   "metadata": {},
   "outputs": [],
   "source": [
    "#!python -m pip install  markupsafe==2.0.1\n",
    "#!python -m pip  install  nbformat\n",
    "#!python -m pip  install sympy==1.12"
   ]
  },
  {
   "cell_type": "markdown",
   "metadata": {},
   "source": [
    "First we want to determine a baseline to which compare all posible alterations done to the model. Once again we set the upper boung of the objective function for Aspartate to 80% of the ideal maximum value to better represent biological productivity levels and to allow for the algorithm to have room for improvement. "
   ]
  },
  {
   "cell_type": "code",
   "execution_count": 63,
   "metadata": {},
   "outputs": [
    {
     "name": "stdout",
     "output_type": "stream",
     "text": [
      "0.87392\n",
      "3.672\n"
     ]
    }
   ],
   "source": [
    "with model:\n",
    "    model.objective = model.reactions.BIOMASS_Ec_iML1515_core_75p37M\n",
    "    base_max_growth = model.slim_optimize()\n",
    "    print(base_max_growth)\n",
    "    model.objective = model.reactions.EX_asp__L_e\n",
    "    model.reactions.EX_asp__L_e.upper_bound=4.59*(0.8)\n",
    "    base_max_production = model.slim_optimize()\n",
    "    print(base_max_production)"
   ]
  },
  {
   "cell_type": "markdown",
   "metadata": {},
   "source": [
    "We generate variables for biomass and for aspartate in order for them to be considered as goals for the optimization process. The max_size value detemrines the scale of the analysis. "
   ]
  },
  {
   "cell_type": "code",
   "execution_count": 59,
   "metadata": {},
   "outputs": [
    {
     "name": "stdout",
     "output_type": "stream",
     "text": [
      "Starting optimization at Thu, 30 Nov 2023 01:31:49\n"
     ]
    },
    {
     "data": {
      "application/vnd.jupyter.widget-view+json": {
       "model_id": "1b3d1a5dc7274833a4cc3dcbdb4aea2b",
       "version_major": 2,
       "version_minor": 0
      },
      "text/plain": [
       "HBox()"
      ]
     },
     "metadata": {},
     "output_type": "display_data"
    },
    {
     "name": "stdout",
     "output_type": "stream",
     "text": [
      "Finished after 00:01:42\n"
     ]
    }
   ],
   "source": [
    "with model:\n",
    " model.objective = model.reactions.EX_asp__L_e\n",
    " model.reactions.EX_asp__L_e.upper_bound=4.59*(0.8)\n",
    " biomass=  model.reactions.BIOMASS_Ec_iML1515_core_75p37M\n",
    " Aspartate_prod = product_yield(model.reactions.EX_asp__L_e, biomass) \n",
    " swap_opt = CofactorSwapOptimization(model=model, objective_function = Aspartate_prod, plot=True)\n",
    " result = swap_opt.run(max_size=10)\n",
    "     "
   ]
  },
  {
   "cell_type": "code",
   "execution_count": 62,
   "metadata": {},
   "outputs": [
    {
     "data": {
      "text/html": [
       "\n",
       "        <h4>Result:</h4>\n",
       "        <ul>\n",
       "            <li>model: iML1515</li>\n",
       "            <li>heuristic: GA</li>\n",
       "            <li>objective function: $$yield = \\frac{EX\\_asp\\_\\_L\\_e}{BIOMASS\\_Ec\\_iML1515\\_core\\_75p37M}$$</li>\n",
       "            <li>simulation method: pfba</li>\n",
       "            <li>target type: cofactor-swap</li>\n",
       "        <ul>\n",
       "        <div>\n",
       "<style scoped>\n",
       "    .dataframe tbody tr th:only-of-type {\n",
       "        vertical-align: middle;\n",
       "    }\n",
       "\n",
       "    .dataframe tbody tr th {\n",
       "        vertical-align: top;\n",
       "    }\n",
       "\n",
       "    .dataframe thead th {\n",
       "        text-align: right;\n",
       "    }\n",
       "</style>\n",
       "<table border=\"1\" class=\"dataframe\">\n",
       "  <thead>\n",
       "    <tr style=\"text-align: right;\">\n",
       "      <th></th>\n",
       "      <th>index</th>\n",
       "      <th>targets</th>\n",
       "      <th>fitness</th>\n",
       "    </tr>\n",
       "  </thead>\n",
       "  <tbody>\n",
       "  </tbody>\n",
       "</table>\n",
       "</div>"
      ],
      "text/plain": [
       "<cameo.strain_design.heuristic.evolutionary.optimization.TargetOptimizationResult at 0x1419e18d288>"
      ]
     },
     "execution_count": 62,
     "metadata": {},
     "output_type": "execute_result"
    }
   ],
   "source": [
    "result"
   ]
  },
  {
   "cell_type": "markdown",
   "metadata": {},
   "source": [
    "The algorith was unable to find any possible CO-factor swaps that would result in a higher aspartate producition. "
   ]
  }
 ],
 "metadata": {
  "kernelspec": {
   "display_name": "base",
   "language": "python",
   "name": "python3"
  },
  "language_info": {
   "codemirror_mode": {
    "name": "ipython",
    "version": 3
   },
   "file_extension": ".py",
   "mimetype": "text/x-python",
   "name": "python",
   "nbconvert_exporter": "python",
   "pygments_lexer": "ipython3",
   "version": "3.7.16"
  }
 },
 "nbformat": 4,
 "nbformat_minor": 2
}
