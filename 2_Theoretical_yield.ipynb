{
 "cells": [
  {
   "cell_type": "markdown",
   "metadata": {},
   "source": [
    "### Import libraries"
   ]
  },
  {
   "cell_type": "code",
   "execution_count": 1,
   "metadata": {},
   "outputs": [],
   "source": [
    "from cobra.io import read_sbml_model, write_sbml_model\n",
    "from cobra import Reaction, Metabolite \n",
    "import numpy as np\n",
    "import matplotlib.pyplot as plt\n",
    "import pandas as pd"
   ]
  },
  {
   "cell_type": "markdown",
   "metadata": {},
   "source": [
    "### Import model and simulate the medium"
   ]
  },
  {
   "cell_type": "code",
   "execution_count": 2,
   "metadata": {},
   "outputs": [
    {
     "data": {
      "text/plain": [
       "{'EX_pi_e': 1000.0,\n",
       " 'EX_co2_e': 1000.0,\n",
       " 'EX_fe3_e': 1000.0,\n",
       " 'EX_h_e': 1000.0,\n",
       " 'EX_mn2_e': 1000.0,\n",
       " 'EX_fe2_e': 1000.0,\n",
       " 'EX_glc__D_e': 10.0,\n",
       " 'EX_zn2_e': 1000.0,\n",
       " 'EX_mg2_e': 1000.0,\n",
       " 'EX_ca2_e': 1000.0,\n",
       " 'EX_ni2_e': 1000.0,\n",
       " 'EX_cu2_e': 1000.0,\n",
       " 'EX_sel_e': 1000.0,\n",
       " 'EX_cobalt2_e': 1000.0,\n",
       " 'EX_h2o_e': 1000.0,\n",
       " 'EX_mobd_e': 1000.0,\n",
       " 'EX_so4_e': 1000.0,\n",
       " 'EX_nh4_e': 1000.0,\n",
       " 'EX_k_e': 1000.0,\n",
       " 'EX_na1_e': 1000.0,\n",
       " 'EX_cl_e': 1000.0,\n",
       " 'EX_o2_e': 1000.0,\n",
       " 'EX_tungs_e': 1000.0,\n",
       " 'EX_slnt_e': 1000.0}"
      ]
     },
     "execution_count": 2,
     "metadata": {},
     "output_type": "execute_result"
    }
   ],
   "source": [
    "#Simulating the medium\n",
    "iML1515 = read_sbml_model('Models/iML1515.xml') \n",
    "iML1515.medium\n"
   ]
  },
  {
   "cell_type": "code",
   "execution_count": 3,
   "metadata": {},
   "outputs": [],
   "source": [
    "# Create empty lists to store the...:\n",
    "carbon = []\n",
    "carbon_names = []\n",
    "\n",
    "# Create a loop where we find all reactions that contains carbon:\n",
    "for reaction in iML1515.exchanges:\n",
    "    for metabolite in reaction.reactants:\n",
    "        if \"C\" in metabolite.elements:\n",
    "            carbon.append(reaction.id)\n",
    "            carbon_names.append(reaction.name) \n",
    "\n",
    "#temporary change to the model\n",
    "with iML1515:\n",
    "    max_base_growth = iML1515.slim_optimize()\n",
    "    iML1515.objective = iML1515.reactions.EX_asp__L_e\n",
    "    max_base_production = iML1515.slim_optimize()\n",
    "            "
   ]
  },
  {
   "cell_type": "code",
   "execution_count": 4,
   "metadata": {},
   "outputs": [],
   "source": [
    "# Define lists we will be using:\n",
    "max_growth = []\n",
    "max_production = []\n",
    "medium=iML1515.medium"
   ]
  },
  {
   "cell_type": "code",
   "execution_count": 5,
   "metadata": {},
   "outputs": [],
   "source": [
    " #Create loop for temporary changes in our model:\n",
    "with iML1515:\n",
    "    for reaction in carbon:\n",
    "        medium['EX_glc__D_e'] = 0 # glucose in the medium\n",
    "        medium[reaction]=1\n",
    "        iML1515.medium = medium\n",
    "        with iML1515:\n",
    "            max_growth.append(iML1515.slim_optimize(error_value=0.))\n",
    "            iML1515.objective = iML1515.reactions.EX_asp__L_e # production of l-aspartate\n",
    "            max_production.append(iML1515.slim_optimize(error_value=0.))  # Determining max production\n",
    "        medium[reaction]=0     "
   ]
  },
  {
   "cell_type": "code",
   "execution_count": 6,
   "metadata": {},
   "outputs": [
    {
     "name": "stdout",
     "output_type": "stream",
     "text": [
      "                                     Carbon    Growth  Production\n",
      "0                              CO2 exchange  0.000000    0.000000\n",
      "1                     L-Methionine exchange  0.000000    0.000000\n",
      "2             L-Methionine S-oxide exchange  0.000000    0.000000\n",
      "3           N-Acetyl-D-glucosamine exchange  0.089370    1.837241\n",
      "4                       Cellobiose exchange  0.154755    3.000000\n",
      "..                                      ...       ...         ...\n",
      "286       4-aminobenzoyl-glutamate exchange  0.000000    0.000000\n",
      "287                       Rifampin exchange  0.000000    0.000000\n",
      "288  1-O-methyl-Beta-D-glucuronate exchange  0.046712    0.991020\n",
      "289                        Quinate exchange  0.000000    0.000000\n",
      "290            3-Hydroxypropanoate exchange  0.000000    0.000000\n",
      "\n",
      "[291 rows x 3 columns]\n"
     ]
    }
   ],
   "source": [
    "# Now, we collect all of the data in a dataframe:\n",
    "production = {'Carbon': carbon_names,\n",
    "             'Growth': max_growth,\n",
    "             'Production': max_production}\n",
    "df = pd.DataFrame(production, columns = ['Carbon', 'Growth', 'Production'])\n",
    "print(df)"
   ]
  },
  {
   "cell_type": "code",
   "execution_count": 7,
   "metadata": {},
   "outputs": [
    {
     "name": "stdout",
     "output_type": "stream",
     "text": [
      "                                     Carbon    Growth  Production\n",
      "3           N-Acetyl-D-glucosamine exchange  0.089370    1.837241\n",
      "4                       Cellobiose exchange  0.154755    3.000000\n",
      "6                     Hypoxanthine exchange  0.005009    0.111209\n",
      "9                        L-Lactate exchange  0.011857    0.256327\n",
      "11                     D-Gluconate exchange  0.055878    1.181497\n",
      "..                                      ...       ...         ...\n",
      "270          L-alanine-D-glutamate exchange  0.080334    1.755636\n",
      "272          L-alanine-L-glutamate exchange  0.080334    1.755636\n",
      "276                     D-Xylonate exchange  0.036085    0.775686\n",
      "285                Sulphoquinovose exchange  0.012082    0.256327\n",
      "288  1-O-methyl-Beta-D-glucuronate exchange  0.046712    0.991020\n",
      "\n",
      "[176 rows x 3 columns]\n"
     ]
    }
   ],
   "source": [
    "# Create dataframe:\n",
    "df= df[df['Growth'] != 0]\n",
    "print(df)"
   ]
  },
  {
   "cell_type": "code",
   "execution_count": 8,
   "metadata": {},
   "outputs": [
    {
     "data": {
      "image/png": "[encoded data removed]",
      "text/plain": [
       "<Figure size 640x480 with 1 Axes>"
      ]
     },
     "metadata": {},
     "output_type": "display_data"
    }
   ],
   "source": [
    "import seaborn as sns\n",
    "\n",
    "# We create a scatterplot of the production over growth to view the distribution\n",
    "sns.scatterplot(data=df, x='Growth', y='Production', color='red')\n",
    "sns.despine()\n",
    "\n",
    "plt.xlabel('Maximum growth rate')\n",
    "plt.ylabel('Maximum production')\n",
    "#plt.xlim(0, 0.9)\n",
    "#plt.ylim(0, 0.5)\n",
    "plt.title('Maximal Growth rate and production')\n",
    "#plt.savefig(\"figures/carbon_sources\")\n",
    "plt.show()"
   ]
  },
  {
   "cell_type": "code",
   "execution_count": 9,
   "metadata": {},
   "outputs": [
    {
     "data": {
      "text/plain": [
       "{'EX_pi_e': 1000.0,\n",
       " 'EX_co2_e': 1000.0,\n",
       " 'EX_fe3_e': 1000.0,\n",
       " 'EX_h_e': 1000.0,\n",
       " 'EX_mn2_e': 1000.0,\n",
       " 'EX_fe2_e': 1000.0,\n",
       " 'EX_glc__D_e': 10.0,\n",
       " 'EX_zn2_e': 1000.0,\n",
       " 'EX_mg2_e': 1000.0,\n",
       " 'EX_ca2_e': 1000.0,\n",
       " 'EX_ni2_e': 1000.0,\n",
       " 'EX_cu2_e': 1000.0,\n",
       " 'EX_sel_e': 1000.0,\n",
       " 'EX_cobalt2_e': 1000.0,\n",
       " 'EX_h2o_e': 1000.0,\n",
       " 'EX_mobd_e': 1000.0,\n",
       " 'EX_so4_e': 1000.0,\n",
       " 'EX_nh4_e': 1000.0,\n",
       " 'EX_k_e': 1000.0,\n",
       " 'EX_na1_e': 1000.0,\n",
       " 'EX_cl_e': 1000.0,\n",
       " 'EX_o2_e': 1000.0,\n",
       " 'EX_tungs_e': 1000.0,\n",
       " 'EX_slnt_e': 1000.0}"
      ]
     },
     "execution_count": 9,
     "metadata": {},
     "output_type": "execute_result"
    }
   ],
   "source": [
    "# We write a new model with glucose as the carbon source\n",
    "medium=iML1515.medium\n",
    "medium['EX_glc__D_e'] = 10\n",
    "iML1515.medium = medium\n",
    "write_sbml_model(iML1515, \"Models/iML1515_modified_glucose.xml\") # creates a new file\n",
    "iML1515_glucose = read_sbml_model('Models/iML1515_modified_glucose.xml') # set model to new file\n",
    "iML1515_glucose.medium "
   ]
  },
  {
   "cell_type": "code",
   "execution_count": 10,
   "metadata": {},
   "outputs": [
    {
     "name": "stdout",
     "output_type": "stream",
     "text": [
      "0.8769972144270309\n"
     ]
    }
   ],
   "source": [
    "#set the optimal value for biomass to 100%\n",
    "iML1515_glucose.reactions.BIOMASS_Ec_iML1515_core_75p37M.upper_bound=0.87699721425716\n",
    "#set the lower bound to not be less than 75 % of the optimal value\n",
    "iML1515_glucose.reactions.BIOMASS_Ec_iML1515_core_75p37M.lower_bound=0.87699721425716*0.75\n",
    "#print the new objective value\n",
    "iML1515_glucose_BM_optimized = print(iML1515.optimize().objective_value)"
   ]
  },
  {
   "cell_type": "code",
   "execution_count": 11,
   "metadata": {},
   "outputs": [
    {
     "name": "stdout",
     "output_type": "stream",
     "text": [
      "Max. l-aspartate production [mmol gDW^-1 h^-1]: 4.548604209060673\n",
      "Theoretical max. yield [mmol-asp / mmol-glucose]: 0.45486042090606726\n"
     ]
    }
   ],
   "source": [
    "# Claculate the max. theoretical yield for production of l-aspartate on glucose\n",
    "with iML1515_glucose:\n",
    "    iML1515_glucose.objective = iML1515_glucose.reactions.EX_asp__L_e\n",
    "    Asp_production_1 = iML1515_glucose.optimize().objective_value\n",
    "    max_yield_glucose = Asp_production_1/ (-1*iML1515_glucose.reactions.EX_glc__D_e.flux)\n",
    "    #set the optimal value for biomass to 100%\n",
    "print(\"Max. l-aspartate production [mmol gDW^-1 h^-1]:\", Asp_production_1)\n",
    "print(\"Theoretical max. yield [mmol-asp / mmol-glucose]:\", max_yield_glucose)"
   ]
  },
  {
   "cell_type": "code",
   "execution_count": 12,
   "metadata": {},
   "outputs": [
    {
     "name": "stdout",
     "output_type": "stream",
     "text": [
      "Maximum theoretical yield of L-aspartate= 0.30324028060404484 cmol-Asp/cmol-glc\n"
     ]
    }
   ],
   "source": [
    "#In cmol/cmol\n",
    "CV_Asp = 4\n",
    "CV_glc = 6\n",
    "Asp_glucose_production_cmol = (max_yield_glucose*CV_Asp)/(1*CV_glc)\n",
    "print('Maximum theoretical yield of L-aspartate=', Asp_glucose_production_cmol, 'cmol-Asp/cmol-glc')"
   ]
  },
  {
   "cell_type": "code",
   "execution_count": 13,
   "metadata": {},
   "outputs": [
    {
     "data": {
      "text/html": [
       "<div>\n",
       "<style scoped>\n",
       "    .dataframe tbody tr th:only-of-type {\n",
       "        vertical-align: middle;\n",
       "    }\n",
       "\n",
       "    .dataframe tbody tr th {\n",
       "        vertical-align: top;\n",
       "    }\n",
       "\n",
       "    .dataframe thead th {\n",
       "        text-align: right;\n",
       "    }\n",
       "</style>\n",
       "<table border=\"1\" class=\"dataframe\">\n",
       "  <thead>\n",
       "    <tr style=\"text-align: right;\">\n",
       "      <th></th>\n",
       "      <th>Carbon</th>\n",
       "      <th>Growth</th>\n",
       "      <th>Production</th>\n",
       "    </tr>\n",
       "  </thead>\n",
       "  <tbody>\n",
       "    <tr>\n",
       "      <th>190</th>\n",
       "      <td>Maltohexaose exchange</td>\n",
       "      <td>0.523400</td>\n",
       "      <td>9.000000</td>\n",
       "    </tr>\n",
       "    <tr>\n",
       "      <th>215</th>\n",
       "      <td>1,4-alpha-D-glucan exchange</td>\n",
       "      <td>0.523400</td>\n",
       "      <td>9.000000</td>\n",
       "    </tr>\n",
       "    <tr>\n",
       "      <th>77</th>\n",
       "      <td>Maltopentaose exchange</td>\n",
       "      <td>0.429358</td>\n",
       "      <td>7.500000</td>\n",
       "    </tr>\n",
       "    <tr>\n",
       "      <th>239</th>\n",
       "      <td>Maltotetraose exchange</td>\n",
       "      <td>0.335316</td>\n",
       "      <td>6.000000</td>\n",
       "    </tr>\n",
       "    <tr>\n",
       "      <th>268</th>\n",
       "      <td>N-Acetyl-D-glucosamine(anhydrous)N-Acetylmuram...</td>\n",
       "      <td>0.246752</td>\n",
       "      <td>4.750000</td>\n",
       "    </tr>\n",
       "    <tr>\n",
       "      <th>128</th>\n",
       "      <td>Maltotriose exchange</td>\n",
       "      <td>0.245036</td>\n",
       "      <td>4.500000</td>\n",
       "    </tr>\n",
       "    <tr>\n",
       "      <th>108</th>\n",
       "      <td>Octadecenoate (n-C18:1) exchange</td>\n",
       "      <td>0.244296</td>\n",
       "      <td>4.500000</td>\n",
       "    </tr>\n",
       "    <tr>\n",
       "      <th>101</th>\n",
       "      <td>Octadecanoate (n-C18:0) exchange</td>\n",
       "      <td>0.240697</td>\n",
       "      <td>4.500000</td>\n",
       "    </tr>\n",
       "    <tr>\n",
       "      <th>65</th>\n",
       "      <td>Hexadecenoate (n-C16:1) exchange</td>\n",
       "      <td>0.213709</td>\n",
       "      <td>4.000000</td>\n",
       "    </tr>\n",
       "    <tr>\n",
       "      <th>171</th>\n",
       "      <td>Hexadecanoate (n-C16:0) exchange</td>\n",
       "      <td>0.210111</td>\n",
       "      <td>4.000000</td>\n",
       "    </tr>\n",
       "    <tr>\n",
       "      <th>67</th>\n",
       "      <td>Tetradecenoate (n-C14:1) exchange</td>\n",
       "      <td>0.183103</td>\n",
       "      <td>3.500000</td>\n",
       "    </tr>\n",
       "    <tr>\n",
       "      <th>84</th>\n",
       "      <td>Tetradecanoate (n-C14:0) exchange</td>\n",
       "      <td>0.179239</td>\n",
       "      <td>3.500000</td>\n",
       "    </tr>\n",
       "    <tr>\n",
       "      <th>210</th>\n",
       "      <td>UDP-N-acetyl-D-glucosamine exchange</td>\n",
       "      <td>0.170809</td>\n",
       "      <td>3.327887</td>\n",
       "    </tr>\n",
       "    <tr>\n",
       "      <th>64</th>\n",
       "      <td>Trehalose exchange</td>\n",
       "      <td>0.154755</td>\n",
       "      <td>3.000000</td>\n",
       "    </tr>\n",
       "    <tr>\n",
       "      <th>175</th>\n",
       "      <td>Maltose exchange</td>\n",
       "      <td>0.154755</td>\n",
       "      <td>3.000000</td>\n",
       "    </tr>\n",
       "    <tr>\n",
       "      <th>4</th>\n",
       "      <td>Cellobiose exchange</td>\n",
       "      <td>0.154755</td>\n",
       "      <td>3.000000</td>\n",
       "    </tr>\n",
       "    <tr>\n",
       "      <th>62</th>\n",
       "      <td>Melibiose exchange</td>\n",
       "      <td>0.153815</td>\n",
       "      <td>3.000000</td>\n",
       "    </tr>\n",
       "    <tr>\n",
       "      <th>100</th>\n",
       "      <td>Lactose exchange</td>\n",
       "      <td>0.153815</td>\n",
       "      <td>3.000000</td>\n",
       "    </tr>\n",
       "    <tr>\n",
       "      <th>185</th>\n",
       "      <td>Dodecanoate (n-C12:0) exchange</td>\n",
       "      <td>0.148329</td>\n",
       "      <td>3.000000</td>\n",
       "    </tr>\n",
       "    <tr>\n",
       "      <th>212</th>\n",
       "      <td>UDPglucose exchange</td>\n",
       "      <td>0.145026</td>\n",
       "      <td>2.831532</td>\n",
       "    </tr>\n",
       "  </tbody>\n",
       "</table>\n",
       "</div>"
      ],
      "text/plain": [
       "                                                Carbon    Growth  Production\n",
       "190                              Maltohexaose exchange  0.523400    9.000000\n",
       "215                        1,4-alpha-D-glucan exchange  0.523400    9.000000\n",
       "77                              Maltopentaose exchange  0.429358    7.500000\n",
       "239                             Maltotetraose exchange  0.335316    6.000000\n",
       "268  N-Acetyl-D-glucosamine(anhydrous)N-Acetylmuram...  0.246752    4.750000\n",
       "128                               Maltotriose exchange  0.245036    4.500000\n",
       "108                   Octadecenoate (n-C18:1) exchange  0.244296    4.500000\n",
       "101                   Octadecanoate (n-C18:0) exchange  0.240697    4.500000\n",
       "65                    Hexadecenoate (n-C16:1) exchange  0.213709    4.000000\n",
       "171                   Hexadecanoate (n-C16:0) exchange  0.210111    4.000000\n",
       "67                   Tetradecenoate (n-C14:1) exchange  0.183103    3.500000\n",
       "84                   Tetradecanoate (n-C14:0) exchange  0.179239    3.500000\n",
       "210                UDP-N-acetyl-D-glucosamine exchange  0.170809    3.327887\n",
       "64                                  Trehalose exchange  0.154755    3.000000\n",
       "175                                   Maltose exchange  0.154755    3.000000\n",
       "4                                  Cellobiose exchange  0.154755    3.000000\n",
       "62                                  Melibiose exchange  0.153815    3.000000\n",
       "100                                   Lactose exchange  0.153815    3.000000\n",
       "185                     Dodecanoate (n-C12:0) exchange  0.148329    3.000000\n",
       "212                                UDPglucose exchange  0.145026    2.831532"
      ]
     },
     "execution_count": 13,
     "metadata": {},
     "output_type": "execute_result"
    }
   ],
   "source": [
    "# Let's check the top 20 carbon sources that result in the highest growth\n",
    "df.sort_values(by='Growth', ascending=False).head(20)"
   ]
  },
  {
   "cell_type": "code",
   "execution_count": 14,
   "metadata": {},
   "outputs": [
    {
     "name": "stdout",
     "output_type": "stream",
     "text": [
      "EX_malthx_e\n"
     ]
    }
   ],
   "source": [
    "# We have chosen 3 of interest, first we investigate maltohezaose\n",
    "for reaction in iML1515.reactions.query('Maltohexaose exchange', 'name'):\n",
    "    print(reaction.id)"
   ]
  },
  {
   "cell_type": "code",
   "execution_count": 15,
   "metadata": {},
   "outputs": [
    {
     "data": {
      "text/plain": [
       "{'EX_pi_e': 1000.0,\n",
       " 'EX_co2_e': 1000.0,\n",
       " 'EX_fe3_e': 1000.0,\n",
       " 'EX_h_e': 1000.0,\n",
       " 'EX_mn2_e': 1000.0,\n",
       " 'EX_fe2_e': 1000.0,\n",
       " 'EX_zn2_e': 1000.0,\n",
       " 'EX_mg2_e': 1000.0,\n",
       " 'EX_ca2_e': 1000.0,\n",
       " 'EX_ni2_e': 1000.0,\n",
       " 'EX_cu2_e': 1000.0,\n",
       " 'EX_sel_e': 1000.0,\n",
       " 'EX_cobalt2_e': 1000.0,\n",
       " 'EX_h2o_e': 1000.0,\n",
       " 'EX_mobd_e': 1000.0,\n",
       " 'EX_so4_e': 1000.0,\n",
       " 'EX_nh4_e': 1000.0,\n",
       " 'EX_malthx_e': 10.0,\n",
       " 'EX_k_e': 1000.0,\n",
       " 'EX_na1_e': 1000.0,\n",
       " 'EX_cl_e': 1000.0,\n",
       " 'EX_o2_e': 1000.0,\n",
       " 'EX_tungs_e': 1000.0,\n",
       " 'EX_slnt_e': 1000.0}"
      ]
     },
     "execution_count": 15,
     "metadata": {},
     "output_type": "execute_result"
    }
   ],
   "source": [
    "# Changing the carbon source to Maltohexaose:\n",
    "medium=iML1515.medium\n",
    "medium['EX_glc__D_e'] = 0\n",
    "medium[\"EX_malthx_e\"]= 10 # we set it to 10 as with glucose in the base medium\n",
    "iML1515.medium = medium\n",
    "write_sbml_model(iML1515, \"Models/iML1515_modified_malthx.xml\") # we create new file\n",
    "iML1515_maltohexaose = read_sbml_model('Models/iML1515_modified_malthx.xml') # we set model to new file\n",
    "iML1515_maltohexaose.medium \n",
    "\n"
   ]
  },
  {
   "cell_type": "code",
   "execution_count": 16,
   "metadata": {},
   "outputs": [
    {
     "name": "stdout",
     "output_type": "stream",
     "text": [
      "Max. l-aspartate production [mmol gDW^-1 h^-1]: 112.63034482758619\n",
      "Max. theoretical yield [mmol-asp / mmol-maltohexaose]: 11.263034482758618\n"
     ]
    }
   ],
   "source": [
    "# Claculate the maximum theoretical yield for production on Maltohexaose\n",
    "with iML1515_maltohexaose:\n",
    "    iML1515_maltohexaose.objective = iML1515_maltohexaose.reactions.EX_asp__L_e\n",
    "    Asp_production_2 = iML1515_maltohexaose.optimize().objective_value\n",
    "    max_yield_maltohexaose = Asp_production_2 / (-1*iML1515_maltohexaose.reactions.EX_malthx_e.flux)\n",
    "    print(\"Max. l-aspartate production [mmol gDW^-1 h^-1]:\", Asp_production_2)\n",
    "    print(\"Max. theoretical yield [mmol-asp / mmol-maltohexaose]:\", max_yield_maltohexaose) "
   ]
  },
  {
   "cell_type": "code",
   "execution_count": 17,
   "metadata": {},
   "outputs": [
    {
     "name": "stdout",
     "output_type": "stream",
     "text": [
      "Maximum theoretical yield cmol/cmol= 1.2514482758620686 cmol-asp/cmol-malthx\n"
     ]
    }
   ],
   "source": [
    "# Now we convert to Cmol/Cmol\n",
    "CV_asp = 4 # Cmol/mol conversion factor for l asprtate\n",
    "CV_malthx = 36 # Cmol/mol conversion factor for malthx\n",
    "\n",
    "asp_malthx_production_cmol = (max_yield_maltohexaose*CV_asp)/(1*CV_malthx)\n",
    "print('Maximum theoretical yield cmol/cmol=', asp_malthx_production_cmol, 'cmol-asp/cmol-malthx')"
   ]
  },
  {
   "cell_type": "code",
   "execution_count": 18,
   "metadata": {},
   "outputs": [
    {
     "name": "stdout",
     "output_type": "stream",
     "text": [
      "EX_malttr_e\n"
     ]
    }
   ],
   "source": [
    "# First we investigate  - we look for the ID of maltotriose exchange>\n",
    "for reaction in iML1515.reactions.query('Maltotriose exchange', 'name'):\n",
    "    print(reaction.id)"
   ]
  },
  {
   "cell_type": "code",
   "execution_count": 19,
   "metadata": {},
   "outputs": [
    {
     "data": {
      "text/plain": [
       "{'EX_pi_e': 1000.0,\n",
       " 'EX_co2_e': 1000.0,\n",
       " 'EX_fe3_e': 1000.0,\n",
       " 'EX_h_e': 1000.0,\n",
       " 'EX_mn2_e': 1000.0,\n",
       " 'EX_fe2_e': 1000.0,\n",
       " 'EX_zn2_e': 1000.0,\n",
       " 'EX_mg2_e': 1000.0,\n",
       " 'EX_ca2_e': 1000.0,\n",
       " 'EX_malttr_e': 10.0,\n",
       " 'EX_ni2_e': 1000.0,\n",
       " 'EX_cu2_e': 1000.0,\n",
       " 'EX_sel_e': 1000.0,\n",
       " 'EX_cobalt2_e': 1000.0,\n",
       " 'EX_h2o_e': 1000.0,\n",
       " 'EX_mobd_e': 1000.0,\n",
       " 'EX_so4_e': 1000.0,\n",
       " 'EX_nh4_e': 1000.0,\n",
       " 'EX_k_e': 1000.0,\n",
       " 'EX_na1_e': 1000.0,\n",
       " 'EX_cl_e': 1000.0,\n",
       " 'EX_o2_e': 1000.0,\n",
       " 'EX_tungs_e': 1000.0,\n",
       " 'EX_slnt_e': 1000.0}"
      ]
     },
     "execution_count": 19,
     "metadata": {},
     "output_type": "execute_result"
    }
   ],
   "source": [
    "# Changing the carbon source to maltotriose:\n",
    "medium=iML1515.medium\n",
    "medium['EX_glc__D_e'] = 0\n",
    "medium[\"EX_malthx_e\"]= 0\n",
    "medium[\"EX_malttr_e\"]= 10 # boundary set as for base medium with glucose\n",
    "iML1515.medium = medium\n",
    "write_sbml_model(iML1515, \"Models/iML1515_modified_maltotriose.xml\") \n",
    "iML1515_maltotriose = read_sbml_model('Models/iML1515_modified_maltotriose.xml')\n",
    "iML1515_maltotriose.medium #"
   ]
  },
  {
   "cell_type": "code",
   "execution_count": 20,
   "metadata": {},
   "outputs": [
    {
     "name": "stdout",
     "output_type": "stream",
     "text": [
      "Max. l-aspartate production [mmol gDW^-1 h^-1]: 55.388965517241346\n",
      "Theoretical max. yield [mmol-asp / mmol-maltt]: 5.538896551724134\n"
     ]
    }
   ],
   "source": [
    "# Claculate the max. theoretical yield for production on Maltohexaose\n",
    "with iML1515_maltotriose:\n",
    "    iML1515_maltotriose.objective = iML1515_maltotriose.reactions.EX_asp__L_e\n",
    "    Asp_production_3 = iML1515_maltotriose.optimize().objective_value\n",
    "    max_yield_maltotriose = Asp_production_3 / (-1*iML1515_maltotriose.reactions.EX_malttr_e.flux)\n",
    "    print(\"Max. l-aspartate production [mmol gDW^-1 h^-1]:\", Asp_production_3)\n",
    "    print(\"Theoretical max. yield [mmol-asp / mmol-maltt]:\", max_yield_maltotriose) "
   ]
  },
  {
   "cell_type": "code",
   "execution_count": 21,
   "metadata": {},
   "outputs": [
    {
     "name": "stdout",
     "output_type": "stream",
     "text": [
      "Maximum theoretical yield cmol/cmol= 1.230865900383141 cmol-asp/cmol-maltt\n"
     ]
    }
   ],
   "source": [
    "# Now we convert to Cmol/Cmol\n",
    "CV_asp = 4 # Cmol/mol conversion factor for l aspartate\n",
    "CV_maltotriose = 18 # Cmol/mol conversion factor for maltotriose\n",
    "\n",
    "asp_maltotriose_production_cmol = (max_yield_maltotriose*CV_asp)/(1*CV_maltotriose)\n",
    "print('Maximum theoretical yield cmol/cmol=', asp_maltotriose_production_cmol, 'cmol-asp/cmol-maltt')"
   ]
  },
  {
   "cell_type": "code",
   "execution_count": 22,
   "metadata": {},
   "outputs": [
    {
     "name": "stdout",
     "output_type": "stream",
     "text": [
      "EX_malt_e\n"
     ]
    }
   ],
   "source": [
    "#Now lets investigate maltose \n",
    "for reaction in iML1515.reactions.query('Maltose exchange', 'name'):\n",
    "    print(reaction.id)\n",
    "    "
   ]
  },
  {
   "cell_type": "code",
   "execution_count": 23,
   "metadata": {},
   "outputs": [
    {
     "data": {
      "text/plain": [
       "{'EX_pi_e': 1000.0,\n",
       " 'EX_co2_e': 1000.0,\n",
       " 'EX_fe3_e': 1000.0,\n",
       " 'EX_h_e': 1000.0,\n",
       " 'EX_mn2_e': 1000.0,\n",
       " 'EX_fe2_e': 1000.0,\n",
       " 'EX_zn2_e': 1000.0,\n",
       " 'EX_mg2_e': 1000.0,\n",
       " 'EX_ca2_e': 1000.0,\n",
       " 'EX_ni2_e': 1000.0,\n",
       " 'EX_cu2_e': 1000.0,\n",
       " 'EX_sel_e': 1000.0,\n",
       " 'EX_cobalt2_e': 1000.0,\n",
       " 'EX_h2o_e': 1000.0,\n",
       " 'EX_malt_e': 10.0,\n",
       " 'EX_mobd_e': 1000.0,\n",
       " 'EX_so4_e': 1000.0,\n",
       " 'EX_nh4_e': 1000.0,\n",
       " 'EX_k_e': 1000.0,\n",
       " 'EX_na1_e': 1000.0,\n",
       " 'EX_cl_e': 1000.0,\n",
       " 'EX_o2_e': 1000.0,\n",
       " 'EX_tungs_e': 1000.0,\n",
       " 'EX_slnt_e': 1000.0}"
      ]
     },
     "execution_count": 23,
     "metadata": {},
     "output_type": "execute_result"
    }
   ],
   "source": [
    "# Changing the carbon source to maltose:\n",
    "medium=iML1515.medium\n",
    "medium['EX_glc__D_e'] = 0\n",
    "medium[\"EX_malthx_e\"]= 0\n",
    "medium[\"EX_malttr_e\"]= 0\n",
    "medium[\"EX_malt_e\"]=10 # boundary set as for base medium with glucose\n",
    "iML1515.medium = medium\n",
    "write_sbml_model(iML1515, \"Models/iML1515_modified_maltose.xml\") \n",
    "iML1515_maltose = read_sbml_model('Models/iML1515_modified_maltose.xml')\n",
    "iML1515_maltose.medium #"
   ]
  },
  {
   "cell_type": "code",
   "execution_count": 24,
   "metadata": {},
   "outputs": [
    {
     "name": "stdout",
     "output_type": "stream",
     "text": [
      "Max. l-aspartate production [mmol gDW^-1 h^-1]: 36.76827586206901\n",
      "Theoretical max. yield [mmol-asp / mmol-malt]: 3.676827586206901\n"
     ]
    }
   ],
   "source": [
    "# Max. theoretical yield for production on Maltose\n",
    "with iML1515_maltose:\n",
    "    iML1515_maltose.objective = iML1515_maltose.reactions.EX_asp__L_e\n",
    "    Asp_production_4 = iML1515_maltose.optimize().objective_value\n",
    "    max_yield_maltose = Asp_production_4 / (-1*iML1515_maltose.reactions.EX_malt_e.flux)\n",
    "    print(\"Max. l-aspartate production [mmol gDW^-1 h^-1]:\", Asp_production_4)\n",
    "    print(\"Theoretical max. yield [mmol-asp / mmol-malt]:\", max_yield_maltose) "
   ]
  },
  {
   "cell_type": "code",
   "execution_count": 25,
   "metadata": {},
   "outputs": [
    {
     "name": "stdout",
     "output_type": "stream",
     "text": [
      "Maximum theoretical yield cmol/cmol= 1.2256091954023003 cmol-asp/cmol-malt\n"
     ]
    }
   ],
   "source": [
    "# Now we convert to Cmol/Cmol\n",
    "CV_asp = 4 # Cmol/mol conversion factor for l aspartate\n",
    "CV_maltose = 12 # Cmol/mol conversion factor for maltotriose\n",
    "\n",
    "asp_maltose_production_cmol = (max_yield_maltose*CV_asp)/(1*CV_maltose)\n",
    "print('Maximum theoretical yield cmol/cmol=', asp_maltose_production_cmol, 'cmol-asp/cmol-malt')"
   ]
  },
  {
   "cell_type": "code",
   "execution_count": 27,
   "metadata": {},
   "outputs": [
    {
     "data": {
      "image/png": "[encoded data removed]",
      "text/plain": [
       "<Figure size 640x480 with 1 Axes>"
      ]
     },
     "metadata": {},
     "output_type": "display_data"
    }
   ],
   "source": [
    "# Generate bar plot to visualize cmol/cmol\n",
    "\n",
    "# Write values\n",
    "yield_glucose_cmol = Asp_glucose_production_cmol\n",
    "yield_maltohezaose_cmol = asp_malthx_production_cmol\n",
    "yield_maltotriose_cmol = asp_maltotriose_production_cmol\n",
    "yield_maltose_cmol = asp_maltose_production_cmol\n",
    "\n",
    "# Carbon sources\n",
    "carbon_sources_cmol = ['Glucose', 'Maltohezaose', 'Maltotriose', 'Maltose']\n",
    "\n",
    "# Maximum yields\n",
    "max_yields_cmol = [yield_glucose_cmol, yield_maltohezaose_cmol, yield_maltotriose_cmol, yield_maltose_cmol]\n",
    "\n",
    "# Plotting\n",
    "plt.bar(carbon_sources_cmol, max_yields_cmol, color=['yellow', 'blue', 'green', 'red'])\n",
    "plt.xlabel('Carbon Sources')\n",
    "plt.ylabel('Max. Yield [Cmol/Cmol]')\n",
    "plt.title('Max. Yield using different carbon sources')\n",
    "plt.show()"
   ]
  },
  {
   "cell_type": "markdown",
   "metadata": {},
   "source": []
  }
 ],
 "metadata": {
  "kernelspec": {
   "display_name": "base",
   "language": "python",
   "name": "python3"
  },
  "language_info": {
   "codemirror_mode": {
    "name": "ipython",
    "version": 3
   },
   "file_extension": ".py",
   "mimetype": "text/x-python",
   "name": "python",
   "nbconvert_exporter": "python",
   "pygments_lexer": "ipython3",
   "version": "3.10.13"
  }
 },
 "nbformat": 4,
 "nbformat_minor": 2
}
