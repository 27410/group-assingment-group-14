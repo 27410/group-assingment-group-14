{
 "cells": [
  {
   "cell_type": "markdown",
   "metadata": {},
   "source": [
    "### Import libraries"
   ]
  },
  {
   "cell_type": "code",
   "execution_count": 52,
   "metadata": {},
   "outputs": [],
   "source": [
    "from cobra.io import read_sbml_model, write_sbml_model\n",
    "from cobra import Reaction, Metabolite \n",
    "import numpy as np\n",
    "import matplotlib.pyplot as plt\n",
    "import pandas as pd\n",
    "import seaborn as sns\n",
    "# set notebook style to seaborn\n",
    "#sns.set_style(\"white\", {\"font_scale\": 1.5})\n",
    "sns.set_theme(style=\"white\", font_scale=1.1)"
   ]
  },
  {
   "cell_type": "markdown",
   "metadata": {},
   "source": [
    "### Import model and simulate the medium"
   ]
  },
  {
   "cell_type": "code",
   "execution_count": 53,
   "metadata": {},
   "outputs": [
    {
     "data": {
      "text/html": [
       "<div>\n",
       "<style scoped>\n",
       "    .dataframe tbody tr th:only-of-type {\n",
       "        vertical-align: middle;\n",
       "    }\n",
       "\n",
       "    .dataframe tbody tr th {\n",
       "        vertical-align: top;\n",
       "    }\n",
       "\n",
       "    .dataframe thead th {\n",
       "        text-align: right;\n",
       "    }\n",
       "</style>\n",
       "<table border=\"1\" class=\"dataframe\">\n",
       "  <thead>\n",
       "    <tr style=\"text-align: right;\">\n",
       "      <th></th>\n",
       "      <th>Carbon</th>\n",
       "      <th>Growth</th>\n",
       "      <th>Production</th>\n",
       "    </tr>\n",
       "  </thead>\n",
       "  <tbody>\n",
       "    <tr>\n",
       "      <th>0</th>\n",
       "      <td>N-Acetyl-D-glucosamine exchange</td>\n",
       "      <td>0.089370</td>\n",
       "      <td>1.837241</td>\n",
       "    </tr>\n",
       "    <tr>\n",
       "      <th>1</th>\n",
       "      <td>Cellobiose exchange</td>\n",
       "      <td>0.154755</td>\n",
       "      <td>3.190690</td>\n",
       "    </tr>\n",
       "    <tr>\n",
       "      <th>2</th>\n",
       "      <td>Hypoxanthine exchange</td>\n",
       "      <td>0.005009</td>\n",
       "      <td>0.111209</td>\n",
       "    </tr>\n",
       "    <tr>\n",
       "      <th>3</th>\n",
       "      <td>L-Lactate exchange</td>\n",
       "      <td>0.011857</td>\n",
       "      <td>0.256327</td>\n",
       "    </tr>\n",
       "    <tr>\n",
       "      <th>4</th>\n",
       "      <td>D-Gluconate exchange</td>\n",
       "      <td>0.055878</td>\n",
       "      <td>1.181497</td>\n",
       "    </tr>\n",
       "  </tbody>\n",
       "</table>\n",
       "</div>"
      ],
      "text/plain": [
       "                            Carbon    Growth  Production\n",
       "0  N-Acetyl-D-glucosamine exchange  0.089370    1.837241\n",
       "1              Cellobiose exchange  0.154755    3.190690\n",
       "2            Hypoxanthine exchange  0.005009    0.111209\n",
       "3               L-Lactate exchange  0.011857    0.256327\n",
       "4             D-Gluconate exchange  0.055878    1.181497"
      ]
     },
     "execution_count": 53,
     "metadata": {},
     "output_type": "execute_result"
    }
   ],
   "source": [
    "import pandas as pd\n",
    "from cobra.io import read_sbml_model\n",
    "\n",
    "# Load the model\n",
    "iML1515 = read_sbml_model('Models/iML1515.xml')\n",
    "\n",
    "# Define a function to find carbon-containing reactions\n",
    "def find_carbon_reactions(model):\n",
    "    return [(reaction.id, reaction.name) for reaction in model.exchanges \n",
    "            if any(\"C\" in metabolite.elements for metabolite in reaction.reactants)]\n",
    "\n",
    "# Find all carbon-containing reactions\n",
    "carbon_reactions = find_carbon_reactions(iML1515)\n",
    "\n",
    "# Simulate and collect data\n",
    "data = []\n",
    "with iML1515:\n",
    "    original_medium = iML1515.medium.copy()\n",
    "    original_objective = iML1515.objective\n",
    "\n",
    "    for reaction_id, reaction_name in carbon_reactions:\n",
    "        iML1515.medium = {**original_medium, 'EX_glc__D_e': 0, reaction_id: 1}\n",
    "\n",
    "        # Calculate max growth\n",
    "        iML1515.objective = original_objective\n",
    "        max_growth = iML1515.slim_optimize(error_value=0.)\n",
    "\n",
    "        # Calculate max production of L-aspartate\n",
    "        iML1515.objective = iML1515.reactions.EX_asp__L_e\n",
    "        max_production = iML1515.slim_optimize(error_value=0.)\n",
    "\n",
    "        if max_growth != 0:\n",
    "            data.append([reaction_name, max_growth, max_production])\n",
    "\n",
    "        iML1515.medium = original_medium  # Reset the medium\n",
    "\n",
    "# Create DataFrame\n",
    "df = pd.DataFrame(data, columns=['Carbon', 'Growth', 'Production'])\n",
    "\n",
    "# Display the DataFrame\n",
    "df.head()  # Show the first few rows\n"
   ]
  },
  {
   "cell_type": "code",
   "execution_count": 54,
   "metadata": {},
   "outputs": [
    {
     "data": {
      "image/png": "[encoded data removed]",
      "text/plain": [
       "<Figure size 800x550 with 1 Axes>"
      ]
     },
     "metadata": {},
     "output_type": "display_data"
    }
   ],
   "source": [
    "# We create a scatterplot of the production over growth to view the distribution\n",
    "sns.scatterplot(data=df, x='Growth', y='Production', color='red')\n",
    "\n",
    "\n",
    "plt.xlabel('Maximum growth rate')\n",
    "plt.ylabel('Maximum production')\n",
    "#plt.xlim(0, 0.9)\n",
    "#plt.ylim(0, 0.5)\n",
    "plt.title('Maximal Growth rate and production')\n",
    "sns.despine()\n",
    "#plt.savefig(\"figures/carbon_sources\")\n",
    "plt.show()"
   ]
  },
  {
   "cell_type": "code",
   "execution_count": 55,
   "metadata": {},
   "outputs": [
    {
     "data": {
      "text/plain": [
       "{'EX_pi_e': 1000.0,\n",
       " 'EX_co2_e': 1000.0,\n",
       " 'EX_fe3_e': 1000.0,\n",
       " 'EX_h_e': 1000.0,\n",
       " 'EX_mn2_e': 1000.0,\n",
       " 'EX_fe2_e': 1000.0,\n",
       " 'EX_glc__D_e': 10.0,\n",
       " 'EX_zn2_e': 1000.0,\n",
       " 'EX_mg2_e': 1000.0,\n",
       " 'EX_ca2_e': 1000.0,\n",
       " 'EX_ni2_e': 1000.0,\n",
       " 'EX_cu2_e': 1000.0,\n",
       " 'EX_sel_e': 1000.0,\n",
       " 'EX_cobalt2_e': 1000.0,\n",
       " 'EX_h2o_e': 1000.0,\n",
       " 'EX_mobd_e': 1000.0,\n",
       " 'EX_so4_e': 1000.0,\n",
       " 'EX_nh4_e': 1000.0,\n",
       " 'EX_k_e': 1000.0,\n",
       " 'EX_na1_e': 1000.0,\n",
       " 'EX_cl_e': 1000.0,\n",
       " 'EX_o2_e': 1000.0,\n",
       " 'EX_tungs_e': 1000.0,\n",
       " 'EX_slnt_e': 1000.0}"
      ]
     },
     "execution_count": 55,
     "metadata": {},
     "output_type": "execute_result"
    }
   ],
   "source": [
    "# We write a new model with glucose as the carbon source\n",
    "medium=iML1515.medium\n",
    "medium['EX_glc__D_e'] = 10\n",
    "iML1515.medium = medium\n",
    "write_sbml_model(iML1515, \"Models/iML1515_modified_glucose.xml\") # creates a new file\n",
    "iML1515_glucose = read_sbml_model('Models/iML1515_modified_glucose.xml') # set model to new file\n",
    "iML1515_glucose.medium "
   ]
  },
  {
   "cell_type": "code",
   "execution_count": 56,
   "metadata": {},
   "outputs": [
    {
     "name": "stdout",
     "output_type": "stream",
     "text": [
      "0.8769972144270545\n"
     ]
    }
   ],
   "source": [
    "#set the optimal value for biomass to 100%\n",
    "iML1515_glucose.reactions.BIOMASS_Ec_iML1515_core_75p37M.upper_bound=0.87699721425716\n",
    "#set the lower bound to not be less than 75 % of the optimal value\n",
    "iML1515_glucose.reactions.BIOMASS_Ec_iML1515_core_75p37M.lower_bound=0.87699721425716*0.75\n",
    "#print the new objective value\n",
    "iML1515_glucose_BM_optimized = print(iML1515.optimize().objective_value)"
   ]
  },
  {
   "cell_type": "code",
   "execution_count": 57,
   "metadata": {},
   "outputs": [
    {
     "name": "stdout",
     "output_type": "stream",
     "text": [
      "Max. l-aspartate production [mmol gDW^-1 h^-1]: 4.548604209060673\n",
      "Theoretical max. yield [mmol-asp / mmol-glucose]: 0.45486042090606726\n"
     ]
    }
   ],
   "source": [
    "# Claculate the max. theoretical yield for production of l-aspartate on glucose\n",
    "with iML1515_glucose:\n",
    "    iML1515_glucose.objective = iML1515_glucose.reactions.EX_asp__L_e\n",
    "    Asp_production_1 = iML1515_glucose.optimize().objective_value\n",
    "    max_yield_glucose = Asp_production_1/ (-1*iML1515_glucose.reactions.EX_glc__D_e.flux)\n",
    "    #set the optimal value for biomass to 100%\n",
    "print(\"Max. l-aspartate production [mmol gDW^-1 h^-1]:\", Asp_production_1)\n",
    "print(\"Theoretical max. yield [mmol-asp / mmol-glucose]:\", max_yield_glucose)"
   ]
  },
  {
   "cell_type": "code",
   "execution_count": 58,
   "metadata": {},
   "outputs": [
    {
     "name": "stdout",
     "output_type": "stream",
     "text": [
      "Maximum theoretical yield of L-aspartate= 0.30324028060404484 cmol-Asp/cmol-glc\n"
     ]
    }
   ],
   "source": [
    "#In cmol/cmol\n",
    "CV_Asp = 4\n",
    "CV_glc = 6\n",
    "Asp_glucose_production_cmol = (max_yield_glucose*CV_Asp)/(1*CV_glc)\n",
    "print('Maximum theoretical yield of L-aspartate=', Asp_glucose_production_cmol, 'cmol-Asp/cmol-glc')"
   ]
  },
  {
   "cell_type": "code",
   "execution_count": 59,
   "metadata": {},
   "outputs": [
    {
     "data": {
      "text/html": [
       "<div>\n",
       "<style scoped>\n",
       "    .dataframe tbody tr th:only-of-type {\n",
       "        vertical-align: middle;\n",
       "    }\n",
       "\n",
       "    .dataframe tbody tr th {\n",
       "        vertical-align: top;\n",
       "    }\n",
       "\n",
       "    .dataframe thead th {\n",
       "        text-align: right;\n",
       "    }\n",
       "</style>\n",
       "<table border=\"1\" class=\"dataframe\">\n",
       "  <thead>\n",
       "    <tr style=\"text-align: right;\">\n",
       "      <th></th>\n",
       "      <th>Carbon</th>\n",
       "      <th>Growth</th>\n",
       "      <th>Production</th>\n",
       "    </tr>\n",
       "  </thead>\n",
       "  <tbody>\n",
       "    <tr>\n",
       "      <th>120</th>\n",
       "      <td>Maltohexaose exchange</td>\n",
       "      <td>0.523400</td>\n",
       "      <td>10.837241</td>\n",
       "    </tr>\n",
       "    <tr>\n",
       "      <th>135</th>\n",
       "      <td>1,4-alpha-D-glucan exchange</td>\n",
       "      <td>0.523400</td>\n",
       "      <td>10.837241</td>\n",
       "    </tr>\n",
       "    <tr>\n",
       "      <th>49</th>\n",
       "      <td>Maltopentaose exchange</td>\n",
       "      <td>0.429358</td>\n",
       "      <td>8.906207</td>\n",
       "    </tr>\n",
       "    <tr>\n",
       "      <th>151</th>\n",
       "      <td>Maltotetraose exchange</td>\n",
       "      <td>0.335316</td>\n",
       "      <td>6.975172</td>\n",
       "    </tr>\n",
       "    <tr>\n",
       "      <th>169</th>\n",
       "      <td>N-Acetyl-D-glucosamine(anhydrous)N-Acetylmuram...</td>\n",
       "      <td>0.246752</td>\n",
       "      <td>5.070000</td>\n",
       "    </tr>\n",
       "    <tr>\n",
       "      <th>85</th>\n",
       "      <td>Maltotriose exchange</td>\n",
       "      <td>0.245036</td>\n",
       "      <td>5.109020</td>\n",
       "    </tr>\n",
       "    <tr>\n",
       "      <th>72</th>\n",
       "      <td>Octadecenoate (n-C18:1) exchange</td>\n",
       "      <td>0.244296</td>\n",
       "      <td>4.881905</td>\n",
       "    </tr>\n",
       "    <tr>\n",
       "      <th>68</th>\n",
       "      <td>Octadecanoate (n-C18:0) exchange</td>\n",
       "      <td>0.240697</td>\n",
       "      <td>4.818413</td>\n",
       "    </tr>\n",
       "    <tr>\n",
       "      <th>40</th>\n",
       "      <td>Hexadecenoate (n-C16:1) exchange</td>\n",
       "      <td>0.213709</td>\n",
       "      <td>4.278730</td>\n",
       "    </tr>\n",
       "    <tr>\n",
       "      <th>104</th>\n",
       "      <td>Hexadecanoate (n-C16:0) exchange</td>\n",
       "      <td>0.210111</td>\n",
       "      <td>4.215238</td>\n",
       "    </tr>\n",
       "    <tr>\n",
       "      <th>42</th>\n",
       "      <td>Tetradecenoate (n-C14:1) exchange</td>\n",
       "      <td>0.183103</td>\n",
       "      <td>3.675556</td>\n",
       "    </tr>\n",
       "    <tr>\n",
       "      <th>54</th>\n",
       "      <td>Tetradecanoate (n-C14:0) exchange</td>\n",
       "      <td>0.179239</td>\n",
       "      <td>3.612063</td>\n",
       "    </tr>\n",
       "    <tr>\n",
       "      <th>130</th>\n",
       "      <td>UDP-N-acetyl-D-glucosamine exchange</td>\n",
       "      <td>0.170809</td>\n",
       "      <td>3.440690</td>\n",
       "    </tr>\n",
       "    <tr>\n",
       "      <th>108</th>\n",
       "      <td>Maltose exchange</td>\n",
       "      <td>0.154755</td>\n",
       "      <td>3.226667</td>\n",
       "    </tr>\n",
       "    <tr>\n",
       "      <th>39</th>\n",
       "      <td>Trehalose exchange</td>\n",
       "      <td>0.154755</td>\n",
       "      <td>3.202936</td>\n",
       "    </tr>\n",
       "    <tr>\n",
       "      <th>1</th>\n",
       "      <td>Cellobiose exchange</td>\n",
       "      <td>0.154755</td>\n",
       "      <td>3.190690</td>\n",
       "    </tr>\n",
       "    <tr>\n",
       "      <th>38</th>\n",
       "      <td>Melibiose exchange</td>\n",
       "      <td>0.153815</td>\n",
       "      <td>3.207059</td>\n",
       "    </tr>\n",
       "    <tr>\n",
       "      <th>67</th>\n",
       "      <td>Lactose exchange</td>\n",
       "      <td>0.153815</td>\n",
       "      <td>3.207059</td>\n",
       "    </tr>\n",
       "    <tr>\n",
       "      <th>116</th>\n",
       "      <td>Dodecanoate (n-C12:0) exchange</td>\n",
       "      <td>0.148329</td>\n",
       "      <td>3.008889</td>\n",
       "    </tr>\n",
       "    <tr>\n",
       "      <th>132</th>\n",
       "      <td>UDPglucose exchange</td>\n",
       "      <td>0.145026</td>\n",
       "      <td>2.957252</td>\n",
       "    </tr>\n",
       "  </tbody>\n",
       "</table>\n",
       "</div>"
      ],
      "text/plain": [
       "                                                Carbon    Growth  Production\n",
       "120                              Maltohexaose exchange  0.523400   10.837241\n",
       "135                        1,4-alpha-D-glucan exchange  0.523400   10.837241\n",
       "49                              Maltopentaose exchange  0.429358    8.906207\n",
       "151                             Maltotetraose exchange  0.335316    6.975172\n",
       "169  N-Acetyl-D-glucosamine(anhydrous)N-Acetylmuram...  0.246752    5.070000\n",
       "85                                Maltotriose exchange  0.245036    5.109020\n",
       "72                    Octadecenoate (n-C18:1) exchange  0.244296    4.881905\n",
       "68                    Octadecanoate (n-C18:0) exchange  0.240697    4.818413\n",
       "40                    Hexadecenoate (n-C16:1) exchange  0.213709    4.278730\n",
       "104                   Hexadecanoate (n-C16:0) exchange  0.210111    4.215238\n",
       "42                   Tetradecenoate (n-C14:1) exchange  0.183103    3.675556\n",
       "54                   Tetradecanoate (n-C14:0) exchange  0.179239    3.612063\n",
       "130                UDP-N-acetyl-D-glucosamine exchange  0.170809    3.440690\n",
       "108                                   Maltose exchange  0.154755    3.226667\n",
       "39                                  Trehalose exchange  0.154755    3.202936\n",
       "1                                  Cellobiose exchange  0.154755    3.190690\n",
       "38                                  Melibiose exchange  0.153815    3.207059\n",
       "67                                    Lactose exchange  0.153815    3.207059\n",
       "116                     Dodecanoate (n-C12:0) exchange  0.148329    3.008889\n",
       "132                                UDPglucose exchange  0.145026    2.957252"
      ]
     },
     "execution_count": 59,
     "metadata": {},
     "output_type": "execute_result"
    }
   ],
   "source": [
    "# Let's check the top 20 carbon sources that result in the highest growth\n",
    "df.sort_values(by='Growth', ascending=False).head(20)"
   ]
  },
  {
   "cell_type": "code",
   "execution_count": 60,
   "metadata": {},
   "outputs": [
    {
     "name": "stdout",
     "output_type": "stream",
     "text": [
      "EX_malthx_e\n"
     ]
    }
   ],
   "source": [
    "# We have chosen 3 of interest, first we investigate maltohezaose\n",
    "for reaction in iML1515.reactions.query('Maltohexaose exchange', 'name'):\n",
    "    print(reaction.id)"
   ]
  },
  {
   "cell_type": "code",
   "execution_count": 61,
   "metadata": {},
   "outputs": [
    {
     "data": {
      "text/plain": [
       "{'EX_pi_e': 1000.0,\n",
       " 'EX_co2_e': 1000.0,\n",
       " 'EX_fe3_e': 1000.0,\n",
       " 'EX_h_e': 1000.0,\n",
       " 'EX_mn2_e': 1000.0,\n",
       " 'EX_fe2_e': 1000.0,\n",
       " 'EX_zn2_e': 1000.0,\n",
       " 'EX_mg2_e': 1000.0,\n",
       " 'EX_ca2_e': 1000.0,\n",
       " 'EX_ni2_e': 1000.0,\n",
       " 'EX_cu2_e': 1000.0,\n",
       " 'EX_sel_e': 1000.0,\n",
       " 'EX_cobalt2_e': 1000.0,\n",
       " 'EX_h2o_e': 1000.0,\n",
       " 'EX_mobd_e': 1000.0,\n",
       " 'EX_so4_e': 1000.0,\n",
       " 'EX_nh4_e': 1000.0,\n",
       " 'EX_malthx_e': 10.0,\n",
       " 'EX_k_e': 1000.0,\n",
       " 'EX_na1_e': 1000.0,\n",
       " 'EX_cl_e': 1000.0,\n",
       " 'EX_o2_e': 1000.0,\n",
       " 'EX_tungs_e': 1000.0,\n",
       " 'EX_slnt_e': 1000.0}"
      ]
     },
     "execution_count": 61,
     "metadata": {},
     "output_type": "execute_result"
    }
   ],
   "source": [
    "# Changing the carbon source to Maltohexaose:\n",
    "medium=iML1515.medium\n",
    "medium['EX_glc__D_e'] = 0\n",
    "medium[\"EX_malthx_e\"]= 10 # we set it to 10 as with glucose in the base medium\n",
    "iML1515.medium = medium\n",
    "write_sbml_model(iML1515, \"Models/iML1515_modified_malthx.xml\") # we create new file\n",
    "iML1515_maltohexaose = read_sbml_model('Models/iML1515_modified_malthx.xml') # we set model to new file\n",
    "iML1515_maltohexaose.medium \n",
    "\n"
   ]
  },
  {
   "cell_type": "code",
   "execution_count": 62,
   "metadata": {},
   "outputs": [
    {
     "name": "stdout",
     "output_type": "stream",
     "text": [
      "Max. l-aspartate production [mmol gDW^-1 h^-1]: 112.63034482758619\n",
      "Max. theoretical yield [mmol-asp / mmol-maltohexaose]: 11.263034482758618\n"
     ]
    }
   ],
   "source": [
    "# Claculate the maximum theoretical yield for production on Maltohexaose\n",
    "with iML1515_maltohexaose:\n",
    "    iML1515_maltohexaose.objective = iML1515_maltohexaose.reactions.EX_asp__L_e\n",
    "    Asp_production_2 = iML1515_maltohexaose.optimize().objective_value\n",
    "    max_yield_maltohexaose = Asp_production_2 / (-1*iML1515_maltohexaose.reactions.EX_malthx_e.flux)\n",
    "    print(\"Max. l-aspartate production [mmol gDW^-1 h^-1]:\", Asp_production_2)\n",
    "    print(\"Max. theoretical yield [mmol-asp / mmol-maltohexaose]:\", max_yield_maltohexaose) "
   ]
  },
  {
   "cell_type": "code",
   "execution_count": 63,
   "metadata": {},
   "outputs": [
    {
     "name": "stdout",
     "output_type": "stream",
     "text": [
      "Maximum theoretical yield cmol/cmol= 1.2514482758620686 cmol-asp/cmol-malthx\n"
     ]
    }
   ],
   "source": [
    "# Now we convert to Cmol/Cmol\n",
    "CV_asp = 4 # Cmol/mol conversion factor for l asprtate\n",
    "CV_malthx = 36 # Cmol/mol conversion factor for malthx\n",
    "\n",
    "asp_malthx_production_cmol = (max_yield_maltohexaose*CV_asp)/(1*CV_malthx)\n",
    "print('Maximum theoretical yield cmol/cmol=', asp_malthx_production_cmol, 'cmol-asp/cmol-malthx')"
   ]
  },
  {
   "cell_type": "code",
   "execution_count": 64,
   "metadata": {},
   "outputs": [
    {
     "name": "stdout",
     "output_type": "stream",
     "text": [
      "EX_malttr_e\n"
     ]
    }
   ],
   "source": [
    "# First we investigate  - we look for the ID of maltotriose exchange>\n",
    "for reaction in iML1515.reactions.query('Maltotriose exchange', 'name'):\n",
    "    print(reaction.id)"
   ]
  },
  {
   "cell_type": "code",
   "execution_count": 65,
   "metadata": {},
   "outputs": [
    {
     "data": {
      "text/plain": [
       "{'EX_pi_e': 1000.0,\n",
       " 'EX_co2_e': 1000.0,\n",
       " 'EX_fe3_e': 1000.0,\n",
       " 'EX_h_e': 1000.0,\n",
       " 'EX_mn2_e': 1000.0,\n",
       " 'EX_fe2_e': 1000.0,\n",
       " 'EX_zn2_e': 1000.0,\n",
       " 'EX_mg2_e': 1000.0,\n",
       " 'EX_ca2_e': 1000.0,\n",
       " 'EX_malttr_e': 10.0,\n",
       " 'EX_ni2_e': 1000.0,\n",
       " 'EX_cu2_e': 1000.0,\n",
       " 'EX_sel_e': 1000.0,\n",
       " 'EX_cobalt2_e': 1000.0,\n",
       " 'EX_h2o_e': 1000.0,\n",
       " 'EX_mobd_e': 1000.0,\n",
       " 'EX_so4_e': 1000.0,\n",
       " 'EX_nh4_e': 1000.0,\n",
       " 'EX_k_e': 1000.0,\n",
       " 'EX_na1_e': 1000.0,\n",
       " 'EX_cl_e': 1000.0,\n",
       " 'EX_o2_e': 1000.0,\n",
       " 'EX_tungs_e': 1000.0,\n",
       " 'EX_slnt_e': 1000.0}"
      ]
     },
     "execution_count": 65,
     "metadata": {},
     "output_type": "execute_result"
    }
   ],
   "source": [
    "# Changing the carbon source to maltotriose:\n",
    "medium=iML1515.medium\n",
    "medium['EX_glc__D_e'] = 0\n",
    "medium[\"EX_malthx_e\"]= 0\n",
    "medium[\"EX_malttr_e\"]= 10 # boundary set as for base medium with glucose\n",
    "iML1515.medium = medium\n",
    "write_sbml_model(iML1515, \"Models/iML1515_modified_maltotriose.xml\") \n",
    "iML1515_maltotriose = read_sbml_model('Models/iML1515_modified_maltotriose.xml')\n",
    "iML1515_maltotriose.medium #"
   ]
  },
  {
   "cell_type": "code",
   "execution_count": 66,
   "metadata": {},
   "outputs": [
    {
     "name": "stdout",
     "output_type": "stream",
     "text": [
      "Max. l-aspartate production [mmol gDW^-1 h^-1]: 55.388965517241346\n",
      "Theoretical max. yield [mmol-asp / mmol-maltt]: 5.538896551724134\n"
     ]
    }
   ],
   "source": [
    "# Claculate the max. theoretical yield for production on Maltohexaose\n",
    "with iML1515_maltotriose:\n",
    "    iML1515_maltotriose.objective = iML1515_maltotriose.reactions.EX_asp__L_e\n",
    "    Asp_production_3 = iML1515_maltotriose.optimize().objective_value\n",
    "    max_yield_maltotriose = Asp_production_3 / (-1*iML1515_maltotriose.reactions.EX_malttr_e.flux)\n",
    "    print(\"Max. l-aspartate production [mmol gDW^-1 h^-1]:\", Asp_production_3)\n",
    "    print(\"Theoretical max. yield [mmol-asp / mmol-maltt]:\", max_yield_maltotriose) "
   ]
  },
  {
   "cell_type": "code",
   "execution_count": 67,
   "metadata": {},
   "outputs": [
    {
     "name": "stdout",
     "output_type": "stream",
     "text": [
      "Maximum theoretical yield cmol/cmol= 1.230865900383141 cmol-asp/cmol-maltt\n"
     ]
    }
   ],
   "source": [
    "# Now we convert to Cmol/Cmol\n",
    "CV_asp = 4 # Cmol/mol conversion factor for l aspartate\n",
    "CV_maltotriose = 18 # Cmol/mol conversion factor for maltotriose\n",
    "\n",
    "asp_maltotriose_production_cmol = (max_yield_maltotriose*CV_asp)/(1*CV_maltotriose)\n",
    "print('Maximum theoretical yield cmol/cmol=', asp_maltotriose_production_cmol, 'cmol-asp/cmol-maltt')"
   ]
  },
  {
   "cell_type": "code",
   "execution_count": 68,
   "metadata": {},
   "outputs": [
    {
     "name": "stdout",
     "output_type": "stream",
     "text": [
      "EX_malt_e\n"
     ]
    }
   ],
   "source": [
    "#Now lets investigate maltose \n",
    "for reaction in iML1515.reactions.query('Maltose exchange', 'name'):\n",
    "    print(reaction.id)\n",
    "    "
   ]
  },
  {
   "cell_type": "code",
   "execution_count": 69,
   "metadata": {},
   "outputs": [
    {
     "data": {
      "text/plain": [
       "{'EX_pi_e': 1000.0,\n",
       " 'EX_co2_e': 1000.0,\n",
       " 'EX_fe3_e': 1000.0,\n",
       " 'EX_h_e': 1000.0,\n",
       " 'EX_mn2_e': 1000.0,\n",
       " 'EX_fe2_e': 1000.0,\n",
       " 'EX_zn2_e': 1000.0,\n",
       " 'EX_mg2_e': 1000.0,\n",
       " 'EX_ca2_e': 1000.0,\n",
       " 'EX_ni2_e': 1000.0,\n",
       " 'EX_cu2_e': 1000.0,\n",
       " 'EX_sel_e': 1000.0,\n",
       " 'EX_cobalt2_e': 1000.0,\n",
       " 'EX_h2o_e': 1000.0,\n",
       " 'EX_malt_e': 10.0,\n",
       " 'EX_mobd_e': 1000.0,\n",
       " 'EX_so4_e': 1000.0,\n",
       " 'EX_nh4_e': 1000.0,\n",
       " 'EX_k_e': 1000.0,\n",
       " 'EX_na1_e': 1000.0,\n",
       " 'EX_cl_e': 1000.0,\n",
       " 'EX_o2_e': 1000.0,\n",
       " 'EX_tungs_e': 1000.0,\n",
       " 'EX_slnt_e': 1000.0}"
      ]
     },
     "execution_count": 69,
     "metadata": {},
     "output_type": "execute_result"
    }
   ],
   "source": [
    "# Changing the carbon source to maltose:\n",
    "medium=iML1515.medium\n",
    "medium['EX_glc__D_e'] = 0\n",
    "medium[\"EX_malthx_e\"]= 0\n",
    "medium[\"EX_malttr_e\"]= 0\n",
    "medium[\"EX_malt_e\"]=10 # boundary set as for base medium with glucose\n",
    "iML1515.medium = medium\n",
    "write_sbml_model(iML1515, \"Models/iML1515_modified_maltose.xml\") \n",
    "iML1515_maltose = read_sbml_model('Models/iML1515_modified_maltose.xml')\n",
    "iML1515_maltose.medium #"
   ]
  },
  {
   "cell_type": "code",
   "execution_count": 70,
   "metadata": {},
   "outputs": [
    {
     "name": "stdout",
     "output_type": "stream",
     "text": [
      "Max. l-aspartate production [mmol gDW^-1 h^-1]: 36.76827586206901\n",
      "Theoretical max. yield [mmol-asp / mmol-malt]: 3.676827586206901\n"
     ]
    }
   ],
   "source": [
    "# Max. theoretical yield for production on Maltose\n",
    "with iML1515_maltose:\n",
    "    iML1515_maltose.objective = iML1515_maltose.reactions.EX_asp__L_e\n",
    "    Asp_production_4 = iML1515_maltose.optimize().objective_value\n",
    "    max_yield_maltose = Asp_production_4 / (-1*iML1515_maltose.reactions.EX_malt_e.flux)\n",
    "    print(\"Max. l-aspartate production [mmol gDW^-1 h^-1]:\", Asp_production_4)\n",
    "    print(\"Theoretical max. yield [mmol-asp / mmol-malt]:\", max_yield_maltose) "
   ]
  },
  {
   "cell_type": "code",
   "execution_count": 71,
   "metadata": {},
   "outputs": [
    {
     "name": "stdout",
     "output_type": "stream",
     "text": [
      "Maximum theoretical yield cmol/cmol= 1.2256091954023003 cmol-asp/cmol-malt\n"
     ]
    }
   ],
   "source": [
    "# Now we convert to Cmol/Cmol\n",
    "CV_asp = 4 # Cmol/mol conversion factor for l aspartate\n",
    "CV_maltose = 12 # Cmol/mol conversion factor for maltotriose\n",
    "\n",
    "asp_maltose_production_cmol = (max_yield_maltose*CV_asp)/(1*CV_maltose)\n",
    "print('Maximum theoretical yield cmol/cmol=', asp_maltose_production_cmol, 'cmol-asp/cmol-malt')"
   ]
  },
  {
   "cell_type": "code",
   "execution_count": 72,
   "metadata": {},
   "outputs": [
    {
     "data": {
      "image/png": "[encoded data removed]",
      "text/plain": [
       "<Figure size 800x550 with 1 Axes>"
      ]
     },
     "metadata": {},
     "output_type": "display_data"
    }
   ],
   "source": [
    "# Generate bar plot to visualize cmol/cmol\n",
    "\n",
    "# Write values\n",
    "yield_glucose_cmol = Asp_glucose_production_cmol\n",
    "yield_maltohezaose_cmol = asp_malthx_production_cmol\n",
    "yield_maltotriose_cmol = asp_maltotriose_production_cmol\n",
    "yield_maltose_cmol = asp_maltose_production_cmol\n",
    "\n",
    "# Carbon sources\n",
    "carbon_sources_cmol = ['Glucose', 'Maltohezaose', 'Maltotriose', 'Maltose']\n",
    "\n",
    "# Maximum yields\n",
    "max_yields_cmol = [yield_glucose_cmol, yield_maltohezaose_cmol, yield_maltotriose_cmol, yield_maltose_cmol]\n",
    "\n",
    "# Plotting\n",
    "sns.barplot(x=carbon_sources_cmol, y=max_yields_cmol, palette='colorblind')\n",
    "plt.xlabel('Carbon Sources')\n",
    "plt.ylabel('Max. Yield [Cmol/Cmol]')\n",
    "plt.title('Max. Yield using different carbon sources')\n",
    "sns.despine()\n",
    "plt.show()"
   ]
  },
  {
   "cell_type": "markdown",
   "metadata": {},
   "source": []
  }
 ],
 "metadata": {
  "kernelspec": {
   "display_name": "base",
   "language": "python",
   "name": "python3"
  },
  "language_info": {
   "codemirror_mode": {
    "name": "ipython",
    "version": 3
   },
   "file_extension": ".py",
   "mimetype": "text/x-python",
   "name": "python",
   "nbconvert_exporter": "python",
   "pygments_lexer": "ipython3",
   "version": "3.10.13"
  }
 },
 "nbformat": 4,
 "nbformat_minor": 2
}
