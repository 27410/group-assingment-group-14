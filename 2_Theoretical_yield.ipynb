{
 "cells": [
  {
   "cell_type": "code",
   "execution_count": 92,
   "metadata": {},
   "outputs": [],
   "source": [
    "from cobra.io import read_sbml_model\n",
    "model=read_sbml_model('Data/iML1515.xml')"
   ]
  },
  {
   "cell_type": "code",
   "execution_count": 93,
   "metadata": {},
   "outputs": [
    {
     "data": {
      "text/plain": [
       "cobra.core.model.Model"
      ]
     },
     "execution_count": 93,
     "metadata": {},
     "output_type": "execute_result"
    }
   ],
   "source": [
    "type(model)\n"
   ]
  },
  {
   "cell_type": "code",
   "execution_count": 55,
   "metadata": {},
   "outputs": [
    {
     "data": {
      "text/html": [
       "\n",
       "        <table>\n",
       "            <tr>\n",
       "                <td><strong>Name</strong></td>\n",
       "                <td>iML1515</td>\n",
       "            </tr><tr>\n",
       "                <td><strong>Memory address</strong></td>\n",
       "                <td>2029be1e110</td>\n",
       "            </tr><tr>\n",
       "                <td><strong>Number of metabolites</strong></td>\n",
       "                <td>1877</td>\n",
       "            </tr><tr>\n",
       "                <td><strong>Number of reactions</strong></td>\n",
       "                <td>2712</td>\n",
       "            </tr><tr>\n",
       "                <td><strong>Number of genes</strong></td>\n",
       "                <td>1516</td>\n",
       "            </tr><tr>\n",
       "                <td><strong>Number of groups</strong></td>\n",
       "                <td>0</td>\n",
       "            </tr><tr>\n",
       "                <td><strong>Objective expression</strong></td>\n",
       "                <td>1.0*BIOMASS_Ec_iML1515_core_75p37M - 1.0*BIOMASS_Ec_iML1515_core_75p37M_reverse_35685</td>\n",
       "            </tr><tr>\n",
       "                <td><strong>Compartments</strong></td>\n",
       "                <td>cytosol, extracellular space, periplasm</td>\n",
       "            </tr>\n",
       "          </table>"
      ],
      "text/plain": [
       "<Model iML1515 at 0x2029be1e110>"
      ]
     },
     "execution_count": 55,
     "metadata": {},
     "output_type": "execute_result"
    }
   ],
   "source": [
    "model"
   ]
  },
  {
   "cell_type": "code",
   "execution_count": 94,
   "metadata": {},
   "outputs": [
    {
     "data": {
      "text/html": [
       "<strong><em>Optimal</em> solution with objective value 0.877</strong><br><div>\n",
       "<style scoped>\n",
       "    .dataframe tbody tr th:only-of-type {\n",
       "        vertical-align: middle;\n",
       "    }\n",
       "\n",
       "    .dataframe tbody tr th {\n",
       "        vertical-align: top;\n",
       "    }\n",
       "\n",
       "    .dataframe thead th {\n",
       "        text-align: right;\n",
       "    }\n",
       "</style>\n",
       "<table border=\"1\" class=\"dataframe\">\n",
       "  <thead>\n",
       "    <tr style=\"text-align: right;\">\n",
       "      <th></th>\n",
       "      <th>fluxes</th>\n",
       "      <th>reduced_costs</th>\n",
       "    </tr>\n",
       "  </thead>\n",
       "  <tbody>\n",
       "    <tr>\n",
       "      <th>CYTDK2</th>\n",
       "      <td>0.000000e+00</td>\n",
       "      <td>9.521763e-17</td>\n",
       "    </tr>\n",
       "    <tr>\n",
       "      <th>XPPT</th>\n",
       "      <td>-8.698806e-17</td>\n",
       "      <td>1.387779e-17</td>\n",
       "    </tr>\n",
       "    <tr>\n",
       "      <th>HXPRT</th>\n",
       "      <td>0.000000e+00</td>\n",
       "      <td>-1.504671e-02</td>\n",
       "    </tr>\n",
       "    <tr>\n",
       "      <th>NDPK5</th>\n",
       "      <td>0.000000e+00</td>\n",
       "      <td>3.855759e-16</td>\n",
       "    </tr>\n",
       "    <tr>\n",
       "      <th>SHK3Dr</th>\n",
       "      <td>3.342403e-01</td>\n",
       "      <td>-2.639676e-18</td>\n",
       "    </tr>\n",
       "    <tr>\n",
       "      <th>...</th>\n",
       "      <td>...</td>\n",
       "      <td>...</td>\n",
       "    </tr>\n",
       "    <tr>\n",
       "      <th>MPTS</th>\n",
       "      <td>0.000000e+00</td>\n",
       "      <td>-2.602085e-18</td>\n",
       "    </tr>\n",
       "    <tr>\n",
       "      <th>MOCOS</th>\n",
       "      <td>0.000000e+00</td>\n",
       "      <td>-5.642514e-03</td>\n",
       "    </tr>\n",
       "    <tr>\n",
       "      <th>BMOGDS2</th>\n",
       "      <td>0.000000e+00</td>\n",
       "      <td>-3.338488e-01</td>\n",
       "    </tr>\n",
       "    <tr>\n",
       "      <th>FESD2s</th>\n",
       "      <td>0.000000e+00</td>\n",
       "      <td>-3.447763e-17</td>\n",
       "    </tr>\n",
       "    <tr>\n",
       "      <th>OCTNLL</th>\n",
       "      <td>0.000000e+00</td>\n",
       "      <td>-1.504671e-02</td>\n",
       "    </tr>\n",
       "  </tbody>\n",
       "</table>\n",
       "<p>2712 rows × 2 columns</p>\n",
       "</div>"
      ],
      "text/plain": [
       "<Solution 0.877 at 0x202a0bb7250>"
      ]
     },
     "execution_count": 94,
     "metadata": {},
     "output_type": "execute_result"
    }
   ],
   "source": [
    "\n",
    "# optimimize the biomass\n",
    "model.optimize()\n"
   ]
  },
  {
   "cell_type": "code",
   "execution_count": 95,
   "metadata": {},
   "outputs": [
    {
     "name": "stdout",
     "output_type": "stream",
     "text": [
      "0.87699721425716\n"
     ]
    }
   ],
   "source": [
    "#print the objective value\n",
    "print(model.objective.value)\n"
   ]
  },
  {
   "cell_type": "code",
   "execution_count": 97,
   "metadata": {},
   "outputs": [
    {
     "name": "stdout",
     "output_type": "stream",
     "text": [
      "0.87392\n"
     ]
    }
   ],
   "source": [
    "#set the optimal value for biomass to 100%\n",
    "model.reactions.BIOMASS_Ec_iML1515_core_75p37M.upper_bound=0.873920\n",
    "#set the lower bound to not be less than 75 % of the optimal value\n",
    "model.reactions.BIOMASS_Ec_iML1515_core_75p37M.lower_bound=0.873920*0.75\n",
    "#print the new objective value\n",
    "print(model.optimize().objective_value)\n"
   ]
  },
  {
   "cell_type": "code",
   "execution_count": 101,
   "metadata": {},
   "outputs": [
    {
     "name": "stdout",
     "output_type": "stream",
     "text": [
      "EX_pi_e: pi_e <=>  | Phosphate exchange | conc. = 1000.0\n",
      "EX_co2_e: co2_e <=>  | CO2 exchange | conc. = 1000.0\n",
      "EX_fe3_e: fe3_e <=>  | Fe3+ exchange | conc. = 1000.0\n",
      "EX_h_e: h_e <=>  | H+ exchange | conc. = 1000.0\n",
      "EX_mn2_e: mn2_e <=>  | Mn2+ exchange | conc. = 1000.0\n",
      "EX_fe2_e: fe2_e <=>  | Fe2+ exchange | conc. = 1000.0\n",
      "EX_glc__D_e: glc__D_e <=>  | D-Glucose exchange | conc. = 10.0\n",
      "EX_zn2_e: zn2_e <=>  | Zinc exchange | conc. = 1000.0\n",
      "EX_mg2_e: mg2_e <=>  | Mg exchange | conc. = 1000.0\n",
      "EX_ca2_e: ca2_e <=>  | Calcium exchange | conc. = 1000.0\n",
      "EX_ni2_e: ni2_e <=>  | Ni2+ exchange | conc. = 1000.0\n",
      "EX_cu2_e: cu2_e <=>  | Cu2+ exchange | conc. = 1000.0\n",
      "EX_sel_e: sel_e <=>  | Selenate exchange | conc. = 1000.0\n",
      "EX_cobalt2_e: cobalt2_e <=>  | Co2+ exchange | conc. = 1000.0\n",
      "EX_h2o_e: h2o_e <=>  | H2O exchange | conc. = 1000.0\n",
      "EX_mobd_e: mobd_e <=>  | Molybdate exchange | conc. = 1000.0\n",
      "EX_so4_e: so4_e <=>  | Sulfate exchange | conc. = 1000.0\n",
      "EX_nh4_e: nh4_e <=>  | Ammonia exchange | conc. = 1000.0\n",
      "EX_k_e: k_e <=>  | K+ exchange | conc. = 1000.0\n",
      "EX_na1_e: na1_e <=>  | Sodium exchange | conc. = 1000.0\n",
      "EX_cl_e: cl_e <=>  | Chloride exchange | conc. = 1000.0\n",
      "EX_o2_e: o2_e <=>  | O2 exchange | conc. = 1000.0\n",
      "EX_tungs_e: tungs_e <=>  | Tungstate exchange | conc. = 1000.0\n",
      "EX_slnt_e: slnt_e <=>  | Selenite exchange | conc. = 1000.0\n"
     ]
    }
   ],
   "source": [
    "# List the medium components and their concentrations\n",
    "for m in model.medium.items():\n",
    "    print(model.reactions.get_by_id(m[0]), \"|\", model.reactions.get_by_id(m[0]).name, \"| conc. =\", m[1])\n"
   ]
  },
  {
   "cell_type": "code",
   "execution_count": 104,
   "metadata": {},
   "outputs": [
    {
     "ename": "NameError",
     "evalue": "name 'asp__L_c' is not defined",
     "output_type": "error",
     "traceback": [
      "\u001b[1;31m---------------------------------------------------------------------------\u001b[0m",
      "\u001b[1;31mNameError\u001b[0m                                 Traceback (most recent call last)",
      "\u001b[1;32md:\\Documents\\GitHub\\group-assingment-group-14\\1_Theoretical_yield.ipynb Cell 8\u001b[0m line \u001b[0;36m9\n\u001b[0;32m      <a href='vscode-notebook-cell:/d%3A/Documents/GitHub/group-assingment-group-14/1_Theoretical_yield.ipynb#X36sZmlsZQ%3D%3D?line=6'>7</a>\u001b[0m \u001b[39m# Check if L-aspartate metabolite exists in the model\u001b[39;00m\n\u001b[0;32m      <a href='vscode-notebook-cell:/d%3A/Documents/GitHub/group-assingment-group-14/1_Theoretical_yield.ipynb#X36sZmlsZQ%3D%3D?line=7'>8</a>\u001b[0m asp_c_id \u001b[39m=\u001b[39m \u001b[39m'\u001b[39m\u001b[39masp__L_c\u001b[39m\u001b[39m'\u001b[39m  \u001b[39m# Replace with the actual ID of L-aspartate in the cytosol compartment if different\u001b[39;00m\n\u001b[1;32m----> <a href='vscode-notebook-cell:/d%3A/Documents/GitHub/group-assingment-group-14/1_Theoretical_yield.ipynb#X36sZmlsZQ%3D%3D?line=8'>9</a>\u001b[0m \u001b[39mif\u001b[39;00m asp__L_c\u001b[39m.\u001b[39mid \u001b[39mnot\u001b[39;00m \u001b[39min\u001b[39;00m model\u001b[39m.\u001b[39mmetabolites:\n\u001b[0;32m     <a href='vscode-notebook-cell:/d%3A/Documents/GitHub/group-assingment-group-14/1_Theoretical_yield.ipynb#X36sZmlsZQ%3D%3D?line=9'>10</a>\u001b[0m     asp__L_c \u001b[39m=\u001b[39m Metabolite(asp_c_id, formula\u001b[39m=\u001b[39m\u001b[39m'\u001b[39m\u001b[39mC4H7NO4\u001b[39m\u001b[39m'\u001b[39m, name\u001b[39m=\u001b[39m\u001b[39m'\u001b[39m\u001b[39mL-aspartate\u001b[39m\u001b[39m'\u001b[39m, compartment\u001b[39m=\u001b[39m\u001b[39m'\u001b[39m\u001b[39mc\u001b[39m\u001b[39m'\u001b[39m)\n\u001b[0;32m     <a href='vscode-notebook-cell:/d%3A/Documents/GitHub/group-assingment-group-14/1_Theoretical_yield.ipynb#X36sZmlsZQ%3D%3D?line=10'>11</a>\u001b[0m \u001b[39melse\u001b[39;00m:\n",
      "\u001b[1;31mNameError\u001b[0m: name 'asp__L_c' is not defined"
     ]
    }
   ],
   "source": [
    "# Add a demand reaction for L-aspartate if it does not exist in the model\n",
    "if 'DM_asp__L_c' not in model.reactions:\n",
    "    from cobra import Reaction, Metabolite\n",
    "    # Create a new reaction that will remove L-aspartate from the system (demand reaction)\n",
    "    DM_asp__L_c = Reaction('DM_asp_c')\n",
    "    DM_asp__L_c.name = 'Demand for L-aspartate'\n",
    "    # Check if L-aspartate metabolite exists in the model\n",
    "    asp_c_id = 'asp__L_c'  # Replace with the actual ID of L-aspartate in the cytosol compartment if different\n",
    "    if asp__L_c.id not in model.metabolites:\n",
    "        asp__L_c = Metabolite(asp_c_id, formula='C4H7NO4', name='L-aspartate', compartment='c')\n",
    "    else:\n",
    "        asp__L_c = model.metabolites.get_by_id(asp__L_c.id)\n",
    "    # Add the metabolite to the reaction with a negative coefficient (consumption)\n",
    "    DM_asp_c.add_metabolites({asp_c: -1.0})\n",
    "    # Add the demand reaction to the model\n",
    "    model.add_reactions([DM_asp_c])"
   ]
  },
  {
   "cell_type": "markdown",
   "metadata": {},
   "source": []
  }
 ],
 "metadata": {
  "kernelspec": {
   "display_name": "base",
   "language": "python",
   "name": "python3"
  },
  "language_info": {
   "codemirror_mode": {
    "name": "ipython",
    "version": 3
   },
   "file_extension": ".py",
   "mimetype": "text/x-python",
   "name": "python",
   "nbconvert_exporter": "python",
   "pygments_lexer": "ipython3",
   "version": "3.11.5"
  }
 },
 "nbformat": 4,
 "nbformat_minor": 2
}
