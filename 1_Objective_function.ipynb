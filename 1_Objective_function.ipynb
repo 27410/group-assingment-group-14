{
 "cells": [
  {
   "cell_type": "markdown",
   "metadata": {},
   "source": [
    "### Import libraries"
   ]
  },
  {
   "cell_type": "code",
   "execution_count": null,
   "metadata": {},
   "outputs": [],
   "source": [
    "from cobra.io import read_sbml_model\n",
    "from cobra import Reaction, Metabolite "
   ]
  },
  {
   "cell_type": "markdown",
   "metadata": {},
   "source": [
    "### Load the model"
   ]
  },
  {
   "cell_type": "code",
   "execution_count": null,
   "metadata": {},
   "outputs": [],
   "source": [
    "model = read_sbml_model('Models/iML1515.xml')"
   ]
  },
  {
   "cell_type": "markdown",
   "metadata": {},
   "source": [
    "### Setting the objective function for biomass and L-aspartate production"
   ]
  },
  {
   "cell_type": "code",
   "execution_count": 10,
   "metadata": {},
   "outputs": [
    {
     "name": "stdout",
     "output_type": "stream",
     "text": [
      "ASPtex ASPtex: asp__L_e <=> asp__L_p L-aspartate transport via diffusion (extracellular to periplasm)\n",
      "EX_asp__L_e EX_asp__L_e: asp__L_e -->  L-Aspartate exchange\n",
      "0.87699721425716\n",
      "0.87699\n",
      "4.596\n",
      "3.0\n"
     ]
    }
   ],
   "source": [
    "\n",
    "#Print all the reactions involving extra-cellular L-aspartate\n",
    "for reaction in model.metabolites.asp__L_e.reactions:\n",
    "    print(reaction.id, reaction, reaction.name)\n",
    "\n",
    "\n",
    "# Set the objective function for the biomass model\n",
    "model.objective= 'BIOMASS_Ec_iML1515_core_75p37M' \n",
    "model_ojective_value = print (model.optimize().objective_value)\n",
    "\n",
    "\n",
    "#set the optimal value for biomass to 100%\n",
    "model.reactions.BIOMASS_Ec_iML1515_core_75p37M.upper_bound=0.87699\n",
    "model.reactions.BIOMASS_Ec_iML1515_core_75p37M.upper_bound=0.873920\n",
    "\n",
    "#set the lower bound to not be less than 75 % of the optimal value\n",
    "model.reactions.BIOMASS_Ec_iML1515_core_75p37M.lower_bound=0.873920*0.75\n",
    "\n",
    "#print the new objective value\n",
    "model_BM_optimized = print(model.optimize().objective_value)\n",
    "\n",
    "# #set the optimal value for L-asp to 100%\n",
    "# model.reactions.EX_asp__L_e.upper_bound=4.596\n",
    "# #set the lower bound to not be less than 75 % of the optimal value\n",
    "# model.reactions.EX_asp__L_e.lower_bound=4.*0.75\n",
    "# # Setting a new objective function based on L-asp production rate\n",
    "\n",
    "with model:\n",
    "    model.objective = model.reactions.EX_asp__L_e\n",
    "    model_asp_optimized = print (model.optimize().objective_value)\n",
    "    Asp_lower_bound= print (model.reactions.EX_asp__L_e.lower_bound)\n",
    "\n",
    "\n",
    "\n"
   ]
  },
  {
   "cell_type": "markdown",
   "metadata": {},
   "source": []
  }
 ],
 "metadata": {
  "kernelspec": {
   "display_name": "base",
   "language": "python",
   "name": "python3"
  },
  "language_info": {
   "codemirror_mode": {
    "name": "ipython",
    "version": 3
   },
   "file_extension": ".py",
   "mimetype": "text/x-python",
   "name": "python",
   "nbconvert_exporter": "python",
   "pygments_lexer": "ipython3",
   "version": "3.11.4"
  }
 },
 "nbformat": 4,
 "nbformat_minor": 2
}
