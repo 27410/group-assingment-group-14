{
 "cells": [
  {
   "cell_type": "code",
   "execution_count": 22,
   "metadata": {},
   "outputs": [
    {
     "name": "stdout",
     "output_type": "stream",
     "text": [
      "ASPTA: akg_c + asp__L_c <=> glu__L_c + oaa_c\n",
      "ASPTAR: glu__L_c + oaa_c --> akg_c + asp__L_c\n",
      "Maximize\n",
      "1.0*ASPTAR - 1.0*ASPTAR_reverse_9bbbe\n",
      "Maximize\n",
      "1.0*BIOMASS_Ec_iML1515_core_75p37M - 1.0*BIOMASS_Ec_iML1515_core_75p37M_reverse_35685\n"
     ]
    },
    {
     "data": {
      "text/plain": [
       "1000.0"
      ]
     },
     "execution_count": 22,
     "metadata": {},
     "output_type": "execute_result"
    }
   ],
   "source": [
    "# from cobra.io import read_sbml_model\n",
    "# from cobra import Reaction, Metabolite \n",
    "# model_biomass = read_sbml_model('Models/iML1515.xml')\n",
    "# model_asp = model_biomass.copy()\n",
    "\n",
    "# Set the objective function for the biomass model\n",
    "model_biomass.objective= 'BIOMASS_Ec_iML1515_core_75p37M' \n",
    "\n",
    "# Get the original reaction\n",
    "original_reaction = model_asp.reactions.get_by_id('ASPTA')\n",
    "print(original_reaction)\n",
    "\n",
    "\n",
    "# Create a new reaction for the reverse reaction\n",
    "# reverse_reaction = Reaction('ASPTAR')\n",
    "\n",
    "# Add metabolites to the reverse reaction with the opposite stoichiometry\n",
    "# for metabolite, stoichiometry in original_reaction.metabolites.items():\n",
    "#     reverse_reaction.add_metabolites({metabolite: -stoichiometry})\n",
    "\n",
    "# Add the reverse reaction to the model\n",
    "# model_asp.add_reactions([reverse_reaction])\n",
    "\n",
    "# Set the reverse reaction as the objective\n",
    "# model_asp.objective = 'ASPTAR'\n",
    "\n",
    "print(model_asp.reactions.get_by_id('ASPTAR'))\n",
    "\n",
    "\n",
    "print(model_asp.objective)\n",
    "print(model_biomass.objective)\n",
    "\n",
    "biomass.objective_value = model_biomass.optimize()\n",
    "asp.objective_value = model_asp.optimize()\n",
    "\n",
    "# print(biomass.objective_value)\n",
    "# print(asp.objective_value)\n",
    "\n",
    "model_biomass.optimize().objective_value\n",
    "model_asp.optimize().objective_value"
   ]
  },
  {
   "cell_type": "markdown",
   "metadata": {},
   "source": []
  }
 ],
 "metadata": {
  "kernelspec": {
   "display_name": "base",
   "language": "python",
   "name": "python3"
  },
  "language_info": {
   "codemirror_mode": {
    "name": "ipython",
    "version": 3
   },
   "file_extension": ".py",
   "mimetype": "text/x-python",
   "name": "python",
   "nbconvert_exporter": "python",
   "pygments_lexer": "ipython3",
   "version": "3.11.4"
  }
 },
 "nbformat": 4,
 "nbformat_minor": 2
}
