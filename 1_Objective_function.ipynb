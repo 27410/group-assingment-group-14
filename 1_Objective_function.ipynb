{
 "cells": [
  {
   "cell_type": "code",
   "execution_count": 40,
   "metadata": {},
   "outputs": [
    {
     "name": "stdout",
     "output_type": "stream",
     "text": [
      "Current bounds: -1000.0 1000.0\n",
      "Maximize\n",
      "1.0*BIOMASS_Ec_iML1515_core_75p37M - 1.0*BIOMASS_Ec_iML1515_core_75p37M_reverse_35685\n",
      "Maximize\n",
      "1.0*BIOMASS_Ec_iML1515_core_75p37M - 1.0*BIOMASS_Ec_iML1515_core_75p37M_reverse_35685\n"
     ]
    }
   ],
   "source": [
    "from cobra.io import read_sbml_model\n",
    "model_biomass = read_sbml_model('Models/iML1515.xml')\n",
    "model_asp = model_biomass.copy()\n",
    "\n",
    "# Set the objective function for the biomass model\n",
    "model_biomass.objective= 'BIOMASS_Ec_iML1515_core_75p37M' \n",
    "\n",
    "# Set the objective function for the aspartate model\n",
    "# original_reaction_id = model_asp.reactions.get_by_id('ASPTA')\n",
    "# print(original_reaction_id)\n",
    "# model_asp.objective= {original_reaction_i}\n",
    "\n",
    "\n",
    "\n",
    "print(model_biomass.objective)\n",
    "print(model_asp.objective)"
   ]
  },
  {
   "cell_type": "markdown",
   "metadata": {},
   "source": []
  }
 ],
 "metadata": {
  "kernelspec": {
   "display_name": "base",
   "language": "python",
   "name": "python3"
  },
  "language_info": {
   "codemirror_mode": {
    "name": "ipython",
    "version": 3
   },
   "file_extension": ".py",
   "mimetype": "text/x-python",
   "name": "python",
   "nbconvert_exporter": "python",
   "pygments_lexer": "ipython3",
   "version": "3.11.4"
  }
 },
 "nbformat": 4,
 "nbformat_minor": 2
}
