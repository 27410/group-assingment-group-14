{
 "cells": [
  {
   "cell_type": "code",
   "execution_count": 5,
   "metadata": {},
   "outputs": [
    {
     "name": "stdout",
     "output_type": "stream",
     "text": [
      "0.87699721425716\n",
      "17.975172413792922\n"
     ]
    }
   ],
   "source": [
    "from cobra.io import read_sbml_model\n",
    "from cobra import Reaction, Metabolite \n",
    "\n",
    "model = read_sbml_model('Models/iML1515.xml')\n",
    "\n",
    "# Print all the reactions involving extra-cellular L-aspartate\n",
    "from cobra.io import read_sbml_model\n",
    "model = read_sbml_model('data/iML1515.xml')\n",
    "\n",
    "\n",
    "# Set the objective function for the biomass model\n",
    "model.objective= 'BIOMASS_Ec_iML1515_core_75p37M' \n",
    "model_ojective_value = print (model.optimize().objective_value)\n",
    "\n",
    "\n",
    "#set the optimal value for biomass to 100%\n",
    "model.reactions.BIOMASS_Ec_iML1515_core_75p37M.upper_bound=0.873920\n",
    "#set the lower bound to not be less than 75 % of the optimal value\n",
    "model.reactions.BIOMASS_Ec_iML1515_core_75p37M.lower_bound=0.873920*0.75\n",
    "#print the new objective value\n",
    "model_BM_optimized = print(model.optimize().objective_value)\n",
    "\n",
    "\n",
    "# Setting a new objective function based on L-asp production rate\n",
    "with model:\n",
    "    model.objective = model.reactions.EX_asp__L_e\n",
    "    print (model.optimize().objective_value)\n",
    "\n",
    "model_asp_optimized = print(model.optimize().objective_value)\n",
    "\n",
    "\n"
   ]
  },
  {
   "cell_type": "markdown",
   "metadata": {},
   "source": []
  }
 ],
 "metadata": {
  "kernelspec": {
   "display_name": "base",
   "language": "python",
   "name": "python3"
  },
  "language_info": {
   "codemirror_mode": {
    "name": "ipython",
    "version": 3
   },
   "file_extension": ".py",
   "mimetype": "text/x-python",
   "name": "python",
   "nbconvert_exporter": "python",
   "pygments_lexer": "ipython3",
   "version": "3.11.4"
  }
 },
 "nbformat": 4,
 "nbformat_minor": 2
}
